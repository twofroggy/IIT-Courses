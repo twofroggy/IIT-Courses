{
  "cells": [
    {
      "metadata": {
        "state": "normal"
      },
      "cell_type": "markdown",
      "source": "# Lab 01: Basic Python"
    },
    {
      "metadata": {
        "state": "normal"
      },
      "cell_type": "markdown",
      "source": "## Exercise 1: Perfect Numbers\n\nMost of the lab notebooks you'll be working on for this class will come with a fair bit of skeleton code --- i.e., stubbed out classes and functions that you need to complete or modify to get working correctly.\n\nIn the cell below, for instance, you'll find a stubbed out function named `is_perfect`, which should return `True` if the number passed to it is a \"perfect\" number, and `False` otherwise.\n\nA perfect number is a postive integer whose value is equal to the sum of its proper divisors (i.e., its factors excluding the number itself). 6 is the first perfect number, as its divisors 1, 2, and 3 add up to 6.\n\nFill in your own implementation of the function below:"
    },
    {
      "metadata": {
        "state": "normal",
        "trusted": true
      },
      "cell_type": "code",
      "source": "# by default, only the result of the last expression in a cell is displayed after evaluation.\n# the following forces display of *all* self-standing expressions in a cell.\n\nfrom IPython.core.interactiveshell import InteractiveShell\nInteractiveShell.ast_node_interactivity = \"all\"",
      "execution_count": 1,
      "outputs": []
    },
    {
      "metadata": {
        "deletable": false,
        "id": "is_perfect",
        "nbgrader": {
          "grade": false,
          "grade_id": "is_perfect",
          "locked": false,
          "schema_version": 1,
          "solution": true
        },
        "starter_code": "def is_perfect(n):\n    ",
        "state": "graded",
        "trusted": true
      },
      "cell_type": "code",
      "source": "def is_perfect(n):\n    sum = 0\n    for x in range(1, n): #for numbers from 1 to n\n        if n%x == 0: #if remainder is 0\n            sum += x #add the factors up\n    return sum == n #return if sum is equal to n, true or false wise",
      "execution_count": 2,
      "outputs": []
    },
    {
      "metadata": {
        "state": "normal"
      },
      "cell_type": "markdown",
      "source": "Each exercise will also be accompanied by one or more *unit test* cells, each of which is meant to test some aspect of your implementation. When you run the unit test cell(s) after evaluating your implementation, you'll either find errors reported, which should help you identify what you need to fix, or they will complete silently, which means you've passed the test(s).\n\n**It's important that you ensure your implementation and test cell(s) actually run to completion before moving on** --- there's a big difference between a cell not producing an error and not completing! (A \"`In [*]`\" marker next to the cell means that it's still being evaluated by the interpreter.)\n\nWe will often run additional *hidden tests* upon submission of your notebook to guard against hardcoded solutions.  While you won't see the specific test cases, you can resubmit your work as many times as you wish (before the deadline) to ensure they pass."
    },
    {
      "metadata": {
        "deletable": false,
        "editable": false,
        "id": "is_perfect_test",
        "nbgrader": {
          "grade": true,
          "grade_id": "is_perfect_test",
          "locked": true,
          "points": 3,
          "schema_version": 1,
          "solution": false
        },
        "state": "read_only",
        "trusted": true
      },
      "cell_type": "code",
      "source": "# (3 points)\nimport unittest\ntc = unittest.TestCase()\n\nfor n in (6, 28, 496):\n    tc.assertTrue(is_perfect(n), '{} should be perfect'.format(n))\n\nfor n in (1, 2, 3, 4, 5, 10, 20):\n    tc.assertFalse(is_perfect(n), '{} should not be perfect'.format(n))\n\nfor n in range(30, 450):\n    tc.assertFalse(is_perfect(n), '{} should not be perfect'.format(n))",
      "execution_count": 3,
      "outputs": []
    },
    {
      "metadata": {
        "state": "normal"
      },
      "cell_type": "markdown",
      "source": "## Exercise 2: Multiples of 3 and 5\n\nIf we list all the natural numbers below 10 that are multiples of 3 or 5, we get 3, 5, 6 and 9. The sum of these multiples is 23.\n\nComplete the following function, which finds the sum of all the multiples of 3 or 5 below the argument `n`."
    },
    {
      "metadata": {
        "deletable": false,
        "id": "multiples_of_3_and_5",
        "nbgrader": {
          "grade": false,
          "grade_id": "multiples_of_3_and_5",
          "locked": false,
          "schema_version": 1,
          "solution": true
        },
        "starter_code": "def multiples_of_3_and_5(n):\n    ",
        "state": "graded",
        "trusted": true
      },
      "cell_type": "code",
      "source": "def multiples_of_3_and_5(n):\n    sumofmults = 0\n    for x in range(0, n): #for numbers from 1 to n\n        if x%3 == 0 or x%5 == 0 : #divisible by 3 or 5\n            sumofmults += x #add the multiples up\n    return sumofmults",
      "execution_count": 4,
      "outputs": []
    },
    {
      "metadata": {
        "deletable": false,
        "editable": false,
        "id": "multiples_of_3_and_5_test",
        "nbgrader": {
          "grade": true,
          "grade_id": "multiples_of_3_and_5_test",
          "locked": true,
          "points": 3,
          "schema_version": 1,
          "solution": false
        },
        "state": "read_only",
        "trusted": true
      },
      "cell_type": "code",
      "source": "# (3 points)\nimport unittest\ntc = unittest.TestCase()\ntc.assertEqual(multiples_of_3_and_5(10), 23)\ntc.assertEqual(multiples_of_3_and_5(500), 57918)\ntc.assertEqual(multiples_of_3_and_5(1000), 233168)",
      "execution_count": 5,
      "outputs": []
    },
    {
      "metadata": {
        "state": "normal"
      },
      "cell_type": "markdown",
      "source": "## Exercise 3: Integer Right Triangles\n\nGiven a perimeter of 60, we can find two right triangles with integral length sides: [(10, 24, 26), (15, 20, 25)]. Complete the following function, which takes an integer `p` and returns the number of unique integer right triangles with perimeter `p`.\n\nNote that your solution should take care to limit the number of triangles it tests --- **your function must complete in under 3 seconds for all values of `p` used in the test cells below to earn credit.**"
    },
    {
      "metadata": {
        "deletable": false,
        "id": "integer_right_triangles",
        "nbgrader": {
          "grade": false,
          "grade_id": "integer_right_triangles",
          "locked": false,
          "schema_version": 1,
          "solution": true
        },
        "starter_code": "def integer_right_triangles(p):\n    ",
        "state": "graded",
        "trusted": true
      },
      "cell_type": "code",
      "source": "def integer_right_triangles(p):\n    dimensions = []\n    for x in range(1, p): \n        for y in range (x, p-x):\n            z = p - (x + y)\n            if x**2 + y**2 == z**2:\n                dimensions.append((x, y, z))\n            elif x**2 + y**2 > z**2:\n                break\n    return len(dimensions)",
      "execution_count": 6,
      "outputs": []
    },
    {
      "metadata": {
        "deletable": false,
        "editable": false,
        "id": "integer_right_triangles_tests_1",
        "nbgrader": {
          "grade": true,
          "grade_id": "integer_right_triangles_tests_1",
          "locked": true,
          "points": 1,
          "schema_version": 1,
          "solution": false
        },
        "state": "read_only",
        "trusted": true
      },
      "cell_type": "code",
      "source": "# (2 points)\nimport unittest\ntc = unittest.TestCase()\ntc.assertEqual(integer_right_triangles(60), 2)\ntc.assertEqual(integer_right_triangles(100), 0)\ntc.assertEqual(integer_right_triangles(180), 3)",
      "execution_count": 7,
      "outputs": []
    },
    {
      "metadata": {
        "state": "normal"
      },
      "cell_type": "markdown",
      "source": "## Exercise 4: Simple ASCII Art\n\nFor this next exercise, you'll need to complete the function `gen_pattern`, which, when called with a string of length $\\ge$ 1, will print an ASCII art pattern of concentric diamonds using those characters. The following are examples of patterns printed by the function (note the newline at the end of the last line!):\n\n    > gen_pattern('X')\n    \n    X\n    \n    > gen_pattern('XY')\n    \n    ..Y..\n    Y.X.Y\n    ..Y..\n    \n    > gen_pattern('WXYZ')\n    \n    ......Z......\n    ....Z.Y.Z....\n    ..Z.Y.X.Y.Z..\n    Z.Y.X.W.X.Y.Z\n    ..Z.Y.X.Y.Z..\n    ....Z.Y.Z....\n    ......Z......\n    \nYou ought to find the string [`join`](https://docs.python.org/3.6/library/stdtypes.html#str.join) and [`center`](https://docs.python.org/3.6/library/stdtypes.html#str.center) methods helpful in your implementation. They are demonstrated here:\n\n    > '*'.join('abcde')\n    \n    'a*b*c*d*e'\n    \n    > 'hello'.center(11, '*')\n    \n    '***hello***'\n    \nComplete the `gen_pattern` function, below:"
    },
    {
      "metadata": {
        "deletable": false,
        "id": "gen_pattern",
        "nbgrader": {
          "grade": false,
          "grade_id": "gen_pattern",
          "locked": false,
          "schema_version": 1,
          "solution": true
        },
        "starter_code": "def gen_pattern(chars):\n    ",
        "state": "graded",
        "trusted": true
      },
      "cell_type": "code",
      "source": "def gen_pattern(chars):\n    n = len(chars) * 4 - 3\n    h = n + (n - 1)\n    w = h*2 - 1\n    pattern = []\n    for x in range(len(chars)):\n        front = chars[-1:-x - 1:-1]\n        end = chars[-x - 1:]\n        text = front + end\n        pattern.append('.'.join(text).center(n, '.'))\n    pattern += pattern[-2::-1]\n    print ('\\n'.join(pattern))\n",
      "execution_count": 14,
      "outputs": []
    },
    {
      "metadata": {
        "deletable": false,
        "editable": false,
        "id": "gen_pattern1",
        "state": "read_only",
        "trusted": true
      },
      "cell_type": "code",
      "source": "# (1 point) output:\n# @\n\ngen_pattern('@')",
      "execution_count": 15,
      "outputs": [
        {
          "output_type": "stream",
          "text": "@\n",
          "name": "stdout"
        }
      ]
    },
    {
      "metadata": {
        "deletable": false,
        "editable": false,
        "id": "gen_pattern2",
        "state": "read_only",
        "trusted": true
      },
      "cell_type": "code",
      "source": "# (1 point) output:\n# ..%..\n# %.@.%\n# ..%..\n\ngen_pattern('@%')",
      "execution_count": 16,
      "outputs": [
        {
          "output_type": "stream",
          "text": "..%..\n%.@.%\n..%..\n",
          "name": "stdout"
        }
      ]
    },
    {
      "metadata": {
        "deletable": false,
        "editable": false,
        "id": "gen_pattern3",
        "state": "read_only",
        "trusted": true
      },
      "cell_type": "code",
      "source": "# (1 point) output:\n# ....C....\n# ..C.B.C..\n# C.B.A.B.C\n# ..C.B.C..\n# ....C....\n\ngen_pattern('ABC')",
      "execution_count": 17,
      "outputs": [
        {
          "output_type": "stream",
          "text": "....C....\n..C.B.C..\nC.B.A.B.C\n..C.B.C..\n....C....\n",
          "name": "stdout"
        }
      ]
    },
    {
      "metadata": {
        "deletable": false,
        "editable": false,
        "id": "gen_pattern5",
        "state": "read_only",
        "trusted": true
      },
      "cell_type": "code",
      "source": "# (1 point) output:\n# ........#........\n# ......#.#.#......\n# ....#.#.#.#.#....\n# ..#.#.#.#.#.#.#..\n# #.#.#.#.#.#.#.#.#\n# ..#.#.#.#.#.#.#..\n# ....#.#.#.#.#....\n# ......#.#.#......\n# ........#........\n\ngen_pattern('#####')",
      "execution_count": 18,
      "outputs": [
        {
          "output_type": "stream",
          "text": "........#........\n......#.#.#......\n....#.#.#.#.#....\n..#.#.#.#.#.#.#..\n#.#.#.#.#.#.#.#.#\n..#.#.#.#.#.#.#..\n....#.#.#.#.#....\n......#.#.#......\n........#........\n",
          "name": "stdout"
        }
      ]
    },
    {
      "metadata": {
        "deletable": false,
        "editable": false,
        "id": "gen_pattern_tests16",
        "nbgrader": {
          "grade": true,
          "grade_id": "gen_pattern_tests_2",
          "locked": true,
          "points": 2,
          "schema_version": 1,
          "solution": false
        },
        "state": "read_only",
        "trusted": true
      },
      "cell_type": "code",
      "source": "# (2 points) output:\n# ..............................p..............................\n# ............................p.o.p............................\n# ..........................p.o.n.o.p..........................\n# ........................p.o.n.m.n.o.p........................\n# ......................p.o.n.m.l.m.n.o.p......................\n# ....................p.o.n.m.l.k.l.m.n.o.p....................\n# ..................p.o.n.m.l.k.j.k.l.m.n.o.p..................\n# ................p.o.n.m.l.k.j.i.j.k.l.m.n.o.p................\n# ..............p.o.n.m.l.k.j.i.h.i.j.k.l.m.n.o.p..............\n# ............p.o.n.m.l.k.j.i.h.g.h.i.j.k.l.m.n.o.p............\n# ..........p.o.n.m.l.k.j.i.h.g.f.g.h.i.j.k.l.m.n.o.p..........\n# ........p.o.n.m.l.k.j.i.h.g.f.e.f.g.h.i.j.k.l.m.n.o.p........\n# ......p.o.n.m.l.k.j.i.h.g.f.e.d.e.f.g.h.i.j.k.l.m.n.o.p......\n# ....p.o.n.m.l.k.j.i.h.g.f.e.d.c.d.e.f.g.h.i.j.k.l.m.n.o.p....\n# ..p.o.n.m.l.k.j.i.h.g.f.e.d.c.b.c.d.e.f.g.h.i.j.k.l.m.n.o.p..\n# p.o.n.m.l.k.j.i.h.g.f.e.d.c.b.a.b.c.d.e.f.g.h.i.j.k.l.m.n.o.p\n# ..p.o.n.m.l.k.j.i.h.g.f.e.d.c.b.c.d.e.f.g.h.i.j.k.l.m.n.o.p..\n# ....p.o.n.m.l.k.j.i.h.g.f.e.d.c.d.e.f.g.h.i.j.k.l.m.n.o.p....\n# ......p.o.n.m.l.k.j.i.h.g.f.e.d.e.f.g.h.i.j.k.l.m.n.o.p......\n# ........p.o.n.m.l.k.j.i.h.g.f.e.f.g.h.i.j.k.l.m.n.o.p........\n# ..........p.o.n.m.l.k.j.i.h.g.f.g.h.i.j.k.l.m.n.o.p..........\n# ............p.o.n.m.l.k.j.i.h.g.h.i.j.k.l.m.n.o.p............\n# ..............p.o.n.m.l.k.j.i.h.i.j.k.l.m.n.o.p..............\n# ................p.o.n.m.l.k.j.i.j.k.l.m.n.o.p................\n# ..................p.o.n.m.l.k.j.k.l.m.n.o.p..................\n# ....................p.o.n.m.l.k.l.m.n.o.p....................\n# ......................p.o.n.m.l.m.n.o.p......................\n# ........................p.o.n.m.n.o.p........................\n# ..........................p.o.n.o.p..........................\n# ............................p.o.p............................\n# ..............................p..............................\n\ngen_pattern('abcdefghijklmnop')",
      "execution_count": 19,
      "outputs": [
        {
          "output_type": "stream",
          "text": "..............................p..............................\n............................p.o.p............................\n..........................p.o.n.o.p..........................\n........................p.o.n.m.n.o.p........................\n......................p.o.n.m.l.m.n.o.p......................\n....................p.o.n.m.l.k.l.m.n.o.p....................\n..................p.o.n.m.l.k.j.k.l.m.n.o.p..................\n................p.o.n.m.l.k.j.i.j.k.l.m.n.o.p................\n..............p.o.n.m.l.k.j.i.h.i.j.k.l.m.n.o.p..............\n............p.o.n.m.l.k.j.i.h.g.h.i.j.k.l.m.n.o.p............\n..........p.o.n.m.l.k.j.i.h.g.f.g.h.i.j.k.l.m.n.o.p..........\n........p.o.n.m.l.k.j.i.h.g.f.e.f.g.h.i.j.k.l.m.n.o.p........\n......p.o.n.m.l.k.j.i.h.g.f.e.d.e.f.g.h.i.j.k.l.m.n.o.p......\n....p.o.n.m.l.k.j.i.h.g.f.e.d.c.d.e.f.g.h.i.j.k.l.m.n.o.p....\n..p.o.n.m.l.k.j.i.h.g.f.e.d.c.b.c.d.e.f.g.h.i.j.k.l.m.n.o.p..\np.o.n.m.l.k.j.i.h.g.f.e.d.c.b.a.b.c.d.e.f.g.h.i.j.k.l.m.n.o.p\n..p.o.n.m.l.k.j.i.h.g.f.e.d.c.b.c.d.e.f.g.h.i.j.k.l.m.n.o.p..\n....p.o.n.m.l.k.j.i.h.g.f.e.d.c.d.e.f.g.h.i.j.k.l.m.n.o.p....\n......p.o.n.m.l.k.j.i.h.g.f.e.d.e.f.g.h.i.j.k.l.m.n.o.p......\n........p.o.n.m.l.k.j.i.h.g.f.e.f.g.h.i.j.k.l.m.n.o.p........\n..........p.o.n.m.l.k.j.i.h.g.f.g.h.i.j.k.l.m.n.o.p..........\n............p.o.n.m.l.k.j.i.h.g.h.i.j.k.l.m.n.o.p............\n..............p.o.n.m.l.k.j.i.h.i.j.k.l.m.n.o.p..............\n................p.o.n.m.l.k.j.i.j.k.l.m.n.o.p................\n..................p.o.n.m.l.k.j.k.l.m.n.o.p..................\n....................p.o.n.m.l.k.l.m.n.o.p....................\n......................p.o.n.m.l.m.n.o.p......................\n........................p.o.n.m.n.o.p........................\n..........................p.o.n.o.p..........................\n............................p.o.p............................\n..............................p..............................\n",
          "name": "stdout"
        }
      ]
    }
  ],
  "metadata": {
    "kernelspec": {
      "display_name": "Python 3",
      "language": "python",
      "name": "python3"
    },
    "mimir": {
      "project_id": "197d6c62-e5c7-4c36-9517-9c52c151ac8e",
      "last_submission_id": "51130aba-4143-4935-b414-e840e729b61d",
      "data": {}
    },
    "varInspector": {
      "cols": {
        "lenName": 16,
        "lenType": 16,
        "lenVar": 40
      },
      "kernels_config": {
        "python": {
          "delete_cmd_postfix": "",
          "delete_cmd_prefix": "del ",
          "library": "var_list.py",
          "varRefreshCmd": "print(var_dic_list())"
        },
        "r": {
          "delete_cmd_postfix": ") ",
          "delete_cmd_prefix": "rm(",
          "library": "var_list.r",
          "varRefreshCmd": "cat(var_dic_list()) "
        }
      },
      "types_to_exclude": [
        "module",
        "function",
        "builtin_function_or_method",
        "instance",
        "_Feature"
      ],
      "window_display": false
    }
  },
  "nbformat": 4,
  "nbformat_minor": 2
}