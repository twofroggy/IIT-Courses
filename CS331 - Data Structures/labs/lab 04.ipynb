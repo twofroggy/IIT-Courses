{
  "cells": [
    {
      "metadata": {
        "state": "normal"
      },
      "cell_type": "markdown",
      "source": "# Lab 04: Array-Backed Lists"
    },
    {
      "metadata": {
        "state": "normal"
      },
      "cell_type": "markdown",
      "source": "## Overview\n\nFor this assignment you will complete the implementation of the array-backed list data structure (`ArrayList`) started during class, so that it supports (nearly) all the [common](https://docs.python.org/3.5/library/stdtypes.html#common-sequence-operations) and [mutable](https://docs.python.org/3.5/library/stdtypes.html#mutable-sequence-types) sequence operations."
    },
    {
      "metadata": {
        "state": "normal"
      },
      "cell_type": "markdown",
      "source": "## Implementation Details\n\nFor the `ArrayList`'s underlying data storage mechanism you will use the built-in Python list, constrained so that only the following operations (as would be supported by a primitive array) are available:\n\n- `lst[i]` for getting and setting a value at an *existing, positive* index `i`\n- `len(lst)` to obtain the number of slots\n- `lst.append(None)` to grow the list by *one slot at a time*\n- `del lst[len(lst)-1]` to delete the last slot in a list\n\n### `ConstrainedList`\n\nTo help keep us honest, we've defined an API-constrained sub-class of the built-in list -- `ConstrainedList` -- an instance of which is assigned to the `data` attribute of each `ArrayList`. You should not change the definition of `ConstrainedList`, and ensure that your `ArrayList` implementation never assigns a regular Python list to its `data` attribute. So long as you use `ConstrainedList` in your implementation, you can be certain you're not performing any \"illegal\" operations (i.e., outside the constraints established above). If you invoke a disallowed operation, an appropriate exception will be raised.\n\nBe sure to evaluate the following cell before testing your `ArrayList` implementation."
    },
    {
      "metadata": {
        "deletable": false,
        "editable": false,
        "id": "constrained_list",
        "nbgrader": {
          "grade": false,
          "grade_id": "constrained_list",
          "locked": true,
          "schema_version": 1,
          "solution": false
        },
        "state": "read_only",
        "trusted": true
      },
      "cell_type": "code",
      "source": "class ConstrainedList (list):\n    \"\"\"Constrains the list class so it offers only the following primitive array API:\n    \n        - `lst[i]` for getting and setting a value at an *existing, positive* index `i`\n        - `len(lst)` to obtain the number of slots\n        - `lst.append(None)` to grow the list by *one slot at a time*\n        - `del lst[len(lst)-1]` to delete the last slot in a list\n        \n       All other operations will result in an exception being raised.\n    \"\"\"\n    \n    def __init__(self, *args):\n        super().__init__(*args)\n    \n    def append(self, value):\n        if value is not None:\n            raise ValueError('Can only append None to constrained list!')\n        super().append(value)\n        \n    def __getitem__(self, idx):\n        if idx < 0 or idx >= len(self):\n            raise ValueError('Can only use positive, valid indexes on constrained lists!')\n        return super().__getitem__(idx)\n\n    def __setitem__(self, idx, value):\n        if idx < 0 or idx >= len(self):\n            raise ValueError('Can only use positive, valid indexes on constrained lists!')\n        super().__setitem__(idx, value)\n\n    def __delitem__(self, idx):\n        if idx != len(self)-1:\n            raise ValueError('Can only delete last item in constrained list!')\n        super().__delitem__(idx)\n        \n    def __getattribute__(self, name):\n        if name in ('insert', 'pop', 'remove', 'min', 'max', \n                    'index', 'count', 'clear', 'copy', 'extend'):\n            raise AttributeError('Method \"' + name + '\" not supported on constrained list!')\n        else:\n            return super().__getattribute__(name)\n    \n    # __getattribute__ isn't called for special methods, so the following are needed\n\n    def __add__(self, value):\n        raise AttributeError('Constrained lists do not support `+`!')\n\n    def __contains__(self, value):\n        raise AttributeError('Constrained lists do not support `in`!')\n        \n    def __eq__(self, value):\n        raise AttributeError('Constrained lists do not support `==`!')        \n    \n    def __iter__(self):\n        raise AttributeError('Constrained lists do not support iteration!')\n    \n    def __str__(self):\n        raise AttributeError('Constrained lists do not support stringification!')\n    \n    def __repr__(self):\n        raise AttributeError('Constrained lists do not support stringification!')\n        \n    # for testing only! (don't use this in your ArrayList implementation)\n    \n    def _as_list(self):\n        return list(super().__iter__())",
      "execution_count": 1,
      "outputs": []
    },
    {
      "metadata": {
        "state": "normal"
      },
      "cell_type": "markdown",
      "source": "### `ArrayList`\n\nAnd now for the task at hand. We've partitioned the `ArrayList` methods you need to implement (and the test cases that follow) into seven categories:\n\n1. Subscript-based access (completed in class)\n2. Stringification\n3. Single-element manipulation\n4. Predicates (True/False queries)\n5. Queries\n6. Bulk operations\n7. Iteration\n\nAll told, there are 23 methods --- a handful of which have already been implemented for you --- whose behavior are specified in their docstrings below. Note that we left out API support for *slices* (e.g., `lst[start:stop:step]`); you can read about [how to support slices in the Python docs](https://docs.python.org/3.5/reference/datamodel.html#object.__length_hint__), but we just don't think it's worth the extra busywork.\n\n\n### Hints / Advice\n\nWe strongly advise that you start with the first category of functions and move down the list sequentially, pausing after each to run the corresponding test cases. The only category that might be worth skipping to early on is *Iteration* --- which can help simplify several other methods. Keep in mind that while you're not permitted to make use of high level APIs in the underlying list, you can certainly make use of `ArrayList` methods you've already implemented.\n\nFor instance, your implementations of `pop` and `remove` can (and should) use the `del` operator on your own list to remove elements from the middle, and it probably makes sense to use `extend` in your `__add__` and `copy` methods."
    },
    {
      "metadata": {
        "deletable": false,
        "id": "arraylist",
        "nbgrader": {
          "grade": false,
          "grade_id": "arraylist",
          "locked": false,
          "schema_version": 1,
          "solution": true
        },
        "starter_code": "class ArrayList:\n    def __init__(self):\n        self.data = ConstrainedList() # don't change this line!\n\n    \n    ### subscript-based access ###\n    \n    def _normalize_idx(self, idx):\n        nidx = idx\n        if nidx < 0:\n            nidx += len(self.data)\n            if nidx < 0:\n                nidx = 0\n        return nidx\n    \n    def __getitem__(self, idx):\n        \"\"\"Implements `x = self[idx]`\"\"\"\n        assert(isinstance(idx, int))\n        nidx = self._normalize_idx(idx)\n        if nidx >= len(self.data):\n            raise IndexError\n        return self.data[nidx]\n\n    def __setitem__(self, idx, value):\n        \"\"\"Implements `self[idx] = x`\"\"\"\n        assert(isinstance(idx, int))\n        nidx = self._normalize_idx(idx)\n        if nidx >= len(self.data):\n            raise IndexError\n        self.data[nidx] = value\n\n    def __delitem__(self, idx):\n        \"\"\"Implements `del self[idx]`\"\"\"\n        assert(isinstance(idx, int))\n        nidx = self._normalize_idx(idx)\n        if nidx >= len(self.data):\n            raise IndexError\n        for i in range(nidx+1, len(self.data)):\n            self.data[i-1] = self.data[i]\n        del self.data[len(self.data)-1]\n    \n\n    ### stringification ###\n    \n    def __str__(self):\n        \"\"\"Implements `str(self)`. Returns '[]' if the list is empty, else\n        returns `str(x)` for all values `x` in this list, separated by commas\n        and enclosed by square brackets. E.g., for a list containing values\n        1, 2 and 3, returns '[1, 2, 3]'.\"\"\"\n        \n        \n    def __repr__(self):\n        \"\"\"Supports REPL inspection. (Same behavior as `str`.)\"\"\"\n            \n\n\n    ### single-element manipulation ###\n    \n    def append(self, value):\n        \"\"\"Appends value to the end of this list.\"\"\"\n        \n    \n    def insert(self, idx, value):\n        \"\"\"Inserts value at position idx, shifting the original elements down the\n        list, as needed. Note that inserting a value at len(self) --- equivalent\n        to appending the value --- is permitted. Raises IndexError if idx is invalid.\"\"\"\n        \n    \n    def pop(self, idx=-1):\n        \"\"\"Deletes and returns the element at idx (which is the last element,\n        by default).\"\"\"\n        \n    \n    def remove(self, value):\n        \"\"\"Removes the first (closest to the front) instance of value from the\n        list. Raises a ValueError if value is not found in the list.\"\"\"\n        \n    \n\n    ### predicates (T/F queries) ###\n    \n    def __eq__(self, other):\n        \"\"\"Returns True if this ArrayList contains the same elements (in order) as\n        other. If other is not an ArrayList, returns False.\"\"\"\n        \n\n    def __contains__(self, value):\n        \"\"\"Implements `val in self`. Returns true if value is found in this list.\"\"\"\n        \n\n\n    ### queries ###\n    \n    def __len__(self):\n        \"\"\"Implements `len(self)`\"\"\"\n        \n    \n    def min(self):\n        \"\"\"Returns the minimum value in this list.\"\"\"\n        \n    \n    def max(self):\n        \"\"\"Returns the maximum value in this list.\"\"\"\n        \n    \n    def index(self, value, i=0, j=None):\n        \"\"\"Returns the index of the first instance of value encountered in\n        this list between index i (inclusive) and j (exclusive). If j is not\n        specified, search through the end of the list for value. If value\n        is not in the list, raise a ValueError.\"\"\"\n        \n    \n    def count(self, value):\n        \"\"\"Returns the number of times value appears in this list.\"\"\"\n        \n\n    \n    ### bulk operations ###\n\n    def __add__(self, other):\n        \"\"\"Implements `self + other_array_list`. Returns a new ArrayList\n        instance that contains the values in this list followed by those \n        of other.\"\"\"\n        \n    \n    def clear(self):\n        self.data = ConstrainedList() # don't change this!\n        \n    def copy(self):\n        \"\"\"Returns a new ArrayList instance (with a separate data store), that\n        contains the same values as this list.\"\"\"\n        \n\n    def extend(self, other):\n        \"\"\"Adds all elements, in order, from other --- an Iterable --- to this list.\"\"\"\n        \n\n            \n    ### iteration ###\n    \n    def __iter__(self):\n        \"\"\"Supports iteration (via `iter(self)`)\"\"\"\n        ",
        "state": "graded",
        "trusted": true
      },
      "cell_type": "code",
      "source": "class ArrayList:\n    def __init__(self):\n        self.data = ConstrainedList() # don't change this line!\n\n    \n    ### subscript-based access ###\n    \n    def _normalize_idx(self, idx):\n        nidx = idx\n        if nidx < 0:\n            nidx += len(self.data)\n            if nidx < 0:\n                nidx = 0\n        return nidx\n    \n    def __getitem__(self, idx):\n        \"\"\"Implements `x = self[idx]`\"\"\"\n        assert(isinstance(idx, int))\n        nidx = self._normalize_idx(idx)\n        if nidx >= len(self.data):\n            raise IndexError\n        return self.data[nidx]\n\n    def __setitem__(self, idx, value):\n        \"\"\"Implements `self[idx] = x`\"\"\"\n        assert(isinstance(idx, int))\n        nidx = self._normalize_idx(idx)\n        if nidx >= len(self.data):\n            raise IndexError\n        self.data[nidx] = value\n\n    def __delitem__(self, idx):\n        \"\"\"Implements `del self[idx]`\"\"\"\n        assert(isinstance(idx, int))\n        nidx = self._normalize_idx(idx)\n        if nidx >= len(self.data):\n            raise IndexError\n        for i in range(nidx+1, len(self.data)):\n            self.data[i-1] = self.data[i]\n        del self.data[len(self.data)-1]\n    \n\n    ### stringification ###\n    \n    def __str__(self):\n        \"\"\"Implements `str(self)`. Returns '[]' if the list is empty, else\n        returns `str(x)` for all values `x` in this list, separated by commas\n        and enclosed by square brackets. E.g., for a list containing values\n        1, 2 and 3, returns '[1, 2, 3]'.\"\"\"\n        if len(self.data) == 0:\n            return '[]'\n        string=''\n        something= '['\n        string = string + something\n        for x in range(0,len(self.data)):\n            something=str(self.data[x])\n            if len(self.data) > 1:\n                if x <  len(self.data)-1:\n                    string = string +something + ', '\n                else:\n                    string = string + something\n            else:\n                string = string + something\n        \n        something = ']'\n        string = string + something\n        return string\n        \n    def __repr__(self):\n        \"\"\"Supports REPL inspection. (Same behavior as `str`.)\"\"\"\n        return str(self)    \n\n\n    ### single-element manipulation ###\n    \n    def append(self, value):\n        \"\"\"Appends value to the end of this list.\"\"\"\n        if self.data:\n            self.data.append(None)\n            self.data[len(self.data)-1]=value\n        else:\n            self.data.append(None)\n            self.data[0]=value\n    \n    def insert(self, idx, value):\n        \"\"\"Inserts value at position idx, shifting the original elements down the\n        list, as needed. Note that inserting a value at len(self) --- equivalent\n        to appending the value --- is permitted. Raises IndexError if idx is invalid.\"\"\"\n        if(idx > len(self.data)):\n            raise IndexError\n        if idx < 0 :\n            raise IndexError\n        elif(idx==len(self.data)):\n            self.append(value)\n        else:\n            self.data.append(None)\n            for i in range(len(self.data)-1, idx, -1):\n                #tmp=self.data[i]\n                self.data[i]=self.data[i-1]\n                self.data[i-1]=None\n                #print(tmp, self.data[i], self.data[i-1])\n                #print(i, i-1, range(len(self.data), idx, -1 ))\n            #print(self.data[i], self.data[i-1], idx)\n            #self.data[idx]==value\n            self.__setitem__(idx, value)\n    \n    def pop(self, idx=-1):\n        \"\"\"Deletes and returns the element at idx (which is the last element,\n        by default).\"\"\"\n        ele = self.data[idx]\n        self.__delitem__(idx)\n        \n        return ele\n    \n    def remove(self, value):\n        \"\"\"Removes the first (closest to the front) instance of value from the\n        list. Raises a ValueError if value is not found in the list.\"\"\"\n        ele = self.data[idx]\n        self.__delitem__(idx)\n        \n        return ele\n    \n    def remove(self, value):\n        \"\"\"Removes the first (closest to the front) instance of value from the\n        list. Raises a ValueError if value is not found in the list.\"\"\"\n        found=0\n        for i in range(0, len(self.data)-1):\n            if self.data[i]==value:\n                self.__delitem__(i)\n                found+=1\n                break\n        if found == 0:\n            raise ValueError()\n    \n\n    ### predicates (T/F queries) ###\n    \n    def __eq__(self, other):\n        \"\"\"Returns True if this ArrayList contains the same elements (in order) as\n        other. If other is not an ArrayList, returns False.\"\"\"\n        same = False\n        if isinstance(other, ArrayList):\n            for i in range(0, len(self.data)-1):\n                if self.data[i] ==  other.data[i]:\n                    same = True\n        else:\n            return false\n        return same\n\n    def __contains__(self, value):\n        \"\"\"Implements `val in self`. Returns true if value is found in this list.\"\"\"\n        found=False\n        for i in range(0, len(self.data)-1):\n            if self.data[i]==value:\n                found = True\n        return found\n    \n\n    ### queries ###\n    \n    def __len__(self):\n        \"\"\"Implements `len(self)`\"\"\"\n        count = 0\n        for i in range(0, len(self.data)):\n            count+=1\n        return count\n    \n    def min(self):\n        \"\"\"Returns the minimum value in this list.\"\"\"\n        tmp = self.data[0]\n        for i in range(0, len(self.data)-1):\n            if tmp > self.data[i]:\n                tmp = self.data[i]\n        return tmp\n    \n    def max(self):\n        \"\"\"Returns the maximum value in this list.\"\"\"\n        tmp = self.data[0]\n        for i in range(0, len(self.data)-1):\n            if tmp < self.data[i]:\n                tmp = self.data[i]\n        return tmp\n    \n    def index(self, value, i=0, j=None):\n        \"\"\"Returns the index of the first instance of value encountered in\n        this list between index i (inclusive) and j (exclusive). If j is not\n        specified, search through the end of the list for value. If value\n        is not in the list, raise a ValueError.\"\"\"\n        if j == None:\n            j=len(self.data)\n        start = self._normalize_idx(i)\n        end = self._normalize_idx(j)\n        \n        for x in range(start, end):\n            if self.data[x]==value:\n                return x\n        raise ValueError ('Value is not in the list')  \n    \n    def count(self, value):\n        \"\"\"Returns the number of times value appears in this list.\"\"\"\n        count = 0 \n        for i in range(0, len(self.data)):\n            if self.data[i]==value:   \n                count +=1\n        return count\n\n    \n    ### bulk operations ###\n\n    def __add__(self, other):\n        \"\"\"Implements `self + other_array_list`. Returns a new ArrayList\n        instance that contains the values in this list followed by those \n        of other.\"\"\"\n        newarray = ArrayList ()\n        newarray\n        for i in range(0, len(self.data)):\n            \n            newarray.append(self.data[i])\n        for i in range(0, len(other.data)):\n            newarray.append(other.data[i])\n        return newarray\n    \n    def clear(self):\n        self.data = ConstrainedList() # don't change this!\n        \n    def copy(self):\n        \"\"\"Returns a new ArrayList instance (with a separate data store), that\n        contains the same values as this list.\"\"\"\n        newarray = ArrayList()\n        for i in range(0, len(self.data)):\n            newarray.append(self.data[i])\n        return newarray\n\n    def extend(self, other):\n        \"\"\"Adds all elements, in order, from other --- an Iterable --- to this list.\"\"\"\n        for i in other:\n            self.append(i)\n        return self\n\n            \n    ### iteration ###\n    \n    def __iter__(self):\n        \"\"\"Supports iteration (via `iter(self)`)\"\"\"\n        for i in range(0, len(self.data)):\n            yield self.data[i]",
      "execution_count": 2,
      "outputs": []
    },
    {
      "metadata": {
        "deletable": false,
        "editable": false,
        "id": "subscript",
        "nbgrader": {
          "grade": true,
          "grade_id": "subscript",
          "locked": true,
          "points": 6,
          "schema_version": 1,
          "solution": false
        },
        "state": "read_only",
        "trusted": true
      },
      "cell_type": "code",
      "source": "# (6 points) test subscript-based access\n\nfrom unittest import TestCase\nimport random\n\ntc = TestCase()\nlst = ArrayList()\ndata = [1, 2, 3, 4]\nlst.data = ConstrainedList(data)\n\nfor i in range(len(data)):\n    tc.assertEqual(lst[i], data[i])\n    \nwith tc.assertRaises(IndexError):\n    x = lst[100]\n\nwith tc.assertRaises(IndexError):\n    lst[100] = 0\n\nwith tc.assertRaises(IndexError):\n    del lst[100]\n\nlst[1] = data[1] = 20\ndel data[0]\ndel lst[0]\n\nfor i in range(len(data)):\n    tc.assertEqual(lst[i], data[i])\n\ndata = [random.randint(1, 100) for _ in range(100)]\nlst.data = ConstrainedList(data)\nfor i in range(len(data)):\n    lst[i] = data[i] = random.randint(101, 200)\nfor i in range(50):\n    to_del = random.randrange(len(data))\n    del lst[to_del]\n    del data[to_del]\n\nfor i in range(len(data)):\n    tc.assertEqual(lst[i], data[i])\n    \nfor i in range(0, -len(data), -1):\n    tc.assertEqual(lst[i], data[i])",
      "execution_count": 3,
      "outputs": []
    },
    {
      "metadata": {
        "deletable": false,
        "editable": false,
        "id": "stringification",
        "nbgrader": {
          "grade": true,
          "grade_id": "stringification",
          "locked": true,
          "points": 4,
          "schema_version": 1,
          "solution": false
        },
        "state": "read_only",
        "trusted": true
      },
      "cell_type": "code",
      "source": "# (4 points) test stringification\n\nfrom unittest import TestCase\ntc = TestCase()\n\nlst = ArrayList()\ntc.assertIsInstance(lst.data, ConstrainedList)\ntc.assertEqual('[]', str(lst))\ntc.assertEqual('[]', repr(lst))\n\nlst.data = ConstrainedList([1])\ntc.assertEqual('[1]', str(lst))\ntc.assertEqual('[1]', repr(lst))\n\nlst.data = ConstrainedList([10, 20, 30, 40, 50])\ntc.assertEqual('[10, 20, 30, 40, 50]', str(lst))\ntc.assertEqual('[10, 20, 30, 40, 50]', repr(lst))",
      "execution_count": 4,
      "outputs": []
    },
    {
      "metadata": {
        "deletable": false,
        "editable": false,
        "id": "single_element",
        "nbgrader": {
          "grade": true,
          "grade_id": "single_element",
          "locked": true,
          "points": 8,
          "schema_version": 1,
          "solution": false
        },
        "state": "read_only",
        "trusted": true
      },
      "cell_type": "code",
      "source": "# (8 points) test single-element manipulation\n\nfrom unittest import TestCase\nimport random\n\ntc = TestCase()\nlst = ArrayList()\ndata = []\n\nfor _ in range(100):\n    to_add = random.randrange(1000)\n    data.append(to_add)\n    lst.append(to_add)\n\ntc.assertIsInstance(lst.data, ConstrainedList)\ntc.assertEqual(data, lst.data._as_list())\n\nfor _ in range(100):\n    to_ins = random.randrange(1000)\n    ins_idx = random.randrange(len(data)+1)\n    data.insert(ins_idx, to_ins)\n    lst.insert(ins_idx, to_ins)\n\ntc.assertEqual(data, lst.data._as_list())\n\nfor _ in range(100):\n    pop_idx = random.randrange(len(data))\n    tc.assertEqual(data.pop(pop_idx), lst.pop(pop_idx))\n    \ntc.assertEqual(data, lst.data._as_list())\n\nfor _ in range(25):\n    to_rem = data[random.randrange(len(data))]\n    data.remove(to_rem)\n    lst.remove(to_rem)\n    \ntc.assertEqual(data, lst.data._as_list())\n\nwith tc.assertRaises(ValueError):\n    lst.remove(9999)",
      "execution_count": 5,
      "outputs": []
    },
    {
      "metadata": {
        "deletable": false,
        "editable": false,
        "id": "predicates",
        "nbgrader": {
          "grade": true,
          "grade_id": "predicates",
          "locked": true,
          "points": 4,
          "schema_version": 1,
          "solution": false
        },
        "state": "read_only",
        "trusted": true
      },
      "cell_type": "code",
      "source": "# (4 points) test predicates\n\nfrom unittest import TestCase\ntc = TestCase()\nlst = ArrayList()\nlst2 = ArrayList()\n\nlst.data = ConstrainedList([])\nlst2.data = ConstrainedList([1, 2, 3])\ntc.assertNotEqual(lst, lst2)\n\nlst.data = ConstrainedList([1, 2, 3])\ntc.assertEqual(lst, lst2)\n\nlst.data = ConstrainedList([])\ntc.assertFalse(1 in lst)\ntc.assertFalse(None in lst)\n\nlst.data = ConstrainedList(range(100))\ntc.assertFalse(100 in lst)\ntc.assertTrue(50 in lst)",
      "execution_count": 6,
      "outputs": []
    },
    {
      "metadata": {
        "deletable": false,
        "editable": false,
        "id": "queries",
        "nbgrader": {
          "grade": true,
          "grade_id": "queries",
          "locked": true,
          "points": 10,
          "schema_version": 1,
          "solution": false
        },
        "state": "read_only",
        "trusted": true
      },
      "cell_type": "code",
      "source": "# (10 points) test queries\n\nfrom unittest import TestCase\ntc = TestCase()\nlst = ArrayList()\n\ntc.assertEqual(0, len(lst))\ntc.assertEqual(0, lst.count(1))\nwith tc.assertRaises(ValueError):\n    lst.index(1)\n\nimport random\ndata = [random.randrange(1000) for _ in range(100)]\nlst.data = ConstrainedList(data)\n\ntc.assertEqual(100, len(lst))\ntc.assertEqual(min(data), lst.min())\ntc.assertEqual(max(data), lst.max())\nfor x in data:    \n    tc.assertEqual(data.index(x), lst.index(x))\n    tc.assertEqual(data.count(x), lst.count(x))\n\nwith tc.assertRaises(ValueError):\n    lst.index(1000)\n    \nlst.data = ConstrainedList([1, 2, 1, 2, 1, 1, 1, 2, 1])\ntc.assertEqual(1, lst.index(2))\ntc.assertEqual(1, lst.index(2, 1))\ntc.assertEqual(3, lst.index(2, 2))\ntc.assertEqual(7, lst.index(2, 4))\ntc.assertEqual(7, lst.index(2, 4, -1))\nwith tc.assertRaises(ValueError):\n    lst.index(2, 4, -2)",
      "execution_count": 7,
      "outputs": []
    },
    {
      "metadata": {
        "deletable": false,
        "editable": false,
        "id": "bulk",
        "nbgrader": {
          "grade": true,
          "grade_id": "bulk",
          "locked": true,
          "points": 6,
          "schema_version": 1,
          "solution": false
        },
        "state": "read_only",
        "trusted": true
      },
      "cell_type": "code",
      "source": "# (6 points) test bulk operations\n\nfrom unittest import TestCase\ntc = TestCase()\nlst = ArrayList()\nlst2 = ArrayList()\nlst3 = lst+lst2\n\ntc.assertIsInstance(lst3, ArrayList)\ntc.assertEqual([], lst3.data._as_list())\n\nimport random\ndata  = [random.randrange(1000) for _ in range(50)]\ndata2 = [random.randrange(1000) for _ in range(50)]\nlst.data = ConstrainedList(data)\nlst2.data = ConstrainedList(data2)\nlst3 = lst + lst2\ntc.assertEqual(100, len(lst3))\ntc.assertEqual(data + data2, lst3.data._as_list())\n\nlst.clear()\ntc.assertEqual([], lst.data._as_list())\n\nlst.data = ConstrainedList([random.randrange(1000) for _ in range(50)])\nlst2 = lst.copy()\ntc.assertIsNot(lst, lst2)\ntc.assertIsNot(lst.data, lst2.data)\ntc.assertEqual(lst.data._as_list(), lst2.data._as_list())\n\nlst.clear()\nlst.extend(range(10))\nlst.extend(range(10,0,-1))\nlst.extend(data.copy())\ntc.assertEqual(70, len(lst))\ntc.assertEqual(list(range(10))+list(range(10,0,-1))+data, lst.data._as_list())",
      "execution_count": 8,
      "outputs": []
    },
    {
      "metadata": {
        "deletable": false,
        "editable": false,
        "id": "iteration",
        "nbgrader": {
          "grade": true,
          "grade_id": "iteration",
          "locked": true,
          "points": 2,
          "schema_version": 1,
          "solution": false
        },
        "state": "read_only",
        "trusted": true
      },
      "cell_type": "code",
      "source": "# (2 points) test iteration\n\nfrom unittest import TestCase\ntc = TestCase()\nlst = ArrayList()\n\nimport random\ndata = [random.randrange(1000) for _ in range(100)]\nlst.data = ConstrainedList(data)\ntc.assertEqual(data, [x for x in lst])\n\nit1 = iter(lst)\nit2 = iter(lst)\nfor x in data:\n    tc.assertEqual(next(it1), x)\n    tc.assertEqual(next(it2), x)",
      "execution_count": 9,
      "outputs": []
    },
    {
      "metadata": {
        "trusted": true,
        "state": "normal"
      },
      "cell_type": "code",
      "source": "",
      "execution_count": null,
      "outputs": []
    }
  ],
  "metadata": {
    "kernelspec": {
      "display_name": "Python 3",
      "language": "python",
      "name": "python3"
    },
    "language_info": {
      "codemirror_mode": {
        "name": "ipython",
        "version": 3
      },
      "file_extension": ".py",
      "mimetype": "text/x-python",
      "name": "python",
      "nbconvert_exporter": "python",
      "pygments_lexer": "ipython3",
      "version": "3.7.3"
    },
    "mimir": {
      "project_id": "91c063e6-2dc8-4313-9f02-0b33fe38016c",
      "last_submission_id": "",
      "data": {}
    },
    "varInspector": {
      "cols": {
        "lenName": 16,
        "lenType": 16,
        "lenVar": 40
      },
      "kernels_config": {
        "python": {
          "delete_cmd_postfix": "",
          "delete_cmd_prefix": "del ",
          "library": "var_list.py",
          "varRefreshCmd": "print(var_dic_list())"
        },
        "r": {
          "delete_cmd_postfix": ") ",
          "delete_cmd_prefix": "rm(",
          "library": "var_list.r",
          "varRefreshCmd": "cat(var_dic_list()) "
        }
      },
      "types_to_exclude": [
        "module",
        "function",
        "builtin_function_or_method",
        "instance",
        "_Feature"
      ],
      "window_display": false
    }
  },
  "nbformat": 4,
  "nbformat_minor": 2
}