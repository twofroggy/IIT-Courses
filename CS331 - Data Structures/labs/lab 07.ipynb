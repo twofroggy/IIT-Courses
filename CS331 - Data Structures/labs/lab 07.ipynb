{
  "cells": [
    {
      "metadata": {
        "state": "normal"
      },
      "cell_type": "markdown",
      "source": "# Lab 07: Stacks and Queues"
    },
    {
      "metadata": {
        "state": "normal"
      },
      "cell_type": "markdown",
      "source": "## Overview\n\nThis assignment involves the stack and queue abstract data types."
    },
    {
      "metadata": {
        "state": "normal"
      },
      "cell_type": "markdown",
      "source": "## Stack applications\n\nThe first two exercises ask you to use the stack data structure developed in class to develop two distinct stack-driven applications.\n\nBelow is the completed stack implementation from class. While you needn't modify it for this assignment — indeed, all tests run on our end will *not* make use of any changes you introduce to the `Stack` class — we urge you to read through the code and make sure you understand how it works."
    },
    {
      "metadata": {
        "deletable": false,
        "editable": false,
        "id": "stack_impl",
        "nbgrader": {
          "grade": false,
          "grade_id": "stack_impl",
          "locked": true,
          "schema_version": 1,
          "solution": false
        },
        "state": "read_only",
        "trusted": false
      },
      "cell_type": "code",
      "source": "class Stack:\n    class Node:\n        def __init__(self, val, next=None):\n            self.val = val\n            self.next  = next\n    \n    def __init__(self):\n        self.top = None\n\n    def push(self, val):\n        self.top = Stack.Node(val, self.top)\n        \n    def pop(self):\n        assert self.top, 'Stack is empty'\n        val = self.top.val\n        self.top = self.top.next\n        return val\n    \n    def peek(self):\n        return self.top.val if self.top else None\n    \n    def empty(self):\n        return self.top == None\n    \n    def __bool__(self):\n        return not self.empty()\n    \n    def __repr__(self):\n        if not self.top:\n            return ''\n        return '--> ' + ', '.join(str(x) for x in self)\n    \n    def __iter__(self):\n        n = self.top\n        while n:\n            yield n.val\n            n = n.next",
      "execution_count": 1,
      "outputs": []
    },
    {
      "metadata": {
        "state": "normal"
      },
      "cell_type": "markdown",
      "source": "### 1. Paired delimiter matching\n\nIn class we wrote a function that uses a stack to help determine whether all paired delimiters (e.g., parentheses) in a given string are correctly matched — you can review the code at http://moss.cs.iit.edu/cs331/notebooks/stacks-and-queues.html (look for `check_parens`).\n\nFor this first exercise you will extend our implementation to check all the following paired delimiters: `{}, (), [], <>`. We've defined two strings — `delim_openers` and `delim_closers` — that might come in handy in your implementation (hint: look into using the `index` sequence method).  "
    },
    {
      "metadata": {
        "deletable": false,
        "id": "check_delim",
        "nbgrader": {
          "grade": false,
          "grade_id": "check_delim",
          "locked": false,
          "schema_version": 1,
          "solution": true
        },
        "starter_code": "delim_openers = '{([<'\ndelim_closers = '})]>'\n\ndef check_delimiters(expr):\n    \"\"\"Returns True if and only if `expr` contains only correctly matched delimiters, else returns False.\"\"\"\n    ",
        "state": "graded",
        "trusted": false
      },
      "cell_type": "code",
      "source": "delim_openers = '{([<'\ndelim_closers = '})]>'\n\ndef check_delimiters(expr):\n    \"\"\"Returns True if and only if `expr` contains only correctly matched delimiters, else returns False.\"\"\"\n    s = Stack()\n    for c in expr:\n        for i in delim_openers:\n            if c == i:\n                s.push(c)\n                break\n        else:\n            for j in delim_closers:\n                if c == j:\n                    p = ''\n                    if c == '}':\n                        p = '{'\n                    elif c == ')':\n                        p = '('\n                    elif c == ']':\n                        p = '['\n                    elif c == '>':\n                        p = '<'\n                    try:\n                        assert s.pop() == p\n                    except:\n                        return False\n    return s.empty()",
      "execution_count": 2,
      "outputs": []
    },
    {
      "metadata": {
        "deletable": false,
        "editable": false,
        "id": "check_delim_1",
        "nbgrader": {
          "grade": true,
          "grade_id": "check_delim_1",
          "locked": true,
          "points": 1,
          "schema_version": 1,
          "solution": false
        },
        "state": "read_only",
        "trusted": false
      },
      "cell_type": "code",
      "source": "# (1 point)\n\nfrom unittest import TestCase\ntc = TestCase()\ntc.assertTrue(check_delimiters('()'))\ntc.assertTrue(check_delimiters('[]'))\ntc.assertTrue(check_delimiters('{}'))\ntc.assertTrue(check_delimiters('<>'))",
      "execution_count": 3,
      "outputs": []
    },
    {
      "metadata": {
        "deletable": false,
        "editable": false,
        "id": "check_delim_2",
        "nbgrader": {
          "grade": true,
          "grade_id": "check_delim_2",
          "locked": true,
          "points": 1,
          "schema_version": 1,
          "solution": false
        },
        "state": "read_only",
        "trusted": false
      },
      "cell_type": "code",
      "source": "# (1 point)\n\nfrom unittest import TestCase\ntc = TestCase()\ntc.assertTrue(check_delimiters('([])'))\ntc.assertTrue(check_delimiters('[{}]'))\ntc.assertTrue(check_delimiters('{<()>}'))\ntc.assertTrue(check_delimiters('<({[]})>'))",
      "execution_count": 4,
      "outputs": []
    },
    {
      "metadata": {
        "deletable": false,
        "editable": false,
        "id": "check_delim_3",
        "nbgrader": {
          "grade": true,
          "grade_id": "check_delim_3",
          "locked": true,
          "points": 2,
          "schema_version": 1,
          "solution": false
        },
        "state": "read_only",
        "trusted": false
      },
      "cell_type": "code",
      "source": "# (2 points)\n\nfrom unittest import TestCase\ntc = TestCase()\ntc.assertTrue(check_delimiters('([] () <> [])'))\ntc.assertTrue(check_delimiters('[{()} [] (<> <>) {}]'))\ntc.assertTrue(check_delimiters('{} <> () []'))\ntc.assertTrue(check_delimiters('<> ([] <()>) <[] [] <> <>>'))",
      "execution_count": 5,
      "outputs": []
    },
    {
      "metadata": {
        "deletable": false,
        "editable": false,
        "id": "check_delim_4",
        "nbgrader": {
          "grade": true,
          "grade_id": "check_delim_4",
          "locked": true,
          "points": 1,
          "schema_version": 1,
          "solution": false
        },
        "state": "read_only",
        "trusted": false
      },
      "cell_type": "code",
      "source": "# (1 point)\n\nfrom unittest import TestCase\ntc = TestCase()\ntc.assertFalse(check_delimiters('('))\ntc.assertFalse(check_delimiters('['))\ntc.assertFalse(check_delimiters('{'))\ntc.assertFalse(check_delimiters('<'))\ntc.assertFalse(check_delimiters(')'))\ntc.assertFalse(check_delimiters(']'))\ntc.assertFalse(check_delimiters('}'))\ntc.assertFalse(check_delimiters('>'))",
      "execution_count": 6,
      "outputs": []
    },
    {
      "metadata": {
        "deletable": false,
        "editable": false,
        "id": "check_delim_5",
        "nbgrader": {
          "grade": true,
          "grade_id": "check_delim_5",
          "locked": true,
          "points": 1,
          "schema_version": 1,
          "solution": false
        },
        "state": "read_only",
        "trusted": false
      },
      "cell_type": "code",
      "source": "# (1 point)\n\nfrom unittest import TestCase\ntc = TestCase()\ntc.assertFalse(check_delimiters('( ]'))\ntc.assertFalse(check_delimiters('[ )'))\ntc.assertFalse(check_delimiters('{ >'))\ntc.assertFalse(check_delimiters('< )'))",
      "execution_count": 7,
      "outputs": []
    },
    {
      "metadata": {
        "deletable": false,
        "editable": false,
        "id": "check_delim_6",
        "nbgrader": {
          "grade": true,
          "grade_id": "check_delim_6",
          "locked": true,
          "points": 2,
          "schema_version": 1,
          "solution": false
        },
        "state": "read_only",
        "trusted": false
      },
      "cell_type": "code",
      "source": "# (2 points)\n\nfrom unittest import TestCase\ntc = TestCase()\ntc.assertFalse(check_delimiters('[ ( ] )'))\ntc.assertFalse(check_delimiters('((((((( ))))))'))\ntc.assertFalse(check_delimiters('< < > > >'))\ntc.assertFalse(check_delimiters('( [] < {} )'))",
      "execution_count": 8,
      "outputs": []
    },
    {
      "metadata": {
        "state": "normal"
      },
      "cell_type": "markdown",
      "source": "### 2. Infix &rarr; Postfix conversion\n\nAnother function we looked at was one that used a stack to evaluate a postfix arithmetic expression — you can review the code at http://moss.cs.iit.edu/cs331/notebooks/stacks-and-queues.html (look for `eval_postfix`). Because most of us are more accustomed to infix-form arithmetic expressions (e.g., `2 * (3 + 4)`), however, the function seems to be of limited use. The good news: we can use a stack to convert an infix expression to postfix form!\n\nTo do so, we will use the following algorithm:\n\n1. Start with an empty list and an empty stack. At the end of the algorithm, the list will contain the correctly ordered tokens of the postfix expression.\n\n2. Next, for each token in the expression (split on whitespace):\n\n    - if the token is a digit (the string `isdigit` method can be used to determine this), simply append it to the list; else, the token must be either an operator or an opening or closing parenthesis, in which case apply one of the following options:\n\n    - if the stack is empty or contains a left parenthesis on top, push the token onto the stack.\n\n    - if the token is a left parenthesis, push it on the stack.\n\n    - if the token is a right parenthesis, pop the stack and append all operators to the list until a left parenthesis is popped. Discard the pair of parentheses.\n\n    - if the token has higher precedence than the top of the stack, push it on the stack. For our purposes, the only operators are +, -, *, /, where the latter two have higher precedecence than the first two.\n\n    - if the token has equal precedence with the top of the stack, pop and append the top of the stack to the list and then push the incoming operator.\n\n    - if the incoming symbol has lower precedence than the symbol on the top of the stack, pop the stack and append it to the list. Then repeat the above tests against the new top of stack.\n\n3. After arriving at the end of the expression, pop and append all operators on the stack to the list.\n\nA writeup containing a detailed explanation of the steps above (though it prints the tokens immediately rather than adding them to a list) can be found at http://csis.pace.edu/~wolf/CS122/infix-postfix.htm"
    },
    {
      "metadata": {
        "deletable": false,
        "id": "infix_to_postfix",
        "nbgrader": {
          "grade": false,
          "grade_id": "infix_to_postfix",
          "locked": false,
          "schema_version": 1,
          "solution": true
        },
        "starter_code": "# you may find the following precedence dictionary useful\nprec = {'*': 2, '/': 2,\n        '+': 1, '-': 1}\n\ndef infix_to_postfix(expr):\n    \"\"\"Returns the postfix form of the infix expression found in `expr`\"\"\"\n    ops = Stack()\n    postfix = []\n    toks = expr.split()\n    \n    return ' '.join(postfix)",
        "state": "graded",
        "trusted": false
      },
      "cell_type": "code",
      "source": "# you may find the following precedence dictionary useful\nprec = {'*': 2, '/': 2,\n        '+': 1, '-': 1}\n\ndef infix_to_postfix(expr):\n    \"\"\"Returns the postfix form of the infix expression found in `expr`\"\"\"\n    ops = Stack()\n    postfix = []\n    toks = expr.split()\n    \n    for i in toks:\n        if i.isdigit():\n            postfix.append(i)\n        else:\n            #if the stack is empty or contains a left parenthesis on top, push the token onto the stack.\n            if ops.empty() or ops.peek()=='(':\n                ops.push(i)\n            \n            #if the token is a left parenthesis, push it on the stack.\n            elif i == '(':\n                ops.push(i)\n            \n            #if the token is a right parenthesis, pop the stack and append all operators to the list until a left parenthesis is popped. Discard the pair of parentheses.\n            elif i == ')':\n                while True:\n                    x = ops.pop()\n                    if x == '(':\n                        break\n                    postfix.append(x)\n            \n            #if the token has higher precedence than the top of the stack, push it on the stack. For our purposes, the only operators are +, -, *, /, where the latter two have higher precedecence than the first two.\n            elif prec[i] > prec[ops.peek()]:\n                ops.push(i)\n\n            #if the token has equal precedence with the top of the stack, pop and append the top of the stack to the list and then push the incoming operator.\n            elif prec[i] == prec[ops.peek()]:\n                x = ops.pop()\n                postfix.append(x)\n                ops.push(i)\n            \n            #if the incoming symbol has lower precedence than the symbol on the top of the stack, pop the stack and append it to the list. Then repeat the above tests against the new top of stack.\n            elif prec[i] < prec[ops.peek()]:\n                x = ops.pop()\n                postfix.append(x)\n                ops.push(i) #and push (not in instructions)\n            \n    #pop and append all operators on the stack to the list\n    while ops.empty() is False:\n        x = ops.pop()\n        postfix.append(x)\n    \n    return ' '.join(postfix)",
      "execution_count": 9,
      "outputs": []
    },
    {
      "metadata": {
        "deletable": false,
        "editable": false,
        "id": "i_to_p_tests_1",
        "nbgrader": {
          "grade": true,
          "grade_id": "i_to_p_tests_1",
          "locked": true,
          "points": 3,
          "schema_version": 1,
          "solution": false
        },
        "state": "read_only",
        "trusted": false
      },
      "cell_type": "code",
      "source": "# (3 points)\n\nfrom unittest import TestCase\ntc = TestCase()\ntc.assertEqual(infix_to_postfix('1'), '1')\ntc.assertEqual(infix_to_postfix('1 + 2'), '1 2 +')\ntc.assertEqual(infix_to_postfix('( 1 + 2 )'), '1 2 +')\ntc.assertEqual(infix_to_postfix('1 + 2 - 3'), '1 2 + 3 -')\ntc.assertEqual(infix_to_postfix('1 + ( 2 - 3 )'), '1 2 3 - +')",
      "execution_count": 10,
      "outputs": []
    },
    {
      "metadata": {
        "deletable": false,
        "editable": false,
        "id": "i_to_p_tests_2",
        "nbgrader": {
          "grade": true,
          "grade_id": "i_to_p_tests_2",
          "locked": true,
          "points": 3,
          "schema_version": 1,
          "solution": false
        },
        "state": "read_only",
        "trusted": false
      },
      "cell_type": "code",
      "source": "# (3 points)\n\nfrom unittest import TestCase\ntc = TestCase()\ntc.assertEqual(infix_to_postfix('1 + 2 * 3'), '1 2 3 * +')\ntc.assertEqual(infix_to_postfix('1 / 2 + 3 * 4'), '1 2 / 3 4 * +')\ntc.assertEqual(infix_to_postfix('1 * 2 * 3 + 4'), '1 2 * 3 * 4 +')\ntc.assertEqual(infix_to_postfix('1 + 2 * 3 * 4'), '1 2 3 * 4 * +')",
      "execution_count": 11,
      "outputs": []
    },
    {
      "metadata": {
        "deletable": false,
        "editable": false,
        "id": "i_to_p_tests_3",
        "nbgrader": {
          "grade": true,
          "grade_id": "i_to_p_tests_3",
          "locked": true,
          "points": 3,
          "schema_version": 1,
          "solution": false
        },
        "state": "read_only",
        "trusted": false
      },
      "cell_type": "code",
      "source": "# (3 points)\n\nfrom unittest import TestCase\ntc = TestCase()\ntc.assertEqual(infix_to_postfix('1 * ( 2 + 3 ) * 4'), '1 2 3 + * 4 *')\ntc.assertEqual(infix_to_postfix('1 * ( 2 + 3 * 4 ) + 5'), '1 2 3 4 * + * 5 +')\ntc.assertEqual(infix_to_postfix('1 * ( ( 2 + 3 ) * 4 ) * ( 5 - 6 )'), '1 2 3 + 4 * * 5 6 - *')",
      "execution_count": 12,
      "outputs": []
    },
    {
      "metadata": {
        "state": "normal"
      },
      "cell_type": "markdown",
      "source": "## Queue"
    },
    {
      "metadata": {
        "state": "normal"
      },
      "cell_type": "markdown",
      "source": "### 3. Circular, array-backed queue\n\nIn the following class, which you are to complete, the backing array will be created and populated with `None`s in the `__init__` method, and the `head` and `tail` indexes set to sentinel values (you shouldn't need to modify `__init__`). Enqueueing and Dequeueing items will take place at the tail and head, with `tail` and `head` tracking the position of the most recently enqueued item and that of the next item to dequeue, respectively. To simplify testing, your implementation should make sure that when dequeuing an item its slot in the array is reset to `None`, and when the queue is emptied its `head` and `tail` attributes should be set to `-1`.\n\nBecause of the fixed size backing array, the `enqueue` operation is defined to raise a `RuntimeError` when the queue is full — the same exception should be raised when `dequeue` is called on an empty queue.\n\nFinally, the `resize` method will allow the array underlying the queue to be increased in size. It is up to you how to implement this (you can either leave the elements in their current positions, though this may require \"unwrapping\" elements, or you can simply move all elements towards the front of the array). You may assume that `resize` will only be called with a value greater than the current length of the underlying array."
    },
    {
      "metadata": {
        "deletable": false,
        "id": "queue",
        "starter_code": "class Queue:\n    def __init__(self, limit=10):\n        self.data = [None] * limit\n        self.head = -1\n        self.tail = -1\n\n    def enqueue(self, val):\n        pass\n        \n    def dequeue(self):\n        pass\n    \n    def resize(self, newsize):\n        assert(len(self.data) < newsize)\n\t\tpass\n    \n    def empty(self):\n        pass\n    \n    def __bool__(self):\n        return not self.empty()\n    \n    def __str__(self):\n        if not(self):\n            return ''\n        return ', '.join(str(x) for x in self)\n    \n    def __repr__(self):\n        return str(self)\n    \n    def __iter__(self):\n\t\tpass",
        "state": "graded",
        "trusted": true
      },
      "cell_type": "code",
      "source": "class Queue:\n    def __init__(self, limit=10):\n        self.data = [None] * limit\n        self.head = -1\n        self.tail = -1\n\n    def enqueue(self, val):\n        #check self.head - self.tail is equal to 1\n        if self.head - self.tail == 1:\n            raise NotImplementedError\n        #check len(self.data) - 1 is equal to self.tail\n        if len(self.data) - 1 == self.tail and self.head == 0:\n            raise NotImplementedError\n        #check self.head is equal to -1\n        if self.head == -1 and self.tail == -1:\n            self.data[0] = val\n            self.head = 0\n            self.tail = 0\n        else:\n            #check len(self.data) - 1 is equal to self.tail\n            if len(self.data) - 1 == self.tail and self.head != 0:\n                self.tail = -1\n            self.data[self.tail + 1] = val\n            #increment the self.tail value\n            self.tail += 1\n        \n    def dequeue(self):\n        #check self.head is equal to self.tail\n        if self.head == self.tail:\n            temp = self.head\n            self.head = -1\n            self.tail = -1\n            return self.data[temp]\n        #check self.head is equal to -1\n        if self.head == -1 and self.tail == -1:\n            raise NotImplementedError\n        #check self.head is not equal to len(self.data)\n        if self.head != len(self.data):\n            result = self.data[self.head]\n            self.data[self.head] = None\n            self.head = self.head + 1\n        else:\n           # resetting head value\n            self.head = 0\n            result = self.data[self.head]\n            self.data[self.head] = None\n            self.head = self.head + 1\n        return result\n    \n    def resize(self, newsize):\n        #check len(self.data) is less than newsize\n        assert (len(self.data) < newsize)\n        newdata = [None] * newsize\n        head = self.head\n        current = self.data[head]\n        countValue = 0\n        #Iterate the loop\n        while current != None:\n            newdata[countValue] = current\n            countValue += 1\n            #check countValue is not equal to 0\n            if countValue != 0 and head == self.tail:\n                break\n            #check head is not equal to len(self.data) - 1\n            if head != len(self.data) - 1:\n                head = head + 1\n                current = self.data[head]\n            else:\n                head = 0\n                current = self.data[head]\n        self.data = newdata\n        self.head = 0\n        self.tail = countValue - 1\n    \n    def empty(self):\n        #check self.head is equal to -1\n        # and self.tail is equal to -1\n        if self.head == -1 and self.tail == -1:\n            return True\n        return False\n    \n    def __bool__(self):\n        return not self.empty()\n    \n    def __str__(self):\n        if not(self):\n            return ''\n        return ', '.join(str(x) for x in self)\n    \n    def __repr__(self):\n        return str(self)\n    \n    def __iter__(self):\n        head = self.head\n        current = self.data[head]\n        countValue = 0\n        #Iterate the loop\n        while current != None:\n            yield current\n            countValue += 1\n            #check countValue is not equal to zero\n            #check head is equal to self.tail\n            if countValue != 0 and head == self.tail:\n                break\n            #check head is not equal to len(self.data) - 1\n            if head != len(self.data) - 1:\n                head = head + 1\n                current = self.data[head]\n            else:\n                head = 0\n                current = self.data[head]",
      "execution_count": 1,
      "outputs": []
    },
    {
      "metadata": {
        "deletable": false,
        "editable": false,
        "id": "queue_tests_1",
        "state": "read_only",
        "trusted": true
      },
      "cell_type": "code",
      "source": "# (5 points)\n\nfrom unittest import TestCase\ntc = TestCase()\n\nq = Queue(5)\ntc.assertEqual(q.data, [None] * 5)\n\nfor i in range(5):\n    q.enqueue(i)\n    \nwith tc.assertRaises(RuntimeError):\n    q.enqueue(5)\n\nfor i in range(5):\n    tc.assertEqual(q.dequeue(), i)\n    \ntc.assertTrue(q.empty())",
      "execution_count": 2,
      "outputs": []
    },
    {
      "metadata": {
        "deletable": false,
        "editable": false,
        "id": "queue_tests_2",
        "state": "read_only",
        "trusted": true
      },
      "cell_type": "code",
      "source": "# (5 points)\n\nfrom unittest import TestCase\ntc = TestCase()\n\nq = Queue(10)\n\nfor i in range(6):\n    q.enqueue(i)\n    \ntc.assertEqual(q.data.count(None), 4)\n\nfor i in range(5):\n    q.dequeue()\n    \ntc.assertFalse(q.empty())\ntc.assertEqual(q.data.count(None), 9)\ntc.assertEqual(q.head, q.tail)\ntc.assertEqual(q.head, 5)\n\nfor i in range(9):\n    q.enqueue(i)\n\nwith tc.assertRaises(RuntimeError):\n    q.enqueue(10)\n\nfor x, y in zip(q, [5] + list(range(9))):\n    tc.assertEqual(x, y)\n    \ntc.assertEqual(q.dequeue(), 5)\nfor i in range(9):\n    tc.assertEqual(q.dequeue(), i)\n\ntc.assertTrue(q.empty())",
      "execution_count": 3,
      "outputs": []
    },
    {
      "metadata": {
        "deletable": false,
        "editable": false,
        "id": "queue_tests_3",
        "state": "read_only",
        "trusted": true
      },
      "cell_type": "code",
      "source": "# (5 points)\n\nfrom unittest import TestCase\ntc = TestCase()\n\nq = Queue(5)\nfor i in range(5):\n    q.enqueue(i)\nfor i in range(4):\n    q.dequeue()\nfor i in range(5, 9):\n    q.enqueue(i)\n    \nwith tc.assertRaises(RuntimeError):\n    q.enqueue(10)\n\nq.resize(10)\n\nfor x, y in zip(q, range(4, 9)):\n    tc.assertEqual(x, y)\n    \nfor i in range(9, 14):\n    q.enqueue(i)\n\nfor i in range(4, 14):\n    tc.assertEqual(q.dequeue(), i)\n    \ntc.assertTrue(q.empty())\ntc.assertEqual(q.head, -1)",
      "execution_count": 4,
      "outputs": []
    }
  ],
  "metadata": {
    "kernelspec": {
      "name": "python3",
      "display_name": "Python 3",
      "language": "python"
    },
    "language_info": {
      "name": "python",
      "version": "3.7.3",
      "mimetype": "text/x-python",
      "codemirror_mode": {
        "name": "ipython",
        "version": 3
      },
      "pygments_lexer": "ipython3",
      "nbconvert_exporter": "python",
      "file_extension": ".py"
    },
    "mimir": {
      "project_id": "fc14141a-09a6-4c0a-984f-514bd1f2cced",
      "last_submission_id": "",
      "data": {}
    },
    "varInspector": {
      "window_display": false,
      "cols": {
        "lenName": 16,
        "lenType": 16,
        "lenVar": 40
      },
      "kernels_config": {
        "python": {
          "library": "var_list.py",
          "delete_cmd_prefix": "del ",
          "delete_cmd_postfix": "",
          "varRefreshCmd": "print(var_dic_list())"
        },
        "r": {
          "library": "var_list.r",
          "delete_cmd_prefix": "rm(",
          "delete_cmd_postfix": ") ",
          "varRefreshCmd": "cat(var_dic_list()) "
        }
      },
      "types_to_exclude": [
        "module",
        "function",
        "builtin_function_or_method",
        "instance",
        "_Feature"
      ]
    }
  },
  "nbformat": 4,
  "nbformat_minor": 2
}