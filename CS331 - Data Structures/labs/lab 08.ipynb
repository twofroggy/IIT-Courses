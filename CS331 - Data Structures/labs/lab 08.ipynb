{
  "cells": [
    {
      "metadata": {
        "state": "normal"
      },
      "cell_type": "markdown",
      "source": "# Lab 08: Heaps"
    },
    {
      "metadata": {
        "state": "normal"
      },
      "cell_type": "markdown",
      "source": "## Overview\n\nFor this assignment you will start by modifying the heap data stucture implemented in class to allow it to keep its elements sorted by an arbitrary priority (identified by a `key` function), then use the augmented heap to efficiently compute the running median of a set of numbers."
    },
    {
      "metadata": {
        "state": "normal"
      },
      "cell_type": "markdown",
      "source": "## 1. Augmenting the Heap with a `key` function\n\nThe heap implementation covered in class is for a so-called \"max-heap\" — i.e., one where elements are organized such that the one with the maximum value can be efficiently extracted.\n\nThis limits our usage of the data structure, however. Our heap can currently only accommodate elements that have a natural ordering (i.e., they can be compared using the '`>`' and '`<`' operators as used in the implementation), and there's no way to order elements based on some partial or computed property.\n\nTo make our heap more flexible, you'll update it to allow a `key` function to be passed to its initializer. This function will be used to extract a value from each element added to the heap; these values, in turn, will be used to order the elements. \n\nWe can now easily create heaps with different semantics, e.g.,\n\n- `Heap(len)` will prioritize elements based on their length (e.g., applicable to strings, sequences, etc.)\n- `Heap(lambda x: -x)` can function as a *min-heap* for numbers\n- `Heap(lambda x: x.prop)` will prioritize elements based on their `prop` attribute\n\nIf no `key` function is provided, the default max-heap behavior should be used — the \"`lambda x:x`\" default value for the `__init__` method does just that. \n\nYou will, at the very least, need to update the `_heapify` and `add` methods, below, to complete this assignment. (Note, also, that `pop_max` has been renamed `pop`, while `max` has been renamed `peek`, to reflect their more general nature.)"
    },
    {
      "metadata": {
        "deletable": false,
        "id": "heap",
        "nbgrader": {
          "grade": false,
          "grade_id": "heap",
          "locked": false,
          "schema_version": 1,
          "solution": true
        },
        "starter_code": "class Heap:\n    def __init__(self, key=lambda x:x):\n        self.data = []\n        self.key  = key\n\n    @staticmethod\n    def _parent(idx):\n        return (idx-1)//2\n        \n    @staticmethod\n    def _left(idx):\n        return idx*2+1\n\n    @staticmethod\n    def _right(idx):\n        return idx*2+2\n    \n    def heapify(self, idx=0):\n        pass\n            \n    def add(self, x):\n        pass\n        \n    def peek(self):\n        return self.data[0]\n\n    def pop(self):\n        ret = self.data[0]\n        self.data[0] = self.data[len(self.data)-1]\n        del self.data[len(self.data)-1]\n        self.heapify()\n        return ret\n    \n    def __bool__(self):\n        return len(self.data) > 0\n\n    def __len__(self):\n        return len(self.data)\n\n    def __repr__(self):\n        return repr(self.data)",
        "state": "graded",
        "trusted": true
      },
      "cell_type": "code",
      "source": "class Heap:\n    def __init__(self, key=lambda x:x):\n        self.data = []\n        self.key  = key\n\n    @staticmethod\n    def _parent(idx):\n        return (idx-1)//2\n        \n    @staticmethod\n    def _left(idx):\n        return idx*2+1\n\n    @staticmethod\n    def _right(idx):\n        return idx*2+2\n    \n    def heapify(self, idx=0):\n        idx = 0\n        lidx = self._left(idx)\n        ridx = self._right(idx)\n        while idx < len(self.data):\n            maxidx = idx\n            if lidx < len(self.data) and (self.key)(self.data[lidx]) > (self.key)(self.data[maxidx]):\n                maxidx = lidx\n            if ridx < len(self.data) and (self.key)(self.data[ridx]) > (self.key)(self.data[maxidx]):\n                maxidx = ridx\n            #now maxidx contains the idx of the max element between idx, lidx, and ridx\n            if maxidx != idx:\n                self.data[idx], self.data[maxidx] = self.data[maxidx], self.data[idx]\n                idx = maxidx\n                lidx = self._left(idx)\n                ridx = self._right(idx)\n            else:\n                break\n            \n    def add(self, x):\n        self.data.append(x)\n        idx = len(self.data)-1\n        pidx = self._parent(idx)\n        while pidx >= 0 and (self.key)(self.data[idx]) > (self.key)(self.data[pidx]):\n            self.data[idx], self.data[pidx] = self.data[pidx], self.data[idx]\n            idx = pidx\n            pidx = self._parent(idx)\n        \n    def peek(self):\n        return self.data[0]\n\n    def pop(self):\n        ret = self.data[0]\n        self.data[0] = self.data[len(self.data)-1]\n        del self.data[len(self.data)-1]\n        self.heapify()\n        return ret\n    \n    def __bool__(self):\n        return len(self.data) > 0\n\n    def __len__(self):\n        return len(self.data)\n\n    def __repr__(self):\n        return repr(self.data)",
      "execution_count": 1,
      "outputs": []
    },
    {
      "metadata": {
        "deletable": false,
        "editable": false,
        "id": "heap_test_1",
        "nbgrader": {
          "grade": true,
          "grade_id": "heap_test_1",
          "locked": true,
          "points": 1,
          "schema_version": 1,
          "solution": false
        },
        "state": "read_only",
        "trusted": true
      },
      "cell_type": "code",
      "source": "# (1 point)\n\nfrom unittest import TestCase\nimport random\n\ntc = TestCase()\nh = Heap()\n\nrandom.seed(0)\nfor _ in range(10):\n    h.add(random.randrange(100))\n\ntc.assertEqual(h.data, [97, 61, 65, 49, 51, 53, 62, 5, 38, 33])",
      "execution_count": 2,
      "outputs": []
    },
    {
      "metadata": {
        "deletable": false,
        "editable": false,
        "id": "heap_test_2",
        "nbgrader": {
          "grade": true,
          "grade_id": "heap_test_2",
          "locked": true,
          "points": 1,
          "schema_version": 1,
          "solution": false
        },
        "state": "read_only",
        "trusted": true
      },
      "cell_type": "code",
      "source": "# (1 point)\n\nfrom unittest import TestCase\nimport random\n\ntc = TestCase()\nh = Heap(lambda x:-x)\n\nrandom.seed(0)\nfor _ in range(10):\n    h.add(random.randrange(100))\n\ntc.assertEqual(h.data, [5, 33, 53, 38, 49, 65, 62, 97, 51, 61])",
      "execution_count": 3,
      "outputs": []
    },
    {
      "metadata": {
        "deletable": false,
        "editable": false,
        "id": "heap_test_3",
        "nbgrader": {
          "grade": true,
          "grade_id": "heap_test_3",
          "locked": true,
          "points": 2,
          "schema_version": 1,
          "solution": false
        },
        "state": "read_only",
        "trusted": true
      },
      "cell_type": "code",
      "source": "# (2 points)\n\nfrom unittest import TestCase\nimport random\n\ntc = TestCase()\nh = Heap(lambda s:len(s))\n\nh.add('hello')\nh.add('hi')\nh.add('abracadabra')\nh.add('supercalifragilisticexpialidocious')\nh.add('0')\n\ntc.assertEqual(h.data,\n              ['supercalifragilisticexpialidocious', 'abracadabra', 'hello', 'hi', '0'])",
      "execution_count": 4,
      "outputs": []
    },
    {
      "metadata": {
        "deletable": false,
        "editable": false,
        "id": "heap_test_4",
        "nbgrader": {
          "grade": true,
          "grade_id": "heap_test_4",
          "locked": true,
          "points": 2,
          "schema_version": 1,
          "solution": false
        },
        "state": "read_only",
        "trusted": true
      },
      "cell_type": "code",
      "source": "# (2 points)\n\nfrom unittest import TestCase\nimport random\n\ntc = TestCase()\nh = Heap()\n\nrandom.seed(0)\nlst = list(range(-1000, 1000))\nrandom.shuffle(lst)\n\nfor x in lst:\n    h.add(x)\n\nfor x in range(999, -1000, -1):\n    tc.assertEqual(x, h.pop())",
      "execution_count": 5,
      "outputs": []
    },
    {
      "metadata": {
        "deletable": false,
        "editable": false,
        "id": "heap_test_5",
        "nbgrader": {
          "grade": true,
          "grade_id": "heap_test_5",
          "locked": true,
          "points": 2,
          "schema_version": 1,
          "solution": false
        },
        "state": "read_only",
        "trusted": true
      },
      "cell_type": "code",
      "source": "# (2 points)\n\nfrom unittest import TestCase\nimport random\n\ntc = TestCase()\nh = Heap(key=lambda x:abs(x))\n\nrandom.seed(0)\nlst = list(range(-1000, 1000, 3))\nrandom.shuffle(lst)\n\nfor x in lst:\n    h.add(x)\n\nfor x in reversed(sorted(range(-1000, 1000, 3), key=lambda x:abs(x))):\n    tc.assertEqual(x, h.pop())",
      "execution_count": 6,
      "outputs": []
    },
    {
      "metadata": {
        "state": "normal"
      },
      "cell_type": "markdown",
      "source": "## 2. Computing the Running Median\n\nThe median of a series of numbers is simply the middle term if ordered by magnitude, or, if there is no middle term, the average of the two middle terms. E.g., the median of the series [3, 1, 9, 25, 12] is **9**, and the median of the series [8, 4, 11, 18] is **9.5**.\n\nIf we are in the process of accumulating numerical data, it is useful to be able to compute the *running median* — where, as each new data point is encountered, an updated median is computed. This should be done, of course, as efficiently as possible.\n\nThe following function demonstrates a naive way of computing the running medians based on the series passed in as an iterable."
    },
    {
      "metadata": {
        "deletable": false,
        "editable": false,
        "id": "running_medians_naive",
        "state": "read_only",
        "trusted": true
      },
      "cell_type": "code",
      "source": "def running_medians_naive(iterable):\n    values = []\n    medians = []\n    for i, x in enumerate(iterable):\n        values.append(x)\n        values.sort()\n        if i%2 == 0:\n            medians.append(values[i//2])\n        else:\n            medians.append((values[i//2] + values[i//2+1]) / 2)\n    return medians",
      "execution_count": 7,
      "outputs": []
    },
    {
      "metadata": {
        "state": "normal",
        "trusted": true
      },
      "cell_type": "code",
      "source": "running_medians_naive([3, 1, 9, 25, 12])",
      "execution_count": 8,
      "outputs": [
        {
          "output_type": "execute_result",
          "execution_count": 8,
          "data": {
            "text/plain": "[3, 2.0, 3, 6.0, 9]"
          },
          "metadata": {}
        }
      ]
    },
    {
      "metadata": {
        "state": "normal",
        "trusted": true
      },
      "cell_type": "code",
      "source": "running_medians_naive([8, 4, 11, 18])",
      "execution_count": 9,
      "outputs": [
        {
          "output_type": "execute_result",
          "execution_count": 9,
          "data": {
            "text/plain": "[8, 6.0, 8, 9.5]"
          },
          "metadata": {}
        }
      ]
    },
    {
      "metadata": {
        "state": "normal"
      },
      "cell_type": "markdown",
      "source": "Note that the function keeps track of all the values encountered during the iteration and uses them to compute the running medians, which are returned at the end as a list. The final running median, naturally, is simply the median of the entire series.\n\nUnfortunately, because the function sorts the list of values during every iteration it is incredibly inefficient. Your job is to implement a version that computes each running median in O(log N) time using, of course, the heap data structure!\n\n### Hints\n\n- You will need to use two heaps for your solution: one min-heap, and one max-heap. \n- The min-heap should be used to keep track of all values *greater than* the most recent running median, and the max-heap for all values *less than* the most recent running median — this way, the median will lie between the minimum value on the min-heap and the maximum value on the max-heap (both of which can be efficiently extracted)\n- In addition, the difference between the number of values stored in the min-heap and max-heap must never exceed 1 (to ensure the median is being computed). This can be taken care of by intelligently `pop`-ping/`add`-ing elements between the two heaps."
    },
    {
      "metadata": {
        "deletable": false,
        "id": "running_median",
        "nbgrader": {
          "grade": false,
          "grade_id": "running_median",
          "locked": false,
          "schema_version": 1,
          "solution": true
        },
        "starter_code": "def running_medians(iterable):\n    pass",
        "state": "graded",
        "trusted": true
      },
      "cell_type": "code",
      "source": "def running_medians(iterable):\n    min_heap = Heap(lambda x:-x) \n    max_heap = Heap() \n    medians = [] \n    c_med = 0\n    \n    for i,x in enumerate(iterable):\n        if len(medians) == 0:\n            medians.append(x)\n            c_med = x\n        elif len(medians) == 1:\n            old_med = c_med\n            c_med = (x+c_med)/2\n            medians.append(c_med)\n            if old_med < c_med:\n                max_heap.add(old_med)\n                min_heap.add(x)\n            else:\n                min_heap.add(old_med)\n                max_heap.add(x)\n        else:\n            if (len(min_heap)+len(max_heap)+1) % 2 == 0:\n                if x<min_heap.peek() and x>max_heap.peek():\n                    if len(min_heap) > len(max_heap):\n                        c_med = (min_heap.peek() + x) / 2\n                    else:\n                        c_med = (max_heap.peek() + x) / 2\n                    if x >= c_med:\n                        min_heap.add(x)\n                    else:\n                        max_heap.add(x)\n                else:\n                    if x>=c_med:\n                        min_heap.add(x)\n                    else:\n                        max_heap.add(x)\n                    while len(max_heap) - len(min_heap) > 1:\n                        min_heap.add(max_heap.pop())\n                    while len(min_heap) - len(max_heap) > 1:\n                        max_heap.add(min_heap.pop())\n                    c_med = (min_heap.peek() + max_heap.peek()) / 2 #issue here\n                medians.append(c_med)\n                \n            else:\n                if x<min_heap.peek() and x>max_heap.peek():\n                    c_med = x\n                else:\n                    if x>min_heap.peek():\n                        c_med = min_heap.peek()\n                    else:\n                        c_med = max_heap.peek()\n                medians.append(c_med)\n                if x>=c_med:\n                    min_heap.add(x)\n                else:\n                    max_heap.add(x)\n                \n        #x goes in min heap or max heap\n        \n        #re-heap\n        while len(max_heap) - len(min_heap) > 1:\n            min_heap.add(max_heap.pop())\n        while len(min_heap) - len(max_heap) > 1:\n            max_heap.add(min_heap.pop())\n        \n    return medians",
      "execution_count": 10,
      "outputs": []
    },
    {
      "metadata": {
        "deletable": false,
        "editable": false,
        "id": "running_median_1",
        "nbgrader": {
          "grade": true,
          "grade_id": "running_median_1",
          "locked": true,
          "points": 2,
          "schema_version": 1,
          "solution": false
        },
        "state": "read_only",
        "trusted": true
      },
      "cell_type": "code",
      "source": "# (2 points)\n\nfrom unittest import TestCase\ntc = TestCase()\ntc.assertEqual([3, 2.0, 3, 6.0, 9], running_medians([3, 1, 9, 25, 12]))",
      "execution_count": 11,
      "outputs": []
    },
    {
      "metadata": {
        "deletable": false,
        "editable": false,
        "id": "running_median_2",
        "nbgrader": {
          "grade": true,
          "grade_id": "running_median_2",
          "locked": true,
          "points": 2,
          "schema_version": 1,
          "solution": false
        },
        "state": "read_only",
        "trusted": true
      },
      "cell_type": "code",
      "source": "# (2 points)\n\nimport random\nfrom unittest import TestCase\ntc = TestCase()\nvals = [random.randrange(10000) for _ in range(1000)]\ntc.assertEqual(running_medians_naive(vals), running_medians(vals))",
      "execution_count": 12,
      "outputs": []
    },
    {
      "metadata": {
        "deletable": false,
        "editable": false,
        "id": "running_median_3",
        "nbgrader": {
          "grade": true,
          "grade_id": "running_median_3",
          "locked": true,
          "points": 4,
          "schema_version": 1,
          "solution": false
        },
        "state": "read_only",
        "trusted": true
      },
      "cell_type": "code",
      "source": "# (4 points) MUST COMPLETE IN UNDER 10 seconds!\n\nimport random\nfrom unittest import TestCase\ntc = TestCase()\nvals = [random.randrange(100000) for _ in range(100001)]\nm_mid   = sorted(vals[:50001])[50001//2]\nm_final = sorted(vals)[len(vals)//2]\nrunning = running_medians(vals)\ntc.assertEqual(m_mid, running[50000])\ntc.assertEqual(m_final, running[-1])",
      "execution_count": 13,
      "outputs": []
    }
  ],
  "metadata": {
    "kernelspec": {
      "display_name": "Python 3",
      "language": "python",
      "name": "python3"
    },
    "language_info": {
      "codemirror_mode": {
        "name": "ipython",
        "version": 3
      },
      "file_extension": ".py",
      "mimetype": "text/x-python",
      "name": "python",
      "nbconvert_exporter": "python",
      "pygments_lexer": "ipython3",
      "version": "3.7.3"
    },
    "mimir": {
      "project_id": "6c3624b0-6219-408a-96cc-eb8177acbd80",
      "last_submission_id": "",
      "data": {}
    },
    "varInspector": {
      "cols": {
        "lenName": 16,
        "lenType": 16,
        "lenVar": 40
      },
      "kernels_config": {
        "python": {
          "delete_cmd_postfix": "",
          "delete_cmd_prefix": "del ",
          "library": "var_list.py",
          "varRefreshCmd": "print(var_dic_list())"
        },
        "r": {
          "delete_cmd_postfix": ") ",
          "delete_cmd_prefix": "rm(",
          "library": "var_list.r",
          "varRefreshCmd": "cat(var_dic_list()) "
        }
      },
      "types_to_exclude": [
        "module",
        "function",
        "builtin_function_or_method",
        "instance",
        "_Feature"
      ],
      "window_display": false
    }
  },
  "nbformat": 4,
  "nbformat_minor": 2
}