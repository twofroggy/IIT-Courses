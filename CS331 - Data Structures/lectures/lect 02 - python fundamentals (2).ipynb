{
  "cells": [
    {
      "metadata": {
        "state": "normal"
      },
      "cell_type": "markdown",
      "source": "# Python Language Intro (Part 2)"
    },
    {
      "metadata": {
        "state": "normal"
      },
      "cell_type": "markdown",
      "source": "## Agenda\n\n1. Language overview\n2. White space sensitivity\n3. Basic Types and Operations\n4. Statements & Control Structures\n5. Functions\n6. OOP (Classes, Methods, etc.)\n7. Immutable Sequence Types (Strings, Ranges, Tuples)\n8. Mutable data structures: Lists, Sets, Dictionaries"
    },
    {
      "metadata": {
        "state": "normal",
        "trusted": true
      },
      "cell_type": "code",
      "source": "# by default, only the result of the last expression in a cell is displayed after evaluation.\n# the following forces display of *all* self-standing expressions in a cell.\n\nfrom IPython.core.interactiveshell import InteractiveShell\nInteractiveShell.ast_node_interactivity = \"all\"",
      "execution_count": 28,
      "outputs": []
    },
    {
      "metadata": {
        "state": "normal"
      },
      "cell_type": "markdown",
      "source": "## 4. Statements & Control Structures"
    },
    {
      "metadata": {
        "state": "normal"
      },
      "cell_type": "markdown",
      "source": "### Assignment"
    },
    {
      "metadata": {
        "state": "normal",
        "trusted": false
      },
      "cell_type": "code",
      "source": "# simple, single target assignment\n\na = 0\nb = 'hello'",
      "execution_count": null,
      "outputs": []
    },
    {
      "metadata": {
        "scrolled": true,
        "state": "normal",
        "trusted": false
      },
      "cell_type": "code",
      "source": "# can also assign to target \"lists\"\n\na, b, c = 0, 'hello', True",
      "execution_count": 4,
      "outputs": [
        {
          "data": {
            "text/plain": "True"
          },
          "execution_count": 4,
          "metadata": {},
          "output_type": "execute_result"
        }
      ]
    },
    {
      "metadata": {
        "state": "normal"
      },
      "cell_type": "markdown",
      "source": "LHS are variables assigned the values on RHS\n+ we evaluate the RHS, then we assign it to the LHS variables"
    },
    {
      "metadata": {
        "state": "normal",
        "trusted": false
      },
      "cell_type": "code",
      "source": "a\nb\nc",
      "execution_count": 7,
      "outputs": [
        {
          "data": {
            "text/plain": "0"
          },
          "execution_count": 7,
          "metadata": {},
          "output_type": "execute_result"
        },
        {
          "data": {
            "text/plain": "'hello'"
          },
          "execution_count": 7,
          "metadata": {},
          "output_type": "execute_result"
        },
        {
          "data": {
            "text/plain": "True"
          },
          "execution_count": 7,
          "metadata": {},
          "output_type": "execute_result"
        }
      ]
    },
    {
      "metadata": {
        "state": "normal",
        "trusted": false
      },
      "cell_type": "code",
      "source": "# note: expression on right is fully evaluated, then are assigned to\n#       elements in the \"target\" list, from left to right\n\nx, y, z = 1, 2, 3\nx, y, z = x+y, y+z, x+y+z #3, 5, 6",
      "execution_count": 8,
      "outputs": []
    },
    {
      "metadata": {
        "state": "normal"
      },
      "cell_type": "markdown",
      "source": "+ x + y = 1 + 2 = 3\n+ y + z = 2 + 3 = 5\n+ x + y + = 1 + 2 + 3 = 6\n\n+ we evaluate the whole LHS first, therefore x+y+z doesn't equal 11"
    },
    {
      "metadata": {
        "state": "normal",
        "trusted": false
      },
      "cell_type": "code",
      "source": "# easy python \"swap\"\n\na, b = 'apples', 'bananas'\na, b = b, a #switches values of a and b",
      "execution_count": 11,
      "outputs": []
    },
    {
      "metadata": {
        "state": "normal",
        "trusted": false
      },
      "cell_type": "code",
      "source": "a\nb",
      "execution_count": 10,
      "outputs": [
        {
          "data": {
            "text/plain": "'bananas'"
          },
          "execution_count": 10,
          "metadata": {},
          "output_type": "execute_result"
        },
        {
          "data": {
            "text/plain": "'apples'"
          },
          "execution_count": 10,
          "metadata": {},
          "output_type": "execute_result"
        }
      ]
    },
    {
      "metadata": {
        "state": "normal",
        "trusted": false
      },
      "cell_type": "code",
      "source": "# note: order matters!\n\na, b, a = 1, 2, 3",
      "execution_count": 12,
      "outputs": []
    },
    {
      "metadata": {
        "state": "normal"
      },
      "cell_type": "markdown",
      "source": "assigning a twice means that a is now 3 because after evaluating a to 1, we evaluated a to 3 in the very end"
    },
    {
      "metadata": {
        "state": "normal",
        "trusted": false
      },
      "cell_type": "code",
      "source": "a\nb",
      "execution_count": 13,
      "outputs": [
        {
          "data": {
            "text/plain": "3"
          },
          "execution_count": 13,
          "metadata": {},
          "output_type": "execute_result"
        },
        {
          "data": {
            "text/plain": "2"
          },
          "execution_count": 13,
          "metadata": {},
          "output_type": "execute_result"
        }
      ]
    },
    {
      "metadata": {
        "state": "normal",
        "trusted": false
      },
      "cell_type": "code",
      "source": "# can also have multiple assignments in a row -- consistent with\n# above: expression is evaluated first, then assigned to all targets\n# from left to right (note: order matters!)\n\nx = y = z = 1+2+3\nx\ny\nz",
      "execution_count": 15,
      "outputs": [
        {
          "data": {
            "text/plain": "6"
          },
          "execution_count": 15,
          "metadata": {},
          "output_type": "execute_result"
        },
        {
          "data": {
            "text/plain": "6"
          },
          "execution_count": 15,
          "metadata": {},
          "output_type": "execute_result"
        },
        {
          "data": {
            "text/plain": "6"
          },
          "execution_count": 15,
          "metadata": {},
          "output_type": "execute_result"
        }
      ]
    },
    {
      "metadata": {
        "state": "normal"
      },
      "cell_type": "markdown",
      "source": "+ first we evaluate RHS, which is 6\n+ then you assign them to these variable, from left to right\n+ meaning x, y, and z all have the value of 6"
    },
    {
      "metadata": {
        "state": "normal"
      },
      "cell_type": "markdown",
      "source": "### Augmented assignment what is this??"
    },
    {
      "metadata": {
        "state": "normal",
        "trusted": false
      },
      "cell_type": "code",
      "source": "a = 0\na += 2\na *= 3",
      "execution_count": 16,
      "outputs": []
    },
    {
      "metadata": {
        "state": "normal"
      },
      "cell_type": "markdown",
      "source": "+ a ++ is not supported "
    },
    {
      "metadata": {
        "state": "normal"
      },
      "cell_type": "markdown",
      "source": "### `pass`"
    },
    {
      "metadata": {
        "state": "normal"
      },
      "cell_type": "markdown",
      "source": "**`pass`** is the \"do nothing\" statement"
    },
    {
      "metadata": {
        "state": "normal",
        "trusted": false
      },
      "cell_type": "code",
      "source": "pass #does nothing",
      "execution_count": 17,
      "outputs": []
    },
    {
      "metadata": {
        "state": "normal",
        "trusted": false
      },
      "cell_type": "code",
      "source": "def foo(): #ex of basic ftn definition \n    pass",
      "execution_count": 19,
      "outputs": []
    },
    {
      "metadata": {
        "state": "normal"
      },
      "cell_type": "markdown",
      "source": "+ when defining ftns, you need to write at lesat one line of code that makes sense, just having def foo(): would produce an error"
    },
    {
      "metadata": {
        "state": "normal"
      },
      "cell_type": "markdown",
      "source": "### `if`-`else` statements"
    },
    {
      "metadata": {
        "state": "normal",
        "trusted": false
      },
      "cell_type": "code",
      "source": "from random import randint\nscore = randint(50, 100) #gives us a random number between 50 and 100\ngrade = None\nif score >= 90:\n    grade = 'A'\nelif score >= 80:\n    grade = 'B'\nelif score >= 70:\n    grade = 'C'\nelif score >= 60:\n    grade = 'D'\nelse:\n    grade = 'E'\n\nprint(score, grade)",
      "execution_count": 26,
      "outputs": [
        {
          "name": "stdout",
          "output_type": "stream",
          "text": "96 A\n"
        }
      ]
    },
    {
      "metadata": {
        "state": "normal"
      },
      "cell_type": "markdown",
      "source": "+ elif = else if in python, otherwise you need to indent everything following appropriately"
    },
    {
      "metadata": {
        "state": "normal"
      },
      "cell_type": "markdown",
      "source": "### `while` loops"
    },
    {
      "metadata": {
        "state": "normal",
        "trusted": false
      },
      "cell_type": "code",
      "source": "#fibonacci sequence\nf0 = 0\nf1 = 1\nwhile f0 < 100: #what to print all values of the sequence under 100\n    print(f0)\n    f0, f1 = f1, f0+f1 #swapping the value of the variables",
      "execution_count": 28,
      "outputs": [
        {
          "name": "stdout",
          "output_type": "stream",
          "text": "0\n1\n1\n2\n3\n5\n8\n13\n21\n34\n55\n89\n"
        }
      ]
    },
    {
      "metadata": {
        "state": "normal"
      },
      "cell_type": "markdown",
      "source": "+ while loops are used when we don't know the number of loops we need to use"
    },
    {
      "metadata": {
        "state": "normal",
        "trusted": false
      },
      "cell_type": "code",
      "source": "i = 0\nto_find = 10 #looking for the value 10\nwhile i < 5: #while 1<5, add 1 to the value of i, until it equals 10\n    i += 1\n    if i == to_find:\n        print('Found; breaking early')\n        break #jumps out the loop\nelse:\n    print('Not found; terminated loop')",
      "execution_count": 29,
      "outputs": [
        {
          "name": "stdout",
          "output_type": "stream",
          "text": "Not found; terminated loop\n"
        }
      ]
    },
    {
      "metadata": {
        "state": "normal"
      },
      "cell_type": "markdown",
      "source": "+ the else clause is executed if we do not break out the if loop early, other wise we would need a boolean variable inside of out if loop (a flag to tell the system if we found the value we're looking for)\n+ not found because i only goes up to 5, which is less than the value we're looking for "
    },
    {
      "metadata": {
        "state": "normal",
        "trusted": false
      },
      "cell_type": "code",
      "source": "i = 0\nto_find = 10\nwhile i < 100:\n    i += 1\n    if i == to_find:\n        print('Found; breaking early')\n        break\nelse:\n    print('Not found; terminated loop')",
      "execution_count": 30,
      "outputs": [
        {
          "name": "stdout",
          "output_type": "stream",
          "text": "Found; breaking early\n"
        }
      ]
    },
    {
      "metadata": {
        "state": "normal"
      },
      "cell_type": "markdown",
      "source": "+ it's found because i is able to go up to 100, meaning it's able to find 10 \n+ the else is not executed because we were able to break out of the loop early"
    },
    {
      "metadata": {
        "state": "normal"
      },
      "cell_type": "markdown",
      "source": "### Exception Handling\nkey words\n+ try \n+ raise - starts a statement with an exception, we pass a message to use as the exception \n+ except"
    },
    {
      "metadata": {
        "state": "normal",
        "trusted": false
      },
      "cell_type": "code",
      "source": "print('hello')\nraise Exception('Boom!')\nprint('goodbye')",
      "execution_count": 32,
      "outputs": [
        {
          "name": "stdout",
          "output_type": "stream",
          "text": "hello\n"
        },
        {
          "ename": "Exception",
          "evalue": "Boom!",
          "output_type": "error",
          "traceback": [
            "\u001b[0;31m---------------------------------------------------------------------------\u001b[0m",
            "\u001b[0;31mException\u001b[0m                                 Traceback (most recent call last)",
            "\u001b[0;32m<ipython-input-32-956787b241d5>\u001b[0m in \u001b[0;36m<module>\u001b[0;34m\u001b[0m\n\u001b[1;32m      1\u001b[0m \u001b[0mprint\u001b[0m\u001b[0;34m(\u001b[0m\u001b[0;34m'hello'\u001b[0m\u001b[0;34m)\u001b[0m\u001b[0;34m\u001b[0m\u001b[0;34m\u001b[0m\u001b[0m\n\u001b[0;32m----> 2\u001b[0;31m \u001b[0;32mraise\u001b[0m \u001b[0mException\u001b[0m\u001b[0;34m(\u001b[0m\u001b[0;34m'Boom!'\u001b[0m\u001b[0;34m)\u001b[0m\u001b[0;34m\u001b[0m\u001b[0;34m\u001b[0m\u001b[0m\n\u001b[0m\u001b[1;32m      3\u001b[0m \u001b[0mprint\u001b[0m\u001b[0;34m(\u001b[0m\u001b[0;34m'goodbye'\u001b[0m\u001b[0;34m)\u001b[0m\u001b[0;34m\u001b[0m\u001b[0;34m\u001b[0m\u001b[0m\n",
            "\u001b[0;31mException\u001b[0m: Boom!"
          ]
        }
      ]
    },
    {
      "metadata": {
        "state": "normal"
      },
      "cell_type": "markdown",
      "source": "+ the exception interrupts the running of the code, which is why print goodbye isn't ran "
    },
    {
      "metadata": {
        "state": "normal",
        "trusted": false
      },
      "cell_type": "code",
      "source": "raise NotImplementedError()",
      "execution_count": 33,
      "outputs": [
        {
          "ename": "NotImplementedError",
          "evalue": "",
          "output_type": "error",
          "traceback": [
            "\u001b[0;31m---------------------------------------------------------------------------\u001b[0m",
            "\u001b[0;31mNotImplementedError\u001b[0m                       Traceback (most recent call last)",
            "\u001b[0;32m<ipython-input-33-03b9be105f74>\u001b[0m in \u001b[0;36m<module>\u001b[0;34m\u001b[0m\n\u001b[0;32m----> 1\u001b[0;31m \u001b[0;32mraise\u001b[0m \u001b[0mNotImplementedError\u001b[0m\u001b[0;34m(\u001b[0m\u001b[0;34m)\u001b[0m\u001b[0;34m\u001b[0m\u001b[0;34m\u001b[0m\u001b[0m\n\u001b[0m",
            "\u001b[0;31mNotImplementedError\u001b[0m: "
          ]
        }
      ]
    },
    {
      "metadata": {
        "state": "normal",
        "trusted": false
      },
      "cell_type": "code",
      "source": "try:\n    raise Exception('Boom')\nexcept:\n    print('Exception encountered!') #only this line will be executed",
      "execution_count": 35,
      "outputs": [
        {
          "name": "stdout",
          "output_type": "stream",
          "text": "Exception encountered!\n"
        }
      ]
    },
    {
      "metadata": {
        "state": "normal"
      },
      "cell_type": "markdown",
      "source": "+ if an exception is raised in the try part, it'll just go to the except clause"
    },
    {
      "metadata": {
        "state": "normal",
        "trusted": false
      },
      "cell_type": "code",
      "source": "try:\n    raise ArithmeticError('Eeek!') \nexcept LookupError as e:\n    print('LookupError:', e)\nexcept ArithmeticError as e:\n    print('ArithmeticError:', e)\nexcept Exception as e:\n    print(e)\nfinally:\n    print('Done')",
      "execution_count": 36,
      "outputs": [
        {
          "name": "stdout",
          "output_type": "stream",
          "text": "ArithmeticError: Eeek!\nDone\n"
        }
      ]
    },
    {
      "metadata": {
        "state": "normal"
      },
      "cell_type": "markdown",
      "source": "???"
    },
    {
      "metadata": {
        "state": "normal"
      },
      "cell_type": "markdown",
      "source": "### `for` loops (iteration)"
    },
    {
      "metadata": {
        "state": "normal",
        "trusted": false
      },
      "cell_type": "code",
      "source": "type(range (10)) # a type itself",
      "execution_count": 41,
      "outputs": [
        {
          "data": {
            "text/plain": "range"
          },
          "execution_count": 41,
          "metadata": {},
          "output_type": "execute_result"
        }
      ]
    },
    {
      "metadata": {
        "state": "normal",
        "trusted": false
      },
      "cell_type": "code",
      "source": "for x in range(10): #most common to be used in giving a sequence in for loop \n    print(x)",
      "execution_count": 37,
      "outputs": [
        {
          "name": "stdout",
          "output_type": "stream",
          "text": "0\n1\n2\n3\n4\n5\n6\n7\n8\n9\n"
        }
      ]
    },
    {
      "metadata": {
        "scrolled": true,
        "state": "normal",
        "trusted": false
      },
      "cell_type": "code",
      "source": "for i in range(9, 81, 9): #start at 9, end at 81, steps of 9\n    print(i)",
      "execution_count": 43,
      "outputs": [
        {
          "name": "stdout",
          "output_type": "stream",
          "text": "9\n18\n27\n36\n45\n54\n63\n72\n"
        }
      ]
    },
    {
      "metadata": {
        "state": "normal",
        "trusted": false
      },
      "cell_type": "code",
      "source": "for c in 'hello world': #a str is a sequence, so its iterable\n    print(c) #prints each value of the string ",
      "execution_count": 45,
      "outputs": [
        {
          "name": "stdout",
          "output_type": "stream",
          "text": "h\ne\nl\nl\no\n \nw\no\nr\nl\nd\n"
        }
      ]
    },
    {
      "metadata": {
        "state": "normal",
        "trusted": false
      },
      "cell_type": "code",
      "source": "to_find = 50\nfor i in range(100):\n    if i == to_find:\n        break\nelse:\n    print('Completed loop')",
      "execution_count": 46,
      "outputs": []
    },
    {
      "metadata": {
        "state": "normal"
      },
      "cell_type": "markdown",
      "source": "no output because we found 50 in the range 0 to 100, therefore the if clause is invoked, breaking the loop early"
    },
    {
      "metadata": {
        "state": "normal"
      },
      "cell_type": "markdown",
      "source": "### Generalized iteration (`iter` and `next`)\n\n+ the target for a for loop is somethign that needs to b iterable, relies on two ftns: iter and next"
    },
    {
      "metadata": {
        "state": "normal",
        "trusted": false
      },
      "cell_type": "code",
      "source": "r = range(10)\nit = iter(r) #call iter ftn on the range to get back the type of that value",
      "execution_count": 48,
      "outputs": []
    },
    {
      "metadata": {
        "state": "normal",
        "trusted": false
      },
      "cell_type": "code",
      "source": "type(it)",
      "execution_count": 49,
      "outputs": [
        {
          "data": {
            "text/plain": "range_iterator"
          },
          "execution_count": 49,
          "metadata": {},
          "output_type": "execute_result"
        }
      ]
    },
    {
      "metadata": {
        "state": "normal"
      },
      "cell_type": "markdown",
      "source": "#### when we call 'iter' on an iterable object, we get back an iterator\n+ if u can put it on the RHS of an for x in, it's iterable"
    },
    {
      "metadata": {
        "scrolled": true,
        "state": "normal",
        "trusted": false
      },
      "cell_type": "code",
      "source": "next(it) ",
      "execution_count": 61,
      "outputs": [
        {
          "ename": "StopIteration",
          "evalue": "",
          "output_type": "error",
          "traceback": [
            "\u001b[0;31m---------------------------------------------------------------------------\u001b[0m",
            "\u001b[0;31mStopIteration\u001b[0m                             Traceback (most recent call last)",
            "\u001b[0;32m<ipython-input-61-3c3ee1e5cb4b>\u001b[0m in \u001b[0;36m<module>\u001b[0;34m\u001b[0m\n\u001b[0;32m----> 1\u001b[0;31m \u001b[0mnext\u001b[0m\u001b[0;34m(\u001b[0m\u001b[0mit\u001b[0m\u001b[0;34m)\u001b[0m \u001b[0;31m#gives me the next value, starting with the first value because i havent called it yet\u001b[0m\u001b[0;34m\u001b[0m\u001b[0;34m\u001b[0m\u001b[0m\n\u001b[0m",
            "\u001b[0;31mStopIteration\u001b[0m: "
          ]
        }
      ]
    },
    {
      "metadata": {
        "state": "normal"
      },
      "cell_type": "markdown",
      "source": "next() \n+ gives me the next value, starting with the first value because i havent called it yet"
    },
    {
      "metadata": {
        "state": "normal"
      },
      "cell_type": "markdown",
      "source": "gives back the values 0 to 9, which is the first value in the sequence 0 to 9, but after 9, it returns as an error StopIteration"
    },
    {
      "metadata": {
        "state": "normal",
        "trusted": false
      },
      "cell_type": "code",
      "source": "#same as the next() ftn\nfor x in range(10):\n    print(x)",
      "execution_count": 65,
      "outputs": [
        {
          "name": "stdout",
          "output_type": "stream",
          "text": "0\n1\n2\n3\n4\n5\n6\n7\n8\n9\n"
        }
      ]
    },
    {
      "metadata": {
        "state": "normal",
        "trusted": false
      },
      "cell_type": "code",
      "source": "it = iter(r) #get an iterator object\nwhile True:\n    try:\n        x = next(it) #call next on the iterator\n        print(x)\n    except StopIteration: #stop when the iterator raises a StopIteration\n        break",
      "execution_count": 62,
      "outputs": [
        {
          "name": "stdout",
          "output_type": "stream",
          "text": "0\n1\n2\n3\n4\n5\n6\n7\n8\n9\n"
        }
      ]
    },
    {
      "metadata": {
        "state": "normal",
        "trusted": false
      },
      "cell_type": "code",
      "source": "it = iter(r)\nwhile True:\n    try:\n        x = next(it)\n        y = next(it)\n        print(x, y, x+y)\n    except StopIteration:\n        break",
      "execution_count": 66,
      "outputs": [
        {
          "name": "stdout",
          "output_type": "stream",
          "text": "0 1 1\n2 3 5\n4 5 9\n6 7 13\n8 9 17\n"
        }
      ]
    },
    {
      "metadata": {
        "state": "normal"
      },
      "cell_type": "markdown",
      "source": "the for loop and the iter loop thingy after it (above) does the same and returns the same values, but we could use the iter and next ftn because it'll be helpful in situations like the above ^^"
    },
    {
      "metadata": {
        "state": "normal"
      },
      "cell_type": "markdown",
      "source": "## 5. Functions\n\n+ ftns always return something, pass and return gives no value visibly, but if u print it, it'll give None."
    },
    {
      "metadata": {
        "state": "normal",
        "trusted": false
      },
      "cell_type": "code",
      "source": "def foo():\n    pass",
      "execution_count": null,
      "outputs": []
    },
    {
      "metadata": {
        "state": "normal",
        "trusted": false
      },
      "cell_type": "code",
      "source": "import math\n\ndef quadratic_roots(a, b, c):\n    disc = b**2-4*a*c\n    if disc < 0:\n        return None\n    else:\n        return (-b+math.sqrt(disc))/(2*a), (-b-math.sqrt(disc))/(2*a)",
      "execution_count": 68,
      "outputs": []
    },
    {
      "metadata": {
        "state": "normal",
        "trusted": false
      },
      "cell_type": "code",
      "source": "quadratic_roots(1, -5, 6) # eq = (x-3)(x-2)",
      "execution_count": 69,
      "outputs": [
        {
          "data": {
            "text/plain": "(3.0, 2.0)"
          },
          "execution_count": 69,
          "metadata": {},
          "output_type": "execute_result"
        }
      ]
    },
    {
      "metadata": {
        "state": "normal",
        "trusted": false
      },
      "cell_type": "code",
      "source": "quadratic_roots(a=1, b=-5, c=6)",
      "execution_count": 70,
      "outputs": [
        {
          "data": {
            "text/plain": "(3.0, 2.0)"
          },
          "execution_count": 70,
          "metadata": {},
          "output_type": "execute_result"
        }
      ]
    },
    {
      "metadata": {
        "state": "normal",
        "trusted": false
      },
      "cell_type": "code",
      "source": "quadratic_roots(c=6, a=1, b=-5) ",
      "execution_count": 71,
      "outputs": [
        {
          "data": {
            "text/plain": "(3.0, 2.0)"
          },
          "execution_count": 71,
          "metadata": {},
          "output_type": "execute_result"
        }
      ]
    },
    {
      "metadata": {
        "state": "normal"
      },
      "cell_type": "markdown",
      "source": "+ when u call ftns, u dont have to write the parameters in the specific order if u label it when calling the ftn"
    },
    {
      "metadata": {
        "state": "normal",
        "trusted": false
      },
      "cell_type": "code",
      "source": "def create_character(name, race, hitpoints, ability):\n    print('Name:', name)\n    print('Race:', race)\n    print('Hitpoints:', hitpoints)\n    print('Ability:', ability)",
      "execution_count": 72,
      "outputs": []
    },
    {
      "metadata": {
        "scrolled": true,
        "state": "normal",
        "trusted": false
      },
      "cell_type": "code",
      "source": "create_character('Legolas', 'Elf', 100, 'Archery')",
      "execution_count": 73,
      "outputs": [
        {
          "name": "stdout",
          "output_type": "stream",
          "text": "Name: Legolas\nRace: Elf\nHitpoints: 100\nAbility: Archery\n"
        }
      ]
    },
    {
      "metadata": {
        "state": "normal",
        "trusted": false
      },
      "cell_type": "code",
      "source": "create_character(ability='Archery', race ='Elf', hitpoints=100,name='Legolas')",
      "execution_count": 75,
      "outputs": [
        {
          "name": "stdout",
          "output_type": "stream",
          "text": "Name: Legolas\nRace: Elf\nHitpoints: 100\nAbility: Archery\n"
        }
      ]
    },
    {
      "metadata": {
        "state": "normal",
        "trusted": false
      },
      "cell_type": "code",
      "source": "def create_character(name, race='Human', hitpoints=100, ability=None):\n    print('Name:', name)\n    print('Race:', race)\n    print('Hitpoints:', hitpoints)\n    if ability: #if ability isnt specified, it wont display it\n        print('Ability:', ability)",
      "execution_count": 76,
      "outputs": []
    },
    {
      "metadata": {
        "state": "normal",
        "trusted": false
      },
      "cell_type": "code",
      "source": "create_character('Michael')",
      "execution_count": 77,
      "outputs": [
        {
          "name": "stdout",
          "output_type": "stream",
          "text": "Name: Michael\nRace: Human\nHitpoints: 100\n"
        }
      ]
    },
    {
      "metadata": {
        "state": "normal",
        "trusted": false
      },
      "cell_type": "code",
      "source": "def create_character(name, race='Human', hitpoints=100, abilities=()):\n    print('Name:', name)\n    print('Race:', race)\n    print('Hitpoints:', hitpoints)\n    if abilities:\n        print('Abilities:')\n        for ability in abilities:\n            print('  -', ability)",
      "execution_count": 78,
      "outputs": []
    },
    {
      "metadata": {
        "state": "normal",
        "trusted": false
      },
      "cell_type": "code",
      "source": "create_character('Gimli', race='Dwarf')",
      "execution_count": 79,
      "outputs": [
        {
          "name": "stdout",
          "output_type": "stream",
          "text": "Name: Gimli\nRace: Dwarf\nHitpoints: 100\n"
        }
      ]
    },
    {
      "metadata": {
        "state": "normal",
        "trusted": false
      },
      "cell_type": "code",
      "source": "create_character('Gandalf', hitpoints=1000)",
      "execution_count": 80,
      "outputs": [
        {
          "name": "stdout",
          "output_type": "stream",
          "text": "Name: Gandalf\nRace: Human\nHitpoints: 1000\n"
        }
      ]
    },
    {
      "metadata": {
        "state": "normal",
        "trusted": false
      },
      "cell_type": "code",
      "source": "create_character('Aragorn', abilities=('Swording', 'Healing'))",
      "execution_count": 81,
      "outputs": [
        {
          "name": "stdout",
          "output_type": "stream",
          "text": "Name: Aragorn\nRace: Human\nHitpoints: 100\nAbilities:\n  - Swording\n  - Healing\n"
        }
      ]
    },
    {
      "metadata": {
        "state": "normal",
        "trusted": false
      },
      "cell_type": "code",
      "source": "def create_character(name, *abilities, race='Human', hitpoints=100):\n# the * behaves as all the values u write in quotes after the name, \n# while keeping race n hitpoints as those values unless specified otherwise    \n    print('Name:', name)\n    print('Race:', race)\n    print('Hitpoints:', hitpoints)\n    if abilities:\n        print('Abilities:')\n        for ability in abilities:\n            print('  -', ability)",
      "execution_count": 87,
      "outputs": []
    },
    {
      "metadata": {
        "state": "normal",
        "trusted": false
      },
      "cell_type": "code",
      "source": "create_character('Michael')",
      "execution_count": 88,
      "outputs": [
        {
          "name": "stdout",
          "output_type": "stream",
          "text": "Name: Michael\nRace: Human\nHitpoints: 100\n"
        }
      ]
    },
    {
      "metadata": {
        "state": "normal",
        "trusted": false
      },
      "cell_type": "code",
      "source": "create_character('Michael', 'Coding', 'Teaching', 'Sleeping', hitpoints=25)",
      "execution_count": 89,
      "outputs": [
        {
          "name": "stdout",
          "output_type": "stream",
          "text": "Name: Michael\nRace: Human\nHitpoints: 25\nAbilities:\n  - Coding\n  - Teaching\n  - Sleeping\n"
        }
      ]
    },
    {
      "metadata": {
        "state": "normal"
      },
      "cell_type": "markdown",
      "source": "### Functions as Objects\n\n+ ur setting a variable as an ftn object, that does a certain thing, but u can change the variable to another one and it'll do the same job"
    },
    {
      "metadata": {
        "state": "normal",
        "trusted": false
      },
      "cell_type": "code",
      "source": "def foo():\n    print('Foo called')\n    \nbar = foo\nbar()",
      "execution_count": 90,
      "outputs": [
        {
          "name": "stdout",
          "output_type": "stream",
          "text": "Foo called\n"
        }
      ]
    },
    {
      "metadata": {
        "state": "normal",
        "trusted": false
      },
      "cell_type": "code",
      "source": "def foo(f):\n    f()\n    \ndef bar():\n    print('Bar called')\n    \nfoo(bar)",
      "execution_count": 91,
      "outputs": [
        {
          "name": "stdout",
          "output_type": "stream",
          "text": "Bar called\n"
        }
      ]
    },
    {
      "metadata": {
        "state": "normal"
      },
      "cell_type": "markdown",
      "source": "bar takes no arguments bc the # of arguemtns a ftn takes has to match\n+ foo(f(bar()))"
    },
    {
      "metadata": {
        "state": "normal",
        "trusted": false
      },
      "cell_type": "code",
      "source": "foo = lambda: print('Anonymous function called')\n\nfoo()",
      "execution_count": 92,
      "outputs": [
        {
          "name": "stdout",
          "output_type": "stream",
          "text": "Anonymous function called\n"
        }
      ]
    },
    {
      "metadata": {
        "state": "normal"
      },
      "cell_type": "markdown",
      "source": "lambda \n+ is used to write simple ftns, not usually used after the first few classes\n+ simplified way of writing a function\n+ can take arguments"
    },
    {
      "metadata": {
        "state": "normal",
        "trusted": false
      },
      "cell_type": "code",
      "source": "f = lambda x,y: x+y #takes 2 arguments: x&y and does x+y with those values\n\nf(1,2)",
      "execution_count": 93,
      "outputs": [
        {
          "data": {
            "text/plain": "3"
          },
          "execution_count": 93,
          "metadata": {},
          "output_type": "execute_result"
        }
      ]
    },
    {
      "metadata": {
        "state": "normal",
        "trusted": false
      },
      "cell_type": "code",
      "source": "def my_map(f, it): \n    for x in it:\n        print(f(x))",
      "execution_count": 94,
      "outputs": []
    },
    {
      "metadata": {
        "state": "normal",
        "trusted": false
      },
      "cell_type": "code",
      "source": "my_map(lambda x: x*2, range(1,10))",
      "execution_count": 95,
      "outputs": [
        {
          "name": "stdout",
          "output_type": "stream",
          "text": "2\n4\n6\n8\n10\n12\n14\n16\n18\n"
        }
      ]
    },
    {
      "metadata": {
        "state": "normal",
        "trusted": false
      },
      "cell_type": "code",
      "source": "for x in map(lambda x: x*2, range(1,10)):\n#map is an ex of a \"higher-order\" ftn\n    print(x)",
      "execution_count": 97,
      "outputs": [
        {
          "name": "stdout",
          "output_type": "stream",
          "text": "2\n4\n6\n8\n10\n12\n14\n16\n18\n"
        }
      ]
    },
    {
      "metadata": {
        "state": "normal",
        "trusted": false
      },
      "cell_type": "code",
      "source": "def foo():\n    print('Foo called')\n\ntype(foo)",
      "execution_count": 98,
      "outputs": [
        {
          "data": {
            "text/plain": "function"
          },
          "execution_count": 98,
          "metadata": {},
          "output_type": "execute_result"
        }
      ]
    },
    {
      "metadata": {
        "state": "normal"
      },
      "cell_type": "markdown",
      "source": "ftns r just objects"
    },
    {
      "metadata": {
        "scrolled": false,
        "state": "normal",
        "trusted": false
      },
      "cell_type": "code",
      "source": "dir(foo)",
      "execution_count": 99,
      "outputs": [
        {
          "data": {
            "text/plain": "['__annotations__',\n '__call__',\n '__class__',\n '__closure__',\n '__code__',\n '__defaults__',\n '__delattr__',\n '__dict__',\n '__dir__',\n '__doc__',\n '__eq__',\n '__format__',\n '__ge__',\n '__get__',\n '__getattribute__',\n '__globals__',\n '__gt__',\n '__hash__',\n '__init__',\n '__init_subclass__',\n '__kwdefaults__',\n '__le__',\n '__lt__',\n '__module__',\n '__name__',\n '__ne__',\n '__new__',\n '__qualname__',\n '__reduce__',\n '__reduce_ex__',\n '__repr__',\n '__setattr__',\n '__sizeof__',\n '__str__',\n '__subclasshook__']"
          },
          "execution_count": 99,
          "metadata": {},
          "output_type": "execute_result"
        }
      ]
    },
    {
      "metadata": {
        "state": "normal"
      },
      "cell_type": "markdown",
      "source": ".__call__() is a global ftn in every ftn"
    },
    {
      "metadata": {
        "state": "normal",
        "trusted": false
      },
      "cell_type": "code",
      "source": "foo.__call__() #equivalent to foo()",
      "execution_count": 101,
      "outputs": [
        {
          "name": "stdout",
          "output_type": "stream",
          "text": "Foo called\n"
        }
      ]
    },
    {
      "metadata": {
        "state": "normal"
      },
      "cell_type": "markdown",
      "source": "## 6. OOP (Classes, Methods, etc.)\n\nobject orientation "
    },
    {
      "metadata": {
        "state": "normal",
        "trusted": false
      },
      "cell_type": "code",
      "source": "class Foo:\n#classes have capitalized names\n    pass",
      "execution_count": 102,
      "outputs": []
    },
    {
      "metadata": {
        "state": "normal",
        "trusted": false
      },
      "cell_type": "code",
      "source": "type(Foo)",
      "execution_count": 103,
      "outputs": [
        {
          "data": {
            "text/plain": "type"
          },
          "execution_count": 103,
          "metadata": {},
          "output_type": "execute_result"
        }
      ]
    },
    {
      "metadata": {
        "state": "normal",
        "trusted": false
      },
      "cell_type": "code",
      "source": "Foo()",
      "execution_count": 104,
      "outputs": [
        {
          "data": {
            "text/plain": "<__main__.Foo at 0x7fe37d129198>"
          },
          "execution_count": 104,
          "metadata": {},
          "output_type": "execute_result"
        }
      ]
    },
    {
      "metadata": {
        "state": "normal",
        "trusted": false
      },
      "cell_type": "code",
      "source": "type(Foo())",
      "execution_count": 105,
      "outputs": [
        {
          "data": {
            "text/plain": "__main__.Foo"
          },
          "execution_count": 105,
          "metadata": {},
          "output_type": "execute_result"
        }
      ]
    },
    {
      "metadata": {
        "state": "normal"
      },
      "cell_type": "markdown",
      "source": "main is name of the current module \n+ we call the Foo class in the notebook file and all the files in the notebook are in the main module"
    },
    {
      "metadata": {
        "state": "normal",
        "trusted": false
      },
      "cell_type": "code",
      "source": "__name__ # name of the current \"module\" (for this notebook)",
      "execution_count": 106,
      "outputs": [
        {
          "data": {
            "text/plain": "'__main__'"
          },
          "execution_count": 106,
          "metadata": {},
          "output_type": "execute_result"
        }
      ]
    },
    {
      "metadata": {
        "state": "normal",
        "trusted": false,
        "scrolled": false
      },
      "cell_type": "code",
      "source": "globals().keys() # symbol table of the current module\n#these r the things we've defined inside this module",
      "execution_count": 108,
      "outputs": [
        {
          "data": {
            "text/plain": "dict_keys(['__name__', '__doc__', '__package__', '__loader__', '__spec__', '__builtin__', '__builtins__', '_ih', '_oh', '_dh', 'In', 'Out', 'get_ipython', 'exit', 'quit', '_', '__', '___', 'json', 'getsizeof', 'NamespaceMagics', '_nms', '_Jupyter', 'np', '_getsizeof', '_getshapeof', 'var_dic_list', '_i', '_ii', '_iii', '_i1', 'a', 'b', 'c', '_i2', '_i3', '_i4', '_4', '_i5', '_5', '_i6', 'InteractiveShell', '_i7', '_7', '_i8', 'x', 'y', 'z', '_i9', '_i10', '_10', '_i11', '_i12', '_i13', '_13', '_i14', '_i15', '_15', '_i16', '_i17', '_i18', 'foo', '_i19', '_i20', 'randint', 'score', 'grade', '_i21', '_i22', '_i23', '_i24', '_i25', '_i26', '_i27', 'f0', 'f1', '_i28', '_i29', 'i', 'to_find', '_i30', '_i31', '_i32', '_i33', '_i34', '_i35', '_i36', '_i37', '_i38', '_38', '_i39', '_39', '_i40', '_40', '_i41', '_41', '_i42', '_i43', '_i44', '_i45', '_i46', '_i47', 'r', 'it', '_i48', '_i49', '_49', '_i50', '_50', '_i51', '_51', '_i52', '_52', '_i53', '_53', '_i54', '_54', '_i55', '_55', '_i56', '_56', '_i57', '_57', '_i58', '_58', '_i59', '_59', '_i60', '_i61', '_i62', '_i63', '_i64', '_i65', '_i66', '_i67', 'math', 'quadratic_roots', '_i68', '_i69', '_69', '_i70', '_70', '_i71', '_71', '_i72', 'create_character', '_i73', '_i74', '_i75', '_i76', '_i77', '_i78', '_i79', '_i80', '_i81', '_i82', '_i83', '_i84', '_i85', '_i86', '_i87', '_i88', '_i89', '_i90', 'bar', '_i91', '_i92', '_i93', 'f', '_93', '_i94', 'my_map', '_i95', '_i96', '_i97', '_i98', '_98', '_i99', '_99', '_i100', '_i101', '_i102', 'Foo', '_i103', '_103', '_i104', '_104', '_i105', '_105', '_i106', '_106', '_i107', '_107', '_i108'])"
          },
          "execution_count": 108,
          "metadata": {},
          "output_type": "execute_result"
        }
      ]
    },
    {
      "metadata": {
        "scrolled": false,
        "state": "normal",
        "trusted": false
      },
      "cell_type": "code",
      "source": "import sys\nm = sys.modules['__main__'] # explicitly accessing the __main__b module\ndir(m)\n# ",
      "execution_count": 109,
      "outputs": [
        {
          "data": {
            "text/plain": "['Foo',\n 'In',\n 'InteractiveShell',\n 'NamespaceMagics',\n 'Out',\n '_',\n '_10',\n '_103',\n '_104',\n '_105',\n '_106',\n '_107',\n '_108',\n '_13',\n '_15',\n '_38',\n '_39',\n '_4',\n '_40',\n '_41',\n '_49',\n '_5',\n '_50',\n '_51',\n '_52',\n '_53',\n '_54',\n '_55',\n '_56',\n '_57',\n '_58',\n '_59',\n '_69',\n '_7',\n '_70',\n '_71',\n '_93',\n '_98',\n '_99',\n '_Jupyter',\n '__',\n '___',\n '__builtin__',\n '__builtins__',\n '__doc__',\n '__loader__',\n '__name__',\n '__package__',\n '__spec__',\n '_dh',\n '_getshapeof',\n '_getsizeof',\n '_i',\n '_i1',\n '_i10',\n '_i100',\n '_i101',\n '_i102',\n '_i103',\n '_i104',\n '_i105',\n '_i106',\n '_i107',\n '_i108',\n '_i109',\n '_i11',\n '_i12',\n '_i13',\n '_i14',\n '_i15',\n '_i16',\n '_i17',\n '_i18',\n '_i19',\n '_i2',\n '_i20',\n '_i21',\n '_i22',\n '_i23',\n '_i24',\n '_i25',\n '_i26',\n '_i27',\n '_i28',\n '_i29',\n '_i3',\n '_i30',\n '_i31',\n '_i32',\n '_i33',\n '_i34',\n '_i35',\n '_i36',\n '_i37',\n '_i38',\n '_i39',\n '_i4',\n '_i40',\n '_i41',\n '_i42',\n '_i43',\n '_i44',\n '_i45',\n '_i46',\n '_i47',\n '_i48',\n '_i49',\n '_i5',\n '_i50',\n '_i51',\n '_i52',\n '_i53',\n '_i54',\n '_i55',\n '_i56',\n '_i57',\n '_i58',\n '_i59',\n '_i6',\n '_i60',\n '_i61',\n '_i62',\n '_i63',\n '_i64',\n '_i65',\n '_i66',\n '_i67',\n '_i68',\n '_i69',\n '_i7',\n '_i70',\n '_i71',\n '_i72',\n '_i73',\n '_i74',\n '_i75',\n '_i76',\n '_i77',\n '_i78',\n '_i79',\n '_i8',\n '_i80',\n '_i81',\n '_i82',\n '_i83',\n '_i84',\n '_i85',\n '_i86',\n '_i87',\n '_i88',\n '_i89',\n '_i9',\n '_i90',\n '_i91',\n '_i92',\n '_i93',\n '_i94',\n '_i95',\n '_i96',\n '_i97',\n '_i98',\n '_i99',\n '_ih',\n '_ii',\n '_iii',\n '_nms',\n '_oh',\n 'a',\n 'b',\n 'bar',\n 'c',\n 'create_character',\n 'exit',\n 'f',\n 'f0',\n 'f1',\n 'foo',\n 'get_ipython',\n 'getsizeof',\n 'grade',\n 'i',\n 'it',\n 'json',\n 'm',\n 'math',\n 'my_map',\n 'np',\n 'quadratic_roots',\n 'quit',\n 'r',\n 'randint',\n 'score',\n 'sys',\n 'to_find',\n 'var_dic_list',\n 'x',\n 'y',\n 'z']"
          },
          "execution_count": 109,
          "metadata": {},
          "output_type": "execute_result"
        }
      ]
    },
    {
      "metadata": {
        "state": "normal",
        "trusted": false
      },
      "cell_type": "code",
      "source": "m.Foo() #basically: yes the foo class is defined inside the main module",
      "execution_count": 111,
      "outputs": [
        {
          "data": {
            "text/plain": "<__main__.Foo at 0x7fe37d1295c0>"
          },
          "execution_count": 111,
          "metadata": {},
          "output_type": "execute_result"
        }
      ]
    },
    {
      "metadata": {
        "state": "normal"
      },
      "cell_type": "markdown",
      "source": "+ main in java is entry pt for ftns\n\nvs\n+ main in python is not a ftn, it's a collection of definitions"
    },
    {
      "metadata": {
        "state": "normal",
        "trusted": false
      },
      "cell_type": "code",
      "source": "f = Foo() \n#equivalent to 'new Foo()', we dont need to declare attributes ahead of time",
      "execution_count": 115,
      "outputs": []
    },
    {
      "metadata": {
        "state": "normal",
        "trusted": false
      },
      "cell_type": "code",
      "source": "f.x = 100 #dont need to declare variables before using them\nf.y = 50\nf.x + f.y",
      "execution_count": 113,
      "outputs": [
        {
          "data": {
            "text/plain": "150"
          },
          "execution_count": 113,
          "metadata": {},
          "output_type": "execute_result"
        }
      ]
    },
    {
      "metadata": {
        "state": "normal"
      },
      "cell_type": "markdown",
      "source": "created 2 attributes in foo object, doesnt change the class"
    },
    {
      "metadata": {
        "state": "normal",
        "trusted": true
      },
      "cell_type": "code",
      "source": "g = Foo()\ng.x",
      "execution_count": 1,
      "outputs": [
        {
          "output_type": "error",
          "ename": "NameError",
          "evalue": "name 'Foo' is not defined",
          "traceback": [
            "\u001b[0;31m---------------------------------------------------------------------------\u001b[0m",
            "\u001b[0;31mNameError\u001b[0m                                 Traceback (most recent call last)",
            "\u001b[0;32m<ipython-input-1-86386dbc126d>\u001b[0m in \u001b[0;36m<module>\u001b[0;34m\u001b[0m\n\u001b[0;32m----> 1\u001b[0;31m \u001b[0mg\u001b[0m \u001b[0;34m=\u001b[0m \u001b[0mFoo\u001b[0m\u001b[0;34m(\u001b[0m\u001b[0;34m)\u001b[0m\u001b[0;34m\u001b[0m\u001b[0;34m\u001b[0m\u001b[0m\n\u001b[0m\u001b[1;32m      2\u001b[0m \u001b[0mg\u001b[0m\u001b[0;34m.\u001b[0m\u001b[0mx\u001b[0m\u001b[0;34m\u001b[0m\u001b[0;34m\u001b[0m\u001b[0m\n",
            "\u001b[0;31mNameError\u001b[0m: name 'Foo' is not defined"
          ]
        }
      ]
    },
    {
      "metadata": {
        "state": "normal"
      },
      "cell_type": "markdown",
      "source": "doesnt work bc there is no x unless u defined them after, like u did above for f.x=100"
    },
    {
      "metadata": {
        "state": "normal",
        "trusted": true
      },
      "cell_type": "code",
      "source": "class Foo:\n    def bar():\n        print('Bar called')",
      "execution_count": 2,
      "outputs": []
    },
    {
      "metadata": {
        "state": "normal",
        "trusted": true
      },
      "cell_type": "code",
      "source": "type(Foo.bar) #referring to a ftn thru a class is a FTN",
      "execution_count": 3,
      "outputs": [
        {
          "output_type": "execute_result",
          "execution_count": 3,
          "data": {
            "text/plain": "function"
          },
          "metadata": {}
        }
      ]
    },
    {
      "metadata": {
        "state": "normal",
        "trusted": true
      },
      "cell_type": "code",
      "source": "f = Foo() #create an instance of Foo()",
      "execution_count": 4,
      "outputs": []
    },
    {
      "metadata": {
        "state": "normal",
        "trusted": true
      },
      "cell_type": "code",
      "source": "type(f.bar) #referring to a ftn thru an instance is a METHOD",
      "execution_count": 5,
      "outputs": [
        {
          "output_type": "execute_result",
          "execution_count": 5,
          "data": {
            "text/plain": "method"
          },
          "metadata": {}
        }
      ]
    },
    {
      "metadata": {},
      "cell_type": "markdown",
      "source": "context matters"
    },
    {
      "metadata": {
        "state": "normal",
        "trusted": true
      },
      "cell_type": "code",
      "source": "Foo.bar()",
      "execution_count": 6,
      "outputs": [
        {
          "output_type": "stream",
          "text": "Bar called\n",
          "name": "stdout"
        }
      ]
    },
    {
      "metadata": {
        "scrolled": true,
        "state": "normal",
        "trusted": true
      },
      "cell_type": "code",
      "source": "f.bar() \n#bar() takes no arguments which is the error here",
      "execution_count": 7,
      "outputs": [
        {
          "output_type": "error",
          "ename": "TypeError",
          "evalue": "bar() takes 0 positional arguments but 1 was given",
          "traceback": [
            "\u001b[0;31m---------------------------------------------------------------------------\u001b[0m",
            "\u001b[0;31mTypeError\u001b[0m                                 Traceback (most recent call last)",
            "\u001b[0;32m<ipython-input-7-1b3d4bd9b89b>\u001b[0m in \u001b[0;36m<module>\u001b[0;34m\u001b[0m\n\u001b[0;32m----> 1\u001b[0;31m \u001b[0mf\u001b[0m\u001b[0;34m.\u001b[0m\u001b[0mbar\u001b[0m\u001b[0;34m(\u001b[0m\u001b[0;34m)\u001b[0m\u001b[0;34m\u001b[0m\u001b[0;34m\u001b[0m\u001b[0m\n\u001b[0m",
            "\u001b[0;31mTypeError\u001b[0m: bar() takes 0 positional arguments but 1 was given"
          ]
        }
      ]
    },
    {
      "metadata": {
        "state": "normal",
        "trusted": true
      },
      "cell_type": "code",
      "source": "class Foo:\n    def bar(x): #update defn of bar() with a variable\n        print('Bar called with', x)",
      "execution_count": 8,
      "outputs": []
    },
    {
      "metadata": {
        "state": "normal",
        "trusted": true,
        "scrolled": true
      },
      "cell_type": "code",
      "source": "Foo.bar() #doesnt work bc not given a parameter when called",
      "execution_count": 10,
      "outputs": [
        {
          "output_type": "error",
          "ename": "TypeError",
          "evalue": "bar() missing 1 required positional argument: 'x'",
          "traceback": [
            "\u001b[0;31m---------------------------------------------------------------------------\u001b[0m",
            "\u001b[0;31mTypeError\u001b[0m                                 Traceback (most recent call last)",
            "\u001b[0;32m<ipython-input-10-26fc92049827>\u001b[0m in \u001b[0;36m<module>\u001b[0;34m\u001b[0m\n\u001b[0;32m----> 1\u001b[0;31m \u001b[0mFoo\u001b[0m\u001b[0;34m.\u001b[0m\u001b[0mbar\u001b[0m\u001b[0;34m(\u001b[0m\u001b[0;34m)\u001b[0m \u001b[0;31m#doesnt work bc not given a parameter\u001b[0m\u001b[0;34m\u001b[0m\u001b[0;34m\u001b[0m\u001b[0m\n\u001b[0m",
            "\u001b[0;31mTypeError\u001b[0m: bar() missing 1 required positional argument: 'x'"
          ]
        }
      ]
    },
    {
      "metadata": {
        "trusted": true
      },
      "cell_type": "code",
      "source": "Foo.bar(10) #works bc x is 10",
      "execution_count": 11,
      "outputs": [
        {
          "output_type": "stream",
          "text": "Bar called with 10\n",
          "name": "stdout"
        }
      ]
    },
    {
      "metadata": {
        "state": "normal",
        "trusted": true
      },
      "cell_type": "code",
      "source": "f = Foo()\nf.bar()",
      "execution_count": 12,
      "outputs": [
        {
          "output_type": "stream",
          "text": "Bar called with <__main__.Foo object at 0x7f11ec0a8828>\n",
          "name": "stdout"
        }
      ]
    },
    {
      "metadata": {
        "trusted": true
      },
      "cell_type": "code",
      "source": "f",
      "execution_count": 13,
      "outputs": [
        {
          "output_type": "execute_result",
          "execution_count": 13,
          "data": {
            "text/plain": "<__main__.Foo at 0x7f11ec0a8828>"
          },
          "metadata": {}
        }
      ]
    },
    {
      "metadata": {},
      "cell_type": "markdown",
      "source": "every ftn u call thru an object will refer to the object \n+ u have a class Foo() and a ftn bar()\n+ x is 10 when Foo.bar(10)\n\nbut when u do f = Foo()\n+ Foo.bar(f) = f.bar()\n+ when u call a ftn thru an object, u get the output of the ftn using the object as the parameter\n\nwhen we call a method/object thru an object, it'll pass the object thru the method\n+ when we defn a ftn, the first parameter will always refer to the instance/object"
    },
    {
      "metadata": {
        "state": "normal",
        "trusted": true
      },
      "cell_type": "code",
      "source": "class Foo:\n    def bar(self): #self is just a name, it dont matter what it is\n        #it refers to the object itself, like THIS in java\n        self.x = 'Some value'\n        #create an attribute on self n assign it some value",
      "execution_count": 14,
      "outputs": []
    },
    {
      "metadata": {
        "state": "normal",
        "trusted": true
      },
      "cell_type": "code",
      "source": "f = Foo() #create an instance of Foo() thru f\nf.bar() #this means bar(f), meaning the ftn is f.x = 'some value'\nf.x #f.x = 'Some value' ",
      "execution_count": 15,
      "outputs": [
        {
          "output_type": "execute_result",
          "execution_count": 15,
          "data": {
            "text/plain": "'Some value'"
          },
          "metadata": {}
        }
      ]
    },
    {
      "metadata": {
        "trusted": true
      },
      "cell_type": "code",
      "source": "class Foo:\n    def bar(self, val): \n        self.x = val",
      "execution_count": 17,
      "outputs": []
    },
    {
      "metadata": {
        "trusted": true
      },
      "cell_type": "code",
      "source": "f = Foo()\ng = Foo()\nf.bar(10)\ng.bar('hello')",
      "execution_count": 18,
      "outputs": []
    },
    {
      "metadata": {
        "state": "normal",
        "trusted": true
      },
      "cell_type": "code",
      "source": "class Shape:\n    def __init__(self, name):\n        self.name = name\n        \n    def __repr__(self): #give back a value when i inspect it inside my notebook\n        return self.name\n    \n    def __str__(self): #like toString, converts the instance into a string\n        return self.name.upper()\n    \n    def area(self): #fleshes out a class thats not meant to be used\n        raise NotImplementedError()",
      "execution_count": 19,
      "outputs": []
    },
    {
      "metadata": {
        "state": "normal",
        "trusted": true
      },
      "cell_type": "code",
      "source": "s = Shape('circle')\n# circle is passed to name\n# the reference of this shape object is passed to self",
      "execution_count": 20,
      "outputs": []
    },
    {
      "metadata": {
        "trusted": true
      },
      "cell_type": "code",
      "source": "s.name",
      "execution_count": 21,
      "outputs": [
        {
          "output_type": "execute_result",
          "execution_count": 21,
          "data": {
            "text/plain": "'circle'"
          },
          "metadata": {}
        }
      ]
    },
    {
      "metadata": {
        "state": "normal",
        "trusted": true
      },
      "cell_type": "code",
      "source": "s #bc of the __repr__ method, it gives back the name referred to with object s",
      "execution_count": 23,
      "outputs": [
        {
          "output_type": "execute_result",
          "execution_count": 23,
          "data": {
            "text/plain": "circle"
          },
          "metadata": {}
        }
      ]
    },
    {
      "metadata": {
        "state": "normal",
        "trusted": true
      },
      "cell_type": "code",
      "source": "str(s)",
      "execution_count": 24,
      "outputs": [
        {
          "output_type": "execute_result",
          "execution_count": 24,
          "data": {
            "text/plain": "'CIRCLE'"
          },
          "metadata": {}
        }
      ]
    },
    {
      "metadata": {
        "state": "normal",
        "trusted": true
      },
      "cell_type": "code",
      "source": "s.area()",
      "execution_count": 25,
      "outputs": [
        {
          "output_type": "error",
          "ename": "NotImplementedError",
          "evalue": "",
          "traceback": [
            "\u001b[0;31m---------------------------------------------------------------------------\u001b[0m",
            "\u001b[0;31mNotImplementedError\u001b[0m                       Traceback (most recent call last)",
            "\u001b[0;32m<ipython-input-25-88799e7f1f86>\u001b[0m in \u001b[0;36m<module>\u001b[0;34m\u001b[0m\n\u001b[0;32m----> 1\u001b[0;31m \u001b[0ms\u001b[0m\u001b[0;34m.\u001b[0m\u001b[0marea\u001b[0m\u001b[0;34m(\u001b[0m\u001b[0;34m)\u001b[0m\u001b[0;34m\u001b[0m\u001b[0;34m\u001b[0m\u001b[0m\n\u001b[0m",
            "\u001b[0;32m<ipython-input-19-24ae96e78afe>\u001b[0m in \u001b[0;36marea\u001b[0;34m(self)\u001b[0m\n\u001b[1;32m     10\u001b[0m \u001b[0;34m\u001b[0m\u001b[0m\n\u001b[1;32m     11\u001b[0m     \u001b[0;32mdef\u001b[0m \u001b[0marea\u001b[0m\u001b[0;34m(\u001b[0m\u001b[0mself\u001b[0m\u001b[0;34m)\u001b[0m\u001b[0;34m:\u001b[0m\u001b[0;34m\u001b[0m\u001b[0;34m\u001b[0m\u001b[0m\n\u001b[0;32m---> 12\u001b[0;31m         \u001b[0;32mraise\u001b[0m \u001b[0mNotImplementedError\u001b[0m\u001b[0;34m(\u001b[0m\u001b[0;34m)\u001b[0m\u001b[0;34m\u001b[0m\u001b[0;34m\u001b[0m\u001b[0m\n\u001b[0m",
            "\u001b[0;31mNotImplementedError\u001b[0m: "
          ]
        }
      ]
    },
    {
      "metadata": {
        "state": "normal",
        "trusted": true
      },
      "cell_type": "code",
      "source": "class Circle(Shape): #like super and sub class, inherits all the methods\n    def __init__(self, radius): #takes a radius instead of name\n        super().__init__('circle') \n        #u need to write super() to rewrite a method from the subclass\n        self.radius = radius\n    \n    def area(self):\n        return 3.14 * self.radius ** 2",
      "execution_count": 26,
      "outputs": []
    },
    {
      "metadata": {
        "state": "normal",
        "trusted": true
      },
      "cell_type": "code",
      "source": "c = Circle(5.0)\nc #works bc of the repr method from the subclass\nc.area()",
      "execution_count": 30,
      "outputs": [
        {
          "output_type": "execute_result",
          "execution_count": 30,
          "data": {
            "text/plain": "circle"
          },
          "metadata": {}
        },
        {
          "output_type": "execute_result",
          "execution_count": 30,
          "data": {
            "text/plain": "78.5"
          },
          "metadata": {}
        }
      ]
    },
    {
      "metadata": {
        "state": "normal",
        "trusted": true
      },
      "cell_type": "code",
      "source": "class Circle(Shape):\n    def __init__(self, radius):\n        super().__init__('circle')\n        self.radius = radius\n    \n    def area(self):\n        return 3.14 * self.radius ** 2\n    \n    def __eq__(self, other): #called when comparing two objects using the equal sign\n        return isinstance(other, Circle) and self.radius == other.radius\n        #isinstance is a global ftn that returns T if the other circle passed in is also a circle n the two radii is the same\n   \n    def __add__(self, other): \n        if isinstance(other, Circle):\n            return Circle(self.radius + other.radius)\n        #implementing new circle where its radius is the sum of two radii \n        else: \n            raise Exception (\"{} is not a circle\".format(other))\n  \n    def __repr__(self): #overriding the repr method in this super class\n        return 'Circle(r={})'.format(self.radius)\n        #taking radius n replace the {} in the quotes",
      "execution_count": 40,
      "outputs": []
    },
    {
      "metadata": {
        "state": "normal",
        "trusted": true
      },
      "cell_type": "code",
      "source": "# creating 3 new instances of Circle with those values\nc1 = Circle(2.0) \nc2 = Circle(4.0)\nc3 = Circle(2.0)\n\nc1, c2, c3\nc1 == c2\nc1 == c3\nc1 + c2",
      "execution_count": 41,
      "outputs": [
        {
          "output_type": "execute_result",
          "execution_count": 41,
          "data": {
            "text/plain": "(Circle(r=2.0), Circle(r=4.0), Circle(r=2.0))"
          },
          "metadata": {}
        },
        {
          "output_type": "execute_result",
          "execution_count": 41,
          "data": {
            "text/plain": "False"
          },
          "metadata": {}
        },
        {
          "output_type": "execute_result",
          "execution_count": 41,
          "data": {
            "text/plain": "True"
          },
          "metadata": {}
        },
        {
          "output_type": "execute_result",
          "execution_count": 41,
          "data": {
            "text/plain": "Circle(r=6.0)"
          },
          "metadata": {}
        }
      ]
    },
    {
      "metadata": {},
      "cell_type": "markdown",
      "source": "c1 and c2's values aren't change after running the above code"
    },
    {
      "metadata": {
        "trusted": true
      },
      "cell_type": "code",
      "source": "c1 == 'hello'",
      "execution_count": 42,
      "outputs": [
        {
          "output_type": "execute_result",
          "execution_count": 42,
          "data": {
            "text/plain": "False"
          },
          "metadata": {}
        }
      ]
    },
    {
      "metadata": {
        "trusted": true
      },
      "cell_type": "code",
      "source": "c1.__eq__('hello')",
      "execution_count": 43,
      "outputs": [
        {
          "output_type": "execute_result",
          "execution_count": 43,
          "data": {
            "text/plain": "False"
          },
          "metadata": {}
        }
      ]
    },
    {
      "metadata": {
        "trusted": true
      },
      "cell_type": "code",
      "source": "c1 + 'hello' #error bc we didnt check if 'hello' is a circle",
      "execution_count": 35,
      "outputs": [
        {
          "output_type": "error",
          "ename": "AttributeError",
          "evalue": "'str' object has no attribute 'radius'",
          "traceback": [
            "\u001b[0;31m---------------------------------------------------------------------------\u001b[0m",
            "\u001b[0;31mAttributeError\u001b[0m                            Traceback (most recent call last)",
            "\u001b[0;32m<ipython-input-35-bb49bbcbb774>\u001b[0m in \u001b[0;36m<module>\u001b[0;34m\u001b[0m\n\u001b[0;32m----> 1\u001b[0;31m \u001b[0mc1\u001b[0m \u001b[0;34m+\u001b[0m \u001b[0;34m'hello'\u001b[0m\u001b[0;34m\u001b[0m\u001b[0;34m\u001b[0m\u001b[0m\n\u001b[0m",
            "\u001b[0;32m<ipython-input-31-c6b1e7b60564>\u001b[0m in \u001b[0;36m__add__\u001b[0;34m(self, other)\u001b[0m\n\u001b[1;32m     11\u001b[0m         \u001b[0;31m#isinstance is a global ftn that returns T if the other circle passed in is also a circle n the two radii is the same\u001b[0m\u001b[0;34m\u001b[0m\u001b[0;34m\u001b[0m\u001b[0;34m\u001b[0m\u001b[0m\n\u001b[1;32m     12\u001b[0m     \u001b[0;32mdef\u001b[0m \u001b[0m__add__\u001b[0m\u001b[0;34m(\u001b[0m\u001b[0mself\u001b[0m\u001b[0;34m,\u001b[0m \u001b[0mother\u001b[0m\u001b[0;34m)\u001b[0m\u001b[0;34m:\u001b[0m \u001b[0;31m#plus\u001b[0m\u001b[0;34m\u001b[0m\u001b[0;34m\u001b[0m\u001b[0m\n\u001b[0;32m---> 13\u001b[0;31m         \u001b[0;32mreturn\u001b[0m \u001b[0mCircle\u001b[0m\u001b[0;34m(\u001b[0m\u001b[0mself\u001b[0m\u001b[0;34m.\u001b[0m\u001b[0mradius\u001b[0m \u001b[0;34m+\u001b[0m \u001b[0mother\u001b[0m\u001b[0;34m.\u001b[0m\u001b[0mradius\u001b[0m\u001b[0;34m)\u001b[0m\u001b[0;34m\u001b[0m\u001b[0;34m\u001b[0m\u001b[0m\n\u001b[0m\u001b[1;32m     14\u001b[0m         \u001b[0;31m#implementing new circle where its radius is the sum of two radii\u001b[0m\u001b[0;34m\u001b[0m\u001b[0;34m\u001b[0m\u001b[0;34m\u001b[0m\u001b[0m\n\u001b[1;32m     15\u001b[0m     \u001b[0;32mdef\u001b[0m \u001b[0m__repr__\u001b[0m\u001b[0;34m(\u001b[0m\u001b[0mself\u001b[0m\u001b[0;34m)\u001b[0m\u001b[0;34m:\u001b[0m \u001b[0;31m#overriding the repr method in this super class\u001b[0m\u001b[0;34m\u001b[0m\u001b[0;34m\u001b[0m\u001b[0m\n",
            "\u001b[0;31mAttributeError\u001b[0m: 'str' object has no attribute 'radius'"
          ]
        }
      ]
    },
    {
      "metadata": {
        "trusted": true,
        "scrolled": true
      },
      "cell_type": "code",
      "source": "c1 + 'hello' #ran after editing the code from above",
      "execution_count": 44,
      "outputs": [
        {
          "output_type": "error",
          "ename": "Exception",
          "evalue": "hello is not a circle",
          "traceback": [
            "\u001b[0;31m---------------------------------------------------------------------------\u001b[0m",
            "\u001b[0;31mException\u001b[0m                                 Traceback (most recent call last)",
            "\u001b[0;32m<ipython-input-44-4d7c171e9d0b>\u001b[0m in \u001b[0;36m<module>\u001b[0;34m\u001b[0m\n\u001b[0;32m----> 1\u001b[0;31m \u001b[0mc1\u001b[0m \u001b[0;34m+\u001b[0m \u001b[0;34m'hello'\u001b[0m \u001b[0;31m#ran after editing the code from above\u001b[0m\u001b[0;34m\u001b[0m\u001b[0;34m\u001b[0m\u001b[0m\n\u001b[0m",
            "\u001b[0;32m<ipython-input-40-b0406674e20b>\u001b[0m in \u001b[0;36m__add__\u001b[0;34m(self, other)\u001b[0m\n\u001b[1;32m     16\u001b[0m         \u001b[0;31m#implementing new circle where its radius is the sum of two radii\u001b[0m\u001b[0;34m\u001b[0m\u001b[0;34m\u001b[0m\u001b[0;34m\u001b[0m\u001b[0m\n\u001b[1;32m     17\u001b[0m         \u001b[0;32melse\u001b[0m\u001b[0;34m:\u001b[0m\u001b[0;34m\u001b[0m\u001b[0;34m\u001b[0m\u001b[0m\n\u001b[0;32m---> 18\u001b[0;31m             \u001b[0;32mraise\u001b[0m \u001b[0mException\u001b[0m \u001b[0;34m(\u001b[0m\u001b[0;34m\"{} is not a circle\"\u001b[0m\u001b[0;34m.\u001b[0m\u001b[0mformat\u001b[0m\u001b[0;34m(\u001b[0m\u001b[0mother\u001b[0m\u001b[0;34m)\u001b[0m\u001b[0;34m)\u001b[0m\u001b[0;34m\u001b[0m\u001b[0;34m\u001b[0m\u001b[0m\n\u001b[0m\u001b[1;32m     19\u001b[0m \u001b[0;34m\u001b[0m\u001b[0m\n\u001b[1;32m     20\u001b[0m     \u001b[0;32mdef\u001b[0m \u001b[0m__repr__\u001b[0m\u001b[0;34m(\u001b[0m\u001b[0mself\u001b[0m\u001b[0;34m)\u001b[0m\u001b[0;34m:\u001b[0m \u001b[0;31m#overriding the repr method in this super class\u001b[0m\u001b[0;34m\u001b[0m\u001b[0;34m\u001b[0m\u001b[0m\n",
            "\u001b[0;31mException\u001b[0m: hello is not a circle"
          ]
        }
      ]
    }
  ],
  "metadata": {
    "kernelspec": {
      "name": "python3",
      "display_name": "Python 3",
      "language": "python"
    },
    "language_info": {
      "name": "python",
      "version": "3.7.3",
      "mimetype": "text/x-python",
      "codemirror_mode": {
        "name": "ipython",
        "version": 3
      },
      "pygments_lexer": "ipython3",
      "nbconvert_exporter": "python",
      "file_extension": ".py"
    },
    "mimir": {
      "project_id": "e69bccd3-2a3c-450c-ac11-757d9dddaebd",
      "last_submission_id": "",
      "data": {}
    },
    "varInspector": {
      "window_display": false,
      "cols": {
        "lenName": 16,
        "lenType": 16,
        "lenVar": 40
      },
      "kernels_config": {
        "python": {
          "library": "var_list.py",
          "delete_cmd_prefix": "del ",
          "delete_cmd_postfix": "",
          "varRefreshCmd": "print(var_dic_list())"
        },
        "r": {
          "library": "var_list.r",
          "delete_cmd_prefix": "rm(",
          "delete_cmd_postfix": ") ",
          "varRefreshCmd": "cat(var_dic_list()) "
        }
      },
      "types_to_exclude": [
        "module",
        "function",
        "builtin_function_or_method",
        "instance",
        "_Feature"
      ]
    }
  },
  "nbformat": 4,
  "nbformat_minor": 2
}