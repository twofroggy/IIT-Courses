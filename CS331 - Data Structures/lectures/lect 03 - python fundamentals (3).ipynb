{
  "cells": [
    {
      "metadata": {
        "state": "normal"
      },
      "cell_type": "markdown",
      "source": "# Python Language Intro (Part 3)"
    },
    {
      "metadata": {
        "state": "normal"
      },
      "cell_type": "markdown",
      "source": "## Agenda\n\n1. Language overview\n2. White space sensitivity\n3. Basic Types and Operations\n4. Statements & Control Structures\n5. Functions\n6. OOP (Classes, Methods, etc.)\n7. Immutable Sequence Types (Strings, Ranges, Tuples)\n8. Mutable data structures: Lists, Sets, Dictionaries"
    },
    {
      "metadata": {
        "state": "normal",
        "trusted": true
      },
      "cell_type": "code",
      "source": "# by default, only the result of the last expression in a cell is displayed after evaluation.\n# the following forces display of *all* self-standing expressions in a cell.\n\nfrom IPython.core.interactiveshell import InteractiveShell\nInteractiveShell.ast_node_interactivity = \"all\"",
      "execution_count": 1,
      "outputs": []
    },
    {
      "metadata": {
        "state": "normal"
      },
      "cell_type": "markdown",
      "source": "## 7. Immutable Sequence Types: Strings, Ranges, Tuples"
    },
    {
      "metadata": {
        "state": "normal"
      },
      "cell_type": "markdown",
      "source": "Recall: All immutable sequences support the [common sequence operations](https://docs.python.org/3/library/stdtypes.html#common-sequence-operations). For many sequence types, there are constructors that allow us to create them from other sequence types."
    },
    {
      "metadata": {
        "state": "normal"
      },
      "cell_type": "markdown",
      "source": "### Strings"
    },
    {
      "metadata": {
        "state": "normal",
        "trusted": true
      },
      "cell_type": "code",
      "source": "'hello'",
      "execution_count": 2,
      "outputs": [
        {
          "data": {
            "text/plain": "'hello'"
          },
          "execution_count": 2,
          "metadata": {},
          "output_type": "execute_result"
        }
      ]
    },
    {
      "metadata": {
        "state": "normal"
      },
      "cell_type": "markdown",
      "source": "you can get the length, substring, etc"
    },
    {
      "metadata": {
        "state": "normal"
      },
      "cell_type": "markdown",
      "source": "### Ranges"
    },
    {
      "metadata": {
        "state": "normal",
        "trusted": true
      },
      "cell_type": "code",
      "source": "range(10)",
      "execution_count": 3,
      "outputs": [
        {
          "data": {
            "text/plain": "range(0, 10)"
          },
          "execution_count": 3,
          "metadata": {},
          "output_type": "execute_result"
        }
      ]
    },
    {
      "metadata": {
        "state": "normal",
        "trusted": true
      },
      "cell_type": "code",
      "source": "range(10, 20)",
      "execution_count": 4,
      "outputs": [
        {
          "data": {
            "text/plain": "range(10, 20)"
          },
          "execution_count": 4,
          "metadata": {},
          "output_type": "execute_result"
        }
      ]
    },
    {
      "metadata": {
        "state": "normal",
        "trusted": true
      },
      "cell_type": "code",
      "source": "range(20, 50, 5)",
      "execution_count": 5,
      "outputs": [
        {
          "data": {
            "text/plain": "range(20, 50, 5)"
          },
          "execution_count": 5,
          "metadata": {},
          "output_type": "execute_result"
        }
      ]
    },
    {
      "metadata": {
        "state": "normal",
        "trusted": true
      },
      "cell_type": "code",
      "source": "range(10, 0, -1)",
      "execution_count": 6,
      "outputs": [
        {
          "data": {
            "text/plain": "range(10, 0, -1)"
          },
          "execution_count": 6,
          "metadata": {},
          "output_type": "execute_result"
        }
      ]
    },
    {
      "metadata": {
        "state": "normal"
      },
      "cell_type": "markdown",
      "source": "### Tuples"
    },
    {
      "metadata": {
        "state": "normal",
        "trusted": true
      },
      "cell_type": "code",
      "source": "()",
      "execution_count": 7,
      "outputs": [
        {
          "data": {
            "text/plain": "()"
          },
          "execution_count": 7,
          "metadata": {},
          "output_type": "execute_result"
        }
      ]
    },
    {
      "metadata": {
        "state": "normal",
        "trusted": true
      },
      "cell_type": "code",
      "source": "(1, 2, 3)",
      "execution_count": 8,
      "outputs": [
        {
          "data": {
            "text/plain": "(1, 2, 3)"
          },
          "execution_count": 8,
          "metadata": {},
          "output_type": "execute_result"
        }
      ]
    },
    {
      "metadata": {
        "state": "normal",
        "trusted": true
      },
      "cell_type": "code",
      "source": "('a', 10, False, 'hello')",
      "execution_count": 9,
      "outputs": [
        {
          "data": {
            "text/plain": "('a', 10, False, 'hello')"
          },
          "execution_count": 9,
          "metadata": {},
          "output_type": "execute_result"
        }
      ]
    },
    {
      "metadata": {
        "state": "normal",
        "trusted": true
      },
      "cell_type": "code",
      "source": "tuple(range(10))",
      "execution_count": 10,
      "outputs": [
        {
          "data": {
            "text/plain": "(0, 1, 2, 3, 4, 5, 6, 7, 8, 9)"
          },
          "execution_count": 10,
          "metadata": {},
          "output_type": "execute_result"
        }
      ]
    },
    {
      "metadata": {
        "state": "normal",
        "trusted": true
      },
      "cell_type": "code",
      "source": "tuple('hello')",
      "execution_count": 11,
      "outputs": [
        {
          "data": {
            "text/plain": "('h', 'e', 'l', 'l', 'o')"
          },
          "execution_count": 11,
          "metadata": {},
          "output_type": "execute_result"
        }
      ]
    },
    {
      "metadata": {
        "state": "normal"
      },
      "cell_type": "markdown",
      "source": "str, ranges, tuples r all immutable: cannot be changed once created\n\n+ makes them more useful bc passing around a string cannot be used when being referenced\n+ stable, but mutability is useful\n+ handing a mutable reference to someone else, they can alter that structure"
    },
    {
      "metadata": {
        "state": "normal"
      },
      "cell_type": "markdown",
      "source": "## 8. Mutable data structures: Lists, Sets, Dicts"
    },
    {
      "metadata": {
        "state": "normal"
      },
      "cell_type": "markdown",
      "source": "### Lists"
    },
    {
      "metadata": {
        "state": "normal"
      },
      "cell_type": "markdown",
      "source": "This list supports  the [mutable sequence operations](https://docs.python.org/3/library/stdtypes.html#mutable-sequence-types) in addition to the [common sequence operations](https://docs.python.org/3/library/stdtypes.html#common-sequence-operations)."
    },
    {
      "metadata": {
        "state": "normal",
        "trusted": true
      },
      "cell_type": "code",
      "source": "l = [1, 2, 1, 1, 2, 3, 3, 1]",
      "execution_count": 12,
      "outputs": []
    },
    {
      "metadata": {
        "state": "normal",
        "trusted": true
      },
      "cell_type": "code",
      "source": "len(l)",
      "execution_count": 13,
      "outputs": [
        {
          "data": {
            "text/plain": "8"
          },
          "execution_count": 13,
          "metadata": {},
          "output_type": "execute_result"
        }
      ]
    },
    {
      "metadata": {
        "state": "normal",
        "trusted": true
      },
      "cell_type": "code",
      "source": "l[5]",
      "execution_count": 14,
      "outputs": [
        {
          "data": {
            "text/plain": "3"
          },
          "execution_count": 14,
          "metadata": {},
          "output_type": "execute_result"
        }
      ]
    },
    {
      "metadata": {
        "state": "normal",
        "trusted": true
      },
      "cell_type": "code",
      "source": "l[1:-1]",
      "execution_count": 15,
      "outputs": [
        {
          "data": {
            "text/plain": "[2, 1, 1, 2, 3, 3]"
          },
          "execution_count": 15,
          "metadata": {},
          "output_type": "execute_result"
        }
      ]
    },
    {
      "metadata": {
        "state": "normal",
        "trusted": true
      },
      "cell_type": "code",
      "source": "l + ['hello', 'world']",
      "execution_count": 16,
      "outputs": [
        {
          "data": {
            "text/plain": "[1, 2, 1, 1, 2, 3, 3, 1, 'hello', 'world']"
          },
          "execution_count": 16,
          "metadata": {},
          "output_type": "execute_result"
        }
      ]
    },
    {
      "metadata": {
        "state": "normal",
        "trusted": true
      },
      "cell_type": "code",
      "source": "l # `+` does *not* mutate the list!",
      "execution_count": 17,
      "outputs": [
        {
          "data": {
            "text/plain": "[1, 2, 1, 1, 2, 3, 3, 1]"
          },
          "execution_count": 17,
          "metadata": {},
          "output_type": "execute_result"
        }
      ]
    },
    {
      "metadata": {
        "state": "normal",
        "trusted": true
      },
      "cell_type": "code",
      "source": "l * 3",
      "execution_count": 18,
      "outputs": [
        {
          "data": {
            "text/plain": "[1, 2, 1, 1, 2, 3, 3, 1, 1, 2, 1, 1, 2, 3, 3, 1, 1, 2, 1, 1, 2, 3, 3, 1]"
          },
          "execution_count": 18,
          "metadata": {},
          "output_type": "execute_result"
        }
      ]
    },
    {
      "metadata": {
        "state": "normal",
        "trusted": true
      },
      "cell_type": "code",
      "source": "sum = 0\nfor x in l:\n    sum += x\nsum",
      "execution_count": 19,
      "outputs": [
        {
          "data": {
            "text/plain": "14"
          },
          "execution_count": 19,
          "metadata": {},
          "output_type": "execute_result"
        }
      ]
    },
    {
      "metadata": {
        "state": "normal"
      },
      "cell_type": "markdown",
      "source": "#### Mutable list operations"
    },
    {
      "metadata": {
        "state": "normal",
        "trusted": true
      },
      "cell_type": "code",
      "source": "l = list('hell')",
      "execution_count": 20,
      "outputs": []
    },
    {
      "metadata": {
        "state": "normal",
        "trusted": true
      },
      "cell_type": "code",
      "source": "l.append('o')",
      "execution_count": 21,
      "outputs": []
    },
    {
      "metadata": {
        "state": "normal"
      },
      "cell_type": "markdown",
      "source": "different from l += 'o' because this creates a new string from the original string"
    },
    {
      "metadata": {
        "state": "normal",
        "trusted": true
      },
      "cell_type": "code",
      "source": "l",
      "execution_count": 22,
      "outputs": [
        {
          "data": {
            "text/plain": "['h', 'e', 'l', 'l', 'o']"
          },
          "execution_count": 22,
          "metadata": {},
          "output_type": "execute_result"
        }
      ]
    },
    {
      "metadata": {
        "state": "normal",
        "trusted": true
      },
      "cell_type": "code",
      "source": "l.append(' there')",
      "execution_count": 23,
      "outputs": []
    },
    {
      "metadata": {
        "state": "normal",
        "trusted": true
      },
      "cell_type": "code",
      "source": "l",
      "execution_count": 24,
      "outputs": [
        {
          "data": {
            "text/plain": "['h', 'e', 'l', 'l', 'o', ' there']"
          },
          "execution_count": 24,
          "metadata": {},
          "output_type": "execute_result"
        }
      ]
    },
    {
      "metadata": {
        "state": "normal",
        "trusted": true
      },
      "cell_type": "code",
      "source": "del l[-1]",
      "execution_count": 25,
      "outputs": []
    },
    {
      "metadata": {
        "state": "normal",
        "trusted": true
      },
      "cell_type": "code",
      "source": "l.extend(' there')",
      "execution_count": 26,
      "outputs": []
    },
    {
      "metadata": {
        "state": "normal",
        "trusted": true
      },
      "cell_type": "code",
      "source": "l",
      "execution_count": 27,
      "outputs": [
        {
          "data": {
            "text/plain": "['h', 'e', 'l', 'l', 'o', ' ', 't', 'h', 'e', 'r', 'e']"
          },
          "execution_count": 27,
          "metadata": {},
          "output_type": "execute_result"
        }
      ]
    },
    {
      "metadata": {
        "state": "normal",
        "trusted": true
      },
      "cell_type": "code",
      "source": "l[2:7]",
      "execution_count": 28,
      "outputs": [
        {
          "data": {
            "text/plain": "['l', 'l', 'o', ' ', 't']"
          },
          "execution_count": 28,
          "metadata": {},
          "output_type": "execute_result"
        }
      ]
    },
    {
      "metadata": {
        "state": "normal",
        "trusted": true
      },
      "cell_type": "code",
      "source": "del l[2:7]",
      "execution_count": 29,
      "outputs": []
    },
    {
      "metadata": {
        "state": "normal",
        "trusted": true
      },
      "cell_type": "code",
      "source": "l",
      "execution_count": 30,
      "outputs": [
        {
          "data": {
            "text/plain": "['h', 'e', 'h', 'e', 'r', 'e']"
          },
          "execution_count": 30,
          "metadata": {},
          "output_type": "execute_result"
        }
      ]
    },
    {
      "metadata": {
        "state": "normal",
        "trusted": true
      },
      "cell_type": "code",
      "source": "l[:] #shorthand way to create a copy of the list",
      "execution_count": 32,
      "outputs": [
        {
          "data": {
            "text/plain": "['h', 'e', 'h', 'e', 'r', 'e']"
          },
          "execution_count": 32,
          "metadata": {},
          "output_type": "execute_result"
        }
      ]
    },
    {
      "metadata": {
        "state": "normal"
      },
      "cell_type": "markdown",
      "source": "multiples/doubles are possible in lists"
    },
    {
      "metadata": {
        "state": "normal"
      },
      "cell_type": "markdown",
      "source": "#### List comprehensions\n\n+ syntactic sugar for initializing a list"
    },
    {
      "metadata": {
        "state": "normal",
        "trusted": true
      },
      "cell_type": "code",
      "source": "[x for x in range(10)] #syntax for list comprehension",
      "execution_count": 36,
      "outputs": [
        {
          "data": {
            "text/plain": "[0, 1, 2, 3, 4, 5, 6, 7, 8, 9]"
          },
          "execution_count": 36,
          "metadata": {},
          "output_type": "execute_result"
        }
      ]
    },
    {
      "metadata": {
        "state": "normal",
        "trusted": true
      },
      "cell_type": "code",
      "source": "[2*x+1 for x in range(10)] # odd numbers\n#each value of x from range(10) is placed into 2*x+1",
      "execution_count": 37,
      "outputs": [
        {
          "data": {
            "text/plain": "[1, 3, 5, 7, 9, 11, 13, 15, 17, 19]"
          },
          "execution_count": 37,
          "metadata": {},
          "output_type": "execute_result"
        }
      ]
    },
    {
      "metadata": {
        "trusted": true,
        "state": "normal"
      },
      "cell_type": "code",
      "source": "#u can make it a tuple n individual lists too (a list of lists)\n[[x, x+1, x+2] for x in range(10)]",
      "execution_count": 39,
      "outputs": [
        {
          "data": {
            "text/plain": "[[0, 1, 2],\n [1, 2, 3],\n [2, 3, 4],\n [3, 4, 5],\n [4, 5, 6],\n [5, 6, 7],\n [6, 7, 8],\n [7, 8, 9],\n [8, 9, 10],\n [9, 10, 11]]"
          },
          "execution_count": 39,
          "metadata": {},
          "output_type": "execute_result"
        }
      ]
    },
    {
      "metadata": {
        "state": "normal",
        "trusted": true
      },
      "cell_type": "code",
      "source": "# pythagorean triples\nn = 50\n#(a, b, c) is defining it as a tuple upfront\n[(a,b,c) for a in range(1,n) \n         for b in range(a,n) \n         for c in range(b,n) \n         if a**2 + b**2 == c**2]",
      "execution_count": 38,
      "outputs": [
        {
          "data": {
            "text/plain": "[(3, 4, 5),\n (5, 12, 13),\n (6, 8, 10),\n (7, 24, 25),\n (8, 15, 17),\n (9, 12, 15),\n (9, 40, 41),\n (10, 24, 26),\n (12, 16, 20),\n (12, 35, 37),\n (15, 20, 25),\n (15, 36, 39),\n (16, 30, 34),\n (18, 24, 30),\n (20, 21, 29),\n (21, 28, 35),\n (24, 32, 40),\n (27, 36, 45)]"
          },
          "execution_count": 38,
          "metadata": {},
          "output_type": "execute_result"
        }
      ]
    },
    {
      "metadata": {
        "state": "normal",
        "trusted": true
      },
      "cell_type": "code",
      "source": "adjs = ('hot', 'blue', 'quick')\nnouns = ('table', 'fox', 'sky')\nphrases = []\nfor adj in adjs:\n    for noun in nouns:\n        phrases.append(adj + ' ' + noun)",
      "execution_count": 41,
      "outputs": []
    },
    {
      "metadata": {
        "state": "normal",
        "trusted": true
      },
      "cell_type": "code",
      "source": "phrases",
      "execution_count": 42,
      "outputs": [
        {
          "data": {
            "text/plain": "['hot table',\n 'hot fox',\n 'hot sky',\n 'blue table',\n 'blue fox',\n 'blue sky',\n 'quick table',\n 'quick fox',\n 'quick sky']"
          },
          "execution_count": 42,
          "metadata": {},
          "output_type": "execute_result"
        }
      ]
    },
    {
      "metadata": {
        "state": "normal",
        "trusted": true
      },
      "cell_type": "code",
      "source": "nps = [adj + ' ' + noun for adj in adjs for noun in nouns] \n#a much more legible way to write list comprehensions",
      "execution_count": 43,
      "outputs": []
    },
    {
      "metadata": {
        "scrolled": true,
        "trusted": true,
        "state": "normal"
      },
      "cell_type": "code",
      "source": "nps",
      "execution_count": 44,
      "outputs": [
        {
          "data": {
            "text/plain": "['hot table',\n 'hot fox',\n 'hot sky',\n 'blue table',\n 'blue fox',\n 'blue sky',\n 'quick table',\n 'quick fox',\n 'quick sky']"
          },
          "execution_count": 44,
          "metadata": {},
          "output_type": "execute_result"
        }
      ]
    },
    {
      "metadata": {
        "trusted": true,
        "state": "normal"
      },
      "cell_type": "code",
      "source": "nps.sort(reverse=True) #if just .sort() will be ascending order",
      "execution_count": 45,
      "outputs": []
    },
    {
      "metadata": {
        "state": "normal"
      },
      "cell_type": "markdown",
      "source": "theres a sort algorithm in the background"
    },
    {
      "metadata": {
        "trusted": true,
        "state": "normal"
      },
      "cell_type": "code",
      "source": "nps #descending order now",
      "execution_count": 46,
      "outputs": [
        {
          "data": {
            "text/plain": "['quick table',\n 'quick sky',\n 'quick fox',\n 'hot table',\n 'hot sky',\n 'hot fox',\n 'blue table',\n 'blue sky',\n 'blue fox']"
          },
          "execution_count": 46,
          "metadata": {},
          "output_type": "execute_result"
        }
      ]
    },
    {
      "metadata": {
        "state": "normal"
      },
      "cell_type": "markdown",
      "source": "### Sets"
    },
    {
      "metadata": {
        "state": "normal"
      },
      "cell_type": "markdown",
      "source": "A [set](https://docs.python.org/3.7/library/stdtypes.html#set-types-set-frozenset) is a data structure that represents an *unordered* collection of unique objects (like the mathematical set). \n+ the order of items when making a set is lost, automatically deduplicates/unique-cify the items given\n+ typed with {} when lists is typed with []"
    },
    {
      "metadata": {
        "state": "normal",
        "trusted": true
      },
      "cell_type": "code",
      "source": "s = {1, 2, 1, 1, 2, 3, 3, 1}",
      "execution_count": 47,
      "outputs": []
    },
    {
      "metadata": {
        "state": "normal",
        "trusted": true
      },
      "cell_type": "code",
      "source": "s ",
      "execution_count": 50,
      "outputs": [
        {
          "data": {
            "text/plain": "{1, 2, 3}"
          },
          "execution_count": 50,
          "metadata": {},
          "output_type": "execute_result"
        }
      ]
    },
    {
      "metadata": {
        "scrolled": true,
        "trusted": true,
        "state": "normal"
      },
      "cell_type": "code",
      "source": "s[0] #an error bc u cannot get an instant of a set",
      "execution_count": 51,
      "outputs": [
        {
          "ename": "TypeError",
          "evalue": "'set' object is not subscriptable",
          "output_type": "error",
          "traceback": [
            "\u001b[0;31m---------------------------------------------------------------------------\u001b[0m",
            "\u001b[0;31mTypeError\u001b[0m                                 Traceback (most recent call last)",
            "\u001b[0;32m<ipython-input-51-4930d534843b>\u001b[0m in \u001b[0;36m<module>\u001b[0;34m\u001b[0m\n\u001b[0;32m----> 1\u001b[0;31m \u001b[0ms\u001b[0m\u001b[0;34m[\u001b[0m\u001b[0;36m0\u001b[0m\u001b[0;34m]\u001b[0m \u001b[0;31m#an error bc u cannot get an instant of a set\u001b[0m\u001b[0;34m\u001b[0m\u001b[0;34m\u001b[0m\u001b[0m\n\u001b[0m",
            "\u001b[0;31mTypeError\u001b[0m: 'set' object is not subscriptable"
          ]
        }
      ]
    },
    {
      "metadata": {
        "trusted": true,
        "state": "normal"
      },
      "cell_type": "code",
      "source": "for x in s: \n    print(x)\n#order is not guaranteed ",
      "execution_count": 52,
      "outputs": [
        {
          "name": "stdout",
          "output_type": "stream",
          "text": "1\n2\n3\n"
        }
      ]
    },
    {
      "metadata": {
        "trusted": true,
        "state": "normal"
      },
      "cell_type": "code",
      "source": "l = [1, 2, 1, 1, 2, 3, 3, 1]",
      "execution_count": 55,
      "outputs": []
    },
    {
      "metadata": {
        "trusted": true,
        "state": "normal"
      },
      "cell_type": "code",
      "source": "l",
      "execution_count": 56,
      "outputs": [
        {
          "data": {
            "text/plain": "[1, 2, 1, 1, 2, 3, 3, 1]"
          },
          "execution_count": 56,
          "metadata": {},
          "output_type": "execute_result"
        }
      ]
    },
    {
      "metadata": {
        "state": "normal"
      },
      "cell_type": "markdown",
      "source": "to get rid of duplicates in a list, you would do the following"
    },
    {
      "metadata": {
        "trusted": true,
        "state": "normal"
      },
      "cell_type": "code",
      "source": "l = list(set(l))",
      "execution_count": 57,
      "outputs": []
    },
    {
      "metadata": {
        "trusted": true,
        "state": "normal"
      },
      "cell_type": "code",
      "source": "l",
      "execution_count": 58,
      "outputs": [
        {
          "data": {
            "text/plain": "[1, 2, 3]"
          },
          "execution_count": 58,
          "metadata": {},
          "output_type": "execute_result"
        }
      ]
    },
    {
      "metadata": {
        "state": "normal",
        "trusted": true
      },
      "cell_type": "code",
      "source": "t = {2, 3, 4, 5} #and s = {1, 2, 3}",
      "execution_count": 59,
      "outputs": []
    },
    {
      "metadata": {
        "state": "normal"
      },
      "cell_type": "markdown",
      "source": "union, difference, intersection are methods supported by set types "
    },
    {
      "metadata": {
        "state": "normal",
        "trusted": true
      },
      "cell_type": "code",
      "source": "s.union(t) #creating the valuing of s",
      "execution_count": 60,
      "outputs": [
        {
          "data": {
            "text/plain": "{1, 2, 3, 4, 5}"
          },
          "execution_count": 60,
          "metadata": {},
          "output_type": "execute_result"
        }
      ]
    },
    {
      "metadata": {
        "state": "normal",
        "trusted": true
      },
      "cell_type": "code",
      "source": "s.difference(t) #same as s - t, performing the difference operator",
      "execution_count": 61,
      "outputs": [
        {
          "data": {
            "text/plain": "{1}"
          },
          "execution_count": 61,
          "metadata": {},
          "output_type": "execute_result"
        }
      ]
    },
    {
      "metadata": {
        "state": "normal",
        "trusted": true
      },
      "cell_type": "code",
      "source": "s.intersection(t)",
      "execution_count": 62,
      "outputs": [
        {
          "data": {
            "text/plain": "{2, 3}"
          },
          "execution_count": 62,
          "metadata": {},
          "output_type": "execute_result"
        }
      ]
    },
    {
      "metadata": {
        "trusted": true,
        "state": "normal"
      },
      "cell_type": "code",
      "source": "{ (n//2) for n in range (10)} \n#only unique answers, can be converted to a list using list[] ",
      "execution_count": 66,
      "outputs": [
        {
          "data": {
            "text/plain": "{0, 1, 2, 3, 4}"
          },
          "execution_count": 66,
          "metadata": {},
          "output_type": "execute_result"
        }
      ]
    },
    {
      "metadata": {
        "trusted": true,
        "state": "normal"
      },
      "cell_type": "code",
      "source": "[(n//2) for n in range (10)]",
      "execution_count": 67,
      "outputs": [
        {
          "data": {
            "text/plain": "[0, 0, 1, 1, 2, 2, 3, 3, 4, 4]"
          },
          "execution_count": 67,
          "metadata": {},
          "output_type": "execute_result"
        }
      ]
    },
    {
      "metadata": {
        "state": "normal"
      },
      "cell_type": "markdown",
      "source": "### Dicts"
    },
    {
      "metadata": {
        "state": "normal"
      },
      "cell_type": "markdown",
      "source": "A [dictionary](https://docs.python.org/3/library/stdtypes.html#mapping-types-dict) is a data structure that contains a set of unique key &rarr; value mappings. (set implies uniqueness)\n+ set n dict uses {}, but dict uses colons "
    },
    {
      "metadata": {
        "state": "normal",
        "trusted": true
      },
      "cell_type": "code",
      "source": "d = {\n    'Superman':  'Clark Kent',\n    'Batman':    'Bruce Wayne',\n    'Spiderman': 'Peter Parker',\n    'Ironman':   'Tony Stark'\n}",
      "execution_count": 68,
      "outputs": []
    },
    {
      "metadata": {
        "state": "normal",
        "trusted": true
      },
      "cell_type": "code",
      "source": "d['Ironman'] #numeric indexes would not work\n#keys are unique, indexes are not",
      "execution_count": 71,
      "outputs": [
        {
          "data": {
            "text/plain": "'Tony Stark'"
          },
          "execution_count": 71,
          "metadata": {},
          "output_type": "execute_result"
        }
      ]
    },
    {
      "metadata": {
        "trusted": true,
        "state": "normal"
      },
      "cell_type": "code",
      "source": "d[0] #does not exist",
      "execution_count": 70,
      "outputs": [
        {
          "ename": "KeyError",
          "evalue": "0",
          "output_type": "error",
          "traceback": [
            "\u001b[0;31m---------------------------------------------------------------------------\u001b[0m",
            "\u001b[0;31mKeyError\u001b[0m                                  Traceback (most recent call last)",
            "\u001b[0;32m<ipython-input-70-d28ae89ac86d>\u001b[0m in \u001b[0;36m<module>\u001b[0;34m\u001b[0m\n\u001b[0;32m----> 1\u001b[0;31m \u001b[0md\u001b[0m\u001b[0;34m[\u001b[0m\u001b[0;36m0\u001b[0m\u001b[0;34m]\u001b[0m \u001b[0;31m#does nost exist\u001b[0m\u001b[0;34m\u001b[0m\u001b[0;34m\u001b[0m\u001b[0m\n\u001b[0m",
            "\u001b[0;31mKeyError\u001b[0m: 0"
          ]
        }
      ]
    },
    {
      "metadata": {
        "trusted": true,
        "state": "normal"
      },
      "cell_type": "code",
      "source": "for x in d: \n    print(x)\n    #u get the key values ",
      "execution_count": 72,
      "outputs": [
        {
          "name": "stdout",
          "output_type": "stream",
          "text": "Superman\nBatman\nSpiderman\nIronman\n"
        }
      ]
    },
    {
      "metadata": {
        "trusted": true,
        "state": "normal"
      },
      "cell_type": "code",
      "source": "for x in d: \n    print(x, '=>', d[x])",
      "execution_count": 73,
      "outputs": [
        {
          "name": "stdout",
          "output_type": "stream",
          "text": "Superman => Clark Kent\nBatman => Bruce Wayne\nSpiderman => Peter Parker\nIronman => Tony Stark\n"
        }
      ]
    },
    {
      "metadata": {
        "trusted": true,
        "state": "normal"
      },
      "cell_type": "code",
      "source": "d.keys()",
      "execution_count": 74,
      "outputs": [
        {
          "data": {
            "text/plain": "dict_keys(['Superman', 'Batman', 'Spiderman', 'Ironman'])"
          },
          "execution_count": 74,
          "metadata": {},
          "output_type": "execute_result"
        }
      ]
    },
    {
      "metadata": {
        "scrolled": true,
        "trusted": true,
        "state": "normal"
      },
      "cell_type": "code",
      "source": "d.values()",
      "execution_count": 75,
      "outputs": [
        {
          "data": {
            "text/plain": "dict_values(['Clark Kent', 'Bruce Wayne', 'Peter Parker', 'Tony Stark'])"
          },
          "execution_count": 75,
          "metadata": {},
          "output_type": "execute_result"
        }
      ]
    },
    {
      "metadata": {
        "trusted": true,
        "state": "normal"
      },
      "cell_type": "code",
      "source": "d.items() #turns into a list",
      "execution_count": 76,
      "outputs": [
        {
          "data": {
            "text/plain": "dict_items([('Superman', 'Clark Kent'), ('Batman', 'Bruce Wayne'), ('Spiderman', 'Peter Parker'), ('Ironman', 'Tony Stark')])"
          },
          "execution_count": 76,
          "metadata": {},
          "output_type": "execute_result"
        }
      ]
    },
    {
      "metadata": {
        "trusted": true,
        "state": "normal"
      },
      "cell_type": "code",
      "source": "for k,v in d.items(): #assigning k&v for the values in d.items, which is a list \n    print(k, '=>', v) #phrases the output the same as before",
      "execution_count": 77,
      "outputs": [
        {
          "name": "stdout",
          "output_type": "stream",
          "text": "Superman => Clark Kent\nBatman => Bruce Wayne\nSpiderman => Peter Parker\nIronman => Tony Stark\n"
        }
      ]
    },
    {
      "metadata": {
        "state": "normal",
        "trusted": true
      },
      "cell_type": "code",
      "source": "d['Ironman'] = 'James Rhodes'",
      "execution_count": null,
      "outputs": []
    },
    {
      "metadata": {
        "state": "normal",
        "trusted": true
      },
      "cell_type": "code",
      "source": "d",
      "execution_count": null,
      "outputs": []
    },
    {
      "metadata": {
        "state": "normal"
      },
      "cell_type": "markdown",
      "source": "#### Dictionary comprehensions"
    },
    {
      "metadata": {
        "state": "normal",
        "trusted": true
      },
      "cell_type": "code",
      "source": "{e:2**e for e in range(0,100,10)} \n# a key followed by a value in the definition ",
      "execution_count": 78,
      "outputs": [
        {
          "data": {
            "text/plain": "{0: 1,\n 10: 1024,\n 20: 1048576,\n 30: 1073741824,\n 40: 1099511627776,\n 50: 1125899906842624,\n 60: 1152921504606846976,\n 70: 1180591620717411303424,\n 80: 1208925819614629174706176,\n 90: 1237940039285380274899124224}"
          },
          "execution_count": 78,
          "metadata": {},
          "output_type": "execute_result"
        }
      ]
    },
    {
      "metadata": {
        "state": "normal",
        "trusted": true
      },
      "cell_type": "code",
      "source": "{x:y for x in range(3) for y in range(10)}\n#x takes on 0 to 2 and y takes on 0 to 9",
      "execution_count": 79,
      "outputs": [
        {
          "data": {
            "text/plain": "{0: 9, 1: 9, 2: 9}"
          },
          "execution_count": 79,
          "metadata": {},
          "output_type": "execute_result"
        }
      ]
    },
    {
      "metadata": {
        "state": "normal"
      },
      "cell_type": "markdown",
      "source": "makes no sense to assign mutliple values to the same keys, so it goes to the last assignment which is 0 to 2 to 9"
    },
    {
      "metadata": {
        "state": "normal",
        "trusted": true
      },
      "cell_type": "code",
      "source": "sentence = 'a man a plan a canal panama'\n{w:w[::-1] for w in sentence.split()}\n#maps a word to the inverse of each word",
      "execution_count": 81,
      "outputs": [
        {
          "data": {
            "text/plain": "{'a': 'a', 'man': 'nam', 'plan': 'nalp', 'canal': 'lanac', 'panama': 'amanap'}"
          },
          "execution_count": 81,
          "metadata": {},
          "output_type": "execute_result"
        }
      ]
    },
    {
      "metadata": {
        "trusted": true
      },
      "cell_type": "code",
      "source": "d = {} #empty dict\nlst = [1, 2, 3] #list declaration\nd[lst] = \"hello\" #associate list to 'hello'\nlst.append(5) #add 5 to lst \nd[[1, 2, 3]] #would u get back hello? or 1, 2, 3, 5 need to be hello now?",
      "execution_count": 82,
      "outputs": [
        {
          "output_type": "error",
          "ename": "TypeError",
          "evalue": "unhashable type: 'list'",
          "traceback": [
            "\u001b[0;31m---------------------------------------------------------------------------\u001b[0m",
            "\u001b[0;31mTypeError\u001b[0m                                 Traceback (most recent call last)",
            "\u001b[0;32m<ipython-input-82-a69cad48d524>\u001b[0m in \u001b[0;36m<module>\u001b[0;34m\u001b[0m\n\u001b[1;32m      1\u001b[0m \u001b[0md\u001b[0m \u001b[0;34m=\u001b[0m \u001b[0;34m{\u001b[0m\u001b[0;34m}\u001b[0m \u001b[0;31m#empty dict\u001b[0m\u001b[0;34m\u001b[0m\u001b[0;34m\u001b[0m\u001b[0m\n\u001b[1;32m      2\u001b[0m \u001b[0mlst\u001b[0m \u001b[0;34m=\u001b[0m \u001b[0;34m[\u001b[0m\u001b[0;36m1\u001b[0m\u001b[0;34m,\u001b[0m \u001b[0;36m2\u001b[0m\u001b[0;34m,\u001b[0m \u001b[0;36m3\u001b[0m\u001b[0;34m]\u001b[0m \u001b[0;31m#list declaration\u001b[0m\u001b[0;34m\u001b[0m\u001b[0;34m\u001b[0m\u001b[0m\n\u001b[0;32m----> 3\u001b[0;31m \u001b[0md\u001b[0m\u001b[0;34m[\u001b[0m\u001b[0mlst\u001b[0m\u001b[0;34m]\u001b[0m \u001b[0;34m=\u001b[0m \u001b[0;34m\"hello\"\u001b[0m \u001b[0;31m#associate list to 'hello'\u001b[0m\u001b[0;34m\u001b[0m\u001b[0;34m\u001b[0m\u001b[0m\n\u001b[0m\u001b[1;32m      4\u001b[0m \u001b[0mlst\u001b[0m\u001b[0;34m.\u001b[0m\u001b[0mappend\u001b[0m\u001b[0;34m(\u001b[0m\u001b[0;36m5\u001b[0m\u001b[0;34m)\u001b[0m \u001b[0;31m#add 5 to lst\u001b[0m\u001b[0;34m\u001b[0m\u001b[0;34m\u001b[0m\u001b[0m\n\u001b[1;32m      5\u001b[0m \u001b[0md\u001b[0m\u001b[0;34m[\u001b[0m\u001b[0;34m[\u001b[0m\u001b[0;36m1\u001b[0m\u001b[0;34m,\u001b[0m \u001b[0;36m2\u001b[0m\u001b[0;34m,\u001b[0m \u001b[0;36m3\u001b[0m\u001b[0;34m]\u001b[0m\u001b[0;34m]\u001b[0m \u001b[0;31m#would u get back hello? or 1, 2, 3, 5 need to be hello now?\u001b[0m\u001b[0;34m\u001b[0m\u001b[0;34m\u001b[0m\u001b[0m\n",
            "\u001b[0;31mTypeError\u001b[0m: unhashable type: 'list'"
          ]
        }
      ]
    },
    {
      "metadata": {},
      "cell_type": "markdown",
      "source": "cannot use a mutable structure for keys in a dictionary, bc u can change a mutable structure while keys are not meant to be changed!!!"
    },
    {
      "metadata": {
        "state": "normal"
      },
      "cell_type": "markdown",
      "source": "## Demo"
    },
    {
      "metadata": {
        "state": "normal",
        "trusted": true
      },
      "cell_type": "code",
      "source": "",
      "execution_count": null,
      "outputs": []
    }
  ],
  "metadata": {
    "kernelspec": {
      "display_name": "Python 3",
      "language": "python",
      "name": "python3"
    },
    "language_info": {
      "codemirror_mode": {
        "name": "ipython",
        "version": 3
      },
      "file_extension": ".py",
      "mimetype": "text/x-python",
      "name": "python",
      "nbconvert_exporter": "python",
      "pygments_lexer": "ipython3",
      "version": "3.7.3"
    },
    "mimir": {
      "project_id": "fdcd18ba-abe0-4c6f-bdc3-fac3e793d782",
      "last_submission_id": "",
      "data": {}
    },
    "varInspector": {
      "cols": {
        "lenName": 16,
        "lenType": 16,
        "lenVar": 40
      },
      "kernels_config": {
        "python": {
          "delete_cmd_postfix": "",
          "delete_cmd_prefix": "del ",
          "library": "var_list.py",
          "varRefreshCmd": "print(var_dic_list())"
        },
        "r": {
          "delete_cmd_postfix": ") ",
          "delete_cmd_prefix": "rm(",
          "library": "var_list.r",
          "varRefreshCmd": "cat(var_dic_list()) "
        }
      },
      "types_to_exclude": [
        "module",
        "function",
        "builtin_function_or_method",
        "instance",
        "_Feature"
      ],
      "window_display": false
    }
  },
  "nbformat": 4,
  "nbformat_minor": 2
}