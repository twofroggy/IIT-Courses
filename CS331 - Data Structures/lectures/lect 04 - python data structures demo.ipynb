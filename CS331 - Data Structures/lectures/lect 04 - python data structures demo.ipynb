{
  "cells": [
    {
      "metadata": {
        "state": "normal"
      },
      "cell_type": "markdown",
      "source": "# Python data structures demo"
    },
    {
      "metadata": {
        "state": "normal"
      },
      "cell_type": "markdown",
      "source": "## Text analysis and generation"
    },
    {
      "metadata": {
        "state": "normal",
        "trusted": true
      },
      "cell_type": "code",
      "source": "import urllib.request\n\nmd_url = 'https://www.gutenberg.org/files/2701/2701-0.txt'\nmd_text = urllib.request.urlopen(md_url).read().decode()\n#opens that site, reads it binarily, n the decode it n refer it to a variable ",
      "execution_count": 1,
      "outputs": []
    },
    {
      "metadata": {
        "trusted": true
      },
      "cell_type": "code",
      "source": "md_text[:100] #first 100 words of the file",
      "execution_count": 3,
      "outputs": [
        {
          "output_type": "execute_result",
          "execution_count": 3,
          "data": {
            "text/plain": "'\\ufeff\\r\\nThe Project Gutenberg EBook of Moby Dick; or The Whale, by Herman\\r\\nMelville\\r\\n\\r\\nThis eBook is for '"
          },
          "metadata": {}
        }
      ]
    },
    {
      "metadata": {
        "state": "normal",
        "trusted": true
      },
      "cell_type": "code",
      "source": "idx = md_text.index('Call me Ishmael') #first line of the first ch",
      "execution_count": 4,
      "outputs": []
    },
    {
      "metadata": {
        "state": "normal",
        "trusted": true
      },
      "cell_type": "code",
      "source": "idx #the index of the first line we searched for just now",
      "execution_count": 6,
      "outputs": [
        {
          "output_type": "execute_result",
          "execution_count": 6,
          "data": {
            "text/plain": "28652"
          },
          "metadata": {}
        }
      ]
    },
    {
      "metadata": {
        "state": "normal",
        "trusted": true
      },
      "cell_type": "code",
      "source": "md_text[idx:idx+100] #give me the first character to the next 100 characters from the start of the index we jsut searched up",
      "execution_count": 9,
      "outputs": [
        {
          "output_type": "execute_result",
          "execution_count": 9,
          "data": {
            "text/plain": "'Call me Ishmael. Some years ago—never mind how long precisely—having\\r\\nlittle or no money in my purse'"
          },
          "metadata": {}
        }
      ]
    },
    {
      "metadata": {
        "state": "normal",
        "trusted": true
      },
      "cell_type": "code",
      "source": "md_text[idx:idx+100].split()\n#split gives u the individual words in the book in the first 100 characters",
      "execution_count": 8,
      "outputs": [
        {
          "output_type": "execute_result",
          "execution_count": 8,
          "data": {
            "text/plain": "['Call',\n 'me',\n 'Ishmael.',\n 'Some',\n 'years',\n 'ago—never',\n 'mind',\n 'how',\n 'long',\n 'precisely—having',\n 'little',\n 'or',\n 'no',\n 'money',\n 'in',\n 'my',\n 'purse']"
          },
          "metadata": {}
        }
      ]
    },
    {
      "metadata": {
        "state": "normal",
        "trusted": true
      },
      "cell_type": "code",
      "source": "md_words = md_text.lower().split()",
      "execution_count": 10,
      "outputs": []
    },
    {
      "metadata": {
        "state": "normal",
        "trusted": true
      },
      "cell_type": "code",
      "source": "len(md_words)",
      "execution_count": 11,
      "outputs": [
        {
          "output_type": "execute_result",
          "execution_count": 11,
          "data": {
            "text/plain": "215830"
          },
          "metadata": {}
        }
      ]
    },
    {
      "metadata": {
        "state": "normal",
        "trusted": true
      },
      "cell_type": "code",
      "source": "md_words_uniq = set(md_words)\nlen(md_words_uniq) #to find the amount of unique words in the text",
      "execution_count": 13,
      "outputs": [
        {
          "output_type": "execute_result",
          "execution_count": 13,
          "data": {
            "text/plain": "31830"
          },
          "metadata": {}
        }
      ]
    },
    {
      "metadata": {
        "state": "normal",
        "trusted": true
      },
      "cell_type": "code",
      "source": "# compute the frequency of each word in the text\nmd_word_counts = {} #create a dict, maps aw ord to the amount of times it's used in the text\nfor w in md_words:\n    if w not in md_word_counts:\n        md_word_counts[w] = 1 #give it one to mean to appeared for the first time \n    else:\n        md_word_counts[w] += 1 #increase count by 1",
      "execution_count": 15,
      "outputs": []
    },
    {
      "metadata": {
        "state": "normal",
        "trusted": true
      },
      "cell_type": "code",
      "source": "md_word_counts['the']",
      "execution_count": 16,
      "outputs": [
        {
          "output_type": "execute_result",
          "execution_count": 16,
          "data": {
            "text/plain": "14500"
          },
          "metadata": {}
        }
      ]
    },
    {
      "metadata": {
        "state": "normal",
        "trusted": true
      },
      "cell_type": "code",
      "source": "len(md_word_counts) #same as len(md_words) bc md_words is set, so uniqueness alreaady",
      "execution_count": 17,
      "outputs": [
        {
          "output_type": "execute_result",
          "execution_count": 17,
          "data": {
            "text/plain": "31830"
          },
          "metadata": {}
        }
      ]
    },
    {
      "metadata": {
        "state": "normal",
        "trusted": true
      },
      "cell_type": "code",
      "source": "list(md_word_counts.items())[:10]",
      "execution_count": 18,
      "outputs": [
        {
          "output_type": "execute_result",
          "execution_count": 18,
          "data": {
            "text/plain": "[('\\ufeff', 1),\n ('the', 14500),\n ('project', 86),\n ('gutenberg', 23),\n ('ebook', 8),\n ('of', 6678),\n ('moby', 82),\n ('dick;', 11),\n ('or', 776),\n ('whale,', 213)]"
          },
          "metadata": {}
        }
      ]
    },
    {
      "metadata": {
        "state": "normal",
        "trusted": true
      },
      "cell_type": "code",
      "source": "md_word_counts_sorted = sorted(md_word_counts.items())\n#sorted is like list.sort but it returns a new list \n#sorting least to greatest based on the keys ",
      "execution_count": 19,
      "outputs": []
    },
    {
      "metadata": {
        "state": "normal",
        "trusted": true
      },
      "cell_type": "code",
      "source": "md_word_counts_sorted[:10]",
      "execution_count": 20,
      "outputs": [
        {
          "output_type": "execute_result",
          "execution_count": 20,
          "data": {
            "text/plain": "[('#2701]', 1),\n ('$20,000,000!', 1),\n ('$5,000)', 1),\n ('$7,000,000.', 1),\n ('&', 2),\n ('($1', 1),\n ('(1775)', 1),\n ('(801)', 1),\n ('(_a', 1),\n ('(_advancing_).', 1)]"
          },
          "metadata": {}
        }
      ]
    },
    {
      "metadata": {
        "trusted": true
      },
      "cell_type": "code",
      "source": "md_word_counts_sorted = sorted(md_word_counts.items() , key = lambda t: t[1], reverse=True)",
      "execution_count": 23,
      "outputs": []
    },
    {
      "metadata": {
        "trusted": true
      },
      "cell_type": "code",
      "source": "md_word_counts_sorted[:10]\n#now sorts the list based on the second item in the tuple",
      "execution_count": 25,
      "outputs": [
        {
          "output_type": "execute_result",
          "execution_count": 25,
          "data": {
            "text/plain": "[('the', 14500),\n ('of', 6678),\n ('and', 6324),\n ('a', 4663),\n ('to', 4597),\n ('in', 4122),\n ('that', 2749),\n ('his', 2485),\n ('it', 1776),\n ('with', 1750)]"
          },
          "metadata": {}
        }
      ]
    },
    {
      "metadata": {
        "state": "normal",
        "trusted": true
      },
      "cell_type": "code",
      "source": "import urllib.request\n\nsw_url = 'https://moss.cs.iit.edu/stopwords.txt'\nsw_text = urllib.request.urlopen(sw_url).read().decode()\nstopwords = sw_text.split()",
      "execution_count": 37,
      "outputs": []
    },
    {
      "metadata": {
        "trusted": true
      },
      "cell_type": "code",
      "source": "stopwords[:10]",
      "execution_count": 38,
      "outputs": [
        {
          "output_type": "execute_result",
          "execution_count": 38,
          "data": {
            "text/plain": "['a', 'about', 'above', 'after', 'again', 'against', 'all', 'am', 'an', 'and']"
          },
          "metadata": {}
        }
      ]
    },
    {
      "metadata": {
        "state": "normal",
        "trusted": true
      },
      "cell_type": "code",
      "source": "# remove stopwords\n#set of words in md n set of stop words, but we want a dictionary back\n# so we want to create a dictionary n all the values associated with those key\n\nmd_word_counts = { k : md_word_counts[k] for k in set(md_word_counts) - set(stopwords)}\n\n\n\n\n",
      "execution_count": 42,
      "outputs": []
    },
    {
      "metadata": {
        "state": "normal",
        "trusted": true
      },
      "cell_type": "code",
      "source": "md_word_counts_sorted = sorted(md_word_counts.items(), key=lambda t: t[1], reverse=True)",
      "execution_count": 43,
      "outputs": []
    },
    {
      "metadata": {
        "state": "normal",
        "trusted": true
      },
      "cell_type": "code",
      "source": "md_word_counts_sorted[:10]",
      "execution_count": 44,
      "outputs": [
        {
          "output_type": "execute_result",
          "execution_count": 44,
          "data": {
            "text/plain": "[]"
          },
          "metadata": {}
        }
      ]
    },
    {
      "metadata": {
        "state": "normal",
        "trusted": true
      },
      "cell_type": "code",
      "source": "%matplotlib inline\nimport matplotlib.pyplot as plt\n\n# need lists of the first n words/counts to plot\nn = 20\nwords  = [t[0] for t in md_word_counts_sorted[:n]]\ncounts = [t[1] for t in md_word_counts_sorted[:n]]\n\nplt.rcParams['figure.figsize'] = [12, 5]\nplt.bar(range(n), counts)\nplt.xticks(range(n), words, rotation=60, fontsize=12)\nplt.show()",
      "execution_count": 45,
      "outputs": [
        {
          "output_type": "error",
          "ename": "ValueError",
          "evalue": "shape mismatch: objects cannot be broadcast to a single shape",
          "traceback": [
            "\u001b[0;31m---------------------------------------------------------------------------\u001b[0m",
            "\u001b[0;31mValueError\u001b[0m                                Traceback (most recent call last)",
            "\u001b[0;32m<ipython-input-45-7b8b5c839e1d>\u001b[0m in \u001b[0;36m<module>\u001b[0;34m\u001b[0m\n\u001b[1;32m      8\u001b[0m \u001b[0;34m\u001b[0m\u001b[0m\n\u001b[1;32m      9\u001b[0m \u001b[0mplt\u001b[0m\u001b[0;34m.\u001b[0m\u001b[0mrcParams\u001b[0m\u001b[0;34m[\u001b[0m\u001b[0;34m'figure.figsize'\u001b[0m\u001b[0;34m]\u001b[0m \u001b[0;34m=\u001b[0m \u001b[0;34m[\u001b[0m\u001b[0;36m12\u001b[0m\u001b[0;34m,\u001b[0m \u001b[0;36m5\u001b[0m\u001b[0;34m]\u001b[0m\u001b[0;34m\u001b[0m\u001b[0;34m\u001b[0m\u001b[0m\n\u001b[0;32m---> 10\u001b[0;31m \u001b[0mplt\u001b[0m\u001b[0;34m.\u001b[0m\u001b[0mbar\u001b[0m\u001b[0;34m(\u001b[0m\u001b[0mrange\u001b[0m\u001b[0;34m(\u001b[0m\u001b[0mn\u001b[0m\u001b[0;34m)\u001b[0m\u001b[0;34m,\u001b[0m \u001b[0mcounts\u001b[0m\u001b[0;34m)\u001b[0m\u001b[0;34m\u001b[0m\u001b[0;34m\u001b[0m\u001b[0m\n\u001b[0m\u001b[1;32m     11\u001b[0m \u001b[0mplt\u001b[0m\u001b[0;34m.\u001b[0m\u001b[0mxticks\u001b[0m\u001b[0;34m(\u001b[0m\u001b[0mrange\u001b[0m\u001b[0;34m(\u001b[0m\u001b[0mn\u001b[0m\u001b[0;34m)\u001b[0m\u001b[0;34m,\u001b[0m \u001b[0mwords\u001b[0m\u001b[0;34m,\u001b[0m \u001b[0mrotation\u001b[0m\u001b[0;34m=\u001b[0m\u001b[0;36m60\u001b[0m\u001b[0;34m,\u001b[0m \u001b[0mfontsize\u001b[0m\u001b[0;34m=\u001b[0m\u001b[0;36m12\u001b[0m\u001b[0;34m)\u001b[0m\u001b[0;34m\u001b[0m\u001b[0;34m\u001b[0m\u001b[0m\n\u001b[1;32m     12\u001b[0m \u001b[0mplt\u001b[0m\u001b[0;34m.\u001b[0m\u001b[0mshow\u001b[0m\u001b[0;34m(\u001b[0m\u001b[0;34m)\u001b[0m\u001b[0;34m\u001b[0m\u001b[0;34m\u001b[0m\u001b[0m\n",
            "\u001b[0;32m/opt/conda/lib/python3.7/site-packages/matplotlib/pyplot.py\u001b[0m in \u001b[0;36mbar\u001b[0;34m(x, height, width, bottom, align, data, **kwargs)\u001b[0m\n\u001b[1;32m   2455\u001b[0m     return gca().bar(\n\u001b[1;32m   2456\u001b[0m         \u001b[0mx\u001b[0m\u001b[0;34m,\u001b[0m \u001b[0mheight\u001b[0m\u001b[0;34m,\u001b[0m \u001b[0mwidth\u001b[0m\u001b[0;34m=\u001b[0m\u001b[0mwidth\u001b[0m\u001b[0;34m,\u001b[0m \u001b[0mbottom\u001b[0m\u001b[0;34m=\u001b[0m\u001b[0mbottom\u001b[0m\u001b[0;34m,\u001b[0m \u001b[0malign\u001b[0m\u001b[0;34m=\u001b[0m\u001b[0malign\u001b[0m\u001b[0;34m,\u001b[0m\u001b[0;34m\u001b[0m\u001b[0;34m\u001b[0m\u001b[0m\n\u001b[0;32m-> 2457\u001b[0;31m         **({\"data\": data} if data is not None else {}), **kwargs)\n\u001b[0m\u001b[1;32m   2458\u001b[0m \u001b[0;34m\u001b[0m\u001b[0m\n\u001b[1;32m   2459\u001b[0m \u001b[0;34m\u001b[0m\u001b[0m\n",
            "\u001b[0;32m/opt/conda/lib/python3.7/site-packages/matplotlib/__init__.py\u001b[0m in \u001b[0;36minner\u001b[0;34m(ax, data, *args, **kwargs)\u001b[0m\n\u001b[1;32m   1808\u001b[0m                         \u001b[0;34m\"the Matplotlib list!)\"\u001b[0m \u001b[0;34m%\u001b[0m \u001b[0;34m(\u001b[0m\u001b[0mlabel_namer\u001b[0m\u001b[0;34m,\u001b[0m \u001b[0mfunc\u001b[0m\u001b[0;34m.\u001b[0m\u001b[0m__name__\u001b[0m\u001b[0;34m)\u001b[0m\u001b[0;34m,\u001b[0m\u001b[0;34m\u001b[0m\u001b[0;34m\u001b[0m\u001b[0m\n\u001b[1;32m   1809\u001b[0m                         RuntimeWarning, stacklevel=2)\n\u001b[0;32m-> 1810\u001b[0;31m             \u001b[0;32mreturn\u001b[0m \u001b[0mfunc\u001b[0m\u001b[0;34m(\u001b[0m\u001b[0max\u001b[0m\u001b[0;34m,\u001b[0m \u001b[0;34m*\u001b[0m\u001b[0margs\u001b[0m\u001b[0;34m,\u001b[0m \u001b[0;34m**\u001b[0m\u001b[0mkwargs\u001b[0m\u001b[0;34m)\u001b[0m\u001b[0;34m\u001b[0m\u001b[0;34m\u001b[0m\u001b[0m\n\u001b[0m\u001b[1;32m   1811\u001b[0m \u001b[0;34m\u001b[0m\u001b[0m\n\u001b[1;32m   1812\u001b[0m         inner.__doc__ = _add_data_doc(inner.__doc__,\n",
            "\u001b[0;32m/opt/conda/lib/python3.7/site-packages/matplotlib/axes/_axes.py\u001b[0m in \u001b[0;36mbar\u001b[0;34m(self, x, height, width, bottom, align, **kwargs)\u001b[0m\n\u001b[1;32m   2249\u001b[0m         x, height, width, y, linewidth = np.broadcast_arrays(\n\u001b[1;32m   2250\u001b[0m             \u001b[0;31m# Make args iterable too.\u001b[0m\u001b[0;34m\u001b[0m\u001b[0;34m\u001b[0m\u001b[0;34m\u001b[0m\u001b[0m\n\u001b[0;32m-> 2251\u001b[0;31m             np.atleast_1d(x), height, width, y, linewidth)\n\u001b[0m\u001b[1;32m   2252\u001b[0m \u001b[0;34m\u001b[0m\u001b[0m\n\u001b[1;32m   2253\u001b[0m         \u001b[0;31m# Now that units have been converted, set the tick locations.\u001b[0m\u001b[0;34m\u001b[0m\u001b[0;34m\u001b[0m\u001b[0;34m\u001b[0m\u001b[0m\n",
            "\u001b[0;32m/opt/conda/lib/python3.7/site-packages/numpy/lib/stride_tricks.py\u001b[0m in \u001b[0;36mbroadcast_arrays\u001b[0;34m(*args, **kwargs)\u001b[0m\n\u001b[1;32m    257\u001b[0m     \u001b[0margs\u001b[0m \u001b[0;34m=\u001b[0m \u001b[0;34m[\u001b[0m\u001b[0mnp\u001b[0m\u001b[0;34m.\u001b[0m\u001b[0marray\u001b[0m\u001b[0;34m(\u001b[0m\u001b[0m_m\u001b[0m\u001b[0;34m,\u001b[0m \u001b[0mcopy\u001b[0m\u001b[0;34m=\u001b[0m\u001b[0;32mFalse\u001b[0m\u001b[0;34m,\u001b[0m \u001b[0msubok\u001b[0m\u001b[0;34m=\u001b[0m\u001b[0msubok\u001b[0m\u001b[0;34m)\u001b[0m \u001b[0;32mfor\u001b[0m \u001b[0m_m\u001b[0m \u001b[0;32min\u001b[0m \u001b[0margs\u001b[0m\u001b[0;34m]\u001b[0m\u001b[0;34m\u001b[0m\u001b[0;34m\u001b[0m\u001b[0m\n\u001b[1;32m    258\u001b[0m \u001b[0;34m\u001b[0m\u001b[0m\n\u001b[0;32m--> 259\u001b[0;31m     \u001b[0mshape\u001b[0m \u001b[0;34m=\u001b[0m \u001b[0m_broadcast_shape\u001b[0m\u001b[0;34m(\u001b[0m\u001b[0;34m*\u001b[0m\u001b[0margs\u001b[0m\u001b[0;34m)\u001b[0m\u001b[0;34m\u001b[0m\u001b[0;34m\u001b[0m\u001b[0m\n\u001b[0m\u001b[1;32m    260\u001b[0m \u001b[0;34m\u001b[0m\u001b[0m\n\u001b[1;32m    261\u001b[0m     \u001b[0;32mif\u001b[0m \u001b[0mall\u001b[0m\u001b[0;34m(\u001b[0m\u001b[0marray\u001b[0m\u001b[0;34m.\u001b[0m\u001b[0mshape\u001b[0m \u001b[0;34m==\u001b[0m \u001b[0mshape\u001b[0m \u001b[0;32mfor\u001b[0m \u001b[0marray\u001b[0m \u001b[0;32min\u001b[0m \u001b[0margs\u001b[0m\u001b[0;34m)\u001b[0m\u001b[0;34m:\u001b[0m\u001b[0;34m\u001b[0m\u001b[0;34m\u001b[0m\u001b[0m\n",
            "\u001b[0;32m/opt/conda/lib/python3.7/site-packages/numpy/lib/stride_tricks.py\u001b[0m in \u001b[0;36m_broadcast_shape\u001b[0;34m(*args)\u001b[0m\n\u001b[1;32m    191\u001b[0m     \u001b[0;31m# use the old-iterator because np.nditer does not handle size 0 arrays\u001b[0m\u001b[0;34m\u001b[0m\u001b[0;34m\u001b[0m\u001b[0;34m\u001b[0m\u001b[0m\n\u001b[1;32m    192\u001b[0m     \u001b[0;31m# consistently\u001b[0m\u001b[0;34m\u001b[0m\u001b[0;34m\u001b[0m\u001b[0;34m\u001b[0m\u001b[0m\n\u001b[0;32m--> 193\u001b[0;31m     \u001b[0mb\u001b[0m \u001b[0;34m=\u001b[0m \u001b[0mnp\u001b[0m\u001b[0;34m.\u001b[0m\u001b[0mbroadcast\u001b[0m\u001b[0;34m(\u001b[0m\u001b[0;34m*\u001b[0m\u001b[0margs\u001b[0m\u001b[0;34m[\u001b[0m\u001b[0;34m:\u001b[0m\u001b[0;36m32\u001b[0m\u001b[0;34m]\u001b[0m\u001b[0;34m)\u001b[0m\u001b[0;34m\u001b[0m\u001b[0;34m\u001b[0m\u001b[0m\n\u001b[0m\u001b[1;32m    194\u001b[0m     \u001b[0;31m# unfortunately, it cannot handle 32 or more arguments directly\u001b[0m\u001b[0;34m\u001b[0m\u001b[0;34m\u001b[0m\u001b[0;34m\u001b[0m\u001b[0m\n\u001b[1;32m    195\u001b[0m     \u001b[0;32mfor\u001b[0m \u001b[0mpos\u001b[0m \u001b[0;32min\u001b[0m \u001b[0mrange\u001b[0m\u001b[0;34m(\u001b[0m\u001b[0;36m32\u001b[0m\u001b[0;34m,\u001b[0m \u001b[0mlen\u001b[0m\u001b[0;34m(\u001b[0m\u001b[0margs\u001b[0m\u001b[0;34m)\u001b[0m\u001b[0;34m,\u001b[0m \u001b[0;36m31\u001b[0m\u001b[0;34m)\u001b[0m\u001b[0;34m:\u001b[0m\u001b[0;34m\u001b[0m\u001b[0;34m\u001b[0m\u001b[0m\n",
            "\u001b[0;31mValueError\u001b[0m: shape mismatch: objects cannot be broadcast to a single shape"
          ]
        },
        {
          "output_type": "display_data",
          "data": {
            "text/plain": "<Figure size 864x360 with 1 Axes>",
            "image/png": "[encoded data removed]"
          },
          "metadata": {
            "needs_background": "light"
          }
        }
      ]
    },
    {
      "metadata": {
        "state": "normal",
        "trusted": true
      },
      "cell_type": "code",
      "source": "# collect all two-word phrases as tuples\nphrases = []\nfor i in range(len(md_words)-1):\n    phrases.append(md_words[i:i+2]) #slice method ",
      "execution_count": 47,
      "outputs": []
    },
    {
      "metadata": {
        "state": "normal",
        "trusted": true
      },
      "cell_type": "code",
      "source": "phrases[:10]",
      "execution_count": 48,
      "outputs": [
        {
          "output_type": "execute_result",
          "execution_count": 48,
          "data": {
            "text/plain": "[['\\ufeff', 'the'],\n ['the', 'project'],\n ['project', 'gutenberg'],\n ['gutenberg', 'ebook'],\n ['ebook', 'of'],\n ['of', 'moby'],\n ['moby', 'dick;'],\n ['dick;', 'or'],\n ['or', 'the'],\n ['the', 'whale,']]"
          },
          "metadata": {}
        }
      ]
    },
    {
      "metadata": {
        "state": "normal",
        "trusted": true
      },
      "cell_type": "code",
      "source": "# map each word to a list of all the words that\n# follow it in the text\nphrase_dict = {}\nfor (w1, w2) in phrases: #w1 n w2 take in the values in the lists above\n    if w1 not in phrase_dict:\n        phrase_dict[w1] = [w2] #if key is not made, create it with w2\n    else:\n        phrase_dict[w1].append(w2) #otherwise add w2 to the list of w1",
      "execution_count": 51,
      "outputs": []
    },
    {
      "metadata": {
        "state": "normal",
        "trusted": true
      },
      "cell_type": "code",
      "source": "phrase_dict['starboard']",
      "execution_count": 52,
      "outputs": [
        {
          "output_type": "execute_result",
          "execution_count": 52,
          "data": {
            "text/plain": "['hand',\n 'hand',\n 'fluke—look',\n 'quarter.',\n 'gunwale',\n 'bow,',\n 'side,',\n 'fin.',\n 'bow,',\n 'side,',\n 'fin.”',\n 'and',\n 'bow,']"
          },
          "metadata": {}
        }
      ]
    },
    {
      "metadata": {
        "trusted": true
      },
      "cell_type": "code",
      "source": "import random\nrandom.choice(['hello', 'how'])",
      "execution_count": 57,
      "outputs": [
        {
          "output_type": "execute_result",
          "execution_count": 57,
          "data": {
            "text/plain": "'hello'"
          },
          "metadata": {}
        }
      ]
    },
    {
      "metadata": {
        "state": "normal",
        "trusted": true
      },
      "cell_type": "code",
      "source": "# generate a sentence based on two-word phrase statistics\n# from Moby Dick\nimport random\n\ngen_words = ['whale']\nfor _ in range(10):\n    words = phrase_dict[gen_words[-1]] #list of all words that could come after the last of my sentence\n    gen_words.append(random.choice(words))\n\n' '.join(gen_words)",
      "execution_count": 67,
      "outputs": [
        {
          "output_type": "execute_result",
          "execution_count": 67,
          "data": {
            "text/plain": "'whale be said bildad, if hereafter be free to do me'"
          },
          "metadata": {}
        }
      ]
    },
    {
      "metadata": {
        "state": "normal"
      },
      "cell_type": "markdown",
      "source": "### Solving Sudoku"
    },
    {
      "metadata": {
        "state": "normal",
        "trusted": true
      },
      "cell_type": "code",
      "source": "puzzle = '''..3 .2. 6..\n            9.. 3.5 ..1\n            ..1 8.6 4..\n            \n            ..8 1.2 9..\n            7.. ... ..8\n            ..6 7.8 2..\n            \n            ..2 6.9 5..\n            8.. 2.3 ..9\n            ..5 .1. 3..\n            '''",
      "execution_count": 68,
      "outputs": []
    },
    {
      "metadata": {
        "state": "normal",
        "trusted": true
      },
      "cell_type": "code",
      "source": "# name all the squares in the game\nrows = 'ABCDEFGHI'\ncols = '123456789'\nsquares = [r+c for r in rows for c in cols] #gives me A1, A2, etc",
      "execution_count": 71,
      "outputs": []
    },
    {
      "metadata": {
        "state": "normal",
        "trusted": true
      },
      "cell_type": "code",
      "source": "def parse_puzzle(puz_str):\n    puzzle = [c if c in '123456789' else None\n              for c in puz_str if c not in ' \\n']\n#check to see if c is in that string of numbers \n    return {squares[i]: puzzle[i]\n            for i in range(0, len(squares))}",
      "execution_count": 72,
      "outputs": []
    },
    {
      "metadata": {
        "state": "normal",
        "trusted": true
      },
      "cell_type": "code",
      "source": "parse_puzzle(puzzle) #map every equare name to each puzzle place",
      "execution_count": 73,
      "outputs": [
        {
          "output_type": "execute_result",
          "execution_count": 73,
          "data": {
            "text/plain": "{'A1': None,\n 'A2': None,\n 'A3': '3',\n 'A4': None,\n 'A5': '2',\n 'A6': None,\n 'A7': '6',\n 'A8': None,\n 'A9': None,\n 'B1': '9',\n 'B2': None,\n 'B3': None,\n 'B4': '3',\n 'B5': None,\n 'B6': '5',\n 'B7': None,\n 'B8': None,\n 'B9': '1',\n 'C1': None,\n 'C2': None,\n 'C3': '1',\n 'C4': '8',\n 'C5': None,\n 'C6': '6',\n 'C7': '4',\n 'C8': None,\n 'C9': None,\n 'D1': None,\n 'D2': None,\n 'D3': '8',\n 'D4': '1',\n 'D5': None,\n 'D6': '2',\n 'D7': '9',\n 'D8': None,\n 'D9': None,\n 'E1': '7',\n 'E2': None,\n 'E3': None,\n 'E4': None,\n 'E5': None,\n 'E6': None,\n 'E7': None,\n 'E8': None,\n 'E9': '8',\n 'F1': None,\n 'F2': None,\n 'F3': '6',\n 'F4': '7',\n 'F5': None,\n 'F6': '8',\n 'F7': '2',\n 'F8': None,\n 'F9': None,\n 'G1': None,\n 'G2': None,\n 'G3': '2',\n 'G4': '6',\n 'G5': None,\n 'G6': '9',\n 'G7': '5',\n 'G8': None,\n 'G9': None,\n 'H1': '8',\n 'H2': None,\n 'H3': None,\n 'H4': '2',\n 'H5': None,\n 'H6': '3',\n 'H7': None,\n 'H8': None,\n 'H9': '9',\n 'I1': None,\n 'I2': None,\n 'I3': '5',\n 'I4': None,\n 'I5': '1',\n 'I6': None,\n 'I7': '3',\n 'I8': None,\n 'I9': None}"
          },
          "metadata": {}
        }
      ]
    },
    {
      "metadata": {
        "state": "normal",
        "trusted": true
      },
      "cell_type": "code",
      "source": "# what squares fall in the same columns? (list of lists)\n# keep cols constant but alter rows\nvert_units = [[r+c for r in rows] for c in cols]",
      "execution_count": 79,
      "outputs": []
    },
    {
      "metadata": {
        "trusted": true
      },
      "cell_type": "code",
      "source": "vert_units",
      "execution_count": 80,
      "outputs": [
        {
          "output_type": "execute_result",
          "execution_count": 80,
          "data": {
            "text/plain": "[['A1', 'B1', 'C1', 'D1', 'E1', 'F1', 'G1', 'H1', 'I1'],\n ['A2', 'B2', 'C2', 'D2', 'E2', 'F2', 'G2', 'H2', 'I2'],\n ['A3', 'B3', 'C3', 'D3', 'E3', 'F3', 'G3', 'H3', 'I3'],\n ['A4', 'B4', 'C4', 'D4', 'E4', 'F4', 'G4', 'H4', 'I4'],\n ['A5', 'B5', 'C5', 'D5', 'E5', 'F5', 'G5', 'H5', 'I5'],\n ['A6', 'B6', 'C6', 'D6', 'E6', 'F6', 'G6', 'H6', 'I6'],\n ['A7', 'B7', 'C7', 'D7', 'E7', 'F7', 'G7', 'H7', 'I7'],\n ['A8', 'B8', 'C8', 'D8', 'E8', 'F8', 'G8', 'H8', 'I8'],\n ['A9', 'B9', 'C9', 'D9', 'E9', 'F9', 'G9', 'H9', 'I9']]"
          },
          "metadata": {}
        }
      ]
    },
    {
      "metadata": {
        "state": "normal",
        "trusted": true
      },
      "cell_type": "code",
      "source": "# what squares fall in the same rows? (list of lists)\n#keep rows constant but alter cols\nhoriz_units = [[r+c for c in cols] for r in rows]",
      "execution_count": 81,
      "outputs": []
    },
    {
      "metadata": {
        "trusted": true
      },
      "cell_type": "code",
      "source": "horiz_units",
      "execution_count": 92,
      "outputs": [
        {
          "output_type": "execute_result",
          "execution_count": 92,
          "data": {
            "text/plain": "[]"
          },
          "metadata": {}
        }
      ]
    },
    {
      "metadata": {
        "state": "normal",
        "trusted": true
      },
      "cell_type": "code",
      "source": "# what squares fall in the same \"boxes\"? (list of lists)\nbox_units = [[r+c for r in rs for c in cs]\n             for rs in ('ABC', 'DEF', 'GHI')\n             for cs in ('123', '456', '789')]",
      "execution_count": 93,
      "outputs": []
    },
    {
      "metadata": {
        "trusted": true
      },
      "cell_type": "code",
      "source": "box_units",
      "execution_count": 87,
      "outputs": [
        {
          "output_type": "execute_result",
          "execution_count": 87,
          "data": {
            "text/plain": "[['A1', 'A2', 'A3', 'B1', 'B2', 'B3', 'C1', 'C2', 'C3'],\n ['A4', 'A5', 'A6', 'B4', 'B5', 'B6', 'C4', 'C5', 'C6'],\n ['A7', 'A8', 'A9', 'B7', 'B8', 'B9', 'C7', 'C8', 'C9'],\n ['D1', 'D2', 'D3', 'E1', 'E2', 'E3', 'F1', 'F2', 'F3'],\n ['D4', 'D5', 'D6', 'E4', 'E5', 'E6', 'F4', 'F5', 'F6'],\n ['D7', 'D8', 'D9', 'E7', 'E8', 'E9', 'F7', 'F8', 'F9'],\n ['G1', 'G2', 'G3', 'H1', 'H2', 'H3', 'I1', 'I2', 'I3'],\n ['G4', 'G5', 'G6', 'H4', 'H5', 'H6', 'I4', 'I5', 'I6'],\n ['G7', 'G8', 'G9', 'H7', 'H8', 'H9', 'I7', 'I8', 'I9']]"
          },
          "metadata": {}
        }
      ]
    },
    {
      "metadata": {
        "state": "normal",
        "trusted": true
      },
      "cell_type": "code",
      "source": "all_units = vert_units + horiz_units + box_units",
      "execution_count": 88,
      "outputs": []
    },
    {
      "metadata": {
        "trusted": true
      },
      "cell_type": "code",
      "source": "all_units",
      "execution_count": 89,
      "outputs": [
        {
          "output_type": "execute_result",
          "execution_count": 89,
          "data": {
            "text/plain": "[['A1', 'B1', 'C1', 'D1', 'E1', 'F1', 'G1', 'H1', 'I1'],\n ['A2', 'B2', 'C2', 'D2', 'E2', 'F2', 'G2', 'H2', 'I2'],\n ['A3', 'B3', 'C3', 'D3', 'E3', 'F3', 'G3', 'H3', 'I3'],\n ['A4', 'B4', 'C4', 'D4', 'E4', 'F4', 'G4', 'H4', 'I4'],\n ['A5', 'B5', 'C5', 'D5', 'E5', 'F5', 'G5', 'H5', 'I5'],\n ['A6', 'B6', 'C6', 'D6', 'E6', 'F6', 'G6', 'H6', 'I6'],\n ['A7', 'B7', 'C7', 'D7', 'E7', 'F7', 'G7', 'H7', 'I7'],\n ['A8', 'B8', 'C8', 'D8', 'E8', 'F8', 'G8', 'H8', 'I8'],\n ['A9', 'B9', 'C9', 'D9', 'E9', 'F9', 'G9', 'H9', 'I9'],\n ['A1', 'A2', 'A3', 'B1', 'B2', 'B3', 'C1', 'C2', 'C3'],\n ['A4', 'A5', 'A6', 'B4', 'B5', 'B6', 'C4', 'C5', 'C6'],\n ['A7', 'A8', 'A9', 'B7', 'B8', 'B9', 'C7', 'C8', 'C9'],\n ['D1', 'D2', 'D3', 'E1', 'E2', 'E3', 'F1', 'F2', 'F3'],\n ['D4', 'D5', 'D6', 'E4', 'E5', 'E6', 'F4', 'F5', 'F6'],\n ['D7', 'D8', 'D9', 'E7', 'E8', 'E9', 'F7', 'F8', 'F9'],\n ['G1', 'G2', 'G3', 'H1', 'H2', 'H3', 'I1', 'I2', 'I3'],\n ['G4', 'G5', 'G6', 'H4', 'H5', 'H6', 'I4', 'I5', 'I6'],\n ['G7', 'G8', 'G9', 'H7', 'H8', 'H9', 'I7', 'I8', 'I9']]"
          },
          "metadata": {}
        }
      ]
    },
    {
      "metadata": {
        "state": "normal",
        "trusted": true
      },
      "cell_type": "code",
      "source": "# associate each square with a list of all the units it belongs to\n#maps every square onto a list of units, where a unit is also a list\n# { 'A1' : []}\n\nunits = { s: [u for u in all_units if s in u] for s in squares }",
      "execution_count": 90,
      "outputs": []
    },
    {
      "metadata": {
        "state": "normal",
        "trusted": true
      },
      "cell_type": "code",
      "source": "units['A1']",
      "execution_count": 91,
      "outputs": [
        {
          "output_type": "execute_result",
          "execution_count": 91,
          "data": {
            "text/plain": "[['A1', 'B1', 'C1', 'D1', 'E1', 'F1', 'G1', 'H1', 'I1'],\n ['A1', 'A2', 'A3', 'B1', 'B2', 'B3', 'C1', 'C2', 'C3']]"
          },
          "metadata": {}
        }
      ]
    },
    {
      "metadata": {
        "state": "normal",
        "trusted": true
      },
      "cell_type": "code",
      "source": "# associate each square with the set of all its \"peers\" (i.e., all\n# other squares that fall into one of its units)\n# { 'A1' : {}}\n#a set for uniqueness inside\npeers = { s: set([sq for u in units[s] for sq in u]) - {s}\n         for s in squares}",
      "execution_count": 95,
      "outputs": []
    },
    {
      "metadata": {
        "state": "normal",
        "trusted": true
      },
      "cell_type": "code",
      "source": "peers['A1']",
      "execution_count": 96,
      "outputs": [
        {
          "output_type": "execute_result",
          "execution_count": 96,
          "data": {
            "text/plain": "{'A2',\n 'A3',\n 'B1',\n 'B2',\n 'B3',\n 'C1',\n 'C2',\n 'C3',\n 'D1',\n 'E1',\n 'F1',\n 'G1',\n 'H1',\n 'I1'}"
          },
          "metadata": {}
        }
      ]
    },
    {
      "metadata": {
        "state": "normal",
        "trusted": true
      },
      "cell_type": "code",
      "source": "# what is a \"catch-all\" solution?\nsol = { s: '123456789' for s in squares}",
      "execution_count": 97,
      "outputs": []
    },
    {
      "metadata": {
        "state": "normal",
        "trusted": true
      },
      "cell_type": "code",
      "source": "sol",
      "execution_count": 98,
      "outputs": [
        {
          "output_type": "execute_result",
          "execution_count": 98,
          "data": {
            "text/plain": "{'A1': '123456789',\n 'A2': '123456789',\n 'A3': '123456789',\n 'A4': '123456789',\n 'A5': '123456789',\n 'A6': '123456789',\n 'A7': '123456789',\n 'A8': '123456789',\n 'A9': '123456789',\n 'B1': '123456789',\n 'B2': '123456789',\n 'B3': '123456789',\n 'B4': '123456789',\n 'B5': '123456789',\n 'B6': '123456789',\n 'B7': '123456789',\n 'B8': '123456789',\n 'B9': '123456789',\n 'C1': '123456789',\n 'C2': '123456789',\n 'C3': '123456789',\n 'C4': '123456789',\n 'C5': '123456789',\n 'C6': '123456789',\n 'C7': '123456789',\n 'C8': '123456789',\n 'C9': '123456789',\n 'D1': '123456789',\n 'D2': '123456789',\n 'D3': '123456789',\n 'D4': '123456789',\n 'D5': '123456789',\n 'D6': '123456789',\n 'D7': '123456789',\n 'D8': '123456789',\n 'D9': '123456789',\n 'E1': '123456789',\n 'E2': '123456789',\n 'E3': '123456789',\n 'E4': '123456789',\n 'E5': '123456789',\n 'E6': '123456789',\n 'E7': '123456789',\n 'E8': '123456789',\n 'E9': '123456789',\n 'F1': '123456789',\n 'F2': '123456789',\n 'F3': '123456789',\n 'F4': '123456789',\n 'F5': '123456789',\n 'F6': '123456789',\n 'F7': '123456789',\n 'F8': '123456789',\n 'F9': '123456789',\n 'G1': '123456789',\n 'G2': '123456789',\n 'G3': '123456789',\n 'G4': '123456789',\n 'G5': '123456789',\n 'G6': '123456789',\n 'G7': '123456789',\n 'G8': '123456789',\n 'G9': '123456789',\n 'H1': '123456789',\n 'H2': '123456789',\n 'H3': '123456789',\n 'H4': '123456789',\n 'H5': '123456789',\n 'H6': '123456789',\n 'H7': '123456789',\n 'H8': '123456789',\n 'H9': '123456789',\n 'I1': '123456789',\n 'I2': '123456789',\n 'I3': '123456789',\n 'I4': '123456789',\n 'I5': '123456789',\n 'I6': '123456789',\n 'I7': '123456789',\n 'I8': '123456789',\n 'I9': '123456789'}"
          },
          "metadata": {}
        }
      ]
    },
    {
      "metadata": {
        "state": "normal",
        "trusted": true
      },
      "cell_type": "code",
      "source": "def assign(sol, sq, val):\n    '''If assigning a value to a square, eliminate all other\n    values from that square in the solution.'''\n    for other in sol[sq].replace(val, ''):\n        eliminate(sol, sq, other)\n\ndef eliminate(sol, sq, val):\n    '''Eliminate a value from a square. Also check whether\n    eliminating a value from the given square narrows down \n    that value to only one affected square; if so, assign \n    the value to that square.'''\n    if val not in sol[sq]:\n        return\n    sol[sq] = sol[sq].replace(val, '')\n    if len(sol[sq]) == 1:\n        last = sol[sq][0]\n        for p in peers[sq]:\n            eliminate(sol, p, last)\n    for u in units[sq]:\n        candidates = [s for s in u if val in sol[s]]\n        if len(candidates) == 1:\n            assign(sol, candidates[0], val)",
      "execution_count": 99,
      "outputs": []
    },
    {
      "metadata": {
        "state": "normal",
        "trusted": true
      },
      "cell_type": "code",
      "source": "def solve_puzzle(puzz_str):\n    puz = parse_puzzle(puzz_str)\n    sol = {s: '123456789' for s in squares}\n\n    for sq, val in puz.items():\n        if val:\n            assign(sol, sq, val)\n    return sol",
      "execution_count": 100,
      "outputs": []
    },
    {
      "metadata": {
        "state": "normal",
        "trusted": true
      },
      "cell_type": "code",
      "source": "solve_puzzle(puzzle)",
      "execution_count": 101,
      "outputs": [
        {
          "output_type": "execute_result",
          "execution_count": 101,
          "data": {
            "text/plain": "{'A1': '2456',\n 'A2': '245678',\n 'A3': '3',\n 'A4': '49',\n 'A5': '2',\n 'A6': '1',\n 'A7': '6',\n 'A8': '235789',\n 'A9': '2357',\n 'B1': '9',\n 'B2': '245678',\n 'B3': '47',\n 'B4': '3',\n 'B5': '479',\n 'B6': '5',\n 'B7': '78',\n 'B8': '235789',\n 'B9': '1',\n 'C1': '2456',\n 'C2': '245678',\n 'C3': '1',\n 'C4': '8',\n 'C5': '479',\n 'C6': '6',\n 'C7': '4',\n 'C8': '235789',\n 'C9': '2357',\n 'D1': '12345',\n 'D2': '123459',\n 'D3': '8',\n 'D4': '1',\n 'D5': '3569',\n 'D6': '2',\n 'D7': '9',\n 'D8': '134567',\n 'D9': '34567',\n 'E1': '7',\n 'E2': '123459',\n 'E3': '49',\n 'E4': '59',\n 'E5': '3569',\n 'E6': '4',\n 'E7': '17',\n 'E8': '134567',\n 'E9': '8',\n 'F1': '12345',\n 'F2': '123459',\n 'F3': '6',\n 'F4': '7',\n 'F5': '3569',\n 'F6': '8',\n 'F7': '2',\n 'F8': '134567',\n 'F9': '34567',\n 'G1': '1346',\n 'G2': '134679',\n 'G3': '2',\n 'G4': '6',\n 'G5': '458',\n 'G6': '9',\n 'G7': '5',\n 'G8': '124678',\n 'G9': '2467',\n 'H1': '8',\n 'H2': '134679',\n 'H3': '479',\n 'H4': '2',\n 'H5': '458',\n 'H6': '3',\n 'H7': '178',\n 'H8': '124678',\n 'H9': '9',\n 'I1': '1346',\n 'I2': '134679',\n 'I3': '5',\n 'I4': '45',\n 'I5': '1',\n 'I6': '7',\n 'I7': '3',\n 'I8': '124678',\n 'I9': '2467'}"
          },
          "metadata": {}
        }
      ]
    },
    {
      "metadata": {
        "state": "normal",
        "trusted": true
      },
      "cell_type": "code",
      "source": "def print_sol(sol):\n    for r in rows:\n        for c in cols:\n            print('{:^6} '.format(sol[r+c]), end='')\n        print()",
      "execution_count": 102,
      "outputs": []
    },
    {
      "metadata": {
        "state": "normal",
        "trusted": true
      },
      "cell_type": "code",
      "source": "print_sol(solve_puzzle(puzzle))",
      "execution_count": 103,
      "outputs": [
        {
          "output_type": "stream",
          "text": " 2456  245678   3      49     2      1      6    235789  2357  \n  9    245678   47     3     479     5      78   235789   1    \n 2456  245678   1      8     479     6      4    235789  2357  \n12345  123459   8      1     3569    2      9    134567 34567  \n  7    123459   49     59    3569    4      17   134567   8    \n12345  123459   6      7     3569    8      2    134567 34567  \n 1346  134679   2      6     458     9      5    124678  2467  \n  8    134679  479     2     458     3     178   124678   9    \n 1346  134679   5      45     1      7      3    124678  2467  \n",
          "name": "stdout"
        }
      ]
    },
    {
      "metadata": {
        "state": "normal",
        "trusted": true
      },
      "cell_type": "code",
      "source": "# NYTimes \"Medium\" puzzle\nprint_sol(solve_puzzle('''\n.51 8.. 3.6\n.3. ... ...\n..9 .42 .15\n\n..4 .75 ...\n3.. ... ...\n.8. 9.. ...\n\n... ... 8..\n.1. ..6 .9.\n..7 ... ..4\n'''))",
      "execution_count": 104,
      "outputs": [
        {
          "output_type": "stream",
          "text": "24678    5      1      8    13569   1379    3     2478    6    \n24678    3     268   13567  13569   1379   2479   2478   2789  \n24678   2467    9    13567    4      2     2479    1      5    \n125679  2679    4    12346    7      5    1245679 2345678 123789 \n  3     2679   256   12346  12368   1348  1245679 2345678 123789 \n125679   8     256     9    12368   1348  1245679 2345678 123789 \n245689  2469  23568  123457 123589 134789   8    23567   1237  \n245689   1    23568  123457 123589   6    12567    9     1237  \n245689  2469    7    123457 123589 134789 12567  23567    4    \n",
          "name": "stdout"
        }
      ]
    }
  ],
  "metadata": {
    "kernelspec": {
      "name": "python3",
      "display_name": "Python 3",
      "language": "python"
    },
    "language_info": {
      "name": "python",
      "version": "3.7.3",
      "mimetype": "text/x-python",
      "codemirror_mode": {
        "name": "ipython",
        "version": 3
      },
      "pygments_lexer": "ipython3",
      "nbconvert_exporter": "python",
      "file_extension": ".py"
    },
    "mimir": {
      "project_id": "cd4ec141-8c35-4635-877c-c12fc50054c9",
      "last_submission_id": "",
      "data": {}
    },
    "varInspector": {
      "window_display": false,
      "cols": {
        "lenName": 16,
        "lenType": 16,
        "lenVar": 40
      },
      "kernels_config": {
        "python": {
          "library": "var_list.py",
          "delete_cmd_prefix": "del ",
          "delete_cmd_postfix": "",
          "varRefreshCmd": "print(var_dic_list())"
        },
        "r": {
          "library": "var_list.r",
          "delete_cmd_prefix": "rm(",
          "delete_cmd_postfix": ") ",
          "varRefreshCmd": "cat(var_dic_list()) "
        }
      },
      "types_to_exclude": [
        "module",
        "function",
        "builtin_function_or_method",
        "instance",
        "_Feature"
      ]
    }
  },
  "nbformat": 4,
  "nbformat_minor": 2
}