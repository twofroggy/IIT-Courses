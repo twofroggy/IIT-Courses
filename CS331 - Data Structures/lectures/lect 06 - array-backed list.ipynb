{
  "cells": [
    {
      "metadata": {
        "state": "normal"
      },
      "cell_type": "markdown",
      "source": "# The Array-Backed List\n\n## Agenda\n\n1. The List **Abstract Data Type** (ADT)\n2. A List **Data Structure**\n3. Our List API\n4. Getting started: how to store our data?\n5. Built-in `list` as array\n6. The `ArrayList` data structure"
    },
    {
      "metadata": {
        "state": "normal"
      },
      "cell_type": "markdown",
      "source": "## 1. The List **Abstract Data Type** (ADT)\n\nAn **abstract data type (ADT)** defines a *conceptual model* for how data may be stored and accessed.\n\nA **list ADT** is a data container where:\n\n- values are ordered in a *sequence*\n- each value has at most one preceding and one succeeding value\n- a given value may appear more than once in a list\n\nOther common ADTs (some of which we'll explore later) include:\n\n- Stacks\n- Queues\n- Priority Queues\n- Maps\n- Graphs"
    },
    {
      "metadata": {
        "state": "normal"
      },
      "cell_type": "markdown",
      "source": "## 2. A List **Data Structure**\n\nA **list data structure** is a *concrete implementation* of the list ADT in some programming language, which, in addition to adhering to the basic premises of the ADT, will also typically support operations that:\n\n- access values in the list by their position (index)\n- append and insert new values into the list\n- remove values from the list\n\nThe implementation of any data structure will generally rely on simpler, constituent data types (e.g., \"primitive\" types offered by the language), the choice of which may affect the runtime complexities of said operations."
    },
    {
      "metadata": {
        "state": "normal"
      },
      "cell_type": "markdown",
      "source": "## 3. The List API\n\nThe operations we'll be building into our list data structures will be based on the [common](https://docs.python.org/3.6/library/stdtypes.html#common-sequence-operations) and [mutable](https://docs.python.org/3.6/library/stdtypes.html#mutable-sequence-types) sequence operations defined by the Python library."
    },
    {
      "metadata": {
        "state": "normal",
        "trusted": false
      },
      "cell_type": "code",
      "source": "class List:        \n    ### subscript-based access ###\n    \n    def __getitem__(self, idx):\n        \"\"\"Implements `x = self[idx]`\"\"\"\n        pass\n\n    def __setitem__(self, idx, value):\n        \"\"\"Implements `self[idx] = x`\"\"\"\n        pass\n\n    def __delitem__(self, idx):\n        \"\"\"Implements `del self[idx]`\"\"\"\n        pass\n    \n    ### stringification ###\n            \n    def __repr__(self):\n        \"\"\"Supports inspection\"\"\"\n        return '[]'\n    \n    def __str__(self):\n        \"\"\"Implements `str(self)`\"\"\"\n        return '[]'\n\n    ### single-element manipulation ###\n    \n    def append(self, value):\n        pass\n    \n    def insert(self, idx, value):\n        pass\n    \n    def pop(self, idx=-1):\n        pass\n    \n    def remove(self, value):\n        pass\n    \n    ### predicates (T/F queries) ###\n    \n    def __eq__(self, other):\n        \"\"\"Implements `self == other`\"\"\"\n        return True\n\n    def __contains__(self, value):\n        \"\"\"Implements `val in self`\"\"\"\n        return True\n    \n    ### queries ###\n    \n    def __len__(self):\n        \"\"\"Implements `len(self)`\"\"\"\n        return len(self.data)\n    \n    def min(self):\n        pass\n    \n    def max(self):\n        pass\n    \n    def index(self, value, i, j):\n        pass\n    \n    def count(self, value):\n        pass\n\n    ### bulk operations ###\n\n    def __add__(self, other):\n        \"\"\"Implements `self + other_array_list`\"\"\"\n        return self\n    \n    def clear(self):\n        pass\n    \n    def copy(self):\n        pass\n\n    def extend(self, other):\n        pass\n\n    ### iteration ###\n    \n    def __iter__(self):\n        \"\"\"Supports iteration (via `iter(self)`)\"\"\"\n        pass",
      "execution_count": null,
      "outputs": []
    },
    {
      "metadata": {
        "state": "normal"
      },
      "cell_type": "markdown",
      "source": "## 4. Getting started: how to store our data?"
    },
    {
      "metadata": {
        "state": "normal",
        "trusted": true
      },
      "cell_type": "code",
      "source": "class List:\n    def append(self, value):\n        self.data = value\n    \n    def __getitem__(self, idx):\n        \"\"\"Implements `x = self[idx]`\"\"\"\n        return self.data\n\n    def __setitem__(self, idx, value):\n        \"\"\"Implements `self[idx] = x`\"\"\"\n        self.data = value \n    \n    def __repr__(self):\n        \"\"\"Supports inspection\"\"\"\n        return '[' + repr(self.data) + ']'\n        #repr inside so that there would be quotes is there's a string inside",
      "execution_count": 8,
      "outputs": []
    },
    {
      "metadata": {
        "trusted": true
      },
      "cell_type": "code",
      "source": "l = List()",
      "execution_count": 9,
      "outputs": []
    },
    {
      "metadata": {
        "trusted": true
      },
      "cell_type": "code",
      "source": "l.append(10)",
      "execution_count": 10,
      "outputs": []
    },
    {
      "metadata": {
        "trusted": true
      },
      "cell_type": "code",
      "source": "l",
      "execution_count": 11,
      "outputs": [
        {
          "output_type": "execute_result",
          "execution_count": 11,
          "data": {
            "text/plain": "[10]"
          },
          "metadata": {}
        }
      ]
    },
    {
      "metadata": {
        "state": "normal"
      },
      "cell_type": "markdown",
      "source": "## 5. Built-in `list` as array\n\nTo use the built-in list as though it were a primitive array, we will constrain ourselves to just the following APIs on a given list `lst`:\n\n1. `lst[i]` for getting and setting values at an *existing, positive* index `i`\n2. `len(lst)` to obtain the number of slots\n3. `lst.append(None)` to grow the list by *one slot at a time*\n4. `del lst[len(lst)-1]` to delete the last slot in a list"
    },
    {
      "metadata": {
        "state": "normal"
      },
      "cell_type": "markdown",
      "source": "## 6. The `ArrayList` data structure"
    },
    {
      "metadata": {
        "state": "normal",
        "trusted": true
      },
      "cell_type": "code",
      "source": "class ArrayList:\n    def __init__(self):\n        self.data = []\n\n    def append(self, value):\n        self.data.append(None) #empty slot at end of array\n        self.data[len(self.data) - 1] = value #put value in that slot\n\n    def _normalize_idx(self, idx):\n        nidx = idx\n        if idx < 0:\n            nidx = len(self.data) + idx\n        if nidx < 0 or nidx >= len(self.data):\n            raise IndexError()\n        return nidx\n    \n    def __getitem__(self, idx): #the read operator\n        \"\"\"Implements `x = self[idx]`\"\"\"\n        assert(isinstance(idx, int))\n        nidx = self._normalize_idx(idx)\n        return self.data[nidx]\n\n    def __setitem__(self, idx, value):\n        \"\"\"Implements `self[idx] = x`\"\"\"\n        assert(isinstance(idx, int))\n        nidx = self._normalize_idx(idx)\n        self.data[nidx] = value\n\n    def __delitem__(self, idx):\n        \"\"\"Implements `del self[idx]`\"\"\"\n        assert(isinstance(idx, int))\n        nidx = self._normalize_idx(idx)\n        for i in range(nidx, len(self.data) - 1):\n            self.data[i] = self.data[i + 1]\n        del self.data[len(self.data)-1]\n    \n    def __len__(self):\n        \"\"\"Implements `len(self)`\"\"\"\n        return len(self.data)\n    \n    def __repr__(self):\n        \"\"\"Supports inspection\"\"\"\n        ret = '['\n        for i in range(len(self.data)): #this method instead of for x in self.data because we dk if it's iterable\n            ret += repr(self.data[i]) #use repr is to convert all tiems to string\n            if i < len(self.data) - 1:\n                ret += ','\n        ret += ']'\n        return ret\n        #with repr, it would format a string with quotes when we call the arraylist",
      "execution_count": 41,
      "outputs": []
    },
    {
      "metadata": {
        "trusted": true
      },
      "cell_type": "code",
      "source": "l = ArrayList()",
      "execution_count": 42,
      "outputs": []
    },
    {
      "metadata": {
        "trusted": true
      },
      "cell_type": "code",
      "source": "for x in range(10):\n    l.append(x)\nl",
      "execution_count": 43,
      "outputs": [
        {
          "output_type": "execute_result",
          "execution_count": 43,
          "data": {
            "text/plain": "[0,1,2,3,4,5,6,7,8,9]"
          },
          "metadata": {}
        }
      ]
    },
    {
      "metadata": {
        "trusted": true
      },
      "cell_type": "code",
      "source": "len(l)",
      "execution_count": 46,
      "outputs": [
        {
          "output_type": "execute_result",
          "execution_count": 46,
          "data": {
            "text/plain": "10"
          },
          "metadata": {}
        }
      ]
    }
  ],
  "metadata": {
    "kernelspec": {
      "name": "python3",
      "display_name": "Python 3",
      "language": "python"
    },
    "language_info": {
      "name": "python",
      "version": "3.7.3",
      "mimetype": "text/x-python",
      "codemirror_mode": {
        "name": "ipython",
        "version": 3
      },
      "pygments_lexer": "ipython3",
      "nbconvert_exporter": "python",
      "file_extension": ".py"
    },
    "mimir": {
      "project_id": "9050e66d-d731-4e47-93ca-aea377410384",
      "last_submission_id": "",
      "data": {}
    },
    "varInspector": {
      "window_display": false,
      "cols": {
        "lenName": 16,
        "lenType": 16,
        "lenVar": 40
      },
      "kernels_config": {
        "python": {
          "library": "var_list.py",
          "delete_cmd_prefix": "del ",
          "delete_cmd_postfix": "",
          "varRefreshCmd": "print(var_dic_list())"
        },
        "r": {
          "library": "var_list.r",
          "delete_cmd_prefix": "rm(",
          "delete_cmd_postfix": ") ",
          "varRefreshCmd": "cat(var_dic_list()) "
        }
      },
      "types_to_exclude": [
        "module",
        "function",
        "builtin_function_or_method",
        "instance",
        "_Feature"
      ]
    }
  },
  "nbformat": 4,
  "nbformat_minor": 2
}