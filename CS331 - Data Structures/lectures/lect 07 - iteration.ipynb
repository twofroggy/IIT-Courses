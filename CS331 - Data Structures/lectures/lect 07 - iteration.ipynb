{
  "cells": [
    {
      "metadata": {
        "state": "normal"
      },
      "cell_type": "markdown",
      "source": "# Implementing Iteration\n\n## Agenda\n\n1. Review: Iteration\n2. Details: *iterables*, *iterators*, `iter`, and `next`\n3. Implementing iterators with classes\n4. Implementing iterators with *generators* and `yield`"
    },
    {
      "metadata": {
        "state": "normal"
      },
      "cell_type": "markdown",
      "source": "## 1. Review: Iteration"
    },
    {
      "metadata": {
        "state": "normal"
      },
      "cell_type": "markdown",
      "source": "*Iteration* simply refers to the process of accessing — one by one — the items stored in some container. The order of the items, and whether or not the iteration is comprehensive, depends on the container.\n\nIn Python, we typically perform iteration using the `for` loop."
    },
    {
      "metadata": {
        "state": "normal",
        "trusted": true
      },
      "cell_type": "code",
      "source": "# e.g., iterating over a list\nl = [2**x for x in range(10)]\nfor n in l:\n    print(n)",
      "execution_count": 1,
      "outputs": [
        {
          "output_type": "stream",
          "text": "1\n2\n4\n8\n16\n32\n64\n128\n256\n512\n",
          "name": "stdout"
        }
      ]
    },
    {
      "metadata": {
        "state": "normal",
        "trusted": true
      },
      "cell_type": "code",
      "source": "# e.g., iterating over the key-value pairs in a dictionary\nd = {x:2**x for x in range(10)}\nfor k,v in d.items():\n    print(k, '=>', v)",
      "execution_count": 2,
      "outputs": [
        {
          "output_type": "stream",
          "text": "0 => 1\n1 => 2\n2 => 4\n3 => 8\n4 => 16\n5 => 32\n6 => 64\n7 => 128\n8 => 256\n9 => 512\n",
          "name": "stdout"
        }
      ]
    },
    {
      "metadata": {
        "state": "normal"
      },
      "cell_type": "markdown",
      "source": "## 2. Details: *iterables*, *iterators*, `iter`, and `next`"
    },
    {
      "metadata": {
        "state": "normal"
      },
      "cell_type": "markdown",
      "source": "We can iterate over anything that is *iterable*. Intuitively, if something can be used as the source of items in a `for` loop, it is iterable.\n\nBut how does a `for` loop really work? (Review time!)"
    },
    {
      "metadata": {
        "state": "normal",
        "trusted": true
      },
      "cell_type": "code",
      "source": "l = [2**x for x in range(10)]",
      "execution_count": 3,
      "outputs": []
    },
    {
      "metadata": {
        "trusted": true
      },
      "cell_type": "code",
      "source": "it = iter(l)",
      "execution_count": 10,
      "outputs": []
    },
    {
      "metadata": {
        "trusted": true
      },
      "cell_type": "code",
      "source": "next(it)",
      "execution_count": 11,
      "outputs": [
        {
          "output_type": "execute_result",
          "execution_count": 11,
          "data": {
            "text/plain": "1"
          },
          "metadata": {}
        }
      ]
    },
    {
      "metadata": {
        "state": "normal"
      },
      "cell_type": "markdown",
      "source": "## 3. Implementing iterators with classes"
    },
    {
      "metadata": {
        "state": "normal",
        "trusted": true
      },
      "cell_type": "code",
      "source": "class MyIterator:\n    def __init__(self, max):\n        self.max = max\n        self.curr = 0\n        \n    # the following methods are required for iterator objects\n    \n    def __next__(self):\n        if self.curr >= self.max:\n            raise StopIteration()\n        ret = self.curr\n        self.curr += 1\n        return ret\n    \n    def __iter__(self):\n        return self\n    # makes sense bc an iterator is something you can call next on \n    # an interable is target for a for loop ",
      "execution_count": 12,
      "outputs": []
    },
    {
      "metadata": {
        "state": "normal",
        "trusted": true
      },
      "cell_type": "code",
      "source": "it = MyIterator(10)",
      "execution_count": 5,
      "outputs": []
    },
    {
      "metadata": {
        "state": "normal",
        "trusted": true
      },
      "cell_type": "code",
      "source": "next(it)",
      "execution_count": 7,
      "outputs": [
        {
          "output_type": "execute_result",
          "execution_count": 7,
          "data": {
            "text/plain": "1"
          },
          "metadata": {}
        }
      ]
    },
    {
      "metadata": {
        "trusted": true
      },
      "cell_type": "code",
      "source": "it = MyIterator(10)\nwhile True:\n    try:\n        print(next(it))\n    except StopIteration:\n        break",
      "execution_count": 8,
      "outputs": [
        {
          "output_type": "stream",
          "text": "0\n1\n2\n3\n4\n5\n6\n7\n8\n9\n",
          "name": "stdout"
        }
      ]
    },
    {
      "metadata": {
        "state": "normal",
        "trusted": true
      },
      "cell_type": "code",
      "source": "it = MyIterator(10) #create an iterator\nfor i in it: #use as target in a for loop\n    print(i)\n#when youve exhausted an iterator, u throw it away and it cant be used again",
      "execution_count": 13,
      "outputs": [
        {
          "output_type": "stream",
          "text": "0\n1\n2\n3\n4\n5\n6\n7\n8\n9\n",
          "name": "stdout"
        }
      ]
    },
    {
      "metadata": {
        "trusted": true
      },
      "cell_type": "code",
      "source": "for i in it:\n    print(i)\n#prints nothing because within the iterator object, \n# its reached the max value hwen we ran the same code above",
      "execution_count": 14,
      "outputs": []
    },
    {
      "metadata": {
        "trusted": true
      },
      "cell_type": "code",
      "source": "l = [2**x for x in range(10)] #created a list to l",
      "execution_count": 16,
      "outputs": []
    },
    {
      "metadata": {
        "trusted": true
      },
      "cell_type": "code",
      "source": "for x in l:\n    print(x) #traverse the list and it can keep be traversed over again",
      "execution_count": 17,
      "outputs": [
        {
          "output_type": "stream",
          "text": "1\n2\n4\n8\n16\n32\n64\n128\n256\n512\n",
          "name": "stdout"
        }
      ]
    },
    {
      "metadata": {
        "trusted": true,
        "scrolled": true
      },
      "cell_type": "code",
      "source": "for x in l:\n    print(x)\n#its bc with a for loop, they use a diff iterator each time",
      "execution_count": 19,
      "outputs": [
        {
          "output_type": "stream",
          "text": "1\n2\n4\n8\n16\n32\n64\n128\n256\n512\n",
          "name": "stdout"
        }
      ]
    },
    {
      "metadata": {},
      "cell_type": "markdown",
      "source": "this can be ran twice while the above reaches a max and can only be ran once because iterators are throwaway objects, but with a list "
    },
    {
      "metadata": {},
      "cell_type": "markdown",
      "source": "something thats iterable can be made the target of a for loop, "
    },
    {
      "metadata": {
        "state": "normal"
      },
      "cell_type": "markdown",
      "source": "For a container type, we need to implement an `__iter__` method that returns an iterator."
    },
    {
      "metadata": {
        "state": "normal",
        "trusted": true
      },
      "cell_type": "code",
      "source": "class ArrayList:\n    class ArrayListIterator:\n        def __init__(self, lst):\n            self.array_list = lst\n            self.curr_idx = 0\n        \n        def __next__(self):\n            if self.curr_idx < len(self.array_list.data):\n                ret = self.array_list.data[self.curr_idx]\n                self.curr_idx += 1\n                return ret\n            else:\n                raise StopIteration() \n    #this error specifically, its the error defn to stop the for loop to break out of the containing loop\n    #we dont see it when running a for loop\n    def __iter__(self):\n        return self\n    def __init__(self):\n        self.data = []\n        \n    def append(self, val):\n        self.data.append(None)\n        self.data[len(self.data)-1] = val\n        \n    def __iter__(self): #needs to return an iterator\n        #cant use return self bc self is an arraylist, which isnt an iterator\n        return ArrayList.ArrayListIterator(self)",
      "execution_count": 51,
      "outputs": []
    },
    {
      "metadata": {
        "state": "normal",
        "trusted": true
      },
      "cell_type": "code",
      "source": "l = ArrayList()\nfor x in range(10):\n    l.append(2**x)",
      "execution_count": 52,
      "outputs": []
    },
    {
      "metadata": {
        "trusted": true
      },
      "cell_type": "code",
      "source": "l.data #built in list",
      "execution_count": 53,
      "outputs": [
        {
          "output_type": "execute_result",
          "execution_count": 53,
          "data": {
            "text/plain": "[1, 2, 4, 8, 16, 32, 64, 128, 256, 512]"
          },
          "metadata": {}
        }
      ]
    },
    {
      "metadata": {
        "state": "normal",
        "trusted": true
      },
      "cell_type": "code",
      "source": "it = iter(l)",
      "execution_count": 54,
      "outputs": []
    },
    {
      "metadata": {
        "state": "normal",
        "trusted": true
      },
      "cell_type": "code",
      "source": "type(it)",
      "execution_count": 55,
      "outputs": [
        {
          "output_type": "execute_result",
          "execution_count": 55,
          "data": {
            "text/plain": "__main__.ArrayList.ArrayListIterator"
          },
          "metadata": {}
        }
      ]
    },
    {
      "metadata": {
        "state": "normal",
        "trusted": true
      },
      "cell_type": "code",
      "source": "next(it)",
      "execution_count": 56,
      "outputs": [
        {
          "output_type": "execute_result",
          "execution_count": 56,
          "data": {
            "text/plain": "1"
          },
          "metadata": {}
        }
      ]
    },
    {
      "metadata": {
        "trusted": true
      },
      "cell_type": "code",
      "source": "for x in l:\n    print(x)",
      "execution_count": 57,
      "outputs": [
        {
          "output_type": "stream",
          "text": "1\n2\n4\n8\n16\n32\n64\n128\n256\n512\n",
          "name": "stdout"
        }
      ]
    },
    {
      "metadata": {
        "state": "normal"
      },
      "cell_type": "markdown",
      "source": "## 4. Implementing iterators with generators and `yield`"
    },
    {
      "metadata": {
        "state": "normal"
      },
      "cell_type": "markdown",
      "source": "What's a \"generator\"?"
    },
    {
      "metadata": {
        "trusted": true
      },
      "cell_type": "code",
      "source": "l = [2**x for x in range(10)]",
      "execution_count": 58,
      "outputs": []
    },
    {
      "metadata": {
        "trusted": true
      },
      "cell_type": "code",
      "source": "for x in l: \n    print(x)",
      "execution_count": 59,
      "outputs": [
        {
          "output_type": "stream",
          "text": "1\n2\n4\n8\n16\n32\n64\n128\n256\n512\n",
          "name": "stdout"
        }
      ]
    },
    {
      "metadata": {
        "trusted": true
      },
      "cell_type": "code",
      "source": "len(l)",
      "execution_count": 64,
      "outputs": [
        {
          "output_type": "execute_result",
          "execution_count": 64,
          "data": {
            "text/plain": "10"
          },
          "metadata": {}
        }
      ]
    },
    {
      "metadata": {
        "trusted": true
      },
      "cell_type": "code",
      "source": "l[5]",
      "execution_count": 65,
      "outputs": [
        {
          "output_type": "execute_result",
          "execution_count": 65,
          "data": {
            "text/plain": "32"
          },
          "metadata": {}
        }
      ]
    },
    {
      "metadata": {
        "trusted": true
      },
      "cell_type": "code",
      "source": "g = (2**x for x in range(10))\n#its a generator",
      "execution_count": 60,
      "outputs": []
    },
    {
      "metadata": {
        "trusted": true
      },
      "cell_type": "code",
      "source": "type(g)",
      "execution_count": 61,
      "outputs": [
        {
          "output_type": "execute_result",
          "execution_count": 61,
          "data": {
            "text/plain": "generator"
          },
          "metadata": {}
        }
      ]
    },
    {
      "metadata": {
        "trusted": true
      },
      "cell_type": "code",
      "source": "g",
      "execution_count": 62,
      "outputs": [
        {
          "output_type": "execute_result",
          "execution_count": 62,
          "data": {
            "text/plain": "<generator object <genexpr> at 0x7fc19bdaa4f8>"
          },
          "metadata": {}
        }
      ]
    },
    {
      "metadata": {
        "trusted": true
      },
      "cell_type": "code",
      "source": "for x in g:\n    print(x)",
      "execution_count": 63,
      "outputs": [
        {
          "output_type": "stream",
          "text": "1\n2\n4\n8\n16\n32\n64\n128\n256\n512\n",
          "name": "stdout"
        }
      ]
    },
    {
      "metadata": {
        "trusted": true
      },
      "cell_type": "code",
      "source": "len(g)",
      "execution_count": 66,
      "outputs": [
        {
          "output_type": "error",
          "ename": "TypeError",
          "evalue": "object of type 'generator' has no len()",
          "traceback": [
            "\u001b[0;31m---------------------------------------------------------------------------\u001b[0m",
            "\u001b[0;31mTypeError\u001b[0m                                 Traceback (most recent call last)",
            "\u001b[0;32m<ipython-input-66-a85827eadc46>\u001b[0m in \u001b[0;36m<module>\u001b[0;34m\u001b[0m\n\u001b[0;32m----> 1\u001b[0;31m \u001b[0mlen\u001b[0m\u001b[0;34m(\u001b[0m\u001b[0mg\u001b[0m\u001b[0;34m)\u001b[0m\u001b[0;34m\u001b[0m\u001b[0;34m\u001b[0m\u001b[0m\n\u001b[0m",
            "\u001b[0;31mTypeError\u001b[0m: object of type 'generator' has no len()"
          ]
        }
      ]
    },
    {
      "metadata": {
        "trusted": true
      },
      "cell_type": "code",
      "source": "g[5]",
      "execution_count": 67,
      "outputs": [
        {
          "output_type": "error",
          "ename": "TypeError",
          "evalue": "'generator' object is not subscriptable",
          "traceback": [
            "\u001b[0;31m---------------------------------------------------------------------------\u001b[0m",
            "\u001b[0;31mTypeError\u001b[0m                                 Traceback (most recent call last)",
            "\u001b[0;32m<ipython-input-67-c7a90841d0a2>\u001b[0m in \u001b[0;36m<module>\u001b[0;34m\u001b[0m\n\u001b[0;32m----> 1\u001b[0;31m \u001b[0mg\u001b[0m\u001b[0;34m[\u001b[0m\u001b[0;36m5\u001b[0m\u001b[0;34m]\u001b[0m\u001b[0;34m\u001b[0m\u001b[0;34m\u001b[0m\u001b[0m\n\u001b[0m",
            "\u001b[0;31mTypeError\u001b[0m: 'generator' object is not subscriptable"
          ]
        }
      ]
    },
    {
      "metadata": {
        "trusted": true
      },
      "cell_type": "code",
      "source": "sum([x for x in range(1_000_000)])",
      "execution_count": 69,
      "outputs": [
        {
          "output_type": "execute_result",
          "execution_count": 69,
          "data": {
            "text/plain": "499999500000"
          },
          "metadata": {}
        }
      ]
    },
    {
      "metadata": {
        "trusted": true
      },
      "cell_type": "code",
      "source": "%timeit sum([x for x in range(1_000_000)])",
      "execution_count": 70,
      "outputs": [
        {
          "output_type": "stream",
          "text": "52.2 ms ± 637 µs per loop (mean ± std. dev. of 7 runs, 10 loops each)\n",
          "name": "stdout"
        }
      ]
    },
    {
      "metadata": {
        "trusted": true
      },
      "cell_type": "code",
      "source": "%timeit sum(x for x in range(1_000_000))",
      "execution_count": 71,
      "outputs": [
        {
          "output_type": "stream",
          "text": "45 ms ± 853 µs per loop (mean ± std. dev. of 7 runs, 10 loops each)\n",
          "name": "stdout"
        }
      ]
    },
    {
      "metadata": {},
      "cell_type": "markdown",
      "source": "a generator is just like an iterator\n+ its thrown away after certain number of uses\n+ an iterator is defn like a class\n+ a generator behaves like an iterator, but there's no class for it\n+ instantiating a generator doesn’t actually compute anything until next is called on it\n+ values in generators arent retrieved until next is called\n"
    },
    {
      "metadata": {
        "trusted": true
      },
      "cell_type": "code",
      "source": "g = (2**x + x*x + 5 for x in range(10))",
      "execution_count": 79,
      "outputs": []
    },
    {
      "metadata": {
        "trusted": true
      },
      "cell_type": "code",
      "source": "next(g) #ran 10 times",
      "execution_count": 90,
      "outputs": [
        {
          "output_type": "error",
          "ename": "StopIteration",
          "evalue": "",
          "traceback": [
            "\u001b[0;31m---------------------------------------------------------------------------\u001b[0m",
            "\u001b[0;31mStopIteration\u001b[0m                             Traceback (most recent call last)",
            "\u001b[0;32m<ipython-input-90-e734f8aca5ac>\u001b[0m in \u001b[0;36m<module>\u001b[0;34m\u001b[0m\n\u001b[0;32m----> 1\u001b[0;31m \u001b[0mnext\u001b[0m\u001b[0;34m(\u001b[0m\u001b[0mg\u001b[0m\u001b[0;34m)\u001b[0m\u001b[0;34m\u001b[0m\u001b[0;34m\u001b[0m\u001b[0m\n\u001b[0m",
            "\u001b[0;31mStopIteration\u001b[0m: "
          ]
        }
      ]
    },
    {
      "metadata": {
        "trusted": true
      },
      "cell_type": "code",
      "source": "def foo():\n    print('hello world!')\n    if False:\n        yield\n#yield keyword makes the foo ftn return a generator",
      "execution_count": 93,
      "outputs": []
    },
    {
      "metadata": {
        "trusted": true
      },
      "cell_type": "code",
      "source": "g = foo()",
      "execution_count": 94,
      "outputs": []
    },
    {
      "metadata": {
        "trusted": true
      },
      "cell_type": "code",
      "source": "next(g)\n#prints hello world n then theres a stop iteration error",
      "execution_count": 97,
      "outputs": [
        {
          "output_type": "error",
          "ename": "StopIteration",
          "evalue": "",
          "traceback": [
            "\u001b[0;31m---------------------------------------------------------------------------\u001b[0m",
            "\u001b[0;31mStopIteration\u001b[0m                             Traceback (most recent call last)",
            "\u001b[0;32m<ipython-input-97-bdba72d374e5>\u001b[0m in \u001b[0;36m<module>\u001b[0;34m\u001b[0m\n\u001b[0;32m----> 1\u001b[0;31m \u001b[0mnext\u001b[0m\u001b[0;34m(\u001b[0m\u001b[0mg\u001b[0m\u001b[0;34m)\u001b[0m\u001b[0;34m\u001b[0m\u001b[0;34m\u001b[0m\u001b[0m\n\u001b[0m\u001b[1;32m      2\u001b[0m \u001b[0;31m#prints hello world n then theres a stop iteration error\u001b[0m\u001b[0;34m\u001b[0m\u001b[0;34m\u001b[0m\u001b[0;34m\u001b[0m\u001b[0m\n",
            "\u001b[0;31mStopIteration\u001b[0m: "
          ]
        }
      ]
    },
    {
      "metadata": {
        "trusted": true
      },
      "cell_type": "code",
      "source": "def foo():\n    print('A')\n    yield \n    print('B')\n    yield \n    print('C')\n    yield ",
      "execution_count": 98,
      "outputs": []
    },
    {
      "metadata": {
        "trusted": true
      },
      "cell_type": "code",
      "source": "g = foo()",
      "execution_count": 99,
      "outputs": []
    },
    {
      "metadata": {
        "trusted": true
      },
      "cell_type": "code",
      "source": "next(g) #prints A, B, C and then a stopitertion exception",
      "execution_count": 103,
      "outputs": [
        {
          "output_type": "error",
          "ename": "StopIteration",
          "evalue": "",
          "traceback": [
            "\u001b[0;31m---------------------------------------------------------------------------\u001b[0m",
            "\u001b[0;31mStopIteration\u001b[0m                             Traceback (most recent call last)",
            "\u001b[0;32m<ipython-input-103-e734f8aca5ac>\u001b[0m in \u001b[0;36m<module>\u001b[0;34m\u001b[0m\n\u001b[0;32m----> 1\u001b[0;31m \u001b[0mnext\u001b[0m\u001b[0;34m(\u001b[0m\u001b[0mg\u001b[0m\u001b[0;34m)\u001b[0m\u001b[0;34m\u001b[0m\u001b[0;34m\u001b[0m\u001b[0m\n\u001b[0m",
            "\u001b[0;31mStopIteration\u001b[0m: "
          ]
        }
      ]
    },
    {
      "metadata": {},
      "cell_type": "markdown",
      "source": "with yield in the code, they're code routines n it allows the code to be called in another place\n+ return this certain value, and the next time u call it, it resumes where it stopped \n+ pausing the execution of ftn to return a value, but remembers all the internal state of the code "
    },
    {
      "metadata": {
        "trusted": true
      },
      "cell_type": "code",
      "source": "def foo(x, y):\n    for z in range(x, y):\n        yield 2*z",
      "execution_count": 107,
      "outputs": []
    },
    {
      "metadata": {
        "trusted": true
      },
      "cell_type": "code",
      "source": "g = foo(5, 10)",
      "execution_count": 108,
      "outputs": []
    },
    {
      "metadata": {
        "trusted": true
      },
      "cell_type": "code",
      "source": "next(g)\n#prints 10, 12, 14, 16, 18, then stopiteration error",
      "execution_count": 109,
      "outputs": [
        {
          "output_type": "execute_result",
          "execution_count": 109,
          "data": {
            "text/plain": "10"
          },
          "metadata": {}
        }
      ]
    },
    {
      "metadata": {
        "trusted": true
      },
      "cell_type": "code",
      "source": "for i in foo(5,8):\n    print(i)",
      "execution_count": 110,
      "outputs": [
        {
          "output_type": "stream",
          "text": "10\n12\n14\n",
          "name": "stdout"
        }
      ]
    },
    {
      "metadata": {},
      "cell_type": "markdown",
      "source": "+ a generator ftn just needs yield keyword\n+ generators cna be target of for loop"
    },
    {
      "metadata": {
        "trusted": true
      },
      "cell_type": "code",
      "source": "f = foo(1,6)\ng = foo(5,10)\nh = foo(100,108)",
      "execution_count": 114,
      "outputs": []
    },
    {
      "metadata": {
        "trusted": true
      },
      "cell_type": "code",
      "source": "next(f)",
      "execution_count": 115,
      "outputs": [
        {
          "output_type": "execute_result",
          "execution_count": 115,
          "data": {
            "text/plain": "2"
          },
          "metadata": {}
        }
      ]
    },
    {
      "metadata": {
        "trusted": true
      },
      "cell_type": "code",
      "source": "next(h)",
      "execution_count": 116,
      "outputs": [
        {
          "output_type": "execute_result",
          "execution_count": 116,
          "data": {
            "text/plain": "200"
          },
          "metadata": {}
        }
      ]
    },
    {
      "metadata": {
        "trusted": true
      },
      "cell_type": "code",
      "source": "#generator way to write the code from above\nclass ArrayList:\n    def __init__(self):\n        self.data = []\n        \n    def append(self, val):\n        self.data.append(None)\n        self.data[len(self.data)-1] = val\n        \n    def __iter__(self): #now a generator method\n        for i in range(len(self.data)):\n            yield self.data[i]",
      "execution_count": 117,
      "outputs": []
    },
    {
      "metadata": {
        "state": "normal",
        "trusted": true
      },
      "cell_type": "code",
      "source": "l = ArrayList()\nfor x in range(10):\n    l.append(2**x)",
      "execution_count": 118,
      "outputs": []
    },
    {
      "metadata": {
        "trusted": true
      },
      "cell_type": "code",
      "source": "l.data #built in list",
      "execution_count": 119,
      "outputs": [
        {
          "output_type": "execute_result",
          "execution_count": 119,
          "data": {
            "text/plain": "[1, 2, 4, 8, 16, 32, 64, 128, 256, 512]"
          },
          "metadata": {}
        }
      ]
    },
    {
      "metadata": {
        "state": "normal",
        "trusted": true
      },
      "cell_type": "code",
      "source": "it = iter(l)",
      "execution_count": 120,
      "outputs": []
    },
    {
      "metadata": {
        "state": "normal",
        "trusted": true
      },
      "cell_type": "code",
      "source": "type(it) #bc iter ftn calls iter method whic returns yield keyword",
      "execution_count": 121,
      "outputs": [
        {
          "output_type": "execute_result",
          "execution_count": 121,
          "data": {
            "text/plain": "generator"
          },
          "metadata": {}
        }
      ]
    },
    {
      "metadata": {
        "state": "normal",
        "trusted": true
      },
      "cell_type": "code",
      "source": "next(it)",
      "execution_count": 122,
      "outputs": [
        {
          "output_type": "execute_result",
          "execution_count": 122,
          "data": {
            "text/plain": "1"
          },
          "metadata": {}
        }
      ]
    },
    {
      "metadata": {
        "trusted": true
      },
      "cell_type": "code",
      "source": "for x in l:\n    print(x)",
      "execution_count": 123,
      "outputs": [
        {
          "output_type": "stream",
          "text": "1\n2\n4\n8\n16\n32\n64\n128\n256\n512\n",
          "name": "stdout"
        }
      ]
    },
    {
      "metadata": {},
      "cell_type": "markdown",
      "source": "iterator vs generator\n+ iter is object oriented api\n    + relies on classes \n+ gen is a keyword ftn: yield\n    + relies on resuming where the previous next ran the code"
    }
  ],
  "metadata": {
    "kernelspec": {
      "name": "python3",
      "display_name": "Python 3",
      "language": "python"
    },
    "mimir": {
      "project_id": "d914221b-512b-42e5-9b69-2c12f57ad996",
      "last_submission_id": "",
      "data": {}
    },
    "varInspector": {
      "window_display": false,
      "cols": {
        "lenName": 16,
        "lenType": 16,
        "lenVar": 40
      },
      "kernels_config": {
        "python": {
          "library": "var_list.py",
          "delete_cmd_prefix": "del ",
          "delete_cmd_postfix": "",
          "varRefreshCmd": "print(var_dic_list())"
        },
        "r": {
          "library": "var_list.r",
          "delete_cmd_prefix": "rm(",
          "delete_cmd_postfix": ") ",
          "varRefreshCmd": "cat(var_dic_list()) "
        }
      },
      "types_to_exclude": [
        "module",
        "function",
        "builtin_function_or_method",
        "instance",
        "_Feature"
      ]
    },
    "language_info": {
      "name": "python",
      "version": "3.7.3",
      "mimetype": "text/x-python",
      "codemirror_mode": {
        "name": "ipython",
        "version": 3
      },
      "pygments_lexer": "ipython3",
      "nbconvert_exporter": "python",
      "file_extension": ".py"
    }
  },
  "nbformat": 4,
  "nbformat_minor": 2
}