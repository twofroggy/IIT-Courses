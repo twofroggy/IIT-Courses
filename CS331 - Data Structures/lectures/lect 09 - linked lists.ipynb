{
  "cells": [
    {
      "metadata": {
        "state": "normal"
      },
      "cell_type": "markdown",
      "source": "# Linked Lists\n\n## Agenda\n\n1. The `LinkedList` and `Node` classes  \n2. Implementing `append`\n3. Implementing deletion\n4. Bidirectional links (Doubly-linked list) & Sentinel head\n5. Incorporating a \"cursor\"\n6. Run-time analysis"
    },
    {
      "metadata": {
        "state": "normal"
      },
      "cell_type": "markdown",
      "source": "## 1. The `LinkedList` and `Node` classes"
    },
    {
      "metadata": {
        "state": "normal",
        "trusted": true
      },
      "cell_type": "code",
      "source": "class LinkedList:\n    class Node: #common name for building block of linked list\n        def __init__(self, val, next=None):\n            self.val = val\n            self.next = next\n    \n    def __init__(self):\n        self.head = None\n        self.count = 0 #keeps track of # of nodes n elements\n    \n    def prepend(self, value):\n        self.head = LinkedList.Node(value, self.head)\n        self.count += 1 #update # of elements\n    #assign new node to be head n refs the current head in 2nd index\n    #works with an empty lsit as well bc it'll be val, None in the new node\n    \n    def __len__(self):\n        return self.count\n        \n    def __iter__(self): #generator ftn\n        n = self.head #refs to the same node as head\n        while n: #as long as n is not None\n            yield n.val #\n            n = n.next\n            #move n to the next list in the linked structure\n    \n    def __repr__(self):\n        return '[' + ', '.join(repr(x) for x in self) + ']'",
      "execution_count": 11,
      "outputs": []
    },
    {
      "metadata": {
        "state": "normal",
        "trusted": true
      },
      "cell_type": "code",
      "source": "lst = LinkedList()\nfor i in range(10):\n    lst.prepend(i)\nlst",
      "execution_count": 12,
      "outputs": [
        {
          "output_type": "execute_result",
          "execution_count": 12,
          "data": {
            "text/plain": "[9, 8, 7, 6, 5, 4, 3, 2, 1, 0]"
          },
          "metadata": {}
        }
      ]
    },
    {
      "metadata": {
        "state": "normal"
      },
      "cell_type": "markdown",
      "source": "## 2. Implementing `append`"
    },
    {
      "metadata": {
        "state": "normal"
      },
      "cell_type": "markdown",
      "source": "### Option 1"
    },
    {
      "metadata": {
        "state": "normal",
        "trusted": true
      },
      "cell_type": "code",
      "source": "class LinkedList (LinkedList): # note: using inheritance to extend prior definition\n    def append(self, value):\n        if len(self) == 0:\n            self.prepend(value)\n        else:\n            p = self.head\n            \n            #for _ in range(len(self) - 1):\n            #    p = p.next\n               \n            while p.next:\n                p = p.next\n                \n            #p should point to the last node in the list now\n            p.next = LinkedList.Node(value)\n            \n            self.count += 1",
      "execution_count": 13,
      "outputs": []
    },
    {
      "metadata": {
        "state": "normal",
        "trusted": true
      },
      "cell_type": "code",
      "source": "lst = LinkedList()\nfor i in range(10):\n    lst.append(i)\nlst",
      "execution_count": 14,
      "outputs": [
        {
          "output_type": "execute_result",
          "execution_count": 14,
          "data": {
            "text/plain": "[0, 1, 2, 3, 4, 5, 6, 7, 8, 9]"
          },
          "metadata": {}
        }
      ]
    },
    {
      "metadata": {},
      "cell_type": "markdown",
      "source": "append needs to go thru all the nodes in the lsit to put in a new one, which makes the runtime complexity O(n), when it used to be O(1)"
    },
    {
      "metadata": {
        "state": "normal"
      },
      "cell_type": "markdown",
      "source": "### Option 2"
    },
    {
      "metadata": {
        "state": "normal",
        "trusted": true
      },
      "cell_type": "code",
      "source": "class LinkedList (LinkedList):\n    def __init__(self):\n        self.head = self.tail = None\n        self.count = 0\n        \n    def prepend(self, value):\n        self.head = LinkedList.Node(value, self.head)\n        if not self.tail: #if self.tail has no value\n            self.tail = self.head\n        self.count += 1\n        \n    def append(self, value):\n        if len(self) == 0:\n            self.prepend(value)\n        else: \n            self.tail.next = LinkedList.Node(value)\n            self.tail = self.tail.next\n            self.count += 1",
      "execution_count": 16,
      "outputs": []
    },
    {
      "metadata": {
        "state": "normal",
        "trusted": true
      },
      "cell_type": "code",
      "source": "lst = LinkedList()\nfor i in range(10):\n    lst.append(i)\nlst",
      "execution_count": 17,
      "outputs": [
        {
          "output_type": "execute_result",
          "execution_count": 17,
          "data": {
            "text/plain": "[0, 1, 2, 3, 4, 5, 6, 7, 8, 9]"
          },
          "metadata": {}
        }
      ]
    },
    {
      "metadata": {
        "state": "normal"
      },
      "cell_type": "markdown",
      "source": "## 3. Implementing deletion"
    },
    {
      "metadata": {
        "state": "normal"
      },
      "cell_type": "markdown",
      "source": "### Deleting the head"
    },
    {
      "metadata": {
        "state": "normal",
        "trusted": true
      },
      "cell_type": "code",
      "source": "class LinkedList (LinkedList):\n    def del_head(self):\n        assert(len(self) > 0)\n        self.head = self.head.next\n        if self.head is None:\n            self.tail = None\n        self.count -= 1",
      "execution_count": 18,
      "outputs": []
    },
    {
      "metadata": {
        "state": "normal",
        "trusted": true
      },
      "cell_type": "code",
      "source": "lst = LinkedList()\nfor i in range(10):\n    lst.append(i)\nlst.del_head()\nlst.del_head()\nlst",
      "execution_count": 19,
      "outputs": [
        {
          "output_type": "execute_result",
          "execution_count": 19,
          "data": {
            "text/plain": "[2, 3, 4, 5, 6, 7, 8, 9]"
          },
          "metadata": {}
        }
      ]
    },
    {
      "metadata": {
        "trusted": true
      },
      "cell_type": "code",
      "source": "lst.del_head()\nlen(lst), lst",
      "execution_count": 28,
      "outputs": [
        {
          "output_type": "execute_result",
          "execution_count": 28,
          "data": {
            "text/plain": "(0, [])"
          },
          "metadata": {}
        }
      ]
    },
    {
      "metadata": {
        "state": "normal"
      },
      "cell_type": "markdown",
      "source": "### Deleting the tail"
    },
    {
      "metadata": {
        "state": "normal",
        "trusted": true
      },
      "cell_type": "code",
      "source": "class LinkedList (LinkedList):\n    def del_tail(self):\n        assert(len(self) > 0)\n        if len(self) == 1:\n            self.head = self.tail = None\n        else: \n            tp = self.head\n            while tp.next is not self.tail:\n                tp = tp.next\n        # tp refers to the node prior to tail\n        \n            self.tail = tp\n            self.tail.next = None\n        self.count -= 1",
      "execution_count": 29,
      "outputs": []
    },
    {
      "metadata": {
        "state": "normal",
        "trusted": true
      },
      "cell_type": "code",
      "source": "lst = LinkedList()\nfor i in range(10):\n    lst.append(i)\nlst.del_tail()\nlst.del_tail()\nlst",
      "execution_count": 30,
      "outputs": [
        {
          "output_type": "execute_result",
          "execution_count": 30,
          "data": {
            "text/plain": "[0, 1, 2, 3, 4, 5, 6, 7]"
          },
          "metadata": {}
        }
      ]
    },
    {
      "metadata": {
        "trusted": true
      },
      "cell_type": "code",
      "source": "lst.del_head()\nlen(lst), lst",
      "execution_count": 39,
      "outputs": [
        {
          "output_type": "error",
          "ename": "AssertionError",
          "evalue": "",
          "traceback": [
            "\u001b[0;31m---------------------------------------------------------------------------\u001b[0m",
            "\u001b[0;31mAssertionError\u001b[0m                            Traceback (most recent call last)",
            "\u001b[0;32m<ipython-input-39-6fbee0c8f180>\u001b[0m in \u001b[0;36m<module>\u001b[0;34m\u001b[0m\n\u001b[0;32m----> 1\u001b[0;31m \u001b[0mlst\u001b[0m\u001b[0;34m.\u001b[0m\u001b[0mdel_head\u001b[0m\u001b[0;34m(\u001b[0m\u001b[0;34m)\u001b[0m\u001b[0;34m\u001b[0m\u001b[0;34m\u001b[0m\u001b[0m\n\u001b[0m\u001b[1;32m      2\u001b[0m \u001b[0mlen\u001b[0m\u001b[0;34m(\u001b[0m\u001b[0mlst\u001b[0m\u001b[0;34m)\u001b[0m\u001b[0;34m,\u001b[0m \u001b[0mlst\u001b[0m\u001b[0;34m\u001b[0m\u001b[0;34m\u001b[0m\u001b[0m\n",
            "\u001b[0;32m<ipython-input-18-99671254019c>\u001b[0m in \u001b[0;36mdel_head\u001b[0;34m(self)\u001b[0m\n\u001b[1;32m      1\u001b[0m \u001b[0;32mclass\u001b[0m \u001b[0mLinkedList\u001b[0m \u001b[0;34m(\u001b[0m\u001b[0mLinkedList\u001b[0m\u001b[0;34m)\u001b[0m\u001b[0;34m:\u001b[0m\u001b[0;34m\u001b[0m\u001b[0;34m\u001b[0m\u001b[0m\n\u001b[1;32m      2\u001b[0m     \u001b[0;32mdef\u001b[0m \u001b[0mdel_head\u001b[0m\u001b[0;34m(\u001b[0m\u001b[0mself\u001b[0m\u001b[0;34m)\u001b[0m\u001b[0;34m:\u001b[0m\u001b[0;34m\u001b[0m\u001b[0;34m\u001b[0m\u001b[0m\n\u001b[0;32m----> 3\u001b[0;31m         \u001b[0;32massert\u001b[0m\u001b[0;34m(\u001b[0m\u001b[0mlen\u001b[0m\u001b[0;34m(\u001b[0m\u001b[0mself\u001b[0m\u001b[0;34m)\u001b[0m \u001b[0;34m>\u001b[0m \u001b[0;36m0\u001b[0m\u001b[0;34m)\u001b[0m\u001b[0;34m\u001b[0m\u001b[0;34m\u001b[0m\u001b[0m\n\u001b[0m\u001b[1;32m      4\u001b[0m         \u001b[0mself\u001b[0m\u001b[0;34m.\u001b[0m\u001b[0mhead\u001b[0m \u001b[0;34m=\u001b[0m \u001b[0mself\u001b[0m\u001b[0;34m.\u001b[0m\u001b[0mhead\u001b[0m\u001b[0;34m.\u001b[0m\u001b[0mnext\u001b[0m\u001b[0;34m\u001b[0m\u001b[0;34m\u001b[0m\u001b[0m\n\u001b[1;32m      5\u001b[0m         \u001b[0;32mif\u001b[0m \u001b[0mself\u001b[0m\u001b[0;34m.\u001b[0m\u001b[0mhead\u001b[0m \u001b[0;32mis\u001b[0m \u001b[0;32mNone\u001b[0m\u001b[0;34m:\u001b[0m\u001b[0;34m\u001b[0m\u001b[0;34m\u001b[0m\u001b[0m\n",
            "\u001b[0;31mAssertionError\u001b[0m: "
          ]
        }
      ]
    },
    {
      "metadata": {},
      "cell_type": "markdown",
      "source": "runtime complexity of this is O(n) bc of the else, while loop to find the end before the tail "
    },
    {
      "metadata": {
        "state": "normal"
      },
      "cell_type": "markdown",
      "source": "## 4. Bidirectional links (Doubly-linked list) & Sentinel head"
    },
    {
      "metadata": {
        "state": "normal",
        "trusted": true
      },
      "cell_type": "code",
      "source": "class LinkedList:\n    class Node:\n        def __init__(self, val, prior=None, next=None):\n            self.val = val\n            self.prior = prior\n            self.next  = next\n    \n    def __init__(self):\n        self.count = 0\n        self.head = LinkedList.Node(None)\n        self.head.prior = self.head.next = self.head\n        \n    def prepend(self, value):\n        n = LinkedList.Node(value, prior=self.head, next=self.head.next)\n        self.head.next.prior = self.head.next = n\n        self.count += 1\n        \n    def append(self, value):\n        n = LinkedList.Node(value, prior=self.head.prior, next=self.head)\n        self.head.prior.next = n\n        self.head.prior = n \n        self.count += 1\n        \n    def __getitem__(self, idx):\n        assert idx >= 0 and idx < len(self)\n        n = self.head.next\n        for _ in range(idx):\n            n = n.next\n        return n.val\n        \n    def del_tail(self):\n        assert len(self) > 0\n        n = self.head.prior\n        n.next.prior = n.prior\n        n.prior.next = n.next\n        self.count -= 1\n        \n    def __len__(self):\n        return self.count\n        \n    def __iter__(self):\n        n = self.head.next\n        while n is not self.head:\n            yield n.val\n            n = n.next\n    \n    def __repr__(self):\n        return '[' + ', '.join(str(x) for x in self) + ']'",
      "execution_count": 68,
      "outputs": []
    },
    {
      "metadata": {
        "state": "normal",
        "trusted": true
      },
      "cell_type": "code",
      "source": "lst = LinkedList()\nfor i in range(10):\n    lst.prepend(i)    \nfor i in range(10):\n    lst.append(i)\nlst",
      "execution_count": 69,
      "outputs": [
        {
          "output_type": "execute_result",
          "execution_count": 69,
          "data": {
            "text/plain": "[9, 8, 7, 6, 5, 4, 3, 2, 1, 0, 0, 1, 2, 3, 4, 5, 6, 7, 8, 9]"
          },
          "metadata": {}
        }
      ]
    },
    {
      "metadata": {
        "trusted": true,
        "scrolled": true
      },
      "cell_type": "code",
      "source": "lst.del_tail()\nlen(lst), lst",
      "execution_count": 73,
      "outputs": [
        {
          "output_type": "execute_result",
          "execution_count": 73,
          "data": {
            "text/plain": "(19, [9, 8, 7, 6, 5, 4, 3, 2, 1, 0, 0, 1, 2, 3, 4, 5, 6, 7, 8])"
          },
          "metadata": {}
        }
      ]
    },
    {
      "metadata": {
        "trusted": true
      },
      "cell_type": "code",
      "source": "lst[len(lst)-1]",
      "execution_count": 71,
      "outputs": [
        {
          "output_type": "execute_result",
          "execution_count": 71,
          "data": {
            "text/plain": "9"
          },
          "metadata": {}
        }
      ]
    },
    {
      "metadata": {
        "state": "normal"
      },
      "cell_type": "markdown",
      "source": "## 5. Incorporating a \"cursor\""
    },
    {
      "metadata": {
        "state": "normal",
        "trusted": true
      },
      "cell_type": "code",
      "source": "class LinkedList:\n    class Node:\n        def __init__(self, val, prior=None, next=None):\n            self.val = val\n            self.prior = prior\n            self.next  = next\n    \n    def __init__(self):\n        self.head = self.cursor = LinkedList.Node(None)\n        self.head.prior = self.head.next = self.head\n        self.count = 0\n                \n    def append(self, value):\n        n = LinkedList.Node(value, prior=self.head.prior, next=self.head)\n        n.prior.next = n.next.prior = n\n        self.count += 1\n        \n    def cursor_set(self, idx):\n        n = self.head.next\n        for _ in range(idx):\n            n = n.next\n        self.cursor = n\n    \n    def cursor_insert(self, value):\n        n = LinkedList.Node(value, prior=self.cursor.prior, next=self.cursor)\n        n.prior.next = n.next.prior = n\n        self.count += 1\n    \n    def cursor_delete(self):\n        n = self.cursor\n        n.next.prior = n.prior\n        n.prior.next = n.next\n        self.cursor = self.cursor.next\n        self.count -= 1\n        \n    def __len__(self):\n        return self.count\n        \n    def __iter__(self):\n        n = self.head.next\n        while n is not self.head:\n            yield n.val\n            n = n.next\n    \n    def __repr__(self):\n        return '[' + ', '.join(str(x) for x in self) + ']'",
      "execution_count": null,
      "outputs": []
    },
    {
      "metadata": {
        "state": "normal",
        "trusted": true
      },
      "cell_type": "code",
      "source": "lst = LinkedList()\nfor i in range(10):\n    lst.append(i)\nlst",
      "execution_count": null,
      "outputs": []
    },
    {
      "metadata": {
        "state": "normal",
        "trusted": true
      },
      "cell_type": "code",
      "source": "lst.cursor_set(4) #O(n)\nfor x in 'abcd':\n    lst.cursor_insert(x) #O(1)\nlst",
      "execution_count": null,
      "outputs": []
    },
    {
      "metadata": {
        "state": "normal",
        "trusted": true
      },
      "cell_type": "code",
      "source": "lst.cursor_set(8)\nfor _ in range(4):\n    lst.cursor_delete()",
      "execution_count": null,
      "outputs": []
    },
    {
      "metadata": {
        "trusted": true
      },
      "cell_type": "code",
      "source": "lst",
      "execution_count": null,
      "outputs": []
    },
    {
      "metadata": {
        "state": "normal"
      },
      "cell_type": "markdown",
      "source": "## 6. Run-time analysis"
    },
    {
      "metadata": {
        "state": "normal"
      },
      "cell_type": "markdown",
      "source": "Run-time complexities for circular, doubly-linked list of $N$ elements:\n\n- indexing (position-based access) = $O(n)$\n- search (unsorted) = $O(n)$\n- search (sorted) = $O(n)$ --- binary search isn't possible!\n- prepend = $O(1)$\n- append = $O(1)$\n- insertion at arbitrary position: indexing = $O(n)$ + insertion = $O(1)$\n- deletion of arbitrary element: indexing = $O(n)$ + deletion = $O(1)$"
    },
    {
      "metadata": {
        "trusted": true
      },
      "cell_type": "code",
      "source": "",
      "execution_count": null,
      "outputs": []
    }
  ],
  "metadata": {
    "kernelspec": {
      "name": "python3",
      "display_name": "Python 3",
      "language": "python"
    },
    "language_info": {
      "name": "python",
      "version": "3.7.3",
      "mimetype": "text/x-python",
      "codemirror_mode": {
        "name": "ipython",
        "version": 3
      },
      "pygments_lexer": "ipython3",
      "nbconvert_exporter": "python",
      "file_extension": ".py"
    },
    "mimir": {
      "project_id": "41bee725-65ca-4c92-94b2-996780a0138c",
      "last_submission_id": "",
      "data": {}
    },
    "varInspector": {
      "window_display": false,
      "cols": {
        "lenName": 16,
        "lenType": 16,
        "lenVar": 40
      },
      "kernels_config": {
        "python": {
          "library": "var_list.py",
          "delete_cmd_prefix": "del ",
          "delete_cmd_postfix": "",
          "varRefreshCmd": "print(var_dic_list())"
        },
        "r": {
          "library": "var_list.r",
          "delete_cmd_prefix": "rm(",
          "delete_cmd_postfix": ") ",
          "varRefreshCmd": "cat(var_dic_list()) "
        }
      },
      "types_to_exclude": [
        "module",
        "function",
        "builtin_function_or_method",
        "instance",
        "_Feature"
      ]
    }
  },
  "nbformat": 4,
  "nbformat_minor": 2
}