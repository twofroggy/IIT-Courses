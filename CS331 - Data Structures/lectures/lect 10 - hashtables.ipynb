{
  "cells": [
    {
      "metadata": {
        "state": "normal"
      },
      "cell_type": "markdown",
      "source": "# Hashtables\n\n## Agenda\n\n- Discussion: pros/cons of array-backed and linked structures\n- Comparison to `set` and `dict`\n- The *map* ADT\n- Direct lookups via *Hashing*\n- Hashtables\n    - Collisions and the \"Birthday problem\"\n- Runtime analysis & Discussion"
    },
    {
      "metadata": {
        "state": "normal"
      },
      "cell_type": "markdown",
      "source": "## Discussion: pros/cons of array-backed and linked structures"
    },
    {
      "metadata": {
        "state": "normal"
      },
      "cell_type": "markdown",
      "source": "Between the array-backed and linked list we have:\n\n1. $O(1)$ indexing (array-backed)\n2. $O(1)$ appending (array-backed & linked)\n3. $O(1)$ insertion/deletion without indexing (linked)\n4. $O(N)$ linear search (unsorted)\n5. $O(\\log N)$ binary search, when sorted (only array-backed lists)"
    },
    {
      "metadata": {
        "state": "normal"
      },
      "cell_type": "markdown",
      "source": "## Comparison to `set` and `dict`"
    },
    {
      "metadata": {
        "state": "normal"
      },
      "cell_type": "markdown",
      "source": "The `set` and `dict` types don't support positional access (i.e., by index), but do support lookup/search. How fast do they fare compared to lists?"
    },
    {
      "metadata": {
        "state": "normal",
        "trusted": true
      },
      "cell_type": "code",
      "source": "import timeit\n\ndef lin_search(lst, x):\n    return x in lst\n    \ndef bin_search(lst, x):\n    # assumes lst is sorted\n    low = 0\n    hi  = len(lst)-1\n    while low <= hi:\n        mid = (low + hi) // 2\n        if x < lst[mid]:\n            hi  = mid - 1\n        elif x < lst[mid]:\n            low = mid + 1\n        else:\n            return True\n    else:\n        return False\n    \ndef set_search(st, x):\n    return x in st\n    \n    \ndef dict_search(dct, x):\n    return x in dct",
      "execution_count": 1,
      "outputs": []
    },
    {
      "metadata": {
        "state": "normal",
        "trusted": true
      },
      "cell_type": "code",
      "source": "%matplotlib inline\nimport matplotlib.pyplot as plt\nimport numpy as np\nimport timeit\nimport random\n\nns = np.linspace(100, 10_000, 50, dtype=int)\n\nts_linsearch = [timeit.timeit('lin_search(lst, 0)',\n                              setup='lst = list(range({})); random.shuffle(lst)'.format(n),\n                              globals=globals(),\n                              number=100)\n                for n in ns]\n\nts_binsearch = [timeit.timeit('bin_search(lst, 0)',\n                              setup='lst = list(range({}))'.format(n),\n                              globals=globals(),\n                              number=100)\n                for n in ns]\n\n\nts_setsearch = [timeit.timeit('set_search(st, 0)',\n                              #'set_search(st, {})'.format(random.randrange(n)),\n                              setup='lst = list(range({})); random.shuffle(lst);'\n                                    'st = set(lst)'.format(n),\n                              globals=globals(),\n                              number=100)\n                for n in ns]\n\nts_dctsearch = [timeit.timeit('dict_search(dct, 0)',\n                              #'dict_search(dct, {})'.format(random.randrange(n)),\n                              setup='lst = list(range({})); random.shuffle(lst);'\n                                    'dct = {{x:x for x in lst}}'.format(n),\n                              globals=globals(),\n                              number=100)\n                for n in ns]",
      "execution_count": 2,
      "outputs": []
    },
    {
      "metadata": {
        "state": "normal",
        "trusted": true
      },
      "cell_type": "code",
      "source": "plt.plot(ns, ts_linsearch, 'or')\nplt.plot(ns, ts_binsearch, 'sg')\nplt.plot(ns, ts_setsearch, 'db')\nplt.plot(ns, ts_dctsearch, 'om');",
      "execution_count": 3,
      "outputs": [
        {
          "output_type": "display_data",
          "data": {
            "text/plain": "<Figure size 432x288 with 1 Axes>",
            "image/png": "[encoded data removed]"
          },
          "metadata": {
            "needs_background": "light"
          }
        }
      ]
    },
    {
      "metadata": {
        "state": "normal"
      },
      "cell_type": "markdown",
      "source": "It looks like sets and dictionaries support lookup in constant time! How?!"
    },
    {
      "metadata": {
        "state": "normal"
      },
      "cell_type": "markdown",
      "source": "## The *map* ADT"
    },
    {
      "metadata": {
        "state": "normal"
      },
      "cell_type": "markdown",
      "source": "We will focus next on the \"*map*\" abstract data type (aka \"associative array\" or \"dictionary\"), which is used to associate keys (which must be unique) with values. Python's `dict` type is an implementation of the map ADT. \n\nGiven an implementation of a map, it is trivial to implement a *set* on top of it (how?).\n\nHere's a simple map API:"
    },
    {
      "metadata": {
        "state": "normal",
        "trusted": true
      },
      "cell_type": "code",
      "source": "class MapDS:\n    def __init__(self):\n        self.data = []\n    \n    def __setitem__(self, key, value):\n        for i in range(len(self.data)):\n            if self.data[i][0] == key:\n                self.data[i][1] = value\n                return\n            else:\n                self.data.append([key, value])\n    \n    def __getitem__(self, key): #binary srarch -> O(log N)\n        for k,v in self.data:\n            if k == key:\n                return v\n            else:\n                raise KeyError(str(key))\n        \n    \n    def __contains__(self, key): #binary srarch -> O(log N)\n        try:\n            _ = self[key]\n            return True\n        except:\n            return False",
      "execution_count": 4,
      "outputs": []
    },
    {
      "metadata": {
        "state": "normal",
        "trusted": true
      },
      "cell_type": "code",
      "source": "m = MapDS()\nm['batman'] = 'bruce wayne'\nm['superman'] = 'clark kent'\nm['spiderman'] = 'peter parker'",
      "execution_count": 5,
      "outputs": []
    },
    {
      "metadata": {
        "trusted": true
      },
      "cell_type": "code",
      "source": "m['batman'] = 'tony stark'",
      "execution_count": 6,
      "outputs": []
    },
    {
      "metadata": {
        "state": "normal"
      },
      "cell_type": "markdown",
      "source": "How do we make the leap from linear runtime complexity to constant?!"
    },
    {
      "metadata": {
        "state": "normal"
      },
      "cell_type": "markdown",
      "source": "## Direct lookups via *Hashing*"
    },
    {
      "metadata": {
        "state": "normal"
      },
      "cell_type": "markdown",
      "source": "Hashes (a.k.a. hash codes or hash values) are simply numerical values computed for objects."
    },
    {
      "metadata": {
        "state": "normal",
        "trusted": true
      },
      "cell_type": "code",
      "source": "hash('hello')",
      "execution_count": 7,
      "outputs": [
        {
          "output_type": "execute_result",
          "execution_count": 7,
          "data": {
            "text/plain": "1525141892377621473"
          },
          "metadata": {}
        }
      ]
    },
    {
      "metadata": {
        "state": "normal",
        "trusted": true
      },
      "cell_type": "code",
      "source": "hash('batman')",
      "execution_count": 8,
      "outputs": [
        {
          "output_type": "execute_result",
          "execution_count": 8,
          "data": {
            "text/plain": "-3911576532755054672"
          },
          "metadata": {}
        }
      ]
    },
    {
      "metadata": {
        "state": "normal",
        "trusted": true
      },
      "cell_type": "code",
      "source": "hash('batmen')",
      "execution_count": 9,
      "outputs": [
        {
          "output_type": "execute_result",
          "execution_count": 9,
          "data": {
            "text/plain": "7549705405383518136"
          },
          "metadata": {}
        }
      ]
    },
    {
      "metadata": {
        "state": "normal",
        "trusted": true
      },
      "cell_type": "code",
      "source": "[hash(s) for s in ['different', 'objects', 'have', 'very', 'different', 'hashes']]",
      "execution_count": 10,
      "outputs": [
        {
          "output_type": "execute_result",
          "execution_count": 10,
          "data": {
            "text/plain": "[-5429027662358978593,\n -2366297805924212740,\n 1666704465765683647,\n 7645840007951760429,\n -5429027662358978593,\n -2625618366117943844]"
          },
          "metadata": {}
        }
      ]
    },
    {
      "metadata": {
        "state": "normal",
        "trusted": true
      },
      "cell_type": "code",
      "source": "[i%100 for i in range(10, 1000, 40)]",
      "execution_count": 11,
      "outputs": [
        {
          "output_type": "execute_result",
          "execution_count": 11,
          "data": {
            "text/plain": "[10,\n 50,\n 90,\n 30,\n 70,\n 10,\n 50,\n 90,\n 30,\n 70,\n 10,\n 50,\n 90,\n 30,\n 70,\n 10,\n 50,\n 90,\n 30,\n 70,\n 10,\n 50,\n 90,\n 30,\n 70]"
          },
          "metadata": {}
        }
      ]
    },
    {
      "metadata": {
        "state": "normal",
        "trusted": true
      },
      "cell_type": "code",
      "source": "[hash(s)%100 for s in ['different', 'objects', 'have', 'very', 'different', 'hashes']]",
      "execution_count": 12,
      "outputs": [
        {
          "output_type": "execute_result",
          "execution_count": 12,
          "data": {
            "text/plain": "[7, 60, 47, 29, 7, 56]"
          },
          "metadata": {}
        }
      ]
    },
    {
      "metadata": {
        "state": "normal"
      },
      "cell_type": "markdown",
      "source": "## Hashtables"
    },
    {
      "metadata": {
        "state": "normal",
        "trusted": true
      },
      "cell_type": "code",
      "source": "class Hashtable:\n    def __init__(self, n_buckets=1000):\n        self.buckets = [None] * n_buckets\n        \n    def __setitem__(self, key, val):\n        bidx = hash(key) % len(self.buckets)\n        self.buckets[bidx] = [key,val]\n    \n    def __getitem__(self, key):\n        bidx = hash(key) % len(self.buckets)\n        kv = self.buckets[bidx]\n        if kv and kv[0] == key:\n            return kv[1]\n        else:\n            raise KeyError(str(key))\n        \n    def __contains__(self, key):\n        try:\n            _ = self[key]\n            return True\n        except:\n            return False",
      "execution_count": 14,
      "outputs": []
    },
    {
      "metadata": {
        "state": "normal",
        "trusted": true
      },
      "cell_type": "code",
      "source": "ht = Hashtable(100)\nht['batman'] = 'bruce wayne'\nht['superman'] = 'clark kent'\nht['spiderman'] = 'peter parker'",
      "execution_count": 15,
      "outputs": []
    },
    {
      "metadata": {
        "trusted": true
      },
      "cell_type": "code",
      "source": "ht['batman']",
      "execution_count": 16,
      "outputs": [
        {
          "output_type": "execute_result",
          "execution_count": 16,
          "data": {
            "text/plain": "'bruce wayne'"
          },
          "metadata": {}
        }
      ]
    },
    {
      "metadata": {
        "trusted": true
      },
      "cell_type": "code",
      "source": "ht['superman']",
      "execution_count": 17,
      "outputs": [
        {
          "output_type": "execute_result",
          "execution_count": 17,
          "data": {
            "text/plain": "'clark kent'"
          },
          "metadata": {}
        }
      ]
    },
    {
      "metadata": {
        "trusted": true
      },
      "cell_type": "code",
      "source": "ht['spiderman']",
      "execution_count": 18,
      "outputs": [
        {
          "output_type": "execute_result",
          "execution_count": 18,
          "data": {
            "text/plain": "'peter parker'"
          },
          "metadata": {}
        }
      ]
    },
    {
      "metadata": {
        "state": "normal"
      },
      "cell_type": "markdown",
      "source": "## On Collisions"
    },
    {
      "metadata": {
        "state": "normal"
      },
      "cell_type": "markdown",
      "source": "### The \"Birthday Problem\""
    },
    {
      "metadata": {
        "state": "normal"
      },
      "cell_type": "markdown",
      "source": "Problem statement: Given $N$ people at a party, how likely is it that at least two people will have the same birthday?"
    },
    {
      "metadata": {
        "state": "normal",
        "trusted": true
      },
      "cell_type": "code",
      "source": "def birthday_p(n_people):\n    p_inv = 1\n    for n in range(365, 365-n_people, -1):\n        p_inv *= n / 365\n    return 1 - p_inv",
      "execution_count": 19,
      "outputs": []
    },
    {
      "metadata": {
        "state": "normal",
        "trusted": true
      },
      "cell_type": "code",
      "source": "birthday_p(2)",
      "execution_count": 20,
      "outputs": [
        {
          "output_type": "execute_result",
          "execution_count": 20,
          "data": {
            "text/plain": "0.002739726027397249"
          },
          "metadata": {}
        }
      ]
    },
    {
      "metadata": {
        "state": "normal",
        "trusted": true
      },
      "cell_type": "code",
      "source": "1-364/365",
      "execution_count": 21,
      "outputs": [
        {
          "output_type": "execute_result",
          "execution_count": 21,
          "data": {
            "text/plain": "0.002739726027397249"
          },
          "metadata": {}
        }
      ]
    },
    {
      "metadata": {
        "state": "normal",
        "trusted": true
      },
      "cell_type": "code",
      "source": "%matplotlib inline\nimport matplotlib.pyplot as plt\n\nn_people = range(1, 80)\nplt.plot(n_people, [birthday_p(n) for n in n_people])\nplt.show()",
      "execution_count": 22,
      "outputs": [
        {
          "output_type": "display_data",
          "data": {
            "text/plain": "<Figure size 432x288 with 1 Axes>",
            "image/png": "[encoded data removed]"
          },
          "metadata": {
            "needs_background": "light"
          }
        }
      ]
    },
    {
      "metadata": {
        "state": "normal"
      },
      "cell_type": "markdown",
      "source": "### General collision statistics"
    },
    {
      "metadata": {
        "state": "normal"
      },
      "cell_type": "markdown",
      "source": "Repeat the birthday problem, but with a given number of values and \"buckets\" that are allotted to hold them. How likely is it that two or more values will map to the same bucket?"
    },
    {
      "metadata": {
        "state": "normal",
        "trusted": true
      },
      "cell_type": "code",
      "source": "def collision_p(n_values, n_buckets): #values=keys, nbuckets=denominator\n    p_inv = 1\n    for n in range(n_buckets, n_buckets-n_values, -1):\n        p_inv *= n / n_buckets\n    return 1 - p_inv",
      "execution_count": 23,
      "outputs": []
    },
    {
      "metadata": {
        "state": "normal",
        "trusted": true
      },
      "cell_type": "code",
      "source": "collision_p(23, 365) # same as birthday problem, for 23 people",
      "execution_count": 24,
      "outputs": [
        {
          "output_type": "execute_result",
          "execution_count": 24,
          "data": {
            "text/plain": "0.5072972343239857"
          },
          "metadata": {}
        }
      ]
    },
    {
      "metadata": {
        "state": "normal",
        "trusted": true
      },
      "cell_type": "code",
      "source": "collision_p(10, 100)",
      "execution_count": 25,
      "outputs": [
        {
          "output_type": "execute_result",
          "execution_count": 25,
          "data": {
            "text/plain": "0.37184349044470544"
          },
          "metadata": {}
        }
      ]
    },
    {
      "metadata": {
        "state": "normal",
        "trusted": true
      },
      "cell_type": "code",
      "source": "collision_p(100, 1000)",
      "execution_count": 26,
      "outputs": [
        {
          "output_type": "execute_result",
          "execution_count": 26,
          "data": {
            "text/plain": "0.9940410733677595"
          },
          "metadata": {}
        }
      ]
    },
    {
      "metadata": {
        "state": "normal",
        "trusted": true,
        "scrolled": true
      },
      "cell_type": "code",
      "source": "# keeping number of values fixed at 100, but vary number of buckets: visualize probability of collision\n%matplotlib inline\nimport matplotlib.pyplot as plt\n\nn_buckets = range(100, 100001, 1000)\nplt.plot(n_buckets, [collision_p(100, nb) for nb in n_buckets])\nplt.show()",
      "execution_count": 27,
      "outputs": [
        {
          "output_type": "display_data",
          "data": {
            "text/plain": "<Figure size 432x288 with 1 Axes>",
            "image/png": "[encoded data removed]"
          },
          "metadata": {
            "needs_background": "light"
          }
        }
      ]
    },
    {
      "metadata": {},
      "cell_type": "markdown",
      "source": "for collisions, once u reach a certain threshold, it'll start to plateau in any direction (dec or inc)"
    },
    {
      "metadata": {
        "state": "normal",
        "trusted": true
      },
      "cell_type": "code",
      "source": "def avg_num_collisions(n, b):\n    \"\"\"Returns the expected number of collisions for n values uniformly distributed\n    over a hashtable of b buckets. Based on (fairly) elementary probability theory.\n    (Pay attention in MATH 474!)\"\"\"\n    return n - b + b * (1 - 1/b)**n",
      "execution_count": 28,
      "outputs": []
    },
    {
      "metadata": {
        "state": "normal",
        "trusted": true
      },
      "cell_type": "code",
      "source": "avg_num_collisions(28, 365)",
      "execution_count": 29,
      "outputs": [
        {
          "output_type": "execute_result",
          "execution_count": 29,
          "data": {
            "text/plain": "1.011442040700615"
          },
          "metadata": {}
        }
      ]
    },
    {
      "metadata": {
        "state": "normal",
        "trusted": true
      },
      "cell_type": "code",
      "source": "avg_num_collisions(1000, 1000)",
      "execution_count": 30,
      "outputs": [
        {
          "output_type": "execute_result",
          "execution_count": 30,
          "data": {
            "text/plain": "367.6954247709637"
          },
          "metadata": {}
        }
      ]
    },
    {
      "metadata": {
        "state": "normal",
        "trusted": true
      },
      "cell_type": "code",
      "source": "avg_num_collisions(1000, 10000)",
      "execution_count": 31,
      "outputs": [
        {
          "output_type": "execute_result",
          "execution_count": 31,
          "data": {
            "text/plain": "48.32893558556316"
          },
          "metadata": {}
        }
      ]
    },
    {
      "metadata": {
        "state": "normal"
      },
      "cell_type": "markdown",
      "source": "## Dealing with Collisions"
    },
    {
      "metadata": {
        "state": "normal"
      },
      "cell_type": "markdown",
      "source": "To deal with collisions in a hashtable, we simply create a \"chain\" of key/value pairs for each bucket where collisions occur. The chain needs to be a data structure that supports quick insertion — natural choice: the linked list!"
    },
    {
      "metadata": {
        "state": "normal",
        "trusted": true
      },
      "cell_type": "code",
      "source": "class Hashtable:\n    class Node:\n        def __init__(self, key, val, next=None):\n            self.key = key\n            self.val = val\n            self.next = next\n            \n    def __init__(self, n_buckets=1000):\n        self.buckets = [None] * n_buckets\n        \n    def __setitem__(self, key, val):\n        bidx = hash(key) % len(self.buckets)\n        n = self.buckets[bidx] #n is the head of the linked list\n        while n:\n            if key == n.key:\n                n.val = val\n                return\n            n = n.next\n        else:\n            self.buckets[bidx] = Hashtable.Node(key, val, next=self.buckets[bidx])\n            #bc buckets[bidx] = n to connect the new linked list to the slot in buckets\n    \n    def __getitem__(self, key):\n        bidx = hash(key) % len(self.buckets)\n        n = self.buckets[bidx]\n        while n:\n            if key == n.key:\n                return n.val\n            n = n.next\n        else:\n            raise KeyError(str(key))\n    \n    def __contains__(self, key):\n        try:\n            _ = self[key]\n            return True\n        except:\n            return False",
      "execution_count": 34,
      "outputs": []
    },
    {
      "metadata": {
        "state": "normal",
        "trusted": true
      },
      "cell_type": "code",
      "source": "ht = Hashtable(1)\nht['batman'] = 'bruce wayne'\nht['superman'] = 'clark kent'\nht['spiderman'] = 'peter parker'",
      "execution_count": 35,
      "outputs": []
    },
    {
      "metadata": {
        "trusted": true
      },
      "cell_type": "code",
      "source": "ht.buckets[0].next",
      "execution_count": 37,
      "outputs": [
        {
          "output_type": "execute_result",
          "execution_count": 37,
          "data": {
            "text/plain": "<__main__.Hashtable.Node at 0x7f18d4539198>"
          },
          "metadata": {}
        }
      ]
    },
    {
      "metadata": {
        "state": "normal",
        "trusted": true
      },
      "cell_type": "code",
      "source": "def prep_ht(size):\n    ht = Hashtable(size*10)\n    for x in range(size):\n        ht[x] = x\n    return ht\n\ndef time_ht(size):\n    return timeit.timeit('ht[{}]'.format(random.randrange(size)), \n                         'import random ; from __main__ import prep_ht ;'\n                         'ht = prep_ht({})'.format(size),\n                         number=100)\n\nns = np.linspace(100, 10_000, 50, dtype=int)\nht_timings = [time_ht(n)\n                for n in range(10, 10000, 100)]",
      "execution_count": 41,
      "outputs": []
    },
    {
      "metadata": {
        "state": "normal",
        "trusted": true
      },
      "cell_type": "code",
      "source": "%matplotlib inline\nimport matplotlib.pyplot as plt\nplt.plot(ts_binsearch, 'ro')\nplt.plot(ht_timings, 'gs')\nplt.plot(ts_dctsearch, 'b^')\nplt.show()",
      "execution_count": 43,
      "outputs": [
        {
          "output_type": "display_data",
          "data": {
            "text/plain": "<Figure size 432x288 with 1 Axes>",
            "image/png": "[encoded data removed]"
          },
          "metadata": {
            "needs_background": "light"
          }
        }
      ]
    },
    {
      "metadata": {
        "state": "normal"
      },
      "cell_type": "markdown",
      "source": "## Loose ends"
    },
    {
      "metadata": {
        "state": "normal"
      },
      "cell_type": "markdown",
      "source": "### Iteration"
    },
    {
      "metadata": {
        "state": "normal",
        "trusted": true
      },
      "cell_type": "code",
      "source": "class Hashtable(Hashtable):\n    def __iter__(self):\n        for n in self.buckets: #n stands for node\n            while n:\n                yield n.key\n                n = n.next",
      "execution_count": 44,
      "outputs": []
    },
    {
      "metadata": {
        "state": "normal",
        "trusted": true
      },
      "cell_type": "code",
      "source": "ht = Hashtable(100)\nht['batman'] = 'bruce wayne'\nht['superman'] = 'clark kent'\nht['spiderman'] = 'peter parker'",
      "execution_count": 49,
      "outputs": []
    },
    {
      "metadata": {
        "state": "normal",
        "trusted": true,
        "scrolled": false
      },
      "cell_type": "code",
      "source": "for k in ht:\n    print(k)",
      "execution_count": 50,
      "outputs": [
        {
          "output_type": "stream",
          "text": "spiderman\nbatman\nsuperman\n",
          "name": "stdout"
        }
      ]
    },
    {
      "metadata": {},
      "cell_type": "markdown",
      "source": "the order changes every time because hash%buckets changes where they are, the order shouldn't affect the way the hashtable will be used "
    },
    {
      "metadata": {
        "state": "normal"
      },
      "cell_type": "markdown",
      "source": "### Key ordering"
    },
    {
      "metadata": {
        "state": "normal",
        "trusted": true
      },
      "cell_type": "code",
      "source": "ht = Hashtable()\nd = {}\nfor x in 'apple banana cat dog elephant'.split():\n    d[x[0]] = x\n    ht[x[0]] = x",
      "execution_count": 51,
      "outputs": []
    },
    {
      "metadata": {
        "state": "normal",
        "trusted": true
      },
      "cell_type": "code",
      "source": "for k in d:\n    print(k, '=>', d[k])",
      "execution_count": 52,
      "outputs": [
        {
          "output_type": "stream",
          "text": "a => apple\nb => banana\nc => cat\nd => dog\ne => elephant\n",
          "name": "stdout"
        }
      ]
    },
    {
      "metadata": {
        "state": "normal",
        "trusted": true,
        "scrolled": true
      },
      "cell_type": "code",
      "source": "for k in ht:\n    print(k, '=>', ht[k])",
      "execution_count": 53,
      "outputs": [
        {
          "output_type": "stream",
          "text": "d => dog\nb => banana\na => apple\ne => elephant\nc => cat\n",
          "name": "stdout"
        }
      ]
    },
    {
      "metadata": {},
      "cell_type": "markdown",
      "source": "dict gives u an ordered set of keys, while the hashtable puts it at random\n+ python puts it in order of insertion\n+ dict orders key in order of insertion (good for debugging diagnostics)\n+ ht is a faster mapping structure bc it doesnt change the runtime complexity but still rnadomly inserts nodes in the linked list"
    },
    {
      "metadata": {
        "state": "normal"
      },
      "cell_type": "markdown",
      "source": "### \"Load factor\" and Rehashing"
    },
    {
      "metadata": {
        "state": "normal"
      },
      "cell_type": "markdown",
      "source": "It doesn't often make sense to start with a large number of buckets, unless we know in advance that the number of keys is going to be vast — also, the user of the hashtable would typically prefer to not be bothered with implementation details (i.e., bucket count) when using the data structure.\n\nInstead: start with a relatively small number of buckets, and if the ratio of keys to the number of buckets (known as the **load factor**) is above some desired threshold — which we can determine using collision probabilities — we can dynamically increase the number of buckets. This requires, however, that we *rehash* all keys and potentially move them into new buckets (since the `hash(key) % num_buckets` mapping will likely be different with more buckets)."
    },
    {
      "metadata": {
        "state": "normal"
      },
      "cell_type": "markdown",
      "source": "### Other APIs"
    },
    {
      "metadata": {
        "state": "normal"
      },
      "cell_type": "markdown",
      "source": "- FIXED `__setitem__` (to update value for existing key)\n- `__delitem__`\n- `keys` & `values` (return iterators for keys and values)\n- `setdefault`"
    },
    {
      "metadata": {
        "state": "normal"
      },
      "cell_type": "markdown",
      "source": "## Runtime analysis & Discussion"
    },
    {
      "metadata": {
        "state": "normal"
      },
      "cell_type": "markdown",
      "source": "For a hashtable with $N$ key/value entries, we have the following WORST-CASE RUNTIME COMPLEXITY:\n\n- Insertion: $O(N)$\n    + when there are possible collisions\n- Lookup: $O(N)$\n- Deletion: $O(N)$\n    + lookup plus deletion, but lookup is O(1) n deletion is O(N)"
    },
    {
      "metadata": {
        "state": "normal"
      },
      "cell_type": "markdown",
      "source": "## Vocabulary list\n\n- hashtable\n- hashing and hashes\n- collision\n- hash buckets & chains\n- birthday problem\n- load factor\n- rehashing"
    },
    {
      "metadata": {
        "state": "normal"
      },
      "cell_type": "markdown",
      "source": "---"
    },
    {
      "metadata": {
        "state": "normal"
      },
      "cell_type": "markdown",
      "source": "## Addendum: On *Hashability*"
    },
    {
      "metadata": {
        "state": "normal"
      },
      "cell_type": "markdown",
      "source": "Remember: *a given object must always hash to the same value*. This is required so that we can always map the object to the same hash bucket.\n\nHashcodes for collections of objects are usually computed from the hashcodes of its contents, e.g., the hash of a tuple is a function of the hashes of the objects in said tuple:"
    },
    {
      "metadata": {
        "state": "normal",
        "trusted": false
      },
      "cell_type": "code",
      "source": "hash(('two', 'strings'))",
      "execution_count": null,
      "outputs": []
    },
    {
      "metadata": {
        "state": "normal"
      },
      "cell_type": "markdown",
      "source": "This is useful. It allows us to use a tuple, for instance, as a key for a hashtable.\n\nHowever, if the collection of objects is *mutable* — i.e., we can alter its contents — this means that we can potentially change its hashcode.`\n\nIf we were to use such a collection as a key in a hashtable, and alter the collection after it's been assigned to a particular bucket, this leads to a serious problem: the collection may now be in the wrong bucket (as it was assigned to a bucket based on its original hashcode)!\n\nFor this reason, only immutable types are, by default, hashable in Python. So while we can use integers, strings, and tuples as keys in dictionaries, lists (which are mutable) cannot be used. Indeed, Python marks built-in mutable types as \"unhashable\", e.g.,"
    },
    {
      "metadata": {
        "state": "normal",
        "trusted": false
      },
      "cell_type": "code",
      "source": "hash([1, 2, 3])",
      "execution_count": null,
      "outputs": []
    },
    {
      "metadata": {
        "state": "normal"
      },
      "cell_type": "markdown",
      "source": "That said, Python does support hashing on instances of custom classes (which are mutable). This is because the default hash function implementation does not rely on the contents of instances of custom classes. E.g.,"
    },
    {
      "metadata": {
        "state": "normal",
        "trusted": false
      },
      "cell_type": "code",
      "source": "class Student:\n    def __init__(self, fname, lname):\n        self.fname = fname\n        self.lname = lname",
      "execution_count": null,
      "outputs": []
    },
    {
      "metadata": {
        "state": "normal",
        "trusted": false
      },
      "cell_type": "code",
      "source": "s = Student('John', 'Doe')\nhash(s)",
      "execution_count": null,
      "outputs": []
    },
    {
      "metadata": {
        "state": "normal",
        "trusted": false
      },
      "cell_type": "code",
      "source": "s.fname = 'Jane'\nhash(s) # same as before mutation",
      "execution_count": null,
      "outputs": []
    },
    {
      "metadata": {
        "state": "normal"
      },
      "cell_type": "markdown",
      "source": "We can change the default behavior by providing our own hash function in `__hash__`, e.g.,"
    },
    {
      "metadata": {
        "state": "normal",
        "trusted": false
      },
      "cell_type": "code",
      "source": "class Student:\n    def __init__(self, fname, lname):\n        self.fname = fname\n        self.lname = lname\n        \n    def __hash__(self):\n        return hash(self.fname) + hash(self.lname)",
      "execution_count": null,
      "outputs": []
    },
    {
      "metadata": {
        "state": "normal",
        "trusted": false
      },
      "cell_type": "code",
      "source": "s = Student('John', 'Doe')\nhash(s)",
      "execution_count": null,
      "outputs": []
    },
    {
      "metadata": {
        "state": "normal",
        "trusted": false
      },
      "cell_type": "code",
      "source": "s.fname = 'Jane'\nhash(s)",
      "execution_count": null,
      "outputs": []
    },
    {
      "metadata": {
        "state": "normal"
      },
      "cell_type": "markdown",
      "source": "But be careful: instances of this class are no longer suitable for use as keys in hashtables (or dictionaries), if you intend to mutate them after using them as keys!"
    }
  ],
  "metadata": {
    "kernelspec": {
      "name": "python3",
      "display_name": "Python 3",
      "language": "python"
    },
    "language_info": {
      "name": "python",
      "version": "3.7.3",
      "mimetype": "text/x-python",
      "codemirror_mode": {
        "name": "ipython",
        "version": 3
      },
      "pygments_lexer": "ipython3",
      "nbconvert_exporter": "python",
      "file_extension": ".py"
    },
    "mimir": {
      "project_id": "9cf04a4f-6bba-46b6-b226-f470526dde53",
      "last_submission_id": "",
      "data": {}
    },
    "varInspector": {
      "window_display": false,
      "cols": {
        "lenName": 16,
        "lenType": 16,
        "lenVar": 40
      },
      "kernels_config": {
        "python": {
          "library": "var_list.py",
          "delete_cmd_prefix": "del ",
          "delete_cmd_postfix": "",
          "varRefreshCmd": "print(var_dic_list())"
        },
        "r": {
          "library": "var_list.r",
          "delete_cmd_prefix": "rm(",
          "delete_cmd_postfix": ") ",
          "varRefreshCmd": "cat(var_dic_list()) "
        }
      },
      "types_to_exclude": [
        "module",
        "function",
        "builtin_function_or_method",
        "instance",
        "_Feature"
      ]
    }
  },
  "nbformat": 4,
  "nbformat_minor": 2
}