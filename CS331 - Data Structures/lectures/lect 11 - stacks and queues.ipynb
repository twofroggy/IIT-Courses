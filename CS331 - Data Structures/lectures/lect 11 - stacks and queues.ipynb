{
  "cells": [
    {
      "metadata": {
        "state": "normal"
      },
      "cell_type": "markdown",
      "source": "# Stacks and Queues\n\n## Agenda\n\n1. Stacks\n     - ... for delimiter pairing\n     - ... for postfix expression evaluation\n     - ... for tracking execution and *backtracking*\n2. Queues\n    - ... for tracking execution and *backtracking*\n    - ... for fair scheduling (aka \"round-robin\" scheduling)\n    - ... for apportioning work\n3. Run-time analysis"
    },
    {
      "metadata": {
        "state": "normal"
      },
      "cell_type": "markdown",
      "source": "## Overview"
    },
    {
      "metadata": {
        "state": "normal"
      },
      "cell_type": "markdown",
      "source": "While the list data structure is incredibly useful, both implementations we explored (array-backed and linked) have operations that run in $O(N)$ time, which make them non-ideal for use with large, growing collections of data.\n\nBy further restricting the list API, however — in particular, by *isolating points of access to either the front or end of the data set* — we can create data structures whose operations are all $O(1)$, and remain very useful in their own right."
    },
    {
      "metadata": {
        "state": "normal"
      },
      "cell_type": "markdown",
      "source": "## 1. Stacks"
    },
    {
      "metadata": {
        "state": "normal"
      },
      "cell_type": "markdown",
      "source": "Stacks are linear data structures which only permit access to one \"end\" of the data collection. We can only append (\"push\") items onto the tail end (a.k.a. the \"top\") of a stack, and only the most recently added item can be removed (\"popped\"). The last item to be pushed onto a stack is therefore the first one to be popped off, which is why we refer to stacks as last-in, first out (LIFO) structures."
    },
    {
      "metadata": {
        "state": "normal",
        "trusted": true
      },
      "cell_type": "code",
      "source": "# array-backed implementation\n\nclass Stack: #has to be constant time all around\n    def __init__(self):\n        self.data = [] #array backed list as implementation container\n        \n    def push(self, val): #add val at end of arraylist\n        self.data.append(val)\n\n    def pop(self): #delete last value at the end of arraylist\n        assert not self.empty()\n        ret = self.data[-1]\n        del self.data[-1]\n        return ret #constant time\n    \n    def peek(self): #view last slot of stack\n        assert not self.empty()\n        return self.data[-1]\n\n    def empty(self): #returns true if the stack is empty\n        return len(self.data) == 0\n\n    def __bool__(self): #evaluates to not empty\n        return not self.empty()\n    #used when doing if self",
      "execution_count": 1,
      "outputs": []
    },
    {
      "metadata": {
        "state": "normal",
        "trusted": true
      },
      "cell_type": "code",
      "source": "s = Stack()\nfor x in range(10):\n    s.push(x)",
      "execution_count": 2,
      "outputs": []
    },
    {
      "metadata": {
        "state": "normal",
        "trusted": true
      },
      "cell_type": "code",
      "source": "while s: #uses bool method, executes when true\n    print(s.pop())",
      "execution_count": 3,
      "outputs": [
        {
          "output_type": "stream",
          "text": "9\n8\n7\n6\n5\n4\n3\n2\n1\n0\n",
          "name": "stdout"
        }
      ]
    },
    {
      "metadata": {
        "state": "normal",
        "trusted": true
      },
      "cell_type": "code",
      "source": "# linked implementation\n\nclass Stack:\n    class Node:\n        def __init__(self, val, next=None):\n            self.val = val\n            self.next  = next\n        #singly linked stacked\n    \n    def __init__(self):\n        self.top = None #top element of stack\n\n    def push(self, val):\n        self.top = Stack.Node(val, next=self.top)\n        \n    def pop(self):\n        assert not self.empty()\n        ret = self.top.val\n        self.top = self.top.next\n        return ret\n\n    def peek(self):\n        assert not self.empty()\n        return self.top.val\n        \n    def empty(self):\n        return self.top is None\n    \n    def __bool__(self):\n        return not self.empty()",
      "execution_count": 4,
      "outputs": []
    },
    {
      "metadata": {
        "state": "normal",
        "trusted": true
      },
      "cell_type": "code",
      "source": "s = Stack()\nfor x in range(10):\n    s.push(x)",
      "execution_count": 5,
      "outputs": []
    },
    {
      "metadata": {
        "state": "normal",
        "trusted": true
      },
      "cell_type": "code",
      "source": "while s:\n    print(s.pop())",
      "execution_count": 6,
      "outputs": [
        {
          "output_type": "stream",
          "text": "9\n8\n7\n6\n5\n4\n3\n2\n1\n0\n",
          "name": "stdout"
        }
      ]
    },
    {
      "metadata": {
        "state": "normal"
      },
      "cell_type": "markdown",
      "source": "### ... for delimiter pairing\n\nStacks are used by parsers to decide if delimited expressions are well-formed.\n\ne.g., `'(1 + 2 * (3 - (4 / 2) + 5) - (6 + 1))'`"
    },
    {
      "metadata": {
        "state": "normal",
        "trusted": true
      },
      "cell_type": "code",
      "source": "def check_parens(expr):\n    s = Stack()\n    for c in expr:\n        if c == '(':\n            s.push(c)\n        elif c == \")\":\n            try:\n                assert not s.empty()\n                assert s.pop() == '('\n            except:\n                return False\n    return s.empty()",
      "execution_count": 24,
      "outputs": []
    },
    {
      "metadata": {
        "state": "normal",
        "trusted": true
      },
      "cell_type": "code",
      "source": "check_parens('()')",
      "execution_count": 25,
      "outputs": [
        {
          "output_type": "execute_result",
          "execution_count": 25,
          "data": {
            "text/plain": "True"
          },
          "metadata": {}
        }
      ]
    },
    {
      "metadata": {
        "state": "normal",
        "trusted": true
      },
      "cell_type": "code",
      "source": "check_parens('((()))')",
      "execution_count": 26,
      "outputs": [
        {
          "output_type": "execute_result",
          "execution_count": 26,
          "data": {
            "text/plain": "True"
          },
          "metadata": {}
        }
      ]
    },
    {
      "metadata": {
        "state": "normal",
        "trusted": true
      },
      "cell_type": "code",
      "source": "check_parens('()(()()(()))')",
      "execution_count": 27,
      "outputs": [
        {
          "output_type": "execute_result",
          "execution_count": 27,
          "data": {
            "text/plain": "True"
          },
          "metadata": {}
        }
      ]
    },
    {
      "metadata": {
        "state": "normal",
        "trusted": true
      },
      "cell_type": "code",
      "source": "check_parens('(')",
      "execution_count": 28,
      "outputs": [
        {
          "output_type": "execute_result",
          "execution_count": 28,
          "data": {
            "text/plain": "False"
          },
          "metadata": {}
        }
      ]
    },
    {
      "metadata": {
        "state": "normal",
        "trusted": true
      },
      "cell_type": "code",
      "source": "check_parens('())')",
      "execution_count": 29,
      "outputs": [
        {
          "output_type": "execute_result",
          "execution_count": 29,
          "data": {
            "text/plain": "False"
          },
          "metadata": {}
        }
      ]
    },
    {
      "metadata": {
        "state": "normal",
        "trusted": true
      },
      "cell_type": "code",
      "source": "check_parens('(1 + 2 * (3 - (4 / 2) + 5) - (6 + 1))')",
      "execution_count": 30,
      "outputs": [
        {
          "output_type": "execute_result",
          "execution_count": 30,
          "data": {
            "text/plain": "True"
          },
          "metadata": {}
        }
      ]
    },
    {
      "metadata": {
        "state": "normal"
      },
      "cell_type": "markdown",
      "source": "### ... for postfix expression (aka \"reverse polish notation\") evaluation\n\nStacks are used for the evaluation of postfix arithmetic expressions (which can be easily converted back and forth between the more common infix expressions). \n\ne.g., `'(1 + 2) * 5'` $\\rightarrow$ `'1 2 + 5 *'`"
    },
    {
      "metadata": {
        "state": "normal",
        "trusted": true
      },
      "cell_type": "code",
      "source": "def eval_postfix(expr):\n    s = Stack()\n    toks = expr.split()\n    for t in toks:\n        if t == '+':\n            s.push(s.pop() + s.pop())\n        elif t == '*':\n            s.push(s.pop() * s.pop())\n        else:\n            s.push(int(t))\n    return s.pop()",
      "execution_count": 33,
      "outputs": []
    },
    {
      "metadata": {
        "state": "normal",
        "trusted": true
      },
      "cell_type": "code",
      "source": "eval_postfix('1 2 + 5 *')",
      "execution_count": 34,
      "outputs": [
        {
          "output_type": "execute_result",
          "execution_count": 34,
          "data": {
            "text/plain": "15"
          },
          "metadata": {}
        }
      ]
    },
    {
      "metadata": {
        "state": "normal",
        "trusted": true
      },
      "cell_type": "code",
      "source": "eval_postfix('1 2 5 * +')",
      "execution_count": 35,
      "outputs": [
        {
          "output_type": "execute_result",
          "execution_count": 35,
          "data": {
            "text/plain": "11"
          },
          "metadata": {}
        }
      ]
    },
    {
      "metadata": {
        "state": "normal",
        "trusted": true
      },
      "cell_type": "code",
      "source": "# ((1 + 2) * (3 + 2)) * 10\neval_postfix('1 2 + 3 2 + * 10 *')",
      "execution_count": 36,
      "outputs": [
        {
          "output_type": "execute_result",
          "execution_count": 36,
          "data": {
            "text/plain": "150"
          },
          "metadata": {}
        }
      ]
    },
    {
      "metadata": {
        "state": "normal"
      },
      "cell_type": "markdown",
      "source": "### ... for tracking execution and backtracking"
    },
    {
      "metadata": {
        "state": "normal",
        "trusted": true
      },
      "cell_type": "code",
      "source": "maze_str = \"\"\"######   \n              I    #   \n              # ## #   \n              # ####   \n              #    O   \n              ######\"\"\"\n\ndef parse_maze(maze_str):\n    '''Parses a string representing a maze into a 2D array.'''\n    grid = []\n    for line in maze_str.split('\\n'):\n        grid.append(['# IO'.index(c) for c in line.strip()])\n    return grid\n\ndef print_maze(grid):\n    '''Takes a 2D array maze representation and pretty-prints it.\n       The contents of the 2D maze are in the range 0-5, which are interpreted as:\n    \n        0: a wall\n        1: an unvisited (i.e., not previously traversed) path\n        2: the maze entrance\n        3: the maze exit\n        4: a discovered but unvisited path\n        5: a visited path\n    '''\n    for r in grid:\n        print(''.join('# IO!+'[c] for c in r))",
      "execution_count": 37,
      "outputs": []
    },
    {
      "metadata": {
        "state": "normal",
        "trusted": true
      },
      "cell_type": "code",
      "source": "parse_maze(maze_str)",
      "execution_count": 38,
      "outputs": [
        {
          "output_type": "execute_result",
          "execution_count": 38,
          "data": {
            "text/plain": "[[0, 0, 0, 0, 0, 0],\n [2, 1, 1, 1, 1, 0],\n [0, 1, 0, 0, 1, 0],\n [0, 1, 0, 0, 0, 0],\n [0, 1, 1, 1, 1, 3],\n [0, 0, 0, 0, 0, 0]]"
          },
          "metadata": {}
        }
      ]
    },
    {
      "metadata": {
        "state": "normal",
        "trusted": true
      },
      "cell_type": "code",
      "source": "print_maze(parse_maze(maze_str))",
      "execution_count": 39,
      "outputs": [
        {
          "output_type": "stream",
          "text": "######\nI    #\n# ## #\n# ####\n#    O\n######\n",
          "name": "stdout"
        }
      ]
    },
    {
      "metadata": {
        "state": "normal",
        "trusted": true
      },
      "cell_type": "code",
      "source": "maze = parse_maze(maze_str)\nmaze[1][0] = maze[1][1] = 5\nmaze[1][2] = maze[2][1] = 4\nprint_maze(maze)",
      "execution_count": 40,
      "outputs": [
        {
          "output_type": "stream",
          "text": "######\n++!  #\n#!## #\n# ####\n#    O\n######\n",
          "name": "stdout"
        }
      ]
    },
    {
      "metadata": {
        "state": "normal",
        "trusted": true
      },
      "cell_type": "code",
      "source": "class Move:\n    '''Represents a move in the maze between orthogonally adjacent locations\n      `frm` and `to`, which are both (row,col) tuples.'''\n    def __init__(self, frm, to):\n        self.frm = frm\n        self.to  = to\n        \n    def __repr__(self):\n        return '({},{}) -> ({},{})'.format(self.frm[0], self.frm[1],\n                                           self.to[0],  self.to[1])\n\ndef moves(maze, loc):\n    '''Returns all possible moves within a maze from the provide location.'''\n    moves = [Move(loc, (loc[0]+d[0], loc[1]+d[1]))\n            for d in ((-1, 0), (1, 0), (0, -1), (0, 1))\n            if loc[0]+d[0] in range(len(maze)) and \n               loc[1]+d[1] in range(len(maze[0])) and\n               maze[loc[0]+d[0]][loc[1]+d[1]] in (1, 2, 3)]\n    return moves",
      "execution_count": 41,
      "outputs": []
    },
    {
      "metadata": {
        "state": "normal",
        "trusted": true
      },
      "cell_type": "code",
      "source": "maze = parse_maze(maze_str)\nprint_maze(maze)",
      "execution_count": 42,
      "outputs": [
        {
          "output_type": "stream",
          "text": "######\nI    #\n# ## #\n# ####\n#    O\n######\n",
          "name": "stdout"
        }
      ]
    },
    {
      "metadata": {
        "state": "normal",
        "trusted": true
      },
      "cell_type": "code",
      "source": "moves(maze, (1, 0)) #can only going right, so its (1, 1)",
      "execution_count": 44,
      "outputs": [
        {
          "output_type": "execute_result",
          "execution_count": 44,
          "data": {
            "text/plain": "[(1,0) -> (1,1)]"
          },
          "metadata": {}
        }
      ]
    },
    {
      "metadata": {
        "state": "normal",
        "trusted": true
      },
      "cell_type": "code",
      "source": "moves(maze, (1, 1))",
      "execution_count": 45,
      "outputs": [
        {
          "output_type": "execute_result",
          "execution_count": 45,
          "data": {
            "text/plain": "[(1,1) -> (2,1), (1,1) -> (1,0), (1,1) -> (1,2)]"
          },
          "metadata": {}
        }
      ]
    },
    {
      "metadata": {
        "state": "normal",
        "trusted": true
      },
      "cell_type": "code",
      "source": "maze[1][0] = 5\nmoves(maze, (1, 1))",
      "execution_count": 46,
      "outputs": [
        {
          "output_type": "execute_result",
          "execution_count": 46,
          "data": {
            "text/plain": "[(1,1) -> (2,1), (1,1) -> (1,2)]"
          },
          "metadata": {}
        }
      ]
    },
    {
      "metadata": {
        "state": "normal",
        "trusted": true
      },
      "cell_type": "code",
      "source": "from time import sleep\nfrom IPython.display import clear_output\n\ndef mark(maze, loc):\n    '''Marks a loc in the maze as having been discovered'''\n    if maze[loc[0]][loc[1]] != 3:\n        maze[loc[0]][loc[1]] = 4\n\ndef visit(maze, loc):\n    '''Marks a loc in the maze as having been visited'''\n    maze[loc[0]][loc[1]] = 5    \n    \ndef display(maze):\n    '''Prints out the maze after clearing the cell -- useful for animation.'''\n    clear_output(True)\n    print_maze(maze)\n    sleep(0.7)",
      "execution_count": 55,
      "outputs": []
    },
    {
      "metadata": {
        "state": "normal",
        "trusted": true
      },
      "cell_type": "code",
      "source": "def solve_maze(maze, entry):\n    '''Searches for the exit in a maze starting from the given entry point.\n    \n       The algorithm works as follows:\n       \n       1. Visit the entry point and save all possible moves from that location.\n       2. Remove and consider one of the saved moves. If it is the exit, we are done, \n          otherwise visit the destination and save all possible moves from there.\n       3. If we run out of saved moves, we can't find an exit.\n       \n       When we save a move, we also mark it as \"discovered\" in the maze.\n       \n       The data structure used to save moves plays a critical role in how maze\n       exploration proceeds! \n    '''\n    for m in moves(maze, entry):\n        save_move(m)\n    visit(maze, entry)\n    while not out_of_moves():\n        move = next_move()\n        if maze[move.to[0]][move.to[1]] == 3:\n            break\n        display(maze)\n        visit(maze, move.to)\n        for m in moves(maze, move.to):\n            mark(maze, m.to)\n            save_move(m)\n    display(maze)",
      "execution_count": 56,
      "outputs": []
    },
    {
      "metadata": {
        "state": "normal",
        "trusted": true
      },
      "cell_type": "code",
      "source": "move_stack = Stack()\n\ndef save_move(move):\n    move_stack.push(move)\n\ndef next_move():\n    return move_stack.pop()\n\ndef out_of_moves():\n    return move_stack.empty()",
      "execution_count": 57,
      "outputs": []
    },
    {
      "metadata": {
        "state": "normal",
        "trusted": true
      },
      "cell_type": "code",
      "source": "maze_str = \"\"\"######   \n              I    #   \n              # ## #   \n              # ####   \n              #    O   \n              ######\"\"\"\nsolve_maze(parse_maze(maze_str), (1, 0))",
      "execution_count": 53,
      "outputs": [
        {
          "output_type": "stream",
          "text": "######\n+++++#\n#+##+#\n#+####\n#++++O\n######\n",
          "name": "stdout"
        }
      ]
    },
    {
      "metadata": {
        "state": "normal",
        "trusted": true
      },
      "cell_type": "code",
      "source": "maze_str = \"\"\"#################\n              I #       #     #\n              # ##### # # # # #\n              #     # # # # # #\n              # ### ### # # ###\n              #   #       #   O\n              #################\"\"\"\n\nsolve_maze(parse_maze(maze_str), (1, 0))",
      "execution_count": 54,
      "outputs": [
        {
          "output_type": "stream",
          "text": "#################\n++#       #+++++#\n#+##### # #+#+#+#\n#+++++# # #+#+#+#\n#!###+###!#+#+###\n#   #+++++++#+++O\n#################\n",
          "name": "stdout"
        }
      ]
    },
    {
      "metadata": {
        "state": "normal",
        "trusted": true
      },
      "cell_type": "code",
      "source": "maze_str = \"\"\"#################\n              I               #\n              # # # # # # # # #\n              # # # # # # # # #\n              # ###############\n              #               O\n              #################\"\"\"\n\nsolve_maze(parse_maze(maze_str), (1, 0))",
      "execution_count": 58,
      "outputs": [
        {
          "output_type": "stream",
          "text": "#################\n++++++++++++++++#\n#+#+#+#+#+#+#+#+#\n#+#+#+#+#+#+#+#+#\n#+###############\n#+++++++++++++++O\n#################\n",
          "name": "stdout"
        }
      ]
    },
    {
      "metadata": {
        "state": "normal"
      },
      "cell_type": "markdown",
      "source": "Intuitively, because the stack is a last-in, first-out data structure, it keeps following moves down the most recently discovered path until it either reaches the exit or reaches a dead end. It then picks up from the previously discovered path. We call this type of exploration *depth-first traversal*."
    },
    {
      "metadata": {
        "state": "normal"
      },
      "cell_type": "markdown",
      "source": "## 2. Queues"
    },
    {
      "metadata": {
        "state": "normal"
      },
      "cell_type": "markdown",
      "source": "Queues are linear data structures wherein we are only permitted to append (\"enqueue\") items onto the rear, and remove (\"dequeue\") items from the front. The oldest item still in a queue is therefore the next one to be dequeued, which is why we refer to a queue as a first-in, first-out (FIFO) structure. It is helpful to think of a queue as being the model for a line at a typical supermarket checkout aisle (first customer in, first customer to be checked out)."
    },
    {
      "metadata": {
        "state": "normal",
        "trusted": true
      },
      "cell_type": "code",
      "source": "# array-backed implementation\n\nclass Queue:\n    def __init__(self):\n        self.data = []\n\n    def enqueue(self, val):\n        self.data.append(val)\n        \n    def dequeue(self):\n        assert not self.empty()\n        ret = self.data[0]\n        del self.data[0] #O(N)\n        return ret\n    \n    def empty(self):\n        return len(self.data) == 0\n        \n    def __bool__(self):\n        return not self.empty()",
      "execution_count": 59,
      "outputs": []
    },
    {
      "metadata": {
        "state": "normal",
        "trusted": true
      },
      "cell_type": "code",
      "source": "q = Queue()\nfor x in range(10):\n    q.enqueue(x)",
      "execution_count": 60,
      "outputs": []
    },
    {
      "metadata": {
        "state": "normal",
        "trusted": true
      },
      "cell_type": "code",
      "source": "while q:\n    print(q.dequeue())",
      "execution_count": 61,
      "outputs": [
        {
          "output_type": "stream",
          "text": "0\n1\n2\n3\n4\n5\n6\n7\n8\n9\n",
          "name": "stdout"
        }
      ]
    },
    {
      "metadata": {
        "state": "normal",
        "trusted": true
      },
      "cell_type": "code",
      "source": "# circular array-backed implementation (partial)\n\nclass Queue:\n    def __init__(self, size):\n        self.data = [None] * size\n        self.head = self.tail = -1\n\n    def enqueue(self, val):\n        if self.head == -1:\n            self.data[0] = val\n            self.head = self.tail = 0\n        else: \n            self.tail = (self.tail + 1) % len(self.data)\n            self.data[self.tail] = val \n        \n    def dequeue(self):\n        ret = self.data[self.head]\n        self.data[self.head] = None\n        self.head = (self.head + 1) % len(self.data)\n        return ret",
      "execution_count": 62,
      "outputs": []
    },
    {
      "metadata": {
        "state": "normal",
        "trusted": true
      },
      "cell_type": "code",
      "source": "q = Queue(10)\nfor x in range(6):\n    q.enqueue(x)",
      "execution_count": 63,
      "outputs": []
    },
    {
      "metadata": {
        "state": "normal",
        "trusted": true
      },
      "cell_type": "code",
      "source": "q.data",
      "execution_count": 64,
      "outputs": [
        {
          "output_type": "execute_result",
          "execution_count": 64,
          "data": {
            "text/plain": "[0, 1, 2, 3, 4, 5, None, None, None, None]"
          },
          "metadata": {}
        }
      ]
    },
    {
      "metadata": {
        "state": "normal",
        "trusted": true
      },
      "cell_type": "code",
      "source": "for x in range(5):\n    print(q.dequeue())",
      "execution_count": 65,
      "outputs": [
        {
          "output_type": "stream",
          "text": "0\n1\n2\n3\n4\n",
          "name": "stdout"
        }
      ]
    },
    {
      "metadata": {
        "state": "normal",
        "trusted": true
      },
      "cell_type": "code",
      "source": "q.data",
      "execution_count": 66,
      "outputs": [
        {
          "output_type": "execute_result",
          "execution_count": 66,
          "data": {
            "text/plain": "[None, None, None, None, None, 5, None, None, None, None]"
          },
          "metadata": {}
        }
      ]
    },
    {
      "metadata": {
        "state": "normal",
        "trusted": true
      },
      "cell_type": "code",
      "source": "for x in range(6, 12):\n    q.enqueue(x)",
      "execution_count": 67,
      "outputs": []
    },
    {
      "metadata": {
        "state": "normal",
        "trusted": true
      },
      "cell_type": "code",
      "source": "q.data",
      "execution_count": 68,
      "outputs": [
        {
          "output_type": "execute_result",
          "execution_count": 68,
          "data": {
            "text/plain": "[10, 11, None, None, None, 5, 6, 7, 8, 9]"
          },
          "metadata": {}
        }
      ]
    },
    {
      "metadata": {
        "trusted": true
      },
      "cell_type": "code",
      "source": "q.head, q.tail",
      "execution_count": 69,
      "outputs": [
        {
          "output_type": "execute_result",
          "execution_count": 69,
          "data": {
            "text/plain": "(5, 1)"
          },
          "metadata": {}
        }
      ]
    },
    {
      "metadata": {
        "state": "normal",
        "trusted": true
      },
      "cell_type": "code",
      "source": "# linked implementation\n\nclass Queue:\n    class Node:\n        def __init__(self, val, next=None):\n            self.val = val\n            self.next  = next\n    \n    def __init__(self):\n        self.head = self.tail = None\n\n    def enqueue(self, val):\n        if not self.empty():\n            self.tail.next = self.tail = Queue.Node(val)\n        else:\n            self.head = self.tail = Queue.Node(val)\n            \n    def dequeue(self):\n        assert not self.empty()\n        ret = self.head.val\n        self.head = self.head.next\n        if not self.head: \n            self.tail = None\n        return ret\n    \n    def empty(self):\n        return self.head is None\n\n    def __bool__(self):\n        return not self.empty()",
      "execution_count": 72,
      "outputs": []
    },
    {
      "metadata": {
        "state": "normal",
        "trusted": true
      },
      "cell_type": "code",
      "source": "q = Queue()\nfor x in range(10):\n    q.enqueue(x)",
      "execution_count": 73,
      "outputs": []
    },
    {
      "metadata": {
        "state": "normal",
        "trusted": true
      },
      "cell_type": "code",
      "source": "while q:\n    print(q.dequeue())",
      "execution_count": 74,
      "outputs": [
        {
          "output_type": "stream",
          "text": "0\n1\n2\n3\n4\n5\n6\n7\n8\n9\n",
          "name": "stdout"
        }
      ]
    },
    {
      "metadata": {
        "state": "normal"
      },
      "cell_type": "markdown",
      "source": "### ... for tracking execution and backtracking"
    },
    {
      "metadata": {
        "state": "normal",
        "trusted": true
      },
      "cell_type": "code",
      "source": "move_queue = Queue()\n\ndef save_move(move):\n    move_queue.enqueue(move)\n\ndef next_move():\n    return move_queue.dequeue()\n\ndef out_of_moves():\n    return move_queue.empty()",
      "execution_count": 77,
      "outputs": []
    },
    {
      "metadata": {
        "state": "normal",
        "trusted": true
      },
      "cell_type": "code",
      "source": "maze_str = \"\"\"######   \n              I    #   \n              # ## #   \n              # ####   \n              #    O   \n              ######\"\"\"\n\nsolve_maze(parse_maze(maze_str), (1, 0))",
      "execution_count": 78,
      "outputs": [
        {
          "output_type": "stream",
          "text": "######\n+++++#\n#+##+#\n#+####\n#++++O\n######\n",
          "name": "stdout"
        }
      ]
    },
    {
      "metadata": {
        "state": "normal",
        "trusted": true
      },
      "cell_type": "code",
      "source": "maze_str = \"\"\"#################\n              I #       #     #\n              # ##### # # # # #\n              #     # # # # # #\n              # ### ### # # ###\n              #   #       #   O\n              #################\"\"\"\n\nsolve_maze(parse_maze(maze_str), (1, 0))",
      "execution_count": 79,
      "outputs": [
        {
          "output_type": "stream",
          "text": "#################\n++#+++++++#+++++#\n#+#####+#+#+#+#+#\n#+++++#+#+#+#+#+#\n#+###+###+#+#+###\n#+++#+++++++#+++O\n#################\n",
          "name": "stdout"
        }
      ]
    },
    {
      "metadata": {
        "state": "normal",
        "trusted": true
      },
      "cell_type": "code",
      "source": "maze_str = \"\"\"#################\n              I               #\n              # # # # # # # # #\n              # # # # # # # # #\n              # ###############\n              #               O\n              #################\"\"\"\n\nsolve_maze(parse_maze(maze_str), (1, 0))",
      "execution_count": 80,
      "outputs": [
        {
          "output_type": "stream",
          "text": "#################\n++++++++++++++++#\n#+#+#+#+#+#+#+#+#\n#+#+#+#+#+#+#+#+#\n#+###############\n#+++++++++++++++O\n#################\n",
          "name": "stdout"
        }
      ]
    },
    {
      "metadata": {
        "state": "normal"
      },
      "cell_type": "markdown",
      "source": "Intuitively, because the queue is a first-in, first-out -- i.e., *fair* -- data structure, it keeps rotating through all the paths which haven't yet dead-ended, making just one move further down each time. We call this type of exploration *breadth-first traversal*.\n\nAre there types of mazes which might be more suitably tackled using one approach over the other (i.e., depth-first vs. breadth-first)? "
    },
    {
      "metadata": {
        "state": "normal"
      },
      "cell_type": "markdown",
      "source": "### ... for fair scheduling (aka \"round-robin\" scheduling)"
    },
    {
      "metadata": {
        "state": "normal"
      },
      "cell_type": "markdown",
      "source": "Queues are often used to either carry out or simulate the fair allocation of resources. Here we implement a \"round-robin\" scheduler for permitting different tasks to run for small, fixed periods of time until they complete:"
    },
    {
      "metadata": {
        "state": "normal",
        "trusted": true
      },
      "cell_type": "code",
      "source": "from random import randint\nfrom time import sleep\n\ntask_queue = Queue()\nfor i in range(3):\n    task_queue.enqueue(('Job {}'.format(i), randint(3, 6)))",
      "execution_count": 81,
      "outputs": []
    },
    {
      "metadata": {
        "state": "normal",
        "trusted": true
      },
      "cell_type": "code",
      "source": "n = task_queue.head\nwhile n:\n    print(n.val)\n    n = n.next",
      "execution_count": 82,
      "outputs": [
        {
          "output_type": "stream",
          "text": "('Job 0', 3)\n('Job 1', 6)\n('Job 2', 5)\n",
          "name": "stdout"
        }
      ]
    },
    {
      "metadata": {
        "state": "normal",
        "trusted": true
      },
      "cell_type": "code",
      "source": "while not task_queue.empty():\n    job, time_left = task_queue.dequeue()\n    print('Running', job)\n    sleep(1)\n    time_left -= 1\n    if time_left > 0:\n        print('Re-queueuing', job, 'with remaining time =', time_left)\n        task_queue.enqueue((job, time_left))\n    else:\n        print('*', job, 'done')",
      "execution_count": 83,
      "outputs": [
        {
          "output_type": "stream",
          "text": "Running Job 0\nRe-queueuing Job 0 with remaining time = 2\nRunning Job 1\nRe-queueuing Job 1 with remaining time = 5\nRunning Job 2\nRe-queueuing Job 2 with remaining time = 4\nRunning Job 0\nRe-queueuing Job 0 with remaining time = 1\nRunning Job 1\nRe-queueuing Job 1 with remaining time = 4\nRunning Job 2\nRe-queueuing Job 2 with remaining time = 3\nRunning Job 0\n* Job 0 done\nRunning Job 1\nRe-queueuing Job 1 with remaining time = 3\nRunning Job 2\nRe-queueuing Job 2 with remaining time = 2\nRunning Job 1\nRe-queueuing Job 1 with remaining time = 2\nRunning Job 2\nRe-queueuing Job 2 with remaining time = 1\nRunning Job 1\nRe-queueuing Job 1 with remaining time = 1\nRunning Job 2\n* Job 2 done\nRunning Job 1\n* Job 1 done\n",
          "name": "stdout"
        }
      ]
    },
    {
      "metadata": {
        "state": "normal"
      },
      "cell_type": "markdown",
      "source": "### ... for doling out work"
    },
    {
      "metadata": {
        "state": "normal"
      },
      "cell_type": "markdown",
      "source": "Queues are also frequently used as a sort of conveyer belt for multiple worker functions to draw from. Here we implement a \"work queue\" pattern used by multiple threads of execution:"
    },
    {
      "metadata": {
        "state": "normal",
        "trusted": true
      },
      "cell_type": "code",
      "source": "from threading import Thread, Lock\nfrom time import sleep\nimport random\n\nlock = Lock()\ndef worker_fn(cid, q):\n    while True:\n        try:\n            with lock:\n                work = q.dequeue()\n        except: # queue is empty\n            sleep(1)\n            continue\n        if work == 'Stop':\n            print('Consumer', cid, 'stopping.')\n            break\n        else:\n            print('Consumer', cid, 'processing', work)\n            sleep(random.random())\n\nwork_queue = Queue()\nfor i in range(5):\n    Thread(target=worker_fn, args=(i, work_queue)).start()",
      "execution_count": 84,
      "outputs": []
    },
    {
      "metadata": {
        "state": "normal",
        "trusted": true
      },
      "cell_type": "code",
      "source": "import threading\nthreading.active_count()",
      "execution_count": 85,
      "outputs": [
        {
          "output_type": "execute_result",
          "execution_count": 85,
          "data": {
            "text/plain": "10"
          },
          "metadata": {}
        }
      ]
    },
    {
      "metadata": {
        "state": "normal",
        "trusted": true
      },
      "cell_type": "code",
      "source": "for i in range(10):\n    with lock:\n        work_queue.enqueue(i)",
      "execution_count": 86,
      "outputs": []
    },
    {
      "metadata": {
        "state": "normal",
        "trusted": true
      },
      "cell_type": "code",
      "source": "for i in range(5):\n    with lock:\n        work_queue.enqueue('Stop')",
      "execution_count": 87,
      "outputs": []
    },
    {
      "metadata": {
        "state": "normal"
      },
      "cell_type": "markdown",
      "source": "## 3. Run-time analysis"
    },
    {
      "metadata": {
        "state": "normal"
      },
      "cell_type": "markdown",
      "source": "Stack & Queue implementations:\n\n- Insertion (push and enqueue) = $O(1)$\n- Deletion (pop and dequeue) = $O(1)$"
    }
  ],
  "metadata": {
    "kernelspec": {
      "name": "python3",
      "display_name": "Python 3",
      "language": "python"
    },
    "language_info": {
      "name": "python",
      "version": "3.7.3",
      "mimetype": "text/x-python",
      "codemirror_mode": {
        "name": "ipython",
        "version": 3
      },
      "pygments_lexer": "ipython3",
      "nbconvert_exporter": "python",
      "file_extension": ".py"
    },
    "mimir": {
      "project_id": "24aaf647-5e88-426d-8478-5aad131fcd8a",
      "last_submission_id": "",
      "data": {}
    },
    "varInspector": {
      "window_display": false,
      "cols": {
        "lenName": 16,
        "lenType": 16,
        "lenVar": 40
      },
      "kernels_config": {
        "python": {
          "library": "var_list.py",
          "delete_cmd_prefix": "del ",
          "delete_cmd_postfix": "",
          "varRefreshCmd": "print(var_dic_list())"
        },
        "r": {
          "library": "var_list.r",
          "delete_cmd_prefix": "rm(",
          "delete_cmd_postfix": ") ",
          "varRefreshCmd": "cat(var_dic_list()) "
        }
      },
      "types_to_exclude": [
        "module",
        "function",
        "builtin_function_or_method",
        "instance",
        "_Feature"
      ]
    }
  },
  "nbformat": 4,
  "nbformat_minor": 2
}