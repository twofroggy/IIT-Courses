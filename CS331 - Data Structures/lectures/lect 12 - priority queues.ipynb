{
  "cells": [
    {
      "metadata": {
        "state": "normal"
      },
      "cell_type": "markdown",
      "source": "# Priority Queues\n\n## Agenda\n\n1. Motives\n2. Naive implementation\n2. Heaps\n    - Mechanics\n    - Implementation\n    - Run-time Analysis\n3. Heapsort"
    },
    {
      "metadata": {
        "state": "normal"
      },
      "cell_type": "markdown",
      "source": "## 1. Motives\n\nPrior to stacks&queues, the sequential data structures we implemented imposed an observable total ordering on all its elements, which were also individually accessible (e.g., by index).\n\nStackes&Queues restrict access to elements (to only 1 insertion/deletion point), thereby simplifying their implementation. They don't, however, alter the order of the inserted elements.\n\nData structures that impose a total ordering are useful - e.g., one that maintains all elements in sorted order at all times might come in handy - but their design and implementation are necessarily somewhat complicated. We'll get to them, but before that ...\n\nIs ther a middle ground? i.e., is ther a place for a data structure that restricts access to its elements, yet maintains an implied (though not necessary total) ordering?"
    },
    {
      "metadata": {},
      "cell_type": "markdown",
      "source": "### \"Priority Queue\"\nLike a queue, a priority queue has a restricted API, but each element has an implicit \"priority\", such that the element with the highest (\"max\") priority is always dequeued, regardless of the order in which it was enqueued. "
    },
    {
      "metadata": {
        "state": "normal"
      },
      "cell_type": "markdown",
      "source": "## 2. Naive implementation"
    },
    {
      "metadata": {
        "state": "normal",
        "trusted": true
      },
      "cell_type": "code",
      "source": "class PriorityQueue:\n    def __init__(self):\n        self.data = []\n        \n    def add(self, x):\n        self.data.append(x)\n        self.data.sort() #O(N log N) > O(N)\n    \n    def max(self):\n        return self.data[-1] #O(1)\n\n    def pop_max(self):\n        return self.data.pop(-1) #O(1)\n    \n    def __bool__(self):\n        return len(self.data) > 0 \n\n    def __len__(self):\n        return len(self.data)\n\n    def __repr__(self):\n        return repr(self.data)",
      "execution_count": 1,
      "outputs": []
    },
    {
      "metadata": {
        "state": "normal",
        "trusted": true
      },
      "cell_type": "code",
      "source": "pq = PriorityQueue()",
      "execution_count": 2,
      "outputs": []
    },
    {
      "metadata": {
        "state": "normal",
        "trusted": true
      },
      "cell_type": "code",
      "source": "import random\nfor _ in range(10):\n    pq.add(random.randrange(100))",
      "execution_count": 3,
      "outputs": []
    },
    {
      "metadata": {
        "state": "normal",
        "trusted": true
      },
      "cell_type": "code",
      "source": "pq",
      "execution_count": 4,
      "outputs": [
        {
          "output_type": "execute_result",
          "execution_count": 4,
          "data": {
            "text/plain": "[7, 13, 20, 29, 37, 47, 50, 55, 61, 69]"
          },
          "metadata": {}
        }
      ]
    },
    {
      "metadata": {
        "state": "normal",
        "trusted": true
      },
      "cell_type": "code",
      "source": "while pq:\n    print(pq.pop_max())",
      "execution_count": 5,
      "outputs": [
        {
          "output_type": "stream",
          "text": "69\n61\n55\n50\n47\n37\n29\n20\n13\n7\n",
          "name": "stdout"
        }
      ]
    },
    {
      "metadata": {
        "state": "normal"
      },
      "cell_type": "markdown",
      "source": "## 3. Heaps"
    },
    {
      "metadata": {
        "state": "normal"
      },
      "cell_type": "markdown",
      "source": "### Mechanics"
    },
    {
      "metadata": {
        "state": "normal"
      },
      "cell_type": "markdown",
      "source": "### Implementation"
    },
    {
      "metadata": {
        "state": "normal",
        "trusted": true
      },
      "cell_type": "code",
      "source": "class Heap:\n    def __init__(self):\n        self.data = []\n    \n    @staticmethod\n    def _parent(idx):\n        return (idx - 1) // 2\n    \n    @staticmethod\n    def _left(idx):\n        return idx*2 + 1\n    \n    @staticmethod\n    def _right(idx):\n        return idx*2 + 2\n    \n    def add(self, x):\n        self.data.append(x)\n        # time to bubble-up!\n        i = len(self.data) - 1\n        while i > 0:\n            p = Heap._parent(i)\n            if self.data[i] > self.data[p]:\n                self.data[i], self.data[p] = self.data[p], self.data[i]\n                i = p \n            else: \n                break\n        \n    def max(self):\n        return self.data[0]\n    \n    def pop_max(self):\n        m = self.data[0]\n        self.data[0] = self.data[-1]\n        del self.data[-1]\n        # time to trickle-down!\n        i = 0\n        while i < len(self.data):\n            l = Heap._left(i)\n            r = Heap._right(i)\n            mi = i\n            if l < len(self.data) and self.data[l] > self.data[i]:\n                mi = l\n            if r < len(self.data) and self.data[r] > self.data[i]:\n                mi = r\n            if mi != i:\n                self.data[i], self.data[mi] = self.data[mi], self.data[i]\n                i = mi\n            else: \n                break\n                \n        return m\n    \n    def __bool__(self):\n        return len(self.data) > 0\n\n    def __len__(self):\n        return len(self.data)\n\n    def __repr__(self):\n        return repr(self.data)",
      "execution_count": 8,
      "outputs": []
    },
    {
      "metadata": {
        "state": "normal",
        "trusted": true
      },
      "cell_type": "code",
      "source": "h = Heap()",
      "execution_count": 9,
      "outputs": []
    },
    {
      "metadata": {
        "state": "normal",
        "trusted": true
      },
      "cell_type": "code",
      "source": "import random\nfor _ in range(10):\n    h.add(random.randrange(100))",
      "execution_count": 10,
      "outputs": []
    },
    {
      "metadata": {
        "state": "normal",
        "trusted": true
      },
      "cell_type": "code",
      "source": "h",
      "execution_count": 11,
      "outputs": [
        {
          "output_type": "execute_result",
          "execution_count": 11,
          "data": {
            "text/plain": "[98, 89, 74, 84, 40, 30, 51, 3, 28, 10]"
          },
          "metadata": {}
        }
      ]
    },
    {
      "metadata": {
        "trusted": true
      },
      "cell_type": "code",
      "source": "h.max()",
      "execution_count": 12,
      "outputs": [
        {
          "output_type": "execute_result",
          "execution_count": 12,
          "data": {
            "text/plain": "98"
          },
          "metadata": {}
        }
      ]
    },
    {
      "metadata": {
        "state": "normal",
        "trusted": false
      },
      "cell_type": "code",
      "source": "while h:\n    print(h.pop_max())",
      "execution_count": null,
      "outputs": []
    },
    {
      "metadata": {
        "state": "normal"
      },
      "cell_type": "markdown",
      "source": "### Run-time Analysis"
    },
    {
      "metadata": {
        "state": "normal"
      },
      "cell_type": "markdown",
      "source": "## 4. Heapsort"
    },
    {
      "metadata": {
        "state": "normal",
        "trusted": true
      },
      "cell_type": "code",
      "source": "def heapsort(iterable): # O(N log N)\n    heap = Heap()\n    for c in iterable: # O(N log N)\n        heap.add(x) # O(log N)\n    l = []\n    while heap: # O(N log N)\n        l.append(heap.pop_max())\n    l.reverse() # O(N)\n    return l ",
      "execution_count": 13,
      "outputs": []
    },
    {
      "metadata": {
        "state": "normal",
        "trusted": true
      },
      "cell_type": "code",
      "source": "from random import shuffle\nlst = list(range(100))\nshuffle(lst)\nprint(lst)\nprint(heapsort(lst))",
      "execution_count": 14,
      "outputs": [
        {
          "output_type": "stream",
          "text": "[43, 7, 67, 74, 41, 86, 84, 60, 34, 24, 15, 82, 44, 64, 77, 25, 29, 97, 63, 23, 3, 49, 18, 26, 92, 20, 50, 33, 91, 66, 78, 76, 99, 51, 32, 71, 8, 46, 87, 5, 53, 83, 27, 13, 89, 85, 95, 36, 59, 81, 11, 57, 14, 16, 79, 22, 69, 31, 10, 0, 61, 93, 39, 94, 28, 6, 1, 12, 37, 47, 58, 35, 80, 45, 19, 17, 52, 90, 38, 65, 88, 54, 42, 62, 9, 98, 72, 73, 2, 55, 40, 21, 70, 96, 68, 4, 75, 30, 48, 56]\n",
          "name": "stdout"
        },
        {
          "output_type": "error",
          "ename": "NameError",
          "evalue": "name 'x' is not defined",
          "traceback": [
            "\u001b[0;31m---------------------------------------------------------------------------\u001b[0m",
            "\u001b[0;31mNameError\u001b[0m                                 Traceback (most recent call last)",
            "\u001b[0;32m<ipython-input-14-32344dbe39a5>\u001b[0m in \u001b[0;36m<module>\u001b[0;34m\u001b[0m\n\u001b[1;32m      3\u001b[0m \u001b[0mshuffle\u001b[0m\u001b[0;34m(\u001b[0m\u001b[0mlst\u001b[0m\u001b[0;34m)\u001b[0m\u001b[0;34m\u001b[0m\u001b[0;34m\u001b[0m\u001b[0m\n\u001b[1;32m      4\u001b[0m \u001b[0mprint\u001b[0m\u001b[0;34m(\u001b[0m\u001b[0mlst\u001b[0m\u001b[0;34m)\u001b[0m\u001b[0;34m\u001b[0m\u001b[0;34m\u001b[0m\u001b[0m\n\u001b[0;32m----> 5\u001b[0;31m \u001b[0mprint\u001b[0m\u001b[0;34m(\u001b[0m\u001b[0mheapsort\u001b[0m\u001b[0;34m(\u001b[0m\u001b[0mlst\u001b[0m\u001b[0;34m)\u001b[0m\u001b[0;34m)\u001b[0m\u001b[0;34m\u001b[0m\u001b[0;34m\u001b[0m\u001b[0m\n\u001b[0m",
            "\u001b[0;32m<ipython-input-13-4e53ed85f701>\u001b[0m in \u001b[0;36mheapsort\u001b[0;34m(iterable)\u001b[0m\n\u001b[1;32m      2\u001b[0m     \u001b[0mheap\u001b[0m \u001b[0;34m=\u001b[0m \u001b[0mHeap\u001b[0m\u001b[0;34m(\u001b[0m\u001b[0;34m)\u001b[0m\u001b[0;34m\u001b[0m\u001b[0;34m\u001b[0m\u001b[0m\n\u001b[1;32m      3\u001b[0m     \u001b[0;32mfor\u001b[0m \u001b[0mc\u001b[0m \u001b[0;32min\u001b[0m \u001b[0miterable\u001b[0m\u001b[0;34m:\u001b[0m \u001b[0;31m# O(N log N)\u001b[0m\u001b[0;34m\u001b[0m\u001b[0;34m\u001b[0m\u001b[0m\n\u001b[0;32m----> 4\u001b[0;31m         \u001b[0mheap\u001b[0m\u001b[0;34m.\u001b[0m\u001b[0madd\u001b[0m\u001b[0;34m(\u001b[0m\u001b[0mx\u001b[0m\u001b[0;34m)\u001b[0m \u001b[0;31m# O(log N)\u001b[0m\u001b[0;34m\u001b[0m\u001b[0;34m\u001b[0m\u001b[0m\n\u001b[0m\u001b[1;32m      5\u001b[0m     \u001b[0ml\u001b[0m \u001b[0;34m=\u001b[0m \u001b[0;34m[\u001b[0m\u001b[0;34m]\u001b[0m\u001b[0;34m\u001b[0m\u001b[0;34m\u001b[0m\u001b[0m\n\u001b[1;32m      6\u001b[0m     \u001b[0;32mwhile\u001b[0m \u001b[0mheap\u001b[0m\u001b[0;34m:\u001b[0m \u001b[0;31m# O(N log N)\u001b[0m\u001b[0;34m\u001b[0m\u001b[0;34m\u001b[0m\u001b[0m\n",
            "\u001b[0;31mNameError\u001b[0m: name 'x' is not defined"
          ]
        }
      ]
    },
    {
      "metadata": {
        "state": "normal",
        "trusted": true
      },
      "cell_type": "code",
      "source": "%matplotlib inline\nimport matplotlib.pyplot as plt\nimport numpy as np\n\nns = np.linspace(100, 10000, 50, dtype=np.int_)\nplt.plot(ns, [time_heapsort(n) for n in ns], 'r+')\nplt.show()",
      "execution_count": 15,
      "outputs": [
        {
          "output_type": "error",
          "ename": "NameError",
          "evalue": "name 'time_heapsort' is not defined",
          "traceback": [
            "\u001b[0;31m---------------------------------------------------------------------------\u001b[0m",
            "\u001b[0;31mNameError\u001b[0m                                 Traceback (most recent call last)",
            "\u001b[0;32m<ipython-input-15-07c8b914d353>\u001b[0m in \u001b[0;36m<module>\u001b[0;34m\u001b[0m\n\u001b[1;32m      4\u001b[0m \u001b[0;34m\u001b[0m\u001b[0m\n\u001b[1;32m      5\u001b[0m \u001b[0mns\u001b[0m \u001b[0;34m=\u001b[0m \u001b[0mnp\u001b[0m\u001b[0;34m.\u001b[0m\u001b[0mlinspace\u001b[0m\u001b[0;34m(\u001b[0m\u001b[0;36m100\u001b[0m\u001b[0;34m,\u001b[0m \u001b[0;36m10000\u001b[0m\u001b[0;34m,\u001b[0m \u001b[0;36m50\u001b[0m\u001b[0;34m,\u001b[0m \u001b[0mdtype\u001b[0m\u001b[0;34m=\u001b[0m\u001b[0mnp\u001b[0m\u001b[0;34m.\u001b[0m\u001b[0mint_\u001b[0m\u001b[0;34m)\u001b[0m\u001b[0;34m\u001b[0m\u001b[0;34m\u001b[0m\u001b[0m\n\u001b[0;32m----> 6\u001b[0;31m \u001b[0mplt\u001b[0m\u001b[0;34m.\u001b[0m\u001b[0mplot\u001b[0m\u001b[0;34m(\u001b[0m\u001b[0mns\u001b[0m\u001b[0;34m,\u001b[0m \u001b[0;34m[\u001b[0m\u001b[0mtime_heapsort\u001b[0m\u001b[0;34m(\u001b[0m\u001b[0mn\u001b[0m\u001b[0;34m)\u001b[0m \u001b[0;32mfor\u001b[0m \u001b[0mn\u001b[0m \u001b[0;32min\u001b[0m \u001b[0mns\u001b[0m\u001b[0;34m]\u001b[0m\u001b[0;34m,\u001b[0m \u001b[0;34m'r+'\u001b[0m\u001b[0;34m)\u001b[0m\u001b[0;34m\u001b[0m\u001b[0;34m\u001b[0m\u001b[0m\n\u001b[0m\u001b[1;32m      7\u001b[0m \u001b[0mplt\u001b[0m\u001b[0;34m.\u001b[0m\u001b[0mshow\u001b[0m\u001b[0;34m(\u001b[0m\u001b[0;34m)\u001b[0m\u001b[0;34m\u001b[0m\u001b[0;34m\u001b[0m\u001b[0m\n",
            "\u001b[0;32m<ipython-input-15-07c8b914d353>\u001b[0m in \u001b[0;36m<listcomp>\u001b[0;34m(.0)\u001b[0m\n\u001b[1;32m      4\u001b[0m \u001b[0;34m\u001b[0m\u001b[0m\n\u001b[1;32m      5\u001b[0m \u001b[0mns\u001b[0m \u001b[0;34m=\u001b[0m \u001b[0mnp\u001b[0m\u001b[0;34m.\u001b[0m\u001b[0mlinspace\u001b[0m\u001b[0;34m(\u001b[0m\u001b[0;36m100\u001b[0m\u001b[0;34m,\u001b[0m \u001b[0;36m10000\u001b[0m\u001b[0;34m,\u001b[0m \u001b[0;36m50\u001b[0m\u001b[0;34m,\u001b[0m \u001b[0mdtype\u001b[0m\u001b[0;34m=\u001b[0m\u001b[0mnp\u001b[0m\u001b[0;34m.\u001b[0m\u001b[0mint_\u001b[0m\u001b[0;34m)\u001b[0m\u001b[0;34m\u001b[0m\u001b[0;34m\u001b[0m\u001b[0m\n\u001b[0;32m----> 6\u001b[0;31m \u001b[0mplt\u001b[0m\u001b[0;34m.\u001b[0m\u001b[0mplot\u001b[0m\u001b[0;34m(\u001b[0m\u001b[0mns\u001b[0m\u001b[0;34m,\u001b[0m \u001b[0;34m[\u001b[0m\u001b[0mtime_heapsort\u001b[0m\u001b[0;34m(\u001b[0m\u001b[0mn\u001b[0m\u001b[0;34m)\u001b[0m \u001b[0;32mfor\u001b[0m \u001b[0mn\u001b[0m \u001b[0;32min\u001b[0m \u001b[0mns\u001b[0m\u001b[0;34m]\u001b[0m\u001b[0;34m,\u001b[0m \u001b[0;34m'r+'\u001b[0m\u001b[0;34m)\u001b[0m\u001b[0;34m\u001b[0m\u001b[0;34m\u001b[0m\u001b[0m\n\u001b[0m\u001b[1;32m      7\u001b[0m \u001b[0mplt\u001b[0m\u001b[0;34m.\u001b[0m\u001b[0mshow\u001b[0m\u001b[0;34m(\u001b[0m\u001b[0;34m)\u001b[0m\u001b[0;34m\u001b[0m\u001b[0;34m\u001b[0m\u001b[0m\n",
            "\u001b[0;31mNameError\u001b[0m: name 'time_heapsort' is not defined"
          ]
        }
      ]
    },
    {
      "metadata": {
        "state": "normal",
        "trusted": false
      },
      "cell_type": "code",
      "source": "%matplotlib inline\nimport matplotlib.pyplot as plt\nimport numpy as np\n\nns = np.linspace(100, 10000, 50, dtype=np.int_)\nplt.plot(ns, [time_heapsort(n) for n in ns], 'r+')\nplt.plot(ns, ns*np.log2(ns)*0.01/10000, 'b') # O(n log n) plot\nplt.show()",
      "execution_count": null,
      "outputs": []
    }
  ],
  "metadata": {
    "kernelspec": {
      "name": "python3",
      "display_name": "Python 3",
      "language": "python"
    },
    "language_info": {
      "name": "python",
      "version": "3.7.3",
      "mimetype": "text/x-python",
      "codemirror_mode": {
        "name": "ipython",
        "version": 3
      },
      "pygments_lexer": "ipython3",
      "nbconvert_exporter": "python",
      "file_extension": ".py"
    },
    "mimir": {
      "project_id": "cd081cc2-3118-4acf-abe4-cfe5215cf9e7",
      "last_submission_id": "57426454-46b6-4b43-af0b-21efa9fc7248",
      "data": {}
    },
    "varInspector": {
      "window_display": false,
      "cols": {
        "lenName": 16,
        "lenType": 16,
        "lenVar": 40
      },
      "kernels_config": {
        "python": {
          "library": "var_list.py",
          "delete_cmd_prefix": "del ",
          "delete_cmd_postfix": "",
          "varRefreshCmd": "print(var_dic_list())"
        },
        "r": {
          "library": "var_list.r",
          "delete_cmd_prefix": "rm(",
          "delete_cmd_postfix": ") ",
          "varRefreshCmd": "cat(var_dic_list()) "
        }
      },
      "types_to_exclude": [
        "module",
        "function",
        "builtin_function_or_method",
        "instance",
        "_Feature"
      ]
    }
  },
  "nbformat": 4,
  "nbformat_minor": 2
}