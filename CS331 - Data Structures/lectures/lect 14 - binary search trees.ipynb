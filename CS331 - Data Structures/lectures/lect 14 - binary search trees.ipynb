{
  "cells": [
    {
      "metadata": {
        "state": "normal"
      },
      "cell_type": "markdown",
      "source": "# Binary Search Trees\n\n## Agenda\n\n- Binary Trees & Binary Search Trees: definitions\n- Linked tree structure and Manual construction\n- Recursive binary search tree functions"
    },
    {
      "metadata": {
        "state": "normal"
      },
      "cell_type": "markdown",
      "source": "## Binary Tree: def\n\n- A *binary tree* is a structure that is either empty, or consists of a *root* node containing a value and references to a left and right *sub-tree*, which are themselves binary trees.\n\nNaming nodes:\n- The single node in a binary tree without a parent is the root node of the tree\n- We say that a given node is the *parent* of its left and right *child* nodes; nodes with the same parent are called *siblings*\n- If a node has no children we call it a *leaf* node; otherwise, we call it an *internal* node\n\nBinary tree metrics (note: alternative defs are sometimes used!):\n\n- The *depth* of a node is the number of nodes from the root of the tree to that node (inclusive)\n- The *height* of a node is the number of nodes on the longest path from that node down to a leaf (inclusive)\n\nCategorizing binary trees:\n\n- A *complete* binary tree is one where all but the last level are filled, and in the last level leaves are as far to the left as possible\n- A *perfect* binary tree is one where all internal nodes have 2 children, and all leaves have the same depth\n- A *balanced* binary tree is ... ?"
    },
    {
      "metadata": {
        "state": "normal"
      },
      "cell_type": "markdown",
      "source": "## Binary Search Tree (BSTree): def\n\n- A *binary search tree* is a binary tree where the value contained in every node is:\n    - *greater than* all keys in its left subtree, and\n    - *less than* all keys in its right subtree"
    },
    {
      "metadata": {
        "state": "normal"
      },
      "cell_type": "markdown",
      "source": "## Linked tree structure and Manual construction:"
    },
    {
      "metadata": {
        "state": "normal",
        "trusted": true
      },
      "cell_type": "code",
      "source": "class Node:\n    def __init__(self, val, left=None, right=None):\n        self.val = val\n        self.left = left\n        self.right = right",
      "execution_count": 35,
      "outputs": []
    },
    {
      "metadata": {
        "trusted": true
      },
      "cell_type": "code",
      "source": "r = Node(10)",
      "execution_count": 36,
      "outputs": []
    },
    {
      "metadata": {
        "trusted": true
      },
      "cell_type": "code",
      "source": "r.left = Node(8, left=Node(5), right=Node(9))\nr.right = Node(15)\nr.right.left = Node(12)\nr.right.right = Node(20)",
      "execution_count": 37,
      "outputs": []
    },
    {
      "metadata": {
        "trusted": true
      },
      "cell_type": "code",
      "source": "r.right.left.val",
      "execution_count": 4,
      "outputs": [
        {
          "output_type": "execute_result",
          "execution_count": 4,
          "data": {
            "text/plain": "12"
          },
          "metadata": {}
        }
      ]
    },
    {
      "metadata": {
        "state": "normal"
      },
      "cell_type": "markdown",
      "source": "## Recursive bstree functions"
    },
    {
      "metadata": {
        "state": "normal",
        "trusted": true
      },
      "cell_type": "code",
      "source": "def minval(t): #(iterative version)\n    if not t:\n        return\n    while t.left:\n        t = t.left\n    return t.val\n#space efficiency is O(1)",
      "execution_count": 5,
      "outputs": []
    },
    {
      "metadata": {
        "trusted": true
      },
      "cell_type": "code",
      "source": "def minval(t): #(recursive version)\n    if not t:\n        return\n    elif not t.left:\n        return t.val\n    else: \n        return minval(t.left)\n#much less space-efficient -- space efficiency is O(N) ",
      "execution_count": 7,
      "outputs": []
    },
    {
      "metadata": {
        "trusted": true
      },
      "cell_type": "code",
      "source": "minval(r)",
      "execution_count": 9,
      "outputs": [
        {
          "output_type": "execute_result",
          "execution_count": 9,
          "data": {
            "text/plain": "5"
          },
          "metadata": {}
        }
      ]
    },
    {
      "metadata": {
        "state": "normal",
        "trusted": true
      },
      "cell_type": "code",
      "source": "def maxval(t): #iterative version\n    if not t:\n        return\n    while t.right:\n        t = t.right\n    return t.val\n#space efficiency is O(1)",
      "execution_count": 10,
      "outputs": []
    },
    {
      "metadata": {
        "trusted": true
      },
      "cell_type": "code",
      "source": "def maxval(t):#recursive version\n    if not t:\n        return\n    elif not t.right:\n        return t.val\n    else:\n        return maxval(t.right)\n#much less space-efficient -- space efficiency is O(N) ",
      "execution_count": 11,
      "outputs": []
    },
    {
      "metadata": {
        "trusted": true
      },
      "cell_type": "code",
      "source": "maxval(r)",
      "execution_count": 12,
      "outputs": [
        {
          "output_type": "execute_result",
          "execution_count": 12,
          "data": {
            "text/plain": "20"
          },
          "metadata": {}
        }
      ]
    },
    {
      "metadata": {
        "state": "normal",
        "trusted": true
      },
      "cell_type": "code",
      "source": "def find(t, x):\n    while t:\n        print(t.val)\n        if t.val < x:\n            t = t.right\n        elif t.val > x:\n            t = t.left\n        else: \n            return True\n    else: \n        return False",
      "execution_count": 20,
      "outputs": []
    },
    {
      "metadata": {
        "trusted": true
      },
      "cell_type": "code",
      "source": "find(r, 11)",
      "execution_count": 21,
      "outputs": [
        {
          "output_type": "stream",
          "text": "10\n15\n12\n",
          "name": "stdout"
        },
        {
          "output_type": "execute_result",
          "execution_count": 21,
          "data": {
            "text/plain": "False"
          },
          "metadata": {}
        }
      ]
    },
    {
      "metadata": {
        "trusted": true
      },
      "cell_type": "code",
      "source": "def find(t, x):\n    if not t:\n        return False\n    elif t.val == x:\n        return True\n    elif t.val < x:\n        return find(t.right, x)\n    else:\n        return find(t.left, x)",
      "execution_count": 22,
      "outputs": []
    },
    {
      "metadata": {
        "trusted": true
      },
      "cell_type": "code",
      "source": "find(r, 11)",
      "execution_count": 24,
      "outputs": [
        {
          "output_type": "execute_result",
          "execution_count": 24,
          "data": {
            "text/plain": "False"
          },
          "metadata": {}
        }
      ]
    },
    {
      "metadata": {
        "state": "normal",
        "trusted": false
      },
      "cell_type": "code",
      "source": "def height(t):\n    if not t:\n        return 0\n    while ?:\n        ?",
      "execution_count": null,
      "outputs": []
    },
    {
      "metadata": {
        "trusted": true
      },
      "cell_type": "code",
      "source": "def height(t):\n    if not t:\n        raise -1 #Exception('tree is empty!')\n    elif not t.left and not t.right:\n        return 0\n    else:\n        hl = height(t.left)\n        hr = height(t.right)\n        return 1 + max(hl, hr)",
      "execution_count": 38,
      "outputs": []
    },
    {
      "metadata": {
        "trusted": true
      },
      "cell_type": "code",
      "source": "height(r)",
      "execution_count": 40,
      "outputs": [
        {
          "output_type": "execute_result",
          "execution_count": 40,
          "data": {
            "text/plain": "2"
          },
          "metadata": {}
        }
      ]
    },
    {
      "metadata": {
        "state": "normal",
        "trusted": true
      },
      "cell_type": "code",
      "source": "def visit(t): #iterative\n    if not t:\n        return \n    else: \n        unvisited = [t]\n        while unvisited:\n            n = unvisited.pop(0)\n            print(n.val)\n            if n.left:\n                unvisited.append(n.left)\n            if n.right:\n                unvisited.append(n.right)",
      "execution_count": 51,
      "outputs": []
    },
    {
      "metadata": {
        "trusted": true
      },
      "cell_type": "code",
      "source": "visit(r)",
      "execution_count": 52,
      "outputs": [
        {
          "output_type": "stream",
          "text": "10\n8\n15\n5\n9\n12\n20\n",
          "name": "stdout"
        }
      ]
    },
    {
      "metadata": {
        "trusted": true
      },
      "cell_type": "code",
      "source": "def visit(t): #recursive\n    if not t:\n        return \n    else: \n        visit(t.left)\n        print(t.val)\n        visit(t.right)",
      "execution_count": 53,
      "outputs": []
    },
    {
      "metadata": {
        "trusted": true
      },
      "cell_type": "code",
      "source": "visit(r)",
      "execution_count": 54,
      "outputs": [
        {
          "output_type": "stream",
          "text": "5\n8\n9\n10\n12\n15\n20\n",
          "name": "stdout"
        }
      ]
    }
  ],
  "metadata": {
    "kernelspec": {
      "name": "python3",
      "display_name": "Python 3",
      "language": "python"
    },
    "language_info": {
      "name": "python",
      "version": "3.7.3",
      "mimetype": "text/x-python",
      "codemirror_mode": {
        "name": "ipython",
        "version": 3
      },
      "pygments_lexer": "ipython3",
      "nbconvert_exporter": "python",
      "file_extension": ".py"
    },
    "mimir": {
      "project_id": "0192a678-de78-4875-a365-b09a35992fd2",
      "last_submission_id": "",
      "data": {}
    },
    "varInspector": {
      "window_display": false,
      "cols": {
        "lenName": 16,
        "lenType": 16,
        "lenVar": 40
      },
      "kernels_config": {
        "python": {
          "library": "var_list.py",
          "delete_cmd_prefix": "del ",
          "delete_cmd_postfix": "",
          "varRefreshCmd": "print(var_dic_list())"
        },
        "r": {
          "library": "var_list.r",
          "delete_cmd_prefix": "rm(",
          "delete_cmd_postfix": ") ",
          "varRefreshCmd": "cat(var_dic_list()) "
        }
      },
      "types_to_exclude": [
        "module",
        "function",
        "builtin_function_or_method",
        "instance",
        "_Feature"
      ]
    }
  },
  "nbformat": 4,
  "nbformat_minor": 2
}