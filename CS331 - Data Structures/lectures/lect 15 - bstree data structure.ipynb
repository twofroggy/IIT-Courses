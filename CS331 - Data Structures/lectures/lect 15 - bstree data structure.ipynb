{
  "cells": [
    {
      "metadata": {
        "state": "normal"
      },
      "cell_type": "markdown",
      "source": "# The BSTree data structure\n\n## Agenda\n\n- API\n- Implementation\n    - Search\n    - Addition\n    - Removal\n    - Iteration / Traversal\n- Runtime complexity"
    },
    {
      "metadata": {
        "state": "normal"
      },
      "cell_type": "markdown",
      "source": "## API"
    },
    {
      "metadata": {
        "state": "normal",
        "trusted": true
      },
      "cell_type": "code",
      "source": "class BSTree:\n    class Node:\n        def __init__(self, val, left=None, right=None):\n            self.val = val\n            self.left = left\n            self.right = right\n            \n    def __init__(self):\n        self.size = 0\n        self.root = None\n    \n    def __contains__(self, val):\n        \"\"\"Returns `True` if val is in this tree and `False` otherwise.\"\"\"\n        pass\n    \n    def add(self, val):\n        \"\"\"Adds `val` to this tree while maintaining BSTree properties.\"\"\"\n        assert(val not in self)\n            \n\n    def __delitem__(self, val):\n        \"\"\"Removes `val` from this tree while maintaining BSTree properties.\"\"\"\n        assert(val in self)\n        pass\n    \n    def __iter__(self):\n        \"\"\"Returns an iterator over all the values in the tree, in ascending order.\"\"\"\n        pass\n\n    def __len__(self):\n        return self.size\n    \n    def height(self):\n        \"\"\"Returns the height of the root of the tree.\"\"\"\n        def height_rec(t):\n            if not t:\n                return 0\n            else:\n                return 1 + max(height_rec(t.left), height_rec(t.right))\n        return height_rec(self.root)\n\n    def pprint(self, width=64):\n        \"\"\"Attempts to pretty-print this tree's contents.\"\"\"\n        height = self.height()\n        nodes  = [(self.root, 0)]\n        prev_level = 0\n        repr_str = ''\n        while nodes:\n            n,level = nodes.pop(0)\n            if prev_level != level:\n                prev_level = level\n                repr_str += '\\n'\n            if not n:\n                if level < height-1:\n                    nodes.extend([(None, level+1), (None, level+1)])\n                repr_str += '{val:^{width}}'.format(val='-', width=width//2**level)\n            elif n:\n                if n.left or level < height-1:\n                    nodes.append((n.left, level+1))\n                if n.right or level < height-1:\n                    nodes.append((n.right, level+1))\n                repr_str += '{val:^{width}}'.format(val=n.val, width=width//2**level)\n        print(repr_str)",
      "execution_count": 1,
      "outputs": []
    },
    {
      "metadata": {
        "state": "normal",
        "trusted": true
      },
      "cell_type": "code",
      "source": "t = BSTree()\nt.root = BSTree.Node(5,\n                    left=BSTree.Node(2),\n                    right=BSTree.Node(10))\nt.size = 3",
      "execution_count": 2,
      "outputs": []
    },
    {
      "metadata": {
        "state": "normal",
        "trusted": true
      },
      "cell_type": "code",
      "source": "t.height()",
      "execution_count": 4,
      "outputs": [
        {
          "output_type": "execute_result",
          "execution_count": 4,
          "data": {
            "text/plain": "2"
          },
          "metadata": {}
        }
      ]
    },
    {
      "metadata": {
        "state": "normal",
        "trusted": true
      },
      "cell_type": "code",
      "source": "t.pprint()",
      "execution_count": 3,
      "outputs": [
        {
          "output_type": "stream",
          "text": "                               5                                \n               2                               10               \n",
          "name": "stdout"
        }
      ]
    },
    {
      "metadata": {
        "state": "normal"
      },
      "cell_type": "markdown",
      "source": "## Implementation"
    },
    {
      "metadata": {
        "state": "normal"
      },
      "cell_type": "markdown",
      "source": "### Search"
    },
    {
      "metadata": {
        "trusted": true
      },
      "cell_type": "code",
      "source": "def find(t, x):\n    if not t:\n        return False\n    elif t.val == x:\n        return True\n    elif t.val < x:\n        return find(t.right, x)\n    else:\n        return find(t.left, x)",
      "execution_count": 5,
      "outputs": []
    },
    {
      "metadata": {
        "state": "normal",
        "trusted": true
      },
      "cell_type": "code",
      "source": "class BSTree(BSTree):\n    def __contains__(self, val):\n        return find(self.root, val)",
      "execution_count": 6,
      "outputs": []
    },
    {
      "metadata": {
        "state": "normal",
        "trusted": true
      },
      "cell_type": "code",
      "source": "t = BSTree()\nt.root = BSTree.Node(5,\n                    left=BSTree.Node(2),\n                    right=BSTree.Node(10))\nt.size = 3",
      "execution_count": 7,
      "outputs": []
    },
    {
      "metadata": {
        "state": "normal",
        "trusted": true
      },
      "cell_type": "code",
      "source": "5 in t",
      "execution_count": 13,
      "outputs": [
        {
          "output_type": "execute_result",
          "execution_count": 13,
          "data": {
            "text/plain": "True"
          },
          "metadata": {}
        }
      ]
    },
    {
      "metadata": {
        "trusted": true
      },
      "cell_type": "code",
      "source": "100 in t",
      "execution_count": 15,
      "outputs": [
        {
          "output_type": "execute_result",
          "execution_count": 15,
          "data": {
            "text/plain": "False"
          },
          "metadata": {}
        }
      ]
    },
    {
      "metadata": {
        "trusted": true
      },
      "cell_type": "code",
      "source": "class BSTree(BSTree): \n    def __contains__(self, val):\n        def find(t):\n            if not t:\n                return False\n            elif t.val == val:\n                return True\n            elif t.val < val:\n                return find(t.right)\n            else:\n                return find(t.left)\n       \n        return find(self.root)",
      "execution_count": 16,
      "outputs": []
    },
    {
      "metadata": {
        "trusted": true
      },
      "cell_type": "code",
      "source": "t = BSTree()\nt.root = BSTree.Node(5,\n                    left=BSTree.Node(2),\n                    right=BSTree.Node(10))\nt.size = 3",
      "execution_count": 17,
      "outputs": []
    },
    {
      "metadata": {
        "trusted": true
      },
      "cell_type": "code",
      "source": "5 in t",
      "execution_count": 18,
      "outputs": [
        {
          "output_type": "execute_result",
          "execution_count": 18,
          "data": {
            "text/plain": "True"
          },
          "metadata": {}
        }
      ]
    },
    {
      "metadata": {
        "state": "normal"
      },
      "cell_type": "markdown",
      "source": "### Addition"
    },
    {
      "metadata": {
        "state": "normal",
        "trusted": true
      },
      "cell_type": "code",
      "source": "class BSTree(BSTree):\n    def add(self, val):\n        def add_rec(t):\n            if val < t.val:\n                if not t.left:\n                    t.left = BSTree.Node(val)\n                else:\n                    add_rec(t.left)\n            elif val > t.val:\n                if not t.right:\n                    t.right = BSTree.Node(val)\n                else:\n                    add_rec(t.right)\n                \n        assert(val not in self)\n        add_rec(self.root)\n        self.size += 1",
      "execution_count": 21,
      "outputs": []
    },
    {
      "metadata": {
        "trusted": true
      },
      "cell_type": "code",
      "source": "class BSTree(BSTree):\n    def add(self, val):\n        def add_rec(t):\n            if not t:\n                return BSTree.Node(val)\n            elif val < t.val:\n                t.left = add_rec(t.left)\n                return t\n            elif val > t.val:\n                t.right = add_rec(t.right)\n                return t\n            \n        assert(val not in self)\n        self.root = add_rec(self.root)\n        self.size += 1",
      "execution_count": 30,
      "outputs": []
    },
    {
      "metadata": {
        "state": "normal",
        "trusted": true
      },
      "cell_type": "code",
      "source": "import random\nt = BSTree()\nvals = list(range(5))\nrandom.shuffle(vals)\nfor x in vals:\n    t.add(x)\nt.pprint()",
      "execution_count": 31,
      "outputs": [
        {
          "output_type": "stream",
          "text": "                               3                                \n               2                               4                \n       0               -               -               -        \n   -       1       -       -       -       -       -       -    \n",
          "name": "stdout"
        }
      ]
    },
    {
      "metadata": {
        "state": "normal"
      },
      "cell_type": "markdown",
      "source": "### Removal"
    },
    {
      "metadata": {
        "state": "normal",
        "trusted": true
      },
      "cell_type": "code",
      "source": "class BSTree(BSTree):\n    def __delitem__(self, val):\n        #deal with relatively simple cases first!\n        def del_rec(t):\n            if val < t.val:\n                t.left = del_rec(t.left)\n                return t\n            elif val > t.val:\n                t.right = del_rec(t.right)\n                return t\n            else:\n                if not t.left and not t.right:\n                    return None\n                elif not t.left:\n                    return t.right\n                elif not t.right:\n                    return t.left\n                else:\n                    to_del = t.left\n                    if not to_del.right:\n                        t.left = to_del.left\n                    else: \n                        par = to_del\n                        to_del = par.right\n                        while to_del.right:\n                            par = par.right\n                            to_del = to_del.right\n                        par.right = to_del.left\n                    t.val = to_del.val \n                    return t\n            \n        assert(val in self)\n        self.root = del_rec(self.root)\n        self.size -= 1",
      "execution_count": 52,
      "outputs": []
    },
    {
      "metadata": {
        "state": "normal",
        "trusted": true
      },
      "cell_type": "code",
      "source": "t = BSTree()\nfor x in [10, 5, 15, 2, 17]:\n    t.add(x)\nt.pprint()",
      "execution_count": 53,
      "outputs": [
        {
          "output_type": "stream",
          "text": "                               10                               \n               5                               15               \n       2               -               -               17       \n",
          "name": "stdout"
        }
      ]
    },
    {
      "metadata": {
        "state": "normal",
        "trusted": true
      },
      "cell_type": "code",
      "source": "del t[2]\nt.pprint()",
      "execution_count": 54,
      "outputs": [
        {
          "output_type": "stream",
          "text": "                               10                               \n               5                               15               \n       -               -               -               17       \n",
          "name": "stdout"
        }
      ]
    },
    {
      "metadata": {
        "state": "normal",
        "trusted": true
      },
      "cell_type": "code",
      "source": "t = BSTree()\nfor x in [10, 5, 15, 2, 17]:\n    t.add(x)\nt.pprint()",
      "execution_count": 55,
      "outputs": [
        {
          "output_type": "stream",
          "text": "                               10                               \n               5                               15               \n       2               -               -               17       \n",
          "name": "stdout"
        }
      ]
    },
    {
      "metadata": {
        "state": "normal",
        "trusted": true
      },
      "cell_type": "code",
      "source": "del t[5]\nt.pprint()",
      "execution_count": 56,
      "outputs": [
        {
          "output_type": "stream",
          "text": "                               10                               \n               2                               15               \n       -               -               -               17       \n",
          "name": "stdout"
        }
      ]
    },
    {
      "metadata": {
        "state": "normal",
        "trusted": true
      },
      "cell_type": "code",
      "source": "t = BSTree()\nfor x in [10, 5, 15, 2, 17]:\n    t.add(x)\nt.pprint()",
      "execution_count": 57,
      "outputs": [
        {
          "output_type": "stream",
          "text": "                               10                               \n               5                               15               \n       2               -               -               17       \n",
          "name": "stdout"
        }
      ]
    },
    {
      "metadata": {
        "state": "normal",
        "trusted": true
      },
      "cell_type": "code",
      "source": "del t[15]\nt.pprint()",
      "execution_count": 58,
      "outputs": [
        {
          "output_type": "stream",
          "text": "                               10                               \n               5                               17               \n       2               -               -               -        \n",
          "name": "stdout"
        }
      ]
    },
    {
      "metadata": {
        "state": "normal",
        "trusted": true
      },
      "cell_type": "code",
      "source": "t = BSTree()\nfor x in [10, 5, 15, 2, 17]:\n    t.add(x)\nt.pprint()",
      "execution_count": 59,
      "outputs": [
        {
          "output_type": "stream",
          "text": "                               10                               \n               5                               15               \n       2               -               -               17       \n",
          "name": "stdout"
        }
      ]
    },
    {
      "metadata": {
        "state": "normal",
        "trusted": true
      },
      "cell_type": "code",
      "source": "del t[10]\nt.pprint()",
      "execution_count": 60,
      "outputs": [
        {
          "output_type": "stream",
          "text": "                               5                                \n               2                               15               \n       -               -               -               17       \n",
          "name": "stdout"
        }
      ]
    },
    {
      "metadata": {
        "state": "normal",
        "trusted": false
      },
      "cell_type": "code",
      "source": "class BSTree(BSTree):\n    def __delitem__(self, val):\n        assert(val in self)\n        def delitem_rec(node):\n            if val < node.val:\n                node.left = delitem_rec(node.left)\n                return node\n            elif val > node.val:\n                node.right = delitem_rec(node.right)\n                return node\n            else:\n                if not node.left and not node.right:\n                    return None\n                elif node.left and not node.right:\n                    return node.left\n                elif node.right and not node.left:\n                    return node.right\n                else:\n                    # handle the complex case\n                    return node\n                        \n        self.root = delitem_rec(self.root)\n        self.size -= 1",
      "execution_count": null,
      "outputs": []
    },
    {
      "metadata": {
        "state": "normal",
        "trusted": false
      },
      "cell_type": "code",
      "source": "t = BSTree()\nfor x in [10, 5, 2, 7, 9, 8, 1, 15, 12, 18]:\n    t.add(x)\nt.pprint()",
      "execution_count": null,
      "outputs": []
    },
    {
      "metadata": {
        "state": "normal",
        "trusted": false
      },
      "cell_type": "code",
      "source": "del t[15]\nt.pprint()",
      "execution_count": null,
      "outputs": []
    },
    {
      "metadata": {
        "state": "normal",
        "trusted": false
      },
      "cell_type": "code",
      "source": "t = BSTree()\nfor x in [10, 5, 2, 7, 9, 8, 1, 15, 12, 18]:\n    t.add(x)\nt.pprint()",
      "execution_count": null,
      "outputs": []
    },
    {
      "metadata": {
        "state": "normal",
        "trusted": false
      },
      "cell_type": "code",
      "source": "del t[5]\nt.pprint()",
      "execution_count": null,
      "outputs": []
    },
    {
      "metadata": {
        "state": "normal",
        "trusted": false
      },
      "cell_type": "code",
      "source": "t = BSTree()\nfor x in [10, 5, 2, 7, 9, 8, 1, 15, 12, 18]:\n    t.add(x)\nt.pprint()",
      "execution_count": null,
      "outputs": []
    },
    {
      "metadata": {
        "state": "normal",
        "trusted": false
      },
      "cell_type": "code",
      "source": "del t[10]\nt.pprint()",
      "execution_count": null,
      "outputs": []
    },
    {
      "metadata": {
        "state": "normal"
      },
      "cell_type": "markdown",
      "source": "### Iteration / Traversal"
    },
    {
      "metadata": {
        "state": "normal",
        "trusted": false
      },
      "cell_type": "code",
      "source": "class BSTree(BSTree):\n    def __iter__(self):\n        pass",
      "execution_count": null,
      "outputs": []
    },
    {
      "metadata": {
        "state": "normal",
        "trusted": false
      },
      "cell_type": "code",
      "source": "import random\nt = BSTree()\nvals = list(range(20))\nrandom.shuffle(vals)\nfor x in vals:\n    t.add(x)\nfor x in t:\n    print(x)",
      "execution_count": null,
      "outputs": []
    },
    {
      "metadata": {
        "state": "normal"
      },
      "cell_type": "markdown",
      "source": "### Iteration by Level"
    },
    {
      "metadata": {
        "state": "normal",
        "trusted": false
      },
      "cell_type": "code",
      "source": "class BSTree(BSTree):\n    def __iter__(self):\n        pass",
      "execution_count": null,
      "outputs": []
    },
    {
      "metadata": {
        "state": "normal",
        "trusted": false
      },
      "cell_type": "code",
      "source": "import random\nt = BSTree()\nvals = list(range(10))\nrandom.shuffle(vals)\nfor x in vals:\n    t.add(x)\nt.pprint()",
      "execution_count": null,
      "outputs": []
    },
    {
      "metadata": {
        "state": "normal",
        "trusted": false
      },
      "cell_type": "code",
      "source": "for x in t:\n    print(x)",
      "execution_count": null,
      "outputs": []
    },
    {
      "metadata": {
        "state": "normal"
      },
      "cell_type": "markdown",
      "source": "## Runtime Complexity"
    },
    {
      "metadata": {
        "state": "normal"
      },
      "cell_type": "markdown",
      "source": "The runtime complexity of the search, add, and delete methods of the binary search tree are dependent, ultimately, on the depth of their recursive implementation. The depth of recursion is in turn dependent on the height of the binary search tree.\n\nGiven $N$ nodes, the height of a binary search tree is, in the worst case = ?\n\nThis gives us the following worst-case runtime complexities:\n\n- Search = O(N) (worst case is a skewed binary search tree)\n- Add = O(N)\n- Delete = O(N)\n\nHow can we improve this runtime complexity? What should be our target runtime complexity?\n\nBUT - They're all linear time operations, but if we balance our tree (structured so the # of levels is optimal), it'll have a binary search run time complexity (log(N)). "
    }
  ],
  "metadata": {
    "kernelspec": {
      "name": "python3",
      "display_name": "Python 3",
      "language": "python"
    },
    "language_info": {
      "name": "python",
      "version": "3.7.3",
      "mimetype": "text/x-python",
      "codemirror_mode": {
        "name": "ipython",
        "version": 3
      },
      "pygments_lexer": "ipython3",
      "nbconvert_exporter": "python",
      "file_extension": ".py"
    },
    "mimir": {
      "project_id": "70342fc0-6851-4ef5-89fd-5f50ede58dc2",
      "last_submission_id": "",
      "data": {}
    },
    "varInspector": {
      "window_display": false,
      "cols": {
        "lenName": 16,
        "lenType": 16,
        "lenVar": 40
      },
      "kernels_config": {
        "python": {
          "library": "var_list.py",
          "delete_cmd_prefix": "del ",
          "delete_cmd_postfix": "",
          "varRefreshCmd": "print(var_dic_list())"
        },
        "r": {
          "library": "var_list.r",
          "delete_cmd_prefix": "rm(",
          "delete_cmd_postfix": ") ",
          "varRefreshCmd": "cat(var_dic_list()) "
        }
      },
      "types_to_exclude": [
        "module",
        "function",
        "builtin_function_or_method",
        "instance",
        "_Feature"
      ]
    }
  },
  "nbformat": 4,
  "nbformat_minor": 2
}