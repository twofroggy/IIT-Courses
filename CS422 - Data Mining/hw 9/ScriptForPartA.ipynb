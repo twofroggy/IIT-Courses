{
 "cells": [
  {
   "cell_type": "code",
   "execution_count": 1,
   "metadata": {
    "id": "CZ7O4yyv5Vav"
   },
   "outputs": [],
   "source": [
    "import numpy as np\n",
    "import pandas as pd"
   ]
  },
  {
   "cell_type": "code",
   "execution_count": 2,
   "metadata": {
    "id": "l00EsYef5j8j"
   },
   "outputs": [],
   "source": [
    "tr1k = pd.read_csv(\"tr-1k.csv\", header=None, names=[\"p0\", \"p1\", \"p2\", \"p3\", \"p4\", \"p5\", \"p6\", \"p7\", \"p8\"])\n",
    "tr20k = pd.read_csv(\"tr-20k.csv\", header=None, names=[\"p0\", \"p1\", \"p2\", \"p3\", \"p4\", \"p5\", \"p6\", \"p7\", \"p8\"])\n",
    "tr5k = pd.read_csv(\"tr-5k.csv\", header=None, names=[\"p0\", \"p1\", \"p2\", \"p3\", \"p4\", \"p5\", \"p6\", \"p7\", \"p8\"])\n",
    "tr75k = pd.read_csv(\"tr-75k.csv\", header=None, names=[\"p0\", \"p1\", \"p2\", \"p3\", \"p4\", \"p5\", \"p6\", \"p7\", \"p8\"])\n",
    "prod = pd.read_csv(\"products.csv\", header=None)\n",
    "\n",
    "tr1k = tr1k.drop(columns = [\"p0\"])\n",
    "tr5k = tr5k.drop(columns = [\"p0\"])\n",
    "tr20k = tr20k.drop(columns = [\"p0\"])\n",
    "tr75k = tr75k.drop(columns = [\"p0\"])\n",
    "prod = prod.drop(columns = 0)"
   ]
  },
  {
   "cell_type": "code",
   "execution_count": 3,
   "metadata": {
    "id": "cqCYO3q4DbsK"
   },
   "outputs": [],
   "source": [
    "new1k = pd.DataFrame()\n",
    "new5k = pd.DataFrame()\n",
    "new20k = pd.DataFrame()\n",
    "new75k = pd.DataFrame()\n",
    "\n",
    "def replaceProd(x):\n",
    "  try:\n",
    "    return (prod[1][x])\n",
    "  except:\n",
    "    return \"\"\n",
    "new1k = tr1k.applymap(replaceProd)\n",
    "new5k = tr5k.applymap(replaceProd)\n",
    "new20k = tr20k.applymap(replaceProd)\n",
    "new75k = tr75k.applymap(replaceProd)"
   ]
  },
  {
   "cell_type": "code",
   "execution_count": 4,
   "metadata": {
    "id": "oQKttiCANPa_"
   },
   "outputs": [],
   "source": [
    "new1k.to_csv(\"tr-1k-canonical.csv\", index = False, header=False, sep=\",\")\n",
    "new5k.to_csv(\"tr-5k-canonical.csv\", index = False, header=False, sep=\",\")\n",
    "new20k.to_csv(\"tr-20k-canonical.csv\", index = False, header=False, sep=\",\")\n",
    "new75k.to_csv(\"tr-75k-canonical.csv\", index = False, header=False, sep=\",\")"
   ]
  },
  {
   "cell_type": "code",
   "execution_count": null,
   "metadata": {},
   "outputs": [],
   "source": []
  }
 ],
 "metadata": {
  "colab": {
   "name": "ScriptForPartA.ipynb",
   "provenance": []
  },
  "kernelspec": {
   "display_name": "Python 3",
   "language": "python",
   "name": "python3"
  },
  "language_info": {
   "codemirror_mode": {
    "name": "ipython",
    "version": 3
   },
   "file_extension": ".py",
   "mimetype": "text/x-python",
   "name": "python",
   "nbconvert_exporter": "python",
   "pygments_lexer": "ipython3",
   "version": "3.8.3"
  }
 },
 "nbformat": 4,
 "nbformat_minor": 1
}
