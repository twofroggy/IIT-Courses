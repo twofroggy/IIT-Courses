{
 "cells": [
  {
   "cell_type": "markdown",
   "metadata": {},
   "source": [
    "### 5.1.3"
   ]
  },
  {
   "cell_type": "code",
   "execution_count": 19,
   "metadata": {},
   "outputs": [],
   "source": [
    "import random\n",
    "import decimal\n",
    "import math"
   ]
  },
  {
   "cell_type": "code",
   "execution_count": 24,
   "metadata": {},
   "outputs": [],
   "source": [
    "#random decimal generator\n",
    "def rand(a,b):\n",
    "    rand = float(decimal.Decimal(random.randrange(a*100, b*100))/100)\n",
    "    return rand"
   ]
  },
  {
   "cell_type": "code",
   "execution_count": 41,
   "metadata": {},
   "outputs": [],
   "source": [
    "# monte carlo area algorithm \n",
    "def monte1(n): \n",
    "    counter = 0 \n",
    "    for i in range(n):\n",
    "        x = rand(0,1)\n",
    "        y = rand(0,1)\n",
    "        output = math.sqrt(1-(x**2)) \n",
    "        if y <= output:\n",
    "            counter += 1 \n",
    "    pi = 4*(counter/n) \n",
    "    return pi"
   ]
  },
  {
   "cell_type": "code",
   "execution_count": 55,
   "metadata": {},
   "outputs": [
    {
     "name": "stdout",
     "output_type": "stream",
     "text": [
      "100 3.4\n",
      "200 3.14\n",
      "300 3.0933333333333333\n",
      "400 3.24\n",
      "500 3.152\n",
      "600 3.32\n",
      "700 3.217142857142857\n",
      "800 3.135\n",
      "900 3.1822222222222223\n"
     ]
    }
   ],
   "source": [
    "for i in range(100,1000,100):\n",
    "    print(i, monte1(i))"
   ]
  },
  {
   "cell_type": "markdown",
   "metadata": {},
   "source": [
    "### 5.1.5"
   ]
  },
  {
   "cell_type": "code",
   "execution_count": 60,
   "metadata": {},
   "outputs": [],
   "source": [
    "# monte carlo area algorithm \n",
    "def monte2(n): \n",
    "    counter = 0 \n",
    "    for i in range(n):\n",
    "        x = rand(0,2)\n",
    "        y = rand(0,6)\n",
    "        if ((x**2) <= y) and ((6-x) >= y):\n",
    "            counter += 1 \n",
    "    area = 12*(counter/n) \n",
    "    return area"
   ]
  },
  {
   "cell_type": "code",
   "execution_count": 65,
   "metadata": {},
   "outputs": [
    {
     "name": "stdout",
     "output_type": "stream",
     "text": [
      "100 6.6000000000000005\n",
      "200 7.38\n",
      "300 7.28\n",
      "400 7.5\n",
      "500 7.343999999999999\n",
      "600 7.120000000000001\n",
      "700 7.182857142857142\n",
      "800 7.215\n",
      "900 7.199999999999999\n"
     ]
    }
   ],
   "source": [
    "for i in range(100,1000,100):\n",
    "    print(i, monte2(i))"
   ]
  },
  {
   "cell_type": "markdown",
   "metadata": {},
   "source": [
    "### 5.3.2"
   ]
  },
  {
   "cell_type": "code",
   "execution_count": 78,
   "metadata": {},
   "outputs": [],
   "source": [
    "# monte carlo area algorithm for 5 fair coin flips \n",
    "def monte3(n): \n",
    "    counter = 0 \n",
    "    for i in range(n):\n",
    "        H = 0\n",
    "        a = rand(0,1)\n",
    "        b = rand(0,1)\n",
    "        c = rand(0,1)\n",
    "        d = rand(0,1)\n",
    "        e = rand(0,1)\n",
    "        if a <= 0.5: \n",
    "            H = H+1\n",
    "        if b <= 0.5: \n",
    "            H = H+1\n",
    "        if c <= 0.5: \n",
    "            H = H+1\n",
    "        if d <= 0.5: \n",
    "            H = H+1\n",
    "        if e <= 0.5: \n",
    "            H = H+1\n",
    "        if H == 3:\n",
    "            counter += 1 \n",
    "    probability = (counter/n) \n",
    "    return probability"
   ]
  },
  {
   "cell_type": "code",
   "execution_count": 80,
   "metadata": {},
   "outputs": [
    {
     "name": "stdout",
     "output_type": "stream",
     "text": [
      "1000 0.333\n",
      "2000 0.332\n",
      "3000 0.32033333333333336\n",
      "4000 0.3235\n",
      "5000 0.3318\n",
      "6000 0.31216666666666665\n",
      "7000 0.31514285714285717\n",
      "8000 0.318625\n",
      "9000 0.3228888888888889\n"
     ]
    }
   ],
   "source": [
    "for i in range(1000,10000,1000):\n",
    "    print(i, monte3(i))"
   ]
  },
  {
   "cell_type": "code",
   "execution_count": 77,
   "metadata": {},
   "outputs": [
    {
     "data": {
      "text/plain": [
       "0.06"
      ]
     },
     "execution_count": 77,
     "metadata": {},
     "output_type": "execute_result"
    }
   ],
   "source": [
    "rand(0,1)"
   ]
  },
  {
   "cell_type": "markdown",
   "metadata": {},
   "source": [
    "### 5.3.4"
   ]
  },
  {
   "cell_type": "code",
   "execution_count": 93,
   "metadata": {},
   "outputs": [],
   "source": [
    "# monte carlo area algorithm for 2 unfair die\n",
    "def monte4(n): \n",
    "    s2 = 0 \n",
    "    s3 = 0 \n",
    "    s4 = 0 \n",
    "    s5 = 0 \n",
    "    s6 = 0 \n",
    "    s7 = 0 \n",
    "    s8 = 0 \n",
    "    s9 = 0 \n",
    "    s10 = 0 \n",
    "    s11 = 0 \n",
    "    s12 = 0\n",
    "    \n",
    "    for i in range(n):\n",
    "        sum = 0\n",
    "        a = rand(0,1)\n",
    "        b = rand(0,1)\n",
    "        if 0 <= a <= 0.1: \n",
    "            sum = sum+1\n",
    "        if 0.1 < a <= 0.2: \n",
    "            sum = sum+2\n",
    "        if 0.2 < a <= 0.4: \n",
    "            sum = sum+3\n",
    "        if 0.4 < a <= 0.7: \n",
    "            sum = sum+4\n",
    "        if 0.7 < a <= 0.9: \n",
    "            sum = sum+5\n",
    "        if 0.9 < a <= 1: \n",
    "            sum = sum+6\n",
    "            \n",
    "        if 0 <= b <= 0.3: \n",
    "            sum = sum+1\n",
    "        if 0.3 < b <= 0.4: \n",
    "            sum = sum+2\n",
    "        if 0.4 < b <= 0.6: \n",
    "            sum = sum+3\n",
    "        if 0.6 < b <= 0.7: \n",
    "            sum = sum+4\n",
    "        if 0.7 < b <= 0.75: \n",
    "            sum = sum+5\n",
    "        if 0.75 < b <= 1: \n",
    "            sum = sum+6 \n",
    "            \n",
    "        if sum == 2: \n",
    "            s2 = s2 +1\n",
    "        if sum == 3: \n",
    "            s3 = s3 + 1\n",
    "        if sum == 4: \n",
    "            s4 = s4 +1\n",
    "        if sum == 5: \n",
    "            s5 = s5 + 1\n",
    "        if sum == 6: \n",
    "            s6 = s6 +1\n",
    "        if sum == 7: \n",
    "            s7 = s7 + 1\n",
    "        if sum == 8: \n",
    "            s8 = s8 +1\n",
    "        if sum == 9: \n",
    "            s9 = s9 + 1\n",
    "        if sum == 10: \n",
    "            s10 = s10 +1\n",
    "        if sum == 11: \n",
    "            s11 = s11 + 1\n",
    "        if sum == 12: \n",
    "            s12 = s12 +1\n",
    "    \n",
    "    return s2, s3, s4, s5, s6, s7, s8, s9, s10, s11, s12"
   ]
  },
  {
   "cell_type": "code",
   "execution_count": 94,
   "metadata": {},
   "outputs": [
    {
     "data": {
      "text/plain": [
       "(7, 11, 35, 46, 36, 55, 36, 21, 25, 19, 9)"
      ]
     },
     "execution_count": 94,
     "metadata": {},
     "output_type": "execute_result"
    }
   ],
   "source": [
    "monte4(300)"
   ]
  },
  {
   "cell_type": "markdown",
   "metadata": {},
   "source": [
    "### final problem about player 1 and player 2"
   ]
  },
  {
   "cell_type": "code",
   "execution_count": 112,
   "metadata": {},
   "outputs": [],
   "source": [
    "# monte carlo algorithm for a game of chance about two coins and two players\n",
    "def monte5(n): \n",
    "    P1 = 0\n",
    "    P2 = 0 \n",
    "    for i in range(n): \n",
    "        a = rand(0,1)\n",
    "        b = rand(0,1)\n",
    "        if 0<=a<=0.5 and 0<=b<=0.5: \n",
    "            P1 += 1\n",
    "            P2 -= 1\n",
    "        elif 0.5<a<=1 and 0.5<b<=1: \n",
    "            P1 += 1\n",
    "            P2 -= 1\n",
    "        else: \n",
    "            P1 -= 1\n",
    "            P2 += 1\n",
    "            \n",
    "    print('Player 1:', P1)\n",
    "    print('Player 2:', P2)"
   ]
  },
  {
   "cell_type": "code",
   "execution_count": 116,
   "metadata": {},
   "outputs": [
    {
     "name": "stdout",
     "output_type": "stream",
     "text": [
      "for 1000 rounds\n",
      "Player 1: -10\n",
      "Player 2: 10\n",
      "for 2000 rounds\n",
      "Player 1: -30\n",
      "Player 2: 30\n",
      "for 3000 rounds\n",
      "Player 1: -2\n",
      "Player 2: 2\n",
      "for 4000 rounds\n",
      "Player 1: 42\n",
      "Player 2: -42\n",
      "for 5000 rounds\n",
      "Player 1: 118\n",
      "Player 2: -118\n",
      "for 6000 rounds\n",
      "Player 1: -4\n",
      "Player 2: 4\n",
      "for 7000 rounds\n",
      "Player 1: 82\n",
      "Player 2: -82\n",
      "for 8000 rounds\n",
      "Player 1: -24\n",
      "Player 2: 24\n",
      "for 9000 rounds\n",
      "Player 1: 84\n",
      "Player 2: -84\n"
     ]
    }
   ],
   "source": [
    "for i in range(1000,10000,1000): \n",
    "    print('for', i, 'rounds')\n",
    "    monte5(i)"
   ]
  },
  {
   "cell_type": "code",
   "execution_count": null,
   "metadata": {},
   "outputs": [],
   "source": []
  }
 ],
 "metadata": {
  "kernelspec": {
   "display_name": "Python 3",
   "language": "python",
   "name": "python3"
  },
  "language_info": {
   "codemirror_mode": {
    "name": "ipython",
    "version": 3
   },
   "file_extension": ".py",
   "mimetype": "text/x-python",
   "name": "python",
   "nbconvert_exporter": "python",
   "pygments_lexer": "ipython3",
   "version": "3.8.3"
  }
 },
 "nbformat": 4,
 "nbformat_minor": 4
}
