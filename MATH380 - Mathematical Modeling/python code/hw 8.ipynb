{
 "cells": [
  {
   "cell_type": "markdown",
   "metadata": {},
   "source": [
    "### 6.1.2"
   ]
  },
  {
   "cell_type": "code",
   "execution_count": 2,
   "metadata": {},
   "outputs": [],
   "source": [
    "import numpy as np\n",
    "import pandas as pd\n",
    "from matplotlib import pyplot as plt"
   ]
  },
  {
   "cell_type": "code",
   "execution_count": 10,
   "metadata": {},
   "outputs": [
    {
     "name": "stdout",
     "output_type": "stream",
     "text": [
      "    time period n  Grease Dining Hall  Sweet Dining Hall  Pizza Delivery\n",
      "0               0            0.333333           0.333333        0.333333\n",
      "1               1            0.133333           0.233333        0.633333\n",
      "2               2            0.088333           0.198333        0.713333\n",
      "3               3            0.077583           0.188583        0.733833\n",
      "4               4            0.074946           0.186046        0.739008\n",
      "5               5            0.074291           0.185401        0.740307\n",
      "6               6            0.074128           0.185239        0.740632\n",
      "7               7            0.074088           0.185199        0.740714\n",
      "8               8            0.074077           0.185189        0.740734\n",
      "9               9            0.074075           0.185186        0.740739\n",
      "10             10            0.074074           0.185185        0.740740\n",
      "11             11            0.074074           0.185185        0.740741\n",
      "12             12            0.074074           0.185185        0.740741\n",
      "13             13            0.074074           0.185185        0.740741\n",
      "14             14            0.074074           0.185185        0.740741\n",
      "15             15            0.074074           0.185185        0.740741\n"
     ]
    }
   ],
   "source": [
    "grease = [1/3]\n",
    "sweet = [1/3] \n",
    "pizza = [1/3]\n",
    "n = np.arange(16)\n",
    "\n",
    "for i in range(15):\n",
    "    grease.append((0.25*grease[i]) + (0.10*sweet[i]) + (0.05*pizza[i]))\n",
    "    sweet.append((0.25*grease[i]) + (0.30*sweet[i]) + (0.15*pizza[i]))\n",
    "    pizza.append((0.50*grease[i]) + (0.60*sweet[i]) + (0.80*pizza[i]))\n",
    "\n",
    "data = {'time period n': n, 'Grease Dining Hall': grease, 'Sweet Dining Hall': sweet, 'Pizza Delivery': pizza}\n",
    "df = pd.DataFrame(data=data)\n",
    "print(df) "
   ]
  },
  {
   "cell_type": "code",
   "execution_count": 15,
   "metadata": {},
   "outputs": [
    {
     "data": {
      "image/png": "[encoded data removed]",
      "text/plain": [
       "<Figure size 432x288 with 1 Axes>"
      ]
     },
     "metadata": {
      "needs_background": "light"
     },
     "output_type": "display_data"
    }
   ],
   "source": [
    "#plot actual data and modeled data on the same graph to compare\n",
    "ax = plt.gca()\n",
    "\n",
    "ax.plot(n, grease, \"-b\", label=\"Grease Dining Hall\")\n",
    "ax.plot(n, sweet, \"-r\", label=\"Sweet Dining Hall\")\n",
    "ax.plot(n, pizza, \"-g\", label=\"Pizza Delivery\")\n",
    "plt.xlabel(\"time period n\")\n",
    "plt.ylabel(\"percentage of students eating there\")\n",
    "plt.legend(loc=\"upper left\")\n",
    "ax.set_ylim([0, 1])\n",
    "plt.show()"
   ]
  },
  {
   "cell_type": "markdown",
   "metadata": {},
   "source": [
    "### 6.1. Project #1 "
   ]
  },
  {
   "cell_type": "code",
   "execution_count": 16,
   "metadata": {},
   "outputs": [
    {
     "name": "stdout",
     "output_type": "stream",
     "text": [
      "    time period n    Lake A    Lake B\n",
      "0               0  0.500000  0.500000\n",
      "1               1  0.225000  0.775000\n",
      "2               2  0.156250  0.843750\n",
      "3               3  0.139063  0.860938\n",
      "4               4  0.134766  0.865234\n",
      "5               5  0.133691  0.866309\n",
      "6               6  0.133423  0.866577\n",
      "7               7  0.133356  0.866644\n",
      "8               8  0.133339  0.866661\n",
      "9               9  0.133335  0.866665\n",
      "10             10  0.133334  0.866666\n",
      "11             11  0.133333  0.866667\n",
      "12             12  0.133333  0.866667\n",
      "13             13  0.133333  0.866667\n",
      "14             14  0.133333  0.866667\n",
      "15             15  0.133333  0.866667\n"
     ]
    }
   ],
   "source": [
    "a = [0.5]\n",
    "b = [0.5]\n",
    "n = np.arange(16)\n",
    "\n",
    "for i in range(15):\n",
    "    a.append((0.35*a[i]) + (0.10*b[i]))\n",
    "    b.append((0.65*a[i]) + (0.90*b[i]))\n",
    "\n",
    "data = {'time period n': n, 'Lake A': a, 'Lake B': b}\n",
    "df = pd.DataFrame(data=data)\n",
    "print(df) "
   ]
  },
  {
   "cell_type": "code",
   "execution_count": 17,
   "metadata": {},
   "outputs": [
    {
     "data": {
      "image/png": "[encoded data removed]",
      "text/plain": [
       "<Figure size 432x288 with 1 Axes>"
      ]
     },
     "metadata": {
      "needs_background": "light"
     },
     "output_type": "display_data"
    }
   ],
   "source": [
    "#plot actual data and modeled data on the same graph to compare\n",
    "ax = plt.gca()\n",
    "\n",
    "ax.plot(n, a, \"-b\", label=\"Lake A\")\n",
    "ax.plot(n, b, \"-r\", label=\"Lake B\")\n",
    "plt.xlabel(\"time period n\")\n",
    "plt.ylabel(\"percentage of pollution flow at each lake\")\n",
    "plt.legend(loc=\"upper left\")\n",
    "ax.set_ylim([0, 1])\n",
    "plt.show()"
   ]
  },
  {
   "cell_type": "markdown",
   "metadata": {},
   "source": [
    "### Final problem"
   ]
  },
  {
   "cell_type": "code",
   "execution_count": 19,
   "metadata": {},
   "outputs": [
    {
     "name": "stdout",
     "output_type": "stream",
     "text": [
      "    time period n   W1        W2        W3            W4        W5\n",
      "0               0  0.2  0.200000  0.200000  2.000000e-01  0.200000\n",
      "1               1  0.0  0.166667  0.066667  1.666667e-01  0.600000\n",
      "2               2  0.0  0.033333  0.000000  8.333333e-02  0.883333\n",
      "3               3  0.0  0.000000  0.000000  4.166667e-02  0.958333\n",
      "4               4  0.0  0.000000  0.000000  2.083333e-02  0.979167\n",
      "5               5  0.0  0.000000  0.000000  1.041667e-02  0.989583\n",
      "6               6  0.0  0.000000  0.000000  5.208333e-03  0.994792\n",
      "7               7  0.0  0.000000  0.000000  2.604167e-03  0.997396\n",
      "8               8  0.0  0.000000  0.000000  1.302083e-03  0.998698\n",
      "9               9  0.0  0.000000  0.000000  6.510417e-04  0.999349\n",
      "10             10  0.0  0.000000  0.000000  3.255208e-04  0.999674\n",
      "11             11  0.0  0.000000  0.000000  1.627604e-04  0.999837\n",
      "12             12  0.0  0.000000  0.000000  8.138021e-05  0.999919\n",
      "13             13  0.0  0.000000  0.000000  4.069010e-05  0.999959\n",
      "14             14  0.0  0.000000  0.000000  2.034505e-05  0.999980\n",
      "15             15  0.0  0.000000  0.000000  1.017253e-05  0.999990\n",
      "16             16  0.0  0.000000  0.000000  5.086263e-06  0.999995\n",
      "17             17  0.0  0.000000  0.000000  2.543132e-06  0.999997\n",
      "18             18  0.0  0.000000  0.000000  1.271566e-06  0.999999\n",
      "19             19  0.0  0.000000  0.000000  6.357829e-07  0.999999\n",
      "20             20  0.0  0.000000  0.000000  3.178914e-07  1.000000\n",
      "21             21  0.0  0.000000  0.000000  1.589457e-07  1.000000\n",
      "22             22  0.0  0.000000  0.000000  7.947286e-08  1.000000\n",
      "23             23  0.0  0.000000  0.000000  3.973643e-08  1.000000\n",
      "24             24  0.0  0.000000  0.000000  1.986821e-08  1.000000\n",
      "25             25  0.0  0.000000  0.000000  9.934107e-09  1.000000\n",
      "26             26  0.0  0.000000  0.000000  4.967054e-09  1.000000\n",
      "27             27  0.0  0.000000  0.000000  2.483527e-09  1.000000\n",
      "28             28  0.0  0.000000  0.000000  1.241763e-09  1.000000\n",
      "29             29  0.0  0.000000  0.000000  6.208817e-10  1.000000\n",
      "30             30  0.0  0.000000  0.000000  3.104409e-10  1.000000\n"
     ]
    }
   ],
   "source": [
    "w1 = [1/5]\n",
    "w2 = [1/5] \n",
    "w3 = [1/5]\n",
    "w4 = [1/5] \n",
    "w5 = [1/5]\n",
    "n = np.arange(31)\n",
    "\n",
    "for i in range(30):\n",
    "    w1.append((0*w1[i]) + (0*w2[i]) + (0*w3[i]) + (0*w4[i]) + (0*w5[i]))\n",
    "    w2.append(((1/3)*w1[i]) + (0*w2[i]) + ((1/2)*w3[i]) + (0*w4[i]) + (0*w5[i]))\n",
    "    w3.append(((1/3)*w1[i]) + (0*w2[i]) + (0*w3[i]) + (0*w4[i]) + (0*w5[i]))\n",
    "    w4.append(((1/3)*w1[i]) + (0*w2[i]) + (0*w3[i]) + ((1/2)*w4[i]) + (0*w5[i]))\n",
    "    w5.append((0*w1[i]) + (1*w2[i]) + ((1/2)*w3[i]) + ((1/2)*w4[i]) + (1*w5[i]))\n",
    "\n",
    "data = {'time period n': n, 'W1': w1, 'W2': w2, 'W3': w3, 'W4': w4, 'W5': w5}\n",
    "df = pd.DataFrame(data=data)\n",
    "print(df)"
   ]
  },
  {
   "cell_type": "code",
   "execution_count": 20,
   "metadata": {},
   "outputs": [
    {
     "data": {
      "image/png": "[encoded data removed]",
      "text/plain": [
       "<Figure size 432x288 with 1 Axes>"
      ]
     },
     "metadata": {
      "needs_background": "light"
     },
     "output_type": "display_data"
    }
   ],
   "source": [
    "#plot actual data and modeled data on the same graph to compare\n",
    "ax = plt.gca()\n",
    "\n",
    "ax.plot(n, w1, \"-m\", label=\"W1\")\n",
    "ax.plot(n, w2, \"-r\", label=\"W2\")\n",
    "ax.plot(n, w3, \"-g\", label=\"W3\") \n",
    "ax.plot(n, w4, \"-y\", label=\"W4\")\n",
    "ax.plot(n, w5, \"-k\", label=\"W5\")\n",
    "plt.xlabel(\"time period n\")\n",
    "plt.ylabel(\"percentage of webpages that end up at w(i)\")\n",
    "plt.legend(loc=\"upper left\")\n",
    "ax.set_ylim([0, 1])\n",
    "plt.show()"
   ]
  },
  {
   "cell_type": "code",
   "execution_count": null,
   "metadata": {},
   "outputs": [],
   "source": []
  }
 ],
 "metadata": {
  "kernelspec": {
   "display_name": "Python 3",
   "language": "python",
   "name": "python3"
  },
  "language_info": {
   "codemirror_mode": {
    "name": "ipython",
    "version": 3
   },
   "file_extension": ".py",
   "mimetype": "text/x-python",
   "name": "python",
   "nbconvert_exporter": "python",
   "pygments_lexer": "ipython3",
   "version": "3.8.3"
  }
 },
 "nbformat": 4,
 "nbformat_minor": 4
}
